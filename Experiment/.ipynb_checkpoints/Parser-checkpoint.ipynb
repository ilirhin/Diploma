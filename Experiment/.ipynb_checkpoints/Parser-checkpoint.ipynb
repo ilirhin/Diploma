{
 "cells": [
  {
   "cell_type": "code",
   "execution_count": null,
   "metadata": {
    "collapsed": true
   },
   "outputs": [],
   "source": [
    "import matplotlib.pyplot as plt\n",
    "import matplotlib\n",
    "%matplotlib inline"
   ]
  },
  {
   "cell_type": "code",
   "execution_count": null,
   "metadata": {
    "collapsed": false
   },
   "outputs": [],
   "source": [
    "font = {'family' : 'monospace',\n",
    "        'size'   : 15}\n",
    "\n",
    "matplotlib.rc('font', **font)\n",
    "#matplotlib.rc('text', usetex=True)\n",
    "\n",
    "#matplotlib.rcParams[\"text.latex.preamble\"].append(r'\\usepackage[dvips]{graphicx}\\usepackage{xfrac}')"
   ]
  },
  {
   "cell_type": "code",
   "execution_count": null,
   "metadata": {
    "collapsed": false
   },
   "outputs": [],
   "source": [
    "def parse_log(filename, tau):\n",
    "    LR_values = [[] for i in xrange(50)]\n",
    "    L_values = [[] for i in xrange(50)]\n",
    "    R_values = [[] for i in xrange(50)]\n",
    "    minPhi_values = [[] for i in xrange(50)]\n",
    "    minTheta_values = [[] for i in xrange(50)]\n",
    "    RMstepDiff = [[] for i in xrange(50)]\n",
    "    LogRMstepDiffPerL2 = [[] for i in xrange(50)]\n",
    "    RMstepDiffPerL2 = [[] for i in xrange(50)]\n",
    "    RMstepDiffPerL1 = [[] for i in xrange(50)]\n",
    "    MinTopicSize = [[] for i in xrange(50)]\n",
    "    NonzeroTopics = [[] for i in xrange(50)]\n",
    "    \n",
    "    \n",
    "    with open(filename, 'r') as fi:\n",
    "        for line in fi.xreadlines():\n",
    "            tokens = line.strip().split(' ')\n",
    "            if tokens[0] == 'launch':\n",
    "                curr_launch = int(tokens[1])\n",
    "            if tokens[0] == 'iteration':\n",
    "                curr_iter = int(tokens[1])\n",
    "            if tokens[0] == 'Lvalue':\n",
    "                L_values[curr_iter].append(float(tokens[1]))\n",
    "            if tokens[0] == 'LRvalue':\n",
    "                LR_values[curr_iter].append(float(tokens[1]))\n",
    "            if tokens[0] == 'Rvalue':\n",
    "                R_values[curr_iter].append(- tau * float(tokens[1]))\n",
    "            if tokens[0] == 'MinPhiValue':\n",
    "                minPhi_values[curr_iter].append(np.log(float(tokens[1])) / np.log(10.))\n",
    "            if tokens[0] == 'MinThetaValue':\n",
    "                minTheta_values[curr_iter].append(np.log(float(tokens[1])) / np.log(10.))\n",
    "            if tokens[0] == 'RMstepDiff':\n",
    "                RMstepDiff[curr_iter].append(- tau * float(tokens[1]))\n",
    "            if tokens[0] == 'RMstepDiffPerL1':\n",
    "                RMstepDiffPerL1[curr_iter].append(- tau * float(tokens[1]))\n",
    "            if tokens[0] == 'RMstepDiffPerL2':\n",
    "                RMstepDiffPerL2[curr_iter].append(- tau * float(tokens[1]))\n",
    "                LogRMstepDiffPerL2[curr_iter].append(np.log(abs(float(tokens[1]))))\n",
    "            if tokens[0] == 'TopicSizes':\n",
    "                topics = map(float, tokens[1:])\n",
    "                MinTopicSize[curr_iter].append(min(topics))\n",
    "                NonzeroTopics[curr_iter].append(len([x for x in topics if x > 1000]))\n",
    "                \n",
    "    return {\n",
    "        'LR_values': LR_values,\n",
    "        'L_values': L_values,\n",
    "        'R_values': R_values,\n",
    "        'minPhi_values': minPhi_values,\n",
    "        'minTheta_values': minTheta_values,\n",
    "        'RMstepDiff': RMstepDiff,\n",
    "        'RMstepDiffPerL1': RMstepDiffPerL1,\n",
    "        'RMstepDiffPerL2': RMstepDiffPerL2,\n",
    "        'MinTopicSize': MinTopicSize,\n",
    "        'NonzeroTopics': NonzeroTopics,\n",
    "        'LogRMstepDiffPerL2': LogRMstepDiffPerL2\n",
    "    }\n"
   ]
  },
  {
   "cell_type": "code",
   "execution_count": null,
   "metadata": {
    "collapsed": true
   },
   "outputs": [],
   "source": [
    "import numpy as np"
   ]
  },
  {
   "cell_type": "code",
   "execution_count": null,
   "metadata": {
    "collapsed": false
   },
   "outputs": [],
   "source": [
    "TEMPLATE = 'E:/diploma_logs/topics_{topics}/{ttype}_topics_{topics}_reg_tau_{tau}.000000.log'\n",
    "TYPES = ['original', 'unbiased', 'gradient_x1', 'gradient_x50']\n",
    "LEGEND = ['original', 'unbiased', 'naive gradient', 'long gradient']\n",
    "COLORS = ['blue', 'green', 'red', 'cyan']\n",
    "TAUS = [100000, 1000000, 10000000, 100000000]"
   ]
  },
  {
   "cell_type": "code",
   "execution_count": null,
   "metadata": {
    "collapsed": false
   },
   "outputs": [],
   "source": [
    "def plot(topics, name, legeng_loc, x_axis, y_axis, start_pos=1, zero_line=False):\n",
    "    fig = plt.figure(figsize=(18, 10))\n",
    "    for i, tau in enumerate(TAUS):\n",
    "        plt.subplot(2, 2, i + 1)\n",
    "        plt.title('$\\\\tau = 10^{' + str(int(round(np.log(tau) / np.log(10)))) + '}$')\n",
    "        #plt.title('tau = ' + str(tau))\n",
    "        lines = []\n",
    "        for color, ttype in zip(COLORS, TYPES):\n",
    "            values = [np.mean(x) for x in parse_log(TEMPLATE.format(topics=topics, tau=tau, ttype=ttype), tau)[name]]\n",
    "            #values2 = [np.mean(x) - (np.std(x)) for x in parse_log(TEMPLATE.format(topics=topics, tau=tau, ttype=ttype), tau)[name]]\n",
    "            lines.extend(plt.plot(range(start_pos, 50), values[start_pos:], color=color))\n",
    "            #plt.plot(range(start_pos, 50), values2[start_pos:], color=color)\n",
    "            #plt.legend(LEGEND, loc=legeng_loc)\n",
    "            plt.xlabel(x_axis)\n",
    "            plt.ylabel(y_axis)\n",
    "        if zero_line:\n",
    "            plt.axhline(0, color='black')\n",
    "            \n",
    "    plt.tight_layout()\n",
    "    plt.subplots_adjust(bottom=.12)\n",
    "    lgd = plt.figlegend(lines, LEGEND, loc='lower center', ncol=4)\n",
    "    \n",
    "    plt.savefig('E:/topics_' + str(topics) + '_' + str(name) + '.eps', format='eps', additional_artists=[lgd], bbox_inches=\"tight\")\n",
    "    plt.show()"
   ]
  },
  {
   "cell_type": "code",
   "execution_count": null,
   "metadata": {
    "collapsed": false
   },
   "outputs": [],
   "source": [
    "plot(10, 'MinTopicSize', 'lower left', 'iteration', 'MinTopicSize')"
   ]
  },
  {
   "cell_type": "code",
   "execution_count": null,
   "metadata": {
    "collapsed": false
   },
   "outputs": [],
   "source": [
    "plot(10, 'R_values', 'lower right', 'iteration', '$R$')"
   ]
  },
  {
   "cell_type": "code",
   "execution_count": null,
   "metadata": {
    "collapsed": false
   },
   "outputs": [],
   "source": [
    "plot(10, 'LR_values', 'lower right', 'iteration', '$L + R$')"
   ]
  },
  {
   "cell_type": "code",
   "execution_count": null,
   "metadata": {
    "collapsed": false
   },
   "outputs": [],
   "source": [
    "plot(10, 'RMstepDiff', 'upper right', 'iteration', '$R$ difference on M-step', zero_line=True)"
   ]
  },
  {
   "cell_type": "code",
   "execution_count": null,
   "metadata": {
    "collapsed": false
   },
   "outputs": [],
   "source": [
    "plot(10, 'RMstepDiffPerL1', 'best', 'iteration', '$R$ difference normalized $l_1$ norm', zero_line=True)"
   ]
  },
  {
   "cell_type": "code",
   "execution_count": null,
   "metadata": {
    "collapsed": false
   },
   "outputs": [],
   "source": [
    "plot(10, 'RMstepDiffPerL2', 'best', 'iteration', '$R$ difference normalized in $l_2$ norm', zero_line=True)"
   ]
  },
  {
   "cell_type": "code",
   "execution_count": null,
   "metadata": {
    "collapsed": false
   },
   "outputs": [],
   "source": [
    "plot(10, 'minPhi_values', 'upper right', 'iteration', 'Log of min nonzero Phi')"
   ]
  },
  {
   "cell_type": "code",
   "execution_count": null,
   "metadata": {
    "collapsed": false,
    "scrolled": false
   },
   "outputs": [],
   "source": [
    "plot(10, 'minTheta_values', 'upper right', 'iteration', 'Log of min nonzero Theta')"
   ]
  },
  {
   "cell_type": "code",
   "execution_count": null,
   "metadata": {
    "collapsed": true
   },
   "outputs": [],
   "source": []
  },
  {
   "cell_type": "code",
   "execution_count": null,
   "metadata": {
    "collapsed": true
   },
   "outputs": [],
   "source": []
  },
  {
   "cell_type": "code",
   "execution_count": null,
   "metadata": {
    "collapsed": true
   },
   "outputs": [],
   "source": []
  },
  {
   "cell_type": "code",
   "execution_count": null,
   "metadata": {
    "collapsed": true
   },
   "outputs": [],
   "source": []
  },
  {
   "cell_type": "code",
   "execution_count": null,
   "metadata": {
    "collapsed": false
   },
   "outputs": [],
   "source": [
    "plot(30, 'MinTopicSize', 'upper right', 'iteration', 'MinTopicSize')"
   ]
  },
  {
   "cell_type": "code",
   "execution_count": null,
   "metadata": {
    "collapsed": false,
    "scrolled": false
   },
   "outputs": [],
   "source": [
    "plot(30, 'R_values', 'lower right', 'iteration', 'R')"
   ]
  },
  {
   "cell_type": "code",
   "execution_count": null,
   "metadata": {
    "collapsed": false
   },
   "outputs": [],
   "source": [
    "plot(30, 'LR_values', 'lower right', 'iteration', 'L + tau R')"
   ]
  },
  {
   "cell_type": "code",
   "execution_count": null,
   "metadata": {
    "collapsed": false
   },
   "outputs": [],
   "source": [
    "plot(30, 'RMstepDiff', 'lower left', 'iteration', 'R difference on M-step', zero_line=True)"
   ]
  },
  {
   "cell_type": "code",
   "execution_count": null,
   "metadata": {
    "collapsed": false
   },
   "outputs": [],
   "source": [
    "plot(30, 'RMstepDiffPerL1', 'upper right', 'iteration', 'R difference on M-step l1 norm', zero_line=True)"
   ]
  },
  {
   "cell_type": "code",
   "execution_count": null,
   "metadata": {
    "collapsed": false
   },
   "outputs": [],
   "source": [
    "plot(30, 'RMstepDiffPerL2', 'upper right', 'iteration', 'R difference on M-step l2 norm', zero_line=True)"
   ]
  },
  {
   "cell_type": "code",
   "execution_count": null,
   "metadata": {
    "collapsed": false
   },
   "outputs": [],
   "source": [
    "plot(30, 'minPhi_values', 'upper right', 'iteration', 'Log of min nonzero Phi')"
   ]
  },
  {
   "cell_type": "code",
   "execution_count": null,
   "metadata": {
    "collapsed": false,
    "scrolled": true
   },
   "outputs": [],
   "source": [
    "plot(30, 'minTheta_values', 'upper right', 'iteration', 'Log of min nonzero Theta')"
   ]
  },
  {
   "cell_type": "code",
   "execution_count": null,
   "metadata": {
    "collapsed": true
   },
   "outputs": [],
   "source": []
  },
  {
   "cell_type": "code",
   "execution_count": null,
   "metadata": {
    "collapsed": true
   },
   "outputs": [],
   "source": []
  },
  {
   "cell_type": "code",
   "execution_count": null,
   "metadata": {
    "collapsed": true
   },
   "outputs": [],
   "source": []
  },
  {
   "cell_type": "code",
   "execution_count": null,
   "metadata": {
    "collapsed": false
   },
   "outputs": [],
   "source": [
    "plot(3, 'MinTopicSize', 'upper right', 'iteration', 'MinTopicSize')"
   ]
  },
  {
   "cell_type": "code",
   "execution_count": null,
   "metadata": {
    "collapsed": false
   },
   "outputs": [],
   "source": [
    "plot(3, 'R_values', 'upper right', 'iteration', 'R')"
   ]
  },
  {
   "cell_type": "code",
   "execution_count": null,
   "metadata": {
    "collapsed": false
   },
   "outputs": [],
   "source": [
    "plot(3, 'LR_values', 'lower right', 'iteration', 'L + tau R')"
   ]
  },
  {
   "cell_type": "code",
   "execution_count": null,
   "metadata": {
    "collapsed": false
   },
   "outputs": [],
   "source": [
    "plot(3, 'RMstepDiff', 'upper right', 'iteration', 'R difference on M-step', zero_line=True)"
   ]
  },
  {
   "cell_type": "code",
   "execution_count": null,
   "metadata": {
    "collapsed": false
   },
   "outputs": [],
   "source": [
    "plot(3, 'RMstepDiffPerL1', 'upper right', 'iteration', 'R difference on M-step l1 norm', zero_line=True)"
   ]
  },
  {
   "cell_type": "code",
   "execution_count": null,
   "metadata": {
    "collapsed": false
   },
   "outputs": [],
   "source": [
    "plot(3, 'RMstepDiffPerL2', 'upper right', 'iteration', 'R difference on M-step l2 norm', zero_line=True)"
   ]
  },
  {
   "cell_type": "code",
   "execution_count": null,
   "metadata": {
    "collapsed": false
   },
   "outputs": [],
   "source": [
    "plot(3, 'minPhi_values', 'upper right', 'iteration', 'Log of min nonzero Phi')"
   ]
  },
  {
   "cell_type": "code",
   "execution_count": null,
   "metadata": {
    "collapsed": false
   },
   "outputs": [],
   "source": [
    "plot(3, 'minTheta_values', 'upper right', 'iteration', 'Log of min nonzero Theta')"
   ]
  },
  {
   "cell_type": "code",
   "execution_count": null,
   "metadata": {
    "collapsed": true
   },
   "outputs": [],
   "source": []
  },
  {
   "cell_type": "code",
   "execution_count": null,
   "metadata": {
    "collapsed": true
   },
   "outputs": [],
   "source": []
  },
  {
   "cell_type": "code",
   "execution_count": null,
   "metadata": {
    "collapsed": true
   },
   "outputs": [],
   "source": []
  },
  {
   "cell_type": "code",
   "execution_count": null,
   "metadata": {
    "collapsed": true
   },
   "outputs": [],
   "source": []
  },
  {
   "cell_type": "code",
   "execution_count": null,
   "metadata": {
    "collapsed": true
   },
   "outputs": [],
   "source": []
  },
  {
   "cell_type": "code",
   "execution_count": null,
   "metadata": {
    "collapsed": true
   },
   "outputs": [],
   "source": []
  },
  {
   "cell_type": "code",
   "execution_count": null,
   "metadata": {
    "collapsed": true
   },
   "outputs": [],
   "source": []
  },
  {
   "cell_type": "code",
   "execution_count": null,
   "metadata": {
    "collapsed": true
   },
   "outputs": [],
   "source": []
  },
  {
   "cell_type": "code",
   "execution_count": null,
   "metadata": {
    "collapsed": true
   },
   "outputs": [],
   "source": []
  },
  {
   "cell_type": "code",
   "execution_count": null,
   "metadata": {
    "collapsed": true
   },
   "outputs": [],
   "source": []
  },
  {
   "cell_type": "code",
   "execution_count": null,
   "metadata": {
    "collapsed": true
   },
   "outputs": [],
   "source": []
  },
  {
   "cell_type": "code",
   "execution_count": null,
   "metadata": {
    "collapsed": true
   },
   "outputs": [],
   "source": []
  },
  {
   "cell_type": "code",
   "execution_count": null,
   "metadata": {
    "collapsed": true
   },
   "outputs": [],
   "source": []
  },
  {
   "cell_type": "code",
   "execution_count": null,
   "metadata": {
    "collapsed": true
   },
   "outputs": [],
   "source": []
  },
  {
   "cell_type": "code",
   "execution_count": null,
   "metadata": {
    "collapsed": true
   },
   "outputs": [],
   "source": []
  }
 ],
 "metadata": {
  "kernelspec": {
   "display_name": "Python 2",
   "language": "python",
   "name": "python2"
  },
  "language_info": {
   "codemirror_mode": {
    "name": "ipython",
    "version": 2
   },
   "file_extension": ".py",
   "mimetype": "text/x-python",
   "name": "python",
   "nbconvert_exporter": "python",
   "pygments_lexer": "ipython2",
   "version": "2.7.10"
  }
 },
 "nbformat": 4,
 "nbformat_minor": 0
}
