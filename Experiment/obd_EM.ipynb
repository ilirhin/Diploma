{
 "cells": [
  {
   "cell_type": "code",
   "execution_count": 92,
   "metadata": {
    "collapsed": false
   },
   "outputs": [],
   "source": [
    "import numpy as np\n",
    "import scipy\n",
    "import scipy.sparse\n",
    "from sklearn.datasets import fetch_20newsgroups\n",
    "import gensim\n",
    "from collections import Counter\n",
    "import heapq\n",
    "import nltk\n",
    "from nltk.corpus import stopwords\n",
    "import matplotlib.pyplot as plt\n",
    "%matplotlib inline"
   ]
  },
  {
   "cell_type": "code",
   "execution_count": 79,
   "metadata": {
    "collapsed": false
   },
   "outputs": [
    {
     "name": "stdout",
     "output_type": "stream",
     "text": [
      "[nltk_data] Downloading package stopwords to /home/tylorn/nltk_data...\n",
      "[nltk_data]   Unzipping corpora/stopwords.zip.\n"
     ]
    },
    {
     "data": {
      "text/plain": [
       "True"
      ]
     },
     "execution_count": 79,
     "metadata": {},
     "output_type": "execute_result"
    }
   ],
   "source": [
    "nltk.download('stopwords')"
   ]
  },
  {
   "cell_type": "code",
   "execution_count": 80,
   "metadata": {
    "collapsed": false
   },
   "outputs": [],
   "source": [
    "english_stopwords = set(stopwords.words('english'))"
   ]
  },
  {
   "cell_type": "code",
   "execution_count": 50,
   "metadata": {
    "collapsed": true
   },
   "outputs": [],
   "source": [
    "def trivial_p_dwt_processor(p_dwt):\n",
    "    pass\n",
    "\n",
    "def create_frac_of_max_p_dwt_processor(frac_size):\n",
    "    def fun(p_dwt):\n",
    "        maximums = np.max(p_dwt, axis=1)\n",
    "        p_dwt[p_dwt < frac_size * maximums[:, np.newaxis]] = 0.\n",
    "        p_dwt /= (np.sum(p_dwt, axis=1)[:, np.newaxis] + 1e-10)\n",
    "    return fun"
   ]
  },
  {
   "cell_type": "code",
   "execution_count": 15,
   "metadata": {
    "collapsed": true
   },
   "outputs": [],
   "source": [
    "def perform_e_step_update(freq_matrix, docptr, phi_matrix, theta_matrix, params):\n",
    "    block_size = params.get('block_size', 1)\n",
    "    p_dwt_processor = params.get('p_dwt_processor', lambda x: None)\n",
    "    \n",
    "    D, W = freq_matrix.shape\n",
    "    T = phi_matrix.shape[0]\n",
    "    n_wt, n_dt = np.zeros((W, T)), np.zeros((D, T))\n",
    "    transposed_phi_matrix = np.transpose(phi_matrix)\n",
    "    \n",
    "    indices = freq_matrix.indices\n",
    "    indptr = freq_matrix.indptr\n",
    "    data = freq_matrix.data\n",
    "    \n",
    "    for block_num in xrange((D + block_size - 1) / block_size):\n",
    "        block_start = block_num * block_size\n",
    "        block_finish = min(D, block_start + block_size)\n",
    "        ind_start, ind_finish = indptr[block_start], indptr[block_finish]\n",
    "        \n",
    "        datas = data[ind_start:ind_finish]\n",
    "        words = indices[ind_start:ind_finish]\n",
    "        docs = docptr[ind_start:ind_finish]\n",
    "        \n",
    "        p_dwt = transposed_phi_matrix[words] * theta_matrix[docs, :]\n",
    "        p_dwt /= (np.sum(p_dwt, axis=1)[:, np.newaxis] + 1e-10)\n",
    "        p_dwt_processor(p_dwt)\n",
    "        p_dwt *= datas[:, np.newaxis]\n",
    "        \n",
    "        for doc_num in xrange(block_start, block_finish):\n",
    "            doc_start, doc_finish = indptr[doc_num], indptr[doc_num + 1]\n",
    "            doc_p_dwt = p_dwt[(doc_start - ind_start):(doc_finish - ind_start), :]\n",
    "            n_dt[doc_num, :] += np.sum(doc_p_dwt, axis=0)\n",
    "            n_wt[indices[doc_start:doc_finish], :] += doc_p_dwt\n",
    "\n",
    "    return n_wt, n_dt"
   ]
  },
  {
   "cell_type": "code",
   "execution_count": null,
   "metadata": {
    "collapsed": true
   },
   "outputs": [],
   "source": []
  },
  {
   "cell_type": "code",
   "execution_count": 189,
   "metadata": {
    "collapsed": true
   },
   "outputs": [],
   "source": [
    "def perform_obg_e_step_update(freq_matrix, docptr, phi_matrix, theta_matrix, params):\n",
    "    block_size = params.get('block_size', 1)\n",
    "    percentile = params.get('percentile', 99)\n",
    "    return_gamma = params.get('return_gamma', False)\n",
    "    \n",
    "    D, W = freq_matrix.shape\n",
    "    T = phi_matrix.shape[0]\n",
    "    n_wt, n_dt = np.zeros((W, T)), np.zeros((D, T))\n",
    "    alpha_wt, beta_wt = np.zeros((W, T)), np.zeros((W, T))\n",
    "    transposed_phi_matrix = np.transpose(phi_matrix)\n",
    "    \n",
    "    indices = freq_matrix.indices\n",
    "    indptr = freq_matrix.indptr\n",
    "    data = freq_matrix.data\n",
    "    \n",
    "    for block_num in xrange((D + block_size - 1) / block_size):\n",
    "        block_start = block_num * block_size\n",
    "        block_finish = min(D, block_start + block_size)\n",
    "        ind_start, ind_finish = indptr[block_start], indptr[block_finish]\n",
    "        \n",
    "        datas = data[ind_start:ind_finish]\n",
    "        words = indices[ind_start:ind_finish]\n",
    "        docs = docptr[ind_start:ind_finish]\n",
    "        \n",
    "        p_dwt = transposed_phi_matrix[words] * theta_matrix[docs, :]\n",
    "        p_dwt /= (np.sum(p_dwt, axis=1)[:, np.newaxis] + 1e-10)\n",
    "        \n",
    "        alpha_dwt = np.log(1. - p_dwt) * datas[:, np.newaxis]\n",
    "        beta_dwt = np.log(1. + p_dwt) * datas[:, np.newaxis]\n",
    "        n_dwt = p_dwt * datas[:, np.newaxis]\n",
    "        \n",
    "        for doc_num in xrange(block_start, block_finish):\n",
    "            doc_start, doc_finish = indptr[doc_num], indptr[doc_num + 1]\n",
    "            \n",
    "            doc_n_dwt = n_dwt[(doc_start - ind_start):(doc_finish - ind_start), :]\n",
    "            doc_alpha_dwt = alpha_dwt[(doc_start - ind_start):(doc_finish - ind_start), :]\n",
    "            doc_beta_dwt = beta_dwt[(doc_start - ind_start):(doc_finish - ind_start), :]\n",
    "            \n",
    "            n_dt[doc_num, :] += np.sum(doc_n_dwt, axis=0)\n",
    "            positions = indices[doc_start:doc_finish]\n",
    "            n_wt[positions, :] += doc_n_dwt\n",
    "            alpha_wt[positions, :] += doc_alpha_dwt\n",
    "            beta_wt[positions, :] += doc_beta_dwt\n",
    "    \n",
    "    beta_t = np.sum(beta_wt, axis=0)\n",
    "    gamma_wt = alpha_wt + transposed_phi_matrix * (1. - transposed_phi_matrix) * (beta_t[np.newaxis, :] - beta_wt)\n",
    "    bound = np.percentile(gamma_wt[gamma_wt < 0], percentile)\n",
    "    n_wt[gamma_wt > bound] = 0.\n",
    "    \n",
    "    \n",
    "    plt.hist(np.log(- gamma_wt[gamma_wt < 0]).flatten(), bins=100)\n",
    "    plt.show()\n",
    "    \n",
    "    if return_gamma:\n",
    "        return n_wt, n_dt, gamma_wt\n",
    "    else:\n",
    "        return n_wt, n_dt"
   ]
  },
  {
   "cell_type": "code",
   "execution_count": null,
   "metadata": {
    "collapsed": true
   },
   "outputs": [],
   "source": []
  },
  {
   "cell_type": "code",
   "execution_count": 46,
   "metadata": {
    "collapsed": true
   },
   "outputs": [],
   "source": [
    "def launch_em(\n",
    "    freq_matrix, \n",
    "    phi_matrix,\n",
    "    theta_matrix,\n",
    "    logger,\n",
    "    regularizations_list,\n",
    "    params_list,\n",
    "    iters_count=100\n",
    "):\n",
    "    phi_matrix = np.array(phi_matrix)\n",
    "    theta_matrix = np.array(theta_matrix)\n",
    "    docptr = []\n",
    "    indptr = freq_matrix.indptr\n",
    "    for doc_num in xrange(D):\n",
    "        docptr.extend([doc_num] * (indptr[doc_num + 1] - indptr[doc_num]))\n",
    "    docptr = np.array(docptr)\n",
    "    \n",
    "    for it in xrange(iters_count):\n",
    "        print it\n",
    "        n_wt, n_dt = params_list[it]['method'](freq_matrix, docptr, phi_matrix, theta_matrix, params_list[it])\n",
    "        r_wt, r_dt = regularizations_list[it](n_wt, n_dt, phi_matrix, theta_matrix)\n",
    "        n_wt = np.maximum(n_wt + r_wt, 0)\n",
    "        n_dt = np.maximum(n_dt + r_dt, 0)\n",
    "        n_wt /= np.sum(n_wt, axis=0)\n",
    "        n_dt /= np.sum(n_dt, axis=1)[:, np.newaxis]\n",
    "        phi_matrix = np.transpose(n_wt)\n",
    "        theta_matrix = n_dt\n",
    "        logger(freq_matrix, docptr, phi_matrix, theta_matrix)\n",
    "        \n",
    "    return phi_matrix, theta_matrix"
   ]
  },
  {
   "cell_type": "code",
   "execution_count": null,
   "metadata": {
    "collapsed": true
   },
   "outputs": [],
   "source": []
  },
  {
   "cell_type": "code",
   "execution_count": 106,
   "metadata": {
    "collapsed": true
   },
   "outputs": [],
   "source": [
    "def trivial_regularization(n_wt, n_dt, phi_matrix, theta_matrix):\n",
    "    return 0., 0.\n",
    "\n",
    "def calculate_decorr(phi_matrix):\n",
    "    aggr_phi = np.sum(phi_matrix, axis=1)\n",
    "    return np.sum(phi_matrix * (aggr_phi[:, np.newaxis] - phi_matrix))\n",
    "\n",
    "def create_reg_decorr_naive(tau):\n",
    "    def fun (n_wt, n_dt, phi_matrix, theta_matrix):\n",
    "        aggr_phi = np.sum(phi_matrix, axis=1)\n",
    "        return - tau * np.transpose(phi_matrix * (aggr_phi[:, np.newaxis] - phi_matrix)), -0.1\n",
    "    return fun\n",
    "\n",
    "def create_reg_decorr_unbiased(tau):\n",
    "    def fun (n_wt, n_dt, phi_matrix, theta_matrix):\n",
    "        tmp_phi =  n_wt / np.sum(n_wt, axis=0)\n",
    "        aggr_phi = np.sum(tmp_phi, axis=0)\n",
    "        return - tau * tmp_phi * (aggr_phi[np.newaxis, :] - tmp_phi), -0.1\n",
    "    return fun\n",
    "\n",
    "def calculate_likelihood(freq_matrix, docptr, phi_matrix, theta_matrix, block_size=1):\n",
    "    D, W = freq_matrix.shape\n",
    "    T = phi_matrix.shape[0]\n",
    "    transposed_phi_matrix = np.transpose(phi_matrix)\n",
    "    \n",
    "    indices = freq_matrix.indices\n",
    "    indptr = freq_matrix.indptr\n",
    "    data = freq_matrix.data\n",
    "    \n",
    "    res = 0.\n",
    "    for block_num in xrange((D + block_size - 1) / block_size):\n",
    "        block_start = block_num * block_size\n",
    "        block_finish = min(D, block_start + block_size)\n",
    "        ind_start, ind_finish = indptr[block_start], indptr[block_finish]\n",
    "        \n",
    "        datas = data[ind_start:ind_finish]\n",
    "        words = indices[ind_start:ind_finish]\n",
    "        docs = docptr[ind_start:ind_finish]\n",
    "        \n",
    "        p_dwt = transposed_phi_matrix[words] * theta_matrix[docs, :]\n",
    "        res += np.sum(np.log(np.sum(p_dwt, axis=1) + 1e-10) * datas)\n",
    "    \n",
    "    return res\n",
    "\n",
    "\n",
    "def create_decorr_logger(tau):\n",
    "    def fun(freq_matrix, docptr, phi_matrix, theta_matrix):\n",
    "        likelihood = calculate_likelihood(freq_matrix, docptr, phi_matrix, theta_matrix, 50)\n",
    "        decorr = calculate_decorr(phi_matrix)\n",
    "        print 'L', likelihood\n",
    "        print 'decorr', decorr\n",
    "        print 'L + tau R', likelihood - tau * decorr\n",
    "        non_zeros = np.sum(phi_matrix > 1e-20)\n",
    "        size = phi_matrix.shape[0] * phi_matrix.shape[1]\n",
    "        print 'Zeros', non_zeros, '   ', round(1. * non_zeros / size, 2)\n",
    "    return fun"
   ]
  },
  {
   "cell_type": "code",
   "execution_count": null,
   "metadata": {
    "collapsed": true
   },
   "outputs": [],
   "source": []
  },
  {
   "cell_type": "code",
   "execution_count": 164,
   "metadata": {
    "collapsed": false
   },
   "outputs": [],
   "source": [
    "def prepare_dataset(dataset):\n",
    "    # remove stopwords\n",
    "    occurences = Counter()\n",
    "    for i, doc in enumerate(dataset.data):\n",
    "        tokens = gensim.utils.lemmatize(doc)\n",
    "        for token in set(tokens):\n",
    "            occurences[token] += 1\n",
    "        if i % 500 == 0:\n",
    "            print 'Processed: ', i, 'from', len(dataset.data)\n",
    "    \n",
    "    row, col, data = [], [], []\n",
    "    token_2_num = {}\n",
    "    for i, doc in enumerate(dataset.data):\n",
    "        tokens = gensim.utils.lemmatize(doc)\n",
    "        cnt = Counter()\n",
    "        for token in tokens:\n",
    "            word = token.split('/')[0]\n",
    "            if word not in english_stopwords and 10 <= occurences[token] < len(dataset.data) / 2:\n",
    "                if token not in token_2_num:\n",
    "                    token_2_num[token] = len(token_2_num)\n",
    "                cnt[token_2_num[token]] += 1\n",
    "        for w, c in cnt.iteritems():\n",
    "            row.append(i)\n",
    "            col.append(w)\n",
    "            data.append(c)\n",
    "        \n",
    "    num_2_token = {\n",
    "        v: k\n",
    "        for k, v in token_2_num.iteritems()\n",
    "    }\n",
    "    print len(data)\n",
    "    return scipy.sparse.csr_matrix((data, (row, col))), token_2_num, num_2_token\n"
   ]
  },
  {
   "cell_type": "code",
   "execution_count": 165,
   "metadata": {
    "collapsed": true
   },
   "outputs": [],
   "source": [
    "dataset = fetch_20newsgroups(\n",
    "    subset='train',\n",
    "    categories=['sci.electronics', 'sci.med', 'sci.space'],\n",
    "    remove=('headers', 'footers', 'quotes')\n",
    ")"
   ]
  },
  {
   "cell_type": "code",
   "execution_count": 166,
   "metadata": {
    "collapsed": false
   },
   "outputs": [
    {
     "name": "stdout",
     "output_type": "stream",
     "text": [
      "Processed:  0 from 1778\n",
      "Processed:  500 from 1778\n",
      "Processed:  1000 from 1778\n",
      "Processed:  1500 from 1778\n",
      "73610\n",
      "CPU times: user 1min 26s, sys: 4 ms, total: 1min 26s\n",
      "Wall time: 1min 26s\n"
     ]
    }
   ],
   "source": [
    "%%time\n",
    "origin_freq_matrix, token_2_num, num_2_token = prepare_dataset(dataset)"
   ]
  },
  {
   "cell_type": "code",
   "execution_count": null,
   "metadata": {
    "collapsed": true
   },
   "outputs": [],
   "source": []
  },
  {
   "cell_type": "code",
   "execution_count": null,
   "metadata": {
    "collapsed": true
   },
   "outputs": [],
   "source": []
  },
  {
   "cell_type": "code",
   "execution_count": null,
   "metadata": {
    "collapsed": false
   },
   "outputs": [],
   "source": []
  },
  {
   "cell_type": "code",
   "execution_count": 177,
   "metadata": {
    "collapsed": false
   },
   "outputs": [
    {
     "name": "stdout",
     "output_type": "stream",
     "text": [
      "0\n",
      "L -820129.091613\n",
      "decorr 4.99198710322\n",
      "L + tau R -825121.078716\n",
      "Zeros 11135     1.0\n",
      "1\n",
      "L -818111.173457\n",
      "decorr 4.99199159614\n",
      "L + tau R -823103.165054\n",
      "Zeros 11135     1.0\n",
      "2\n",
      "L -816090.921891\n",
      "decorr 4.99187497996\n",
      "L + tau R -821082.796871\n",
      "Zeros 11135     1.0\n",
      "3\n",
      "L -813792.000793\n",
      "decorr 4.99164953633\n",
      "L + tau R -818783.65033\n",
      "Zeros 11135     1.0\n",
      "4\n",
      "L -811121.813238\n",
      "decorr 4.99131671641\n",
      "L + tau R -816113.129954\n",
      "Zeros 11135     1.0\n",
      "5\n",
      "L -808139.705307\n",
      "decorr 4.99089132281\n",
      "L + tau R -813130.596629\n",
      "Zeros 11135     1.0\n",
      "6\n",
      "L -805022.631434\n",
      "decorr 4.99040986941\n",
      "L + tau R -810013.041303\n",
      "Zeros 11135     1.0\n",
      "7\n",
      "L -801959.289642\n",
      "decorr 4.9899103415\n",
      "L + tau R -806949.199983\n",
      "Zeros 11135     1.0\n",
      "8\n",
      "L -799079.194191\n",
      "decorr 4.98941516976\n",
      "L + tau R -804068.60936\n",
      "Zeros 11135     1.0\n",
      "9\n",
      "L -796458.783075\n",
      "decorr 4.9889476369\n",
      "L + tau R -801447.730712\n",
      "Zeros 11135     1.0\n",
      "10\n",
      "L -794119.447111\n",
      "decorr 4.98853718448\n",
      "L + tau R -799107.984295\n",
      "Zeros 11135     1.0\n",
      "11\n",
      "L -792052.796555\n",
      "decorr 4.98819207411\n",
      "L + tau R -797040.988629\n",
      "Zeros 11135     1.0\n",
      "12\n",
      "L -790251.55022\n",
      "decorr 4.98790914648\n",
      "L + tau R -795239.459366\n",
      "Zeros 11134     1.0\n",
      "13\n",
      "L -788701.074275\n",
      "decorr 4.98768252686\n",
      "L + tau R -793688.756801\n",
      "Zeros 11132     1.0\n",
      "14\n",
      "L -787378.26802\n",
      "decorr 4.987503956\n",
      "L + tau R -792365.771976\n",
      "Zeros 11122     1.0\n",
      "15\n",
      "L -786255.215856\n",
      "decorr 4.98736497789\n",
      "L + tau R -791242.580833\n",
      "Zeros 11112     1.0\n",
      "16\n",
      "L -785300.615782\n",
      "decorr 4.98725710162\n",
      "L + tau R -790287.872884\n",
      "Zeros 11096     1.0\n",
      "17\n",
      "L -784487.152697\n",
      "decorr 4.9871737388\n",
      "L + tau R -789474.326436\n",
      "Zeros 11079     0.99\n",
      "18\n",
      "L -783791.364295\n",
      "decorr 4.98711137553\n",
      "L + tau R -788778.475671\n",
      "Zeros 11056     0.99\n",
      "19\n",
      "L -783191.933404\n",
      "decorr 4.98706749357\n",
      "L + tau R -788179.000897\n",
      "Zeros 11034     0.99\n",
      "20\n",
      "L -782669.068475\n",
      "decorr 4.98703818915\n",
      "L + tau R -787656.106664\n",
      "Zeros 11018     0.99\n",
      "21\n",
      "L -782209.940738\n",
      "decorr 4.98701972993\n",
      "L + tau R -787196.960468\n",
      "Zeros 10984     0.99\n",
      "22\n",
      "L -781811.355574\n",
      "decorr 4.98700964336\n",
      "L + tau R -786798.365217\n",
      "Zeros 10950     0.98\n",
      "23\n",
      "L -781467.650319\n",
      "decorr 4.98700664441\n",
      "L + tau R -786454.656963\n",
      "Zeros 10906     0.98\n",
      "24\n",
      "L -781167.335526\n",
      "decorr 4.98700908063\n",
      "L + tau R -786154.344607\n",
      "Zeros 10872     0.98\n",
      "25\n",
      "L -780899.40285\n",
      "decorr 4.98701510983\n",
      "L + tau R -785886.41796\n",
      "Zeros 10824     0.97\n",
      "26\n",
      "L -780658.96635\n",
      "decorr 4.98702328105\n",
      "L + tau R -785645.989631\n",
      "Zeros 10761     0.97\n",
      "27\n",
      "L -780443.473608\n",
      "decorr 4.98703305137\n",
      "L + tau R -785430.506659\n",
      "Zeros 10705     0.96\n",
      "28\n",
      "L -780248.695525\n",
      "decorr 4.98704462782\n",
      "L + tau R -785235.740153\n",
      "Zeros 10638     0.96\n",
      "29\n",
      "L -780073.28343\n",
      "decorr 4.98705779505\n",
      "L + tau R -785060.341225\n",
      "Zeros 10565     0.95\n",
      "30\n",
      "L -781295.168446\n",
      "decorr 4.98599558807\n",
      "L + tau R -786281.164034\n",
      "Zeros 7263     0.65\n",
      "31\n",
      "L -781625.063378\n",
      "decorr 4.98613641078\n",
      "L + tau R -786611.199789\n",
      "Zeros 7190     0.65\n",
      "32\n",
      "L -781815.531274\n",
      "decorr 4.98630547391\n",
      "L + tau R -786801.836748\n",
      "Zeros 7167     0.64\n",
      "33\n",
      "L -781942.756995\n",
      "decorr 4.9864218484\n",
      "L + tau R -786929.178843\n",
      "Zeros 7148     0.64\n",
      "34\n",
      "L -782050.866793\n",
      "decorr 4.98650549774\n",
      "L + tau R -787037.372291\n",
      "Zeros 7140     0.64\n",
      "35\n",
      "L -782147.444182\n",
      "decorr 4.98659822478\n",
      "L + tau R -787134.042407\n",
      "Zeros 7132     0.64\n",
      "36\n",
      "L -782232.870426\n",
      "decorr 4.9866647631\n",
      "L + tau R -787219.535189\n",
      "Zeros 7124     0.64\n",
      "37\n",
      "L -782301.121364\n",
      "decorr 4.98671310538\n",
      "L + tau R -787287.834469\n",
      "Zeros 7122     0.64\n",
      "38\n",
      "L -782356.786413\n",
      "decorr 4.98674189484\n",
      "L + tau R -787343.528308\n",
      "Zeros 7118     0.64\n",
      "39\n",
      "L -782414.152947\n",
      "decorr 4.98678502184\n",
      "L + tau R -787400.937969\n",
      "Zeros 7117     0.64\n",
      "40\n",
      "L -780770.00204\n",
      "decorr 4.98731053585\n",
      "L + tau R -785757.312575\n",
      "Zeros 7117     0.64\n",
      "41\n",
      "L -780272.616264\n",
      "decorr 4.98740590196\n",
      "L + tau R -785260.022166\n",
      "Zeros 7117     0.64\n",
      "42\n",
      "L -780040.891603\n",
      "decorr 4.98741429156\n",
      "L + tau R -785028.305895\n",
      "Zeros 7117     0.64\n",
      "43\n",
      "L -779911.278194\n",
      "decorr 4.9874011915\n",
      "L + tau R -784898.679386\n",
      "Zeros 7117     0.64\n",
      "44\n",
      "L -779830.683478\n",
      "decorr 4.9873834924\n",
      "L + tau R -784818.066971\n",
      "Zeros 7117     0.64\n",
      "45\n",
      "L -779776.716619\n",
      "decorr 4.98736603558\n",
      "L + tau R -784764.082655\n",
      "Zeros 7117     0.64\n",
      "46\n",
      "L -779738.438558\n",
      "decorr 4.98735012955\n",
      "L + tau R -784725.788687\n",
      "Zeros 7117     0.64\n",
      "47\n",
      "L -779709.981017\n",
      "decorr 4.98733596786\n",
      "L + tau R -784697.316985\n",
      "Zeros 7117     0.64\n",
      "48\n",
      "L -779687.978765\n",
      "decorr 4.98732340121\n",
      "L + tau R -784675.302166\n",
      "Zeros 7117     0.64\n",
      "49\n",
      "L -779670.397213\n",
      "decorr 4.98731219952\n",
      "L + tau R -784657.709413\n",
      "Zeros 7117     0.64\n"
     ]
    }
   ],
   "source": [
    "# design experiment\n",
    "\n",
    "D, W = origin_freq_matrix.shape\n",
    "T = 5\n",
    "\n",
    "np.random.seed(42)\n",
    "\n",
    "phi_matrix = np.random.uniform(size=(T, W)).astype(np.float64)\n",
    "phi_matrix /= np.sum(phi_matrix, axis=1)[:, np.newaxis]\n",
    "\n",
    "theta_matrix = np.random.uniform(size=(D, T)).astype(np.float64)\n",
    "theta_matrix /= np.sum(theta_matrix, axis=1)[:, np.newaxis]\n",
    "\n",
    "\n",
    "DECORR_TAU = 1e3\n",
    "\n",
    "trivial_regularization = trivial_regularization\n",
    "decorr_regularization = create_reg_decorr_unbiased(DECORR_TAU)\n",
    "\n",
    "small_selection_params = {\n",
    "    'method': perform_e_step_update,\n",
    "    'block_size': 50,\n",
    "    'p_dwt_processor': create_frac_of_max_p_dwt_processor(0.)\n",
    "}\n",
    "big_selection_params = {\n",
    "    'method': perform_e_step_update,\n",
    "    'block_size': 50,\n",
    "    'p_dwt_processor': create_frac_of_max_p_dwt_processor(0.5)\n",
    "}\n",
    "no_selection_params = {\n",
    "    'method': perform_e_step_update,\n",
    "    'block_size': 50,\n",
    "    'p_dwt_processor': trivial_p_dwt_processor\n",
    "}\n",
    "\n",
    "regularizations_list = np.zeros(50, dtype=object)\n",
    "params_list = np.zeros(50, dtype=object)\n",
    "\n",
    "regularizations_list[:30] = decorr_regularization\n",
    "regularizations_list[30:] = trivial_regularization\n",
    "params_list[:30] = small_selection_params\n",
    "params_list[30:40] = big_selection_params\n",
    "params_list[40:] = no_selection_params\n",
    "\n",
    "phi, theta = launch_em(\n",
    "    freq_matrix=origin_freq_matrix, \n",
    "    phi_matrix=phi_matrix,\n",
    "    theta_matrix=theta_matrix,\n",
    "    logger=create_decorr_logger(DECORR_TAU),\n",
    "    regularizations_list=regularizations_list,\n",
    "    params_list=params_list,\n",
    "    iters_count=50\n",
    ")"
   ]
  },
  {
   "cell_type": "code",
   "execution_count": null,
   "metadata": {
    "collapsed": true
   },
   "outputs": [],
   "source": []
  },
  {
   "cell_type": "code",
   "execution_count": null,
   "metadata": {
    "collapsed": true
   },
   "outputs": [],
   "source": []
  },
  {
   "cell_type": "code",
   "execution_count": 172,
   "metadata": {
    "collapsed": false
   },
   "outputs": [
    {
     "name": "stdout",
     "output_type": "stream",
     "text": [
      "0\n",
      "L -820130.324989\n",
      "decorr 4.99198902245\n",
      "L + tau R -825122.314011\n",
      "Zeros 11135     1.0\n",
      "1\n",
      "L -818134.945369\n",
      "decorr 4.99199206386\n",
      "L + tau R -823126.937433\n",
      "Zeros 11135     1.0\n",
      "2\n",
      "L -816143.252192\n",
      "decorr 4.99187356492\n",
      "L + tau R -821135.125757\n",
      "Zeros 11135     1.0\n",
      "3\n",
      "L -813868.70032\n",
      "decorr 4.99164514986\n",
      "L + tau R -818860.34547\n",
      "Zeros 11135     1.0\n",
      "4\n",
      "L -811208.079829\n",
      "decorr 4.99130649012\n",
      "L + tau R -816199.386319\n",
      "Zeros 11135     1.0\n",
      "5\n",
      "L -808210.26557\n",
      "decorr 4.99086970024\n",
      "L + tau R -813201.13527\n",
      "Zeros 11135     1.0\n",
      "6\n",
      "L -805051.12136\n",
      "decorr 4.99036885759\n",
      "L + tau R -810041.490218\n",
      "Zeros 11135     1.0\n",
      "7\n",
      "L -801923.213602\n",
      "decorr 4.98984139522\n",
      "L + tau R -806913.054997\n",
      "Zeros 11135     1.0\n",
      "8\n",
      "L -798961.070432\n",
      "decorr 4.98930999273\n",
      "L + tau R -803950.380424\n",
      "Zeros 11135     1.0\n",
      "9\n",
      "L -796239.748427\n",
      "decorr 4.9887968683\n",
      "L + tau R -801228.545295\n",
      "Zeros 11135     1.0\n",
      "10\n",
      "L -793781.881953\n",
      "decorr 4.98833114008\n",
      "L + tau R -798770.213093\n",
      "Zeros 11135     1.0\n",
      "11\n",
      "L -791589.905499\n",
      "decorr 4.98792634533\n",
      "L + tau R -796577.831845\n",
      "Zeros 11135     1.0\n",
      "12\n",
      "L -789666.049381\n",
      "decorr 4.98758374351\n",
      "L + tau R -794653.633125\n",
      "Zeros 11134     1.0\n",
      "13\n",
      "L -788002.500444\n",
      "decorr 4.98730090492\n",
      "L + tau R -792989.801349\n",
      "Zeros 11133     1.0\n",
      "14\n",
      "L -786576.833029\n",
      "decorr 4.98707336235\n",
      "L + tau R -791563.906391\n",
      "Zeros 11129     1.0\n",
      "15\n",
      "L -785354.482414\n",
      "decorr 4.98689239165\n",
      "L + tau R -790341.374806\n",
      "Zeros 11113     1.0\n",
      "16\n",
      "L -784296.570284\n",
      "decorr 4.98674624928\n",
      "L + tau R -789283.316533\n",
      "Zeros 11100     1.0\n",
      "17\n",
      "L -783376.459654\n",
      "decorr 4.98662609466\n",
      "L + tau R -788363.085749\n",
      "Zeros 11082     1.0\n",
      "18\n",
      "L -782573.83956\n",
      "decorr 4.98652824025\n",
      "L + tau R -787560.367801\n",
      "Zeros 11063     0.99\n",
      "19\n",
      "L -781869.964983\n",
      "decorr 4.98645023504\n",
      "L + tau R -786856.415218\n",
      "Zeros 11042     0.99\n",
      "20\n",
      "L -781249.565872\n",
      "decorr 4.98638882158\n",
      "L + tau R -786235.954693\n",
      "Zeros 11022     0.99\n",
      "21\n",
      "L -780699.045589\n",
      "decorr 4.98634014746\n",
      "L + tau R -785685.385737\n",
      "Zeros 10996     0.99\n",
      "22\n",
      "L -780209.243535\n",
      "decorr 4.98630062909\n",
      "L + tau R -785195.544164\n",
      "Zeros 10965     0.98\n",
      "23\n",
      "L -779773.443551\n",
      "decorr 4.9862676693\n",
      "L + tau R -784759.71122\n",
      "Zeros 10926     0.98\n",
      "24\n",
      "L -779383.422736\n",
      "decorr 4.98623889327\n",
      "L + tau R -784369.661629\n",
      "Zeros 10883     0.98\n",
      "25\n",
      "L -779033.51428\n",
      "decorr 4.98621214422\n",
      "L + tau R -784019.726424\n",
      "Zeros 10845     0.97\n",
      "26\n",
      "L -778721.582301\n",
      "decorr 4.98618647979\n",
      "L + tau R -783707.76878\n",
      "Zeros 10781     0.97\n",
      "27\n",
      "L -778446.465347\n",
      "decorr 4.98616341186\n",
      "L + tau R -783432.628759\n",
      "Zeros 10719     0.96\n",
      "28\n",
      "L -778202.11523\n",
      "decorr 4.9861437195\n",
      "L + tau R -783188.25895\n",
      "Zeros 10655     0.96\n",
      "29\n",
      "L -777982.745084\n",
      "decorr 4.98612690168\n",
      "L + tau R -782968.871986\n",
      "Zeros 10579     0.95\n",
      "30\n",
      "L -777779.324189\n",
      "decorr 4.98611258412\n",
      "L + tau R -782765.436773\n",
      "Zeros 10502     0.94\n",
      "31\n",
      "L -777581.587613\n",
      "decorr 4.98610131502\n",
      "L + tau R -782567.688928\n",
      "Zeros 10423     0.94\n",
      "32\n",
      "L -777383.153271\n",
      "decorr 4.9860935626\n",
      "L + tau R -782369.246833\n",
      "Zeros 10349     0.93\n",
      "33\n",
      "L -777187.224169\n",
      "decorr 4.98608622133\n",
      "L + tau R -782173.31039\n",
      "Zeros 10266     0.92\n",
      "34\n",
      "L -777002.491572\n",
      "decorr 4.9860755513\n",
      "L + tau R -781988.567123\n",
      "Zeros 10193     0.92\n",
      "35\n",
      "L -776838.38488\n",
      "decorr 4.98606271582\n",
      "L + tau R -781824.447596\n",
      "Zeros 10107     0.91\n",
      "36\n",
      "L -776694.208333\n",
      "decorr 4.98605153777\n",
      "L + tau R -781680.25987\n",
      "Zeros 10044     0.9\n",
      "37\n",
      "L -776561.91072\n",
      "decorr 4.98604226568\n",
      "L + tau R -781547.952985\n",
      "Zeros 9969     0.9\n",
      "38\n",
      "L -776437.098162\n",
      "decorr 4.98603360853\n",
      "L + tau R -781423.131771\n",
      "Zeros 9896     0.89\n",
      "39\n",
      "L -776320.218759\n",
      "decorr 4.98602515504\n",
      "L + tau R -781306.243914\n",
      "Zeros 9823     0.88\n",
      "40\n",
      "L -776211.563401\n",
      "decorr 4.98601699397\n",
      "L + tau R -781197.580395\n",
      "Zeros 9751     0.88\n",
      "41\n",
      "L -776110.430428\n",
      "decorr 4.98600902601\n",
      "L + tau R -781096.439454\n",
      "Zeros 9687     0.87\n",
      "42\n",
      "L -776015.771715\n",
      "decorr 4.98600094422\n",
      "L + tau R -781001.772659\n",
      "Zeros 9637     0.87\n",
      "43\n",
      "L -775927.23912\n",
      "decorr 4.98599261794\n",
      "L + tau R -780913.231738\n",
      "Zeros 9569     0.86\n",
      "44\n",
      "L -775844.375146\n",
      "decorr 4.98598417449\n",
      "L + tau R -780830.35932\n",
      "Zeros 9513     0.85\n",
      "45\n",
      "L -775765.379564\n",
      "decorr 4.98597559246\n",
      "L + tau R -780751.355156\n",
      "Zeros 9451     0.85\n",
      "46\n",
      "L -775688.456067\n",
      "decorr 4.9859668774\n",
      "L + tau R -780674.422944\n",
      "Zeros 9406     0.84\n",
      "47\n",
      "L -775613.746178\n",
      "decorr 4.98595823679\n",
      "L + tau R -780599.704415\n",
      "Zeros 9347     0.84\n",
      "48\n",
      "L -775542.555815\n",
      "decorr 4.98594988643\n",
      "L + tau R -780528.505701\n",
      "Zeros 9297     0.83\n",
      "49\n",
      "L -775476.304644\n",
      "decorr 4.98594182208\n",
      "L + tau R -780462.246466\n",
      "Zeros 9245     0.83\n"
     ]
    }
   ],
   "source": [
    "# design experiment\n",
    "\n",
    "D, W = origin_freq_matrix.shape\n",
    "T = 5\n",
    "\n",
    "np.random.seed(42)\n",
    "\n",
    "phi_matrix = np.random.uniform(size=(T, W)).astype(np.float64)\n",
    "phi_matrix /= np.sum(phi_matrix, axis=1)[:, np.newaxis]\n",
    "\n",
    "theta_matrix = np.random.uniform(size=(D, T)).astype(np.float64)\n",
    "theta_matrix /= np.sum(theta_matrix, axis=1)[:, np.newaxis]\n",
    "\n",
    "\n",
    "DECORR_TAU = 1e3\n",
    "\n",
    "trivial_regularization = trivial_regularization\n",
    "decorr_regularization = create_reg_decorr_unbiased(DECORR_TAU)\n",
    "\n",
    "small_selection_params = {\n",
    "    'method': perform_e_step_update,\n",
    "    'block_size': 50,\n",
    "    'p_dwt_processor': create_frac_of_max_p_dwt_processor(0.)\n",
    "}\n",
    "big_selection_params = {\n",
    "    'method': perform_e_step_update,\n",
    "    'block_size': 50,\n",
    "    'p_dwt_processor': create_frac_of_max_p_dwt_processor(0.5)\n",
    "}\n",
    "no_selection_params = {\n",
    "    'method': perform_e_step_update,\n",
    "    'block_size': 50,\n",
    "    'p_dwt_processor': trivial_p_dwt_processor\n",
    "}\n",
    "\n",
    "regularizations_list = np.zeros(50, dtype=object)\n",
    "params_list = np.zeros(50, dtype=object)\n",
    "\n",
    "regularizations_list[:50] = trivial_regularization\n",
    "params_list[:50] = no_selection_params\n",
    "\n",
    "phi, theta = launch_em(\n",
    "    freq_matrix=origin_freq_matrix, \n",
    "    phi_matrix=phi_matrix,\n",
    "    theta_matrix=theta_matrix,\n",
    "    logger=create_decorr_logger(DECORR_TAU),\n",
    "    regularizations_list=regularizations_list,\n",
    "    params_list=params_list,\n",
    "    iters_count=50\n",
    ")"
   ]
  },
  {
   "cell_type": "code",
   "execution_count": 114,
   "metadata": {
    "collapsed": false,
    "scrolled": true
   },
   "outputs": [
    {
     "name": "stdout",
     "output_type": "stream",
     "text": [
      "0\n",
      "\tcx\t\tNN 0.0107606842426\n",
      "\thz\t\tNN 0.00922447622453\n",
      "\tqs\t\tNN 0.00751548419907\n",
      "\tck\t\tNN 0.0068168083012\n",
      "\tpl\t\tNN 0.00670915846499\n",
      "\tlk\t\tNN 0.00633106602575\n",
      "\tuw\t\tNN 0.00620873617363\n",
      "\ttl\t\tNN 0.00550949929327\n",
      "\tzd\t\tNN 0.00532582256722\n",
      "\tchz\t\tNN 0.00511557125899\n",
      "\tmc\t\tNN 0.00509568928793\n",
      "\tmv\t\tNN 0.00488119572777\n",
      "\tmw\t\tNN 0.00486344046315\n",
      "\tww\t\tVB 0.00455398716083\n",
      "\tmd\t\tNN 0.00409549744592\n",
      "\tsk\t\tNN 0.00393135796019\n",
      "\tmt\t\tNN 0.00373785503807\n",
      "\twt\t\tNN 0.0037280096487\n",
      "\tpu\t\tNN 0.00362129647177\n",
      "\tcj\t\tNN 0.00351676776471\n",
      "1\n",
      "\tax\t\tNN 0.8181095055\n",
      "\tmax\t\tNN 0.058864728996\n",
      "\tpl\t\tNN 0.00673374333383\n",
      "\tei\t\tNN 0.0064154372943\n",
      "\ttm\t\tNN 0.00528157244335\n",
      "\tgiz\t\tNN 0.0051968862251\n",
      "\tbhj\t\tNN 0.0051291177358\n",
      "\tey\t\tNN 0.00384944944369\n",
      "\tqax\t\tNN 0.00297476644208\n",
      "\twm\t\tVB 0.0029291661028\n",
      "\tgk\t\tNN 0.00241663140198\n",
      "\tkn\t\tNN 0.00231751970805\n",
      "\tbxn\t\tNN 0.00227581446536\n",
      "\tqq\t\tNN 0.00214950874298\n",
      "\ttq\t\tNN 0.00214789634754\n",
      "\ttg\t\tNN 0.00174239243678\n",
      "\tbj\t\tNN 0.00172994568969\n",
      "\twt\t\tNN 0.00141210975259\n",
      "\tyf\t\tNN 0.00141150426563\n",
      "\tez\t\tNN 0.00127898947466\n",
      "2\n",
      "\ttm\t\tNN 0.00892154174938\n",
      "\tmk\t\tNN 0.00842001847944\n",
      "\tql\t\tNN 0.00839297949142\n",
      "\tdi\t\tJJ 0.00823400881631\n",
      "\tokz\t\tNN 0.00627643331256\n",
      "\twm\t\tVB 0.00572598870888\n",
      "\tlk\t\tNN 0.00561312202345\n",
      "\tdi\t\tNN 0.00508441940572\n",
      "\tchz\t\tNN 0.00463757249816\n",
      "\tmb\t\tNN 0.00442964641704\n",
      "\thm\t\tNN 0.0044279121855\n",
      "\trl\t\tNN 0.00429179933353\n",
      "\tbh\t\tNN 0.00415609048188\n",
      "\trlk\t\tNN 0.00415207326805\n",
      "\ttq\t\tNN 0.00403217041516\n",
      "\tsq\t\tJJ 0.00402995222512\n",
      "\tmq\t\tNN 0.00390711508159\n",
      "\tbxn\t\tNN 0.00367425233829\n",
      "\trk\t\tNN 0.00362577307812\n",
      "\tfyn\t\tNN 0.00358231629974\n",
      "3\n",
      "\twindow\t\tNN 0.0100339106231\n",
      "\tget\t\tVB 0.00883098690582\n",
      "\tproblem\t\tNN 0.00862263856946\n",
      "\tused\t\tVB 0.00743850847191\n",
      "\tknow\t\tVB 0.00653733501376\n",
      "\tcard\t\tNN 0.00649074403673\n",
      "\tsystem\t\tNN 0.00556464020774\n",
      "\tanyone\t\tNN 0.0050529000149\n",
      "\tthank\t\tNN 0.00503927417819\n",
      "\tdriver\t\tNN 0.0046370141774\n",
      "\tapple\t\tNN 0.00427732640957\n",
      "\tuse\t\tVB 0.00409292305516\n",
      "\trun\t\tVB 0.00393171394058\n",
      "\tdrive\t\tNN 0.00390386660821\n",
      "\tmac\t\tNN 0.00388355146276\n",
      "\tthink\t\tVB 0.00386638037829\n",
      "\talso\t\tRB 0.00385264371989\n",
      "\twork\t\tVB 0.00383805150957\n",
      "\tmake\t\tVB 0.00383539546532\n",
      "\tnew\t\tJJ 0.00346284841252\n",
      "4\n",
      "\timage\t\tNN 0.0163577635006\n",
      "\tfile\t\tNN 0.0134185895846\n",
      "\tgraphic\t\tNN 0.0081101825854\n",
      "\tprogram\t\tNN 0.00766735576159\n",
      "\tformat\t\tNN 0.00652516278338\n",
      "\tedu\t\tNN 0.00622670832118\n",
      "\tcolor\t\tNN 0.00528150742052\n",
      "\twindow\t\tNN 0.00521996912621\n",
      "\tavailable\t\tJJ 0.00486811167021\n",
      "\talso\t\tRB 0.00480419229955\n",
      "\tbit\t\tNN 0.00477275531621\n",
      "\tsoftware\t\tNN 0.00468609755334\n",
      "\tused\t\tVB 0.00451916037546\n",
      "\tget\t\tVB 0.00432007504134\n",
      "\tversion\t\tNN 0.00429565534534\n",
      "\tpub\t\tNN 0.00412354037748\n",
      "\tjpeg\t\tNN 0.00407822675123\n",
      "\tpackage\t\tNN 0.0040617593661\n",
      "\tsystem\t\tNN 0.00390883792425\n",
      "\tdirectory\t\tNN 0.00373836840695\n"
     ]
    }
   ],
   "source": [
    "for t in xrange(T):\n",
    "    top = heapq.nlargest(20, range(W), key=lambda w: phi[t, w])\n",
    "    print t\n",
    "    for w in top:\n",
    "        print '\\t', '\\t\\t'.join(num_2_token[w].split('/')), phi[t, w]"
   ]
  },
  {
   "cell_type": "code",
   "execution_count": 173,
   "metadata": {
    "collapsed": false
   },
   "outputs": [],
   "source": [
    "docptr = []\n",
    "indptr = origin_freq_matrix.indptr\n",
    "for doc_num in xrange(D):\n",
    "    docptr.extend([doc_num] * (indptr[doc_num + 1] - indptr[doc_num]))\n",
    "docptr = np.array(docptr)\n",
    "\n",
    "_, _, gamma_wt = perform_obg_e_step_update(origin_freq_matrix, docptr, phi, theta, {'block_size': 50, 'return_gamma': True})"
   ]
  },
  {
   "cell_type": "code",
   "execution_count": 174,
   "metadata": {
    "collapsed": false,
    "scrolled": true
   },
   "outputs": [
    {
     "name": "stdout",
     "output_type": "stream",
     "text": [
      "0\n",
      "\tedu\t\tNN 8564.36217027\n",
      "\tnasa\t\tNN 3190.96532656\n",
      "\tcom\t\tNN 2757.36680011\n",
      "\tspace\t\tNN 1982.84022061\n",
      "\tgov\t\tNN 1540.23644999\n",
      "\tpitt\t\tNN 1266.01992897\n",
      "\tintellect\t\tNN 1197.62539326\n",
      "\tskepticism\t\tNN 1195.51258367\n",
      "\tjxp\t\tNN 1182.04833884\n",
      "\tchastity\t\tNN 1182.04833884\n",
      "\tgeb\t\tJJ 1164.75348173\n",
      "\tcadre\t\tNN 1164.75348173\n",
      "\tdsl\t\tNN 1164.75348173\n",
      "\tshameful\t\tJJ 1164.75348173\n",
      "\tsurrender\t\tVB 1164.75348173\n",
      "\tcs\t\tNN 849.023973048\n",
      "\tpub\t\tNN 844.895059329\n",
      "\tftp\t\tNN 816.953466977\n",
      "\tgif\t\tNN 761.480645123\n",
      "\tanonymous\t\tJJ 729.549520602\n",
      "1\n",
      "\tcancer\t\tNN 2076.88641653\n",
      "\thealth\t\tNN 1795.44655752\n",
      "\taids\t\tNN 1376.02944265\n",
      "\tdisease\t\tNN 1271.65409507\n",
      "\tchild\t\tNN 1246.95444269\n",
      "\tuse\t\tNN 1049.63937329\n",
      "\tmedical\t\tJJ 1017.13123865\n",
      "\tnumber\t\tNN 955.165195502\n",
      "\tclinical\t\tJJ 899.752167556\n",
      "\tpage\t\tNN 833.524744923\n",
      "\tapril\t\tNN 827.643243117\n",
      "\treport\t\tVB 810.060087456\n",
      "\tyear\t\tNN 792.949816491\n",
      "\tvolume\t\tNN 791.786527592\n",
      "\tcase\t\tNN 764.940694728\n",
      "\tnewsletter\t\tNN 714.096266712\n",
      "\tpatient\t\tNN 699.026558678\n",
      "\tcenter\t\tNN 694.861964928\n",
      "\tadult\t\tNN 678.012476739\n",
      "\tsafety\t\tNN 671.664769862\n",
      "2\n",
      "\tchip\t\tNN 2040.40143953\n",
      "\toutput\t\tNN 1779.52034393\n",
      "\tamp\t\tNN 1647.17930345\n",
      "\tcircuit\t\tNN 1461.27103662\n",
      "\tinput\t\tNN 1124.76259603\n",
      "\tget\t\tVB 1111.41978584\n",
      "\tvoltage\t\tNN 1069.87679675\n",
      "\telectronic\t\tNN 1025.91237435\n",
      "\tpin\t\tNN 963.354260521\n",
      "\tanyone\t\tNN 936.488780723\n",
      "\tused\t\tVB 920.011033905\n",
      "\tline\t\tNN 843.213562854\n",
      "\tthank\t\tNN 828.533434766\n",
      "\tpower\t\tNN 821.118500676\n",
      "\tknow\t\tVB 698.034645084\n",
      "\tdevice\t\tNN 691.767745668\n",
      "\tcurrent\t\tJJ 691.56237304\n",
      "\tuse\t\tVB 666.885446265\n",
      "\twork\t\tVB 663.714635309\n",
      "\tlogic\t\tNN 643.177883202\n",
      "3\n",
      "\tdoctor\t\tNN 3065.9830997\n",
      "\tpain\t\tNN 2318.66851392\n",
      "\tget\t\tVB 1421.79632064\n",
      "\tfood\t\tNN 1094.32692329\n",
      "\tperson\t\tNN 1023.45819075\n",
      "\tdiet\t\tNN 885.377531588\n",
      "\tthing\t\tNN 818.492444842\n",
      "\tthink\t\tVB 792.054054054\n",
      "\tseem\t\tVB 785.099918693\n",
      "\tsee\t\tVB 770.86344698\n",
      "\tyeast\t\tNN 752.063585745\n",
      "\tknow\t\tVB 749.388905264\n",
      "\tsay\t\tVB 723.04639805\n",
      "\ttake\t\tVB 718.281185907\n",
      "\tmuscle\t\tNN 702.145364335\n",
      "\tgo\t\tVB 701.585251241\n",
      "\treaction\t\tNN 700.222165924\n",
      "\tseizure\t\tNN 680.485013172\n",
      "\twant\t\tVB 636.915083715\n",
      "\tgood\t\tJJ 622.933277124\n",
      "4\n",
      "\twiring\t\tNN 1879.56258408\n",
      "\tlaunch\t\tNN 1754.48768845\n",
      "\tspace\t\tNN 1642.45232699\n",
      "\toutlet\t\tNN 1575.83578871\n",
      "\tneutral\t\tJJ 1449.18345253\n",
      "\tsatellite\t\tNN 1441.88265102\n",
      "\torbit\t\tNN 1427.28721288\n",
      "\tradar\t\tNN 1197.12989794\n",
      "\tvehicle\t\tNN 1138.26390639\n",
      "\tground\t\tVB 871.023675759\n",
      "\tmoon\t\tNN 842.286287347\n",
      "\ttower\t\tNN 825.317367407\n",
      "\tengine\t\tNN 822.263336439\n",
      "\tearth\t\tNN 815.778252117\n",
      "\trocket\t\tNN 813.755174875\n",
      "\tlaunch\t\tVB 809.189400497\n",
      "\twater\t\tNN 779.988793454\n",
      "\tlunar\t\tJJ 768.61079049\n",
      "\tground\t\tNN 735.087221128\n",
      "\tspacecraft\t\tNN 726.638948303\n"
     ]
    }
   ],
   "source": [
    "for t in xrange(T):\n",
    "    top = heapq.nlargest(20, range(W), key=lambda w: - gamma_wt[w, t])\n",
    "    print t\n",
    "    for w in top:\n",
    "        #print num_2_token[w].split('/')[0]\n",
    "        print '\\t', '\\t\\t'.join(num_2_token[w].split('/')), - gamma_wt[w, t]"
   ]
  },
  {
   "cell_type": "code",
   "execution_count": null,
   "metadata": {
    "collapsed": true
   },
   "outputs": [],
   "source": []
  },
  {
   "cell_type": "code",
   "execution_count": null,
   "metadata": {
    "collapsed": true
   },
   "outputs": [],
   "source": []
  },
  {
   "cell_type": "code",
   "execution_count": 190,
   "metadata": {
    "collapsed": false
   },
   "outputs": [
    {
     "name": "stdout",
     "output_type": "stream",
     "text": [
      "0\n",
      "L -820129.091744\n",
      "decorr 4.99198710326\n",
      "L + tau R -825121.078847\n",
      "Zeros 11135     1.0\n",
      "1\n",
      "L -818111.173474\n",
      "decorr 4.99199159384\n",
      "L + tau R -823103.165068\n",
      "Zeros 11135     1.0\n",
      "2\n",
      "L -816090.921796\n",
      "decorr 4.99187497768\n",
      "L + tau R -821082.796774\n",
      "Zeros 11135     1.0\n",
      "3\n",
      "L -813792.000583\n",
      "decorr 4.99164953404\n",
      "L + tau R -818783.650117\n",
      "Zeros 11135     1.0\n",
      "4\n",
      "L -811121.812905\n",
      "decorr 4.99131671405\n",
      "L + tau R -816113.129619\n",
      "Zeros 11135     1.0\n",
      "5\n",
      "L -808139.704861\n",
      "decorr 4.99089132035\n",
      "L + tau R -813130.596181\n",
      "Zeros 11135     1.0\n",
      "6\n",
      "L -805022.630912\n",
      "decorr 4.99040986683\n",
      "L + tau R -810013.040779\n",
      "Zeros 11135     1.0\n",
      "7\n",
      "L -801959.289089\n",
      "decorr 4.98991033879\n",
      "L + tau R -806949.199427\n",
      "Zeros 11135     1.0\n",
      "8\n",
      "L -799079.193635\n",
      "decorr 4.98941516691\n",
      "L + tau R -804068.608802\n",
      "Zeros 11135     1.0\n",
      "9\n",
      "L -796458.78254\n",
      "decorr 4.98894763393\n",
      "L + tau R -801447.730174\n",
      "Zeros 11135     1.0\n",
      "10\n",
      "L -794119.446614\n",
      "decorr 4.98853718137\n",
      "L + tau R -799107.983796\n",
      "Zeros 11135     1.0\n",
      "11\n",
      "L -792052.796105\n",
      "decorr 4.9881920709\n",
      "L + tau R -797040.988176\n",
      "Zeros 11135     1.0\n",
      "12\n",
      "L -790251.549815\n",
      "decorr 4.9879091432\n",
      "L + tau R -795239.458959\n",
      "Zeros 11134     1.0\n",
      "13\n",
      "L -788701.073921\n",
      "decorr 4.98768252353\n",
      "L + tau R -793688.756444\n",
      "Zeros 11132     1.0\n",
      "14\n",
      "L -787378.267781\n",
      "decorr 4.98750395263\n",
      "L + tau R -792365.771734\n",
      "Zeros 11122     1.0\n",
      "15\n",
      "L -786255.21566\n",
      "decorr 4.98736497451\n",
      "L + tau R -791242.580635\n",
      "Zeros 11112     1.0\n",
      "16\n",
      "L -785300.61551\n",
      "decorr 4.98725709822\n",
      "L + tau R -790287.872609\n",
      "Zeros 11096     1.0\n",
      "17\n",
      "L -784487.152409\n",
      "decorr 4.98717373536\n",
      "L + tau R -789474.326144\n",
      "Zeros 11079     0.99\n",
      "18\n",
      "L -783791.364053\n",
      "decorr 4.98711137208\n",
      "L + tau R -788778.475425\n",
      "Zeros 11056     0.99\n",
      "19\n",
      "L -783191.933249\n",
      "decorr 4.98706749013\n",
      "L + tau R -788179.000739\n",
      "Zeros 11034     0.99\n",
      "20\n",
      "L -782669.068467\n",
      "decorr 4.98703818575\n",
      "L + tau R -787656.106653\n",
      "Zeros 11018     0.99\n",
      "21\n",
      "L -782209.940901\n",
      "decorr 4.98701972659\n",
      "L + tau R -787196.960628\n",
      "Zeros 10984     0.99\n",
      "22\n",
      "L -781811.355809\n",
      "decorr 4.98700964009\n",
      "L + tau R -786798.365449\n",
      "Zeros 10950     0.98\n",
      "23\n",
      "L -781467.650469\n",
      "decorr 4.98700664116\n",
      "L + tau R -786454.65711\n",
      "Zeros 10906     0.98\n",
      "24\n",
      "L -781167.335546\n",
      "decorr 4.98700907738\n",
      "L + tau R -786154.344623\n",
      "Zeros 10872     0.98\n",
      "25\n",
      "L -780899.402783\n",
      "decorr 4.98701510656\n",
      "L + tau R -785886.417889\n",
      "Zeros 10824     0.97\n",
      "26\n",
      "L -780658.966252\n",
      "decorr 4.98702327776\n",
      "L + tau R -785645.98953\n",
      "Zeros 10761     0.97\n",
      "27\n",
      "L -780443.473502\n",
      "decorr 4.98703304805\n",
      "L + tau R -785430.506551\n",
      "Zeros 10705     0.96\n",
      "28\n",
      "L -780248.695407\n",
      "decorr 4.98704462448\n",
      "L + tau R -785235.740032\n",
      "Zeros 10638     0.96\n",
      "29\n",
      "L -780073.28332\n",
      "decorr 4.98705779171\n",
      "L + tau R -785060.341112\n",
      "Zeros 10565     0.95\n",
      "30\n"
     ]
    },
    {
     "data": {
      "image/png": "[encoded data removed]",
      "text/plain": [
       "<matplotlib.figure.Figure at 0x12dcd1d0>"
      ]
     },
     "metadata": {},
     "output_type": "display_data"
    },
    {
     "name": "stdout",
     "output_type": "stream",
     "text": [
      "L -779914.511758\n",
      "decorr 4.98707313065\n",
      "L + tau R -784901.584889\n",
      "Zeros 8195     0.74\n",
      "31\n"
     ]
    },
    {
     "data": {
      "image/png": "[encoded data removed]",
      "text/plain": [
       "<matplotlib.figure.Figure at 0xdf4e150>"
      ]
     },
     "metadata": {},
     "output_type": "display_data"
    },
    {
     "name": "stdout",
     "output_type": "stream",
     "text": [
      "L -779774.486352\n",
      "decorr 4.98708552445\n",
      "L + tau R -784761.571877\n",
      "Zeros 8131     0.73\n",
      "32\n"
     ]
    },
    {
     "data": {
      "image/png": "[encoded data removed]",
      "text/plain": [
       "<matplotlib.figure.Figure at 0x1256c8d0>"
      ]
     },
     "metadata": {},
     "output_type": "display_data"
    },
    {
     "name": "stdout",
     "output_type": "stream",
     "text": [
      "L -779636.057579\n",
      "decorr 4.98709618456\n",
      "L + tau R -784623.153764\n",
      "Zeros 8067     0.72\n",
      "33\n"
     ]
    },
    {
     "data": {
      "image/png": "[encoded data removed]",
      "text/plain": [
       "<matplotlib.figure.Figure at 0xdf48c10>"
      ]
     },
     "metadata": {},
     "output_type": "display_data"
    },
    {
     "name": "stdout",
     "output_type": "stream",
     "text": [
      "L -779490.632813\n",
      "decorr 4.98710742274\n",
      "L + tau R -784477.740235\n",
      "Zeros 8009     0.72\n",
      "34\n"
     ]
    },
    {
     "data": {
      "image/png": "[encoded data removed]",
      "text/plain": [
       "<matplotlib.figure.Figure at 0xc4ad5d0>"
      ]
     },
     "metadata": {},
     "output_type": "display_data"
    },
    {
     "name": "stdout",
     "output_type": "stream",
     "text": [
      "L -779343.795948\n",
      "decorr 4.9871159957\n",
      "L + tau R -784330.911943\n",
      "Zeros 7956     0.71\n",
      "35\n"
     ]
    },
    {
     "data": {
      "image/png": "[encoded data removed]",
      "text/plain": [
       "<matplotlib.figure.Figure at 0x115edad0>"
      ]
     },
     "metadata": {},
     "output_type": "display_data"
    },
    {
     "name": "stdout",
     "output_type": "stream",
     "text": [
      "L -779202.339957\n",
      "decorr 4.98711755466\n",
      "L + tau R -784189.457512\n",
      "Zeros 7897     0.71\n",
      "36\n"
     ]
    },
    {
     "data": {
      "image/png": "[encoded data removed]",
      "text/plain": [
       "<matplotlib.figure.Figure at 0xe9911d0>"
      ]
     },
     "metadata": {},
     "output_type": "display_data"
    },
    {
     "name": "stdout",
     "output_type": "stream",
     "text": [
      "L -779089.682718\n",
      "decorr 4.98712010953\n",
      "L + tau R -784076.802828\n",
      "Zeros 7846     0.7\n",
      "37\n"
     ]
    },
    {
     "data": {
      "image/png": "[encoded data removed]",
      "text/plain": [
       "<matplotlib.figure.Figure at 0x12db2e50>"
      ]
     },
     "metadata": {},
     "output_type": "display_data"
    },
    {
     "name": "stdout",
     "output_type": "stream",
     "text": [
      "L -778992.777392\n",
      "decorr 4.98712387556\n",
      "L + tau R -783979.901268\n",
      "Zeros 7799     0.7\n",
      "38\n"
     ]
    },
    {
     "data": {
      "image/png": "[encoded data removed]",
      "text/plain": [
       "<matplotlib.figure.Figure at 0xc765390>"
      ]
     },
     "metadata": {},
     "output_type": "display_data"
    },
    {
     "name": "stdout",
     "output_type": "stream",
     "text": [
      "L -778903.693672\n",
      "decorr 4.98712690807\n",
      "L + tau R -783890.82058\n",
      "Zeros 7751     0.7\n",
      "39\n"
     ]
    },
    {
     "data": {
      "image/png": "[encoded data removed]",
      "text/plain": [
       "<matplotlib.figure.Figure at 0x12ddc9d0>"
      ]
     },
     "metadata": {},
     "output_type": "display_data"
    },
    {
     "name": "stdout",
     "output_type": "stream",
     "text": [
      "L -778821.49363\n",
      "decorr 4.98712957046\n",
      "L + tau R -783808.6232\n",
      "Zeros 7708     0.69\n",
      "40\n"
     ]
    },
    {
     "data": {
      "image/png": "[encoded data removed]",
      "text/plain": [
       "<matplotlib.figure.Figure at 0x1456f690>"
      ]
     },
     "metadata": {},
     "output_type": "display_data"
    },
    {
     "name": "stdout",
     "output_type": "stream",
     "text": [
      "L -778746.616468\n",
      "decorr 4.98713113186\n",
      "L + tau R -783733.7476\n",
      "Zeros 7665     0.69\n",
      "41\n"
     ]
    },
    {
     "data": {
      "image/png": "[encoded data removed]",
      "text/plain": [
       "<matplotlib.figure.Figure at 0xb5fddd0>"
      ]
     },
     "metadata": {},
     "output_type": "display_data"
    },
    {
     "name": "stdout",
     "output_type": "stream",
     "text": [
      "L -778677.309521\n",
      "decorr 4.98713156461\n",
      "L + tau R -783664.441085\n",
      "Zeros 7622     0.68\n",
      "42\n"
     ]
    },
    {
     "data": {
      "image/png": "[encoded data removed]",
      "text/plain": [
       "<matplotlib.figure.Figure at 0xb15e8d0>"
      ]
     },
     "metadata": {},
     "output_type": "display_data"
    },
    {
     "name": "stdout",
     "output_type": "stream",
     "text": [
      "L -778614.38728\n",
      "decorr 4.98713148371\n",
      "L + tau R -783601.518764\n",
      "Zeros 7580     0.68\n",
      "43\n"
     ]
    },
    {
     "data": {
      "image/png": "[encoded data removed]",
      "text/plain": [
       "<matplotlib.figure.Figure at 0x1256c510>"
      ]
     },
     "metadata": {},
     "output_type": "display_data"
    },
    {
     "name": "stdout",
     "output_type": "stream",
     "text": [
      "L -778557.246991\n",
      "decorr 4.98713101183\n",
      "L + tau R -783544.378003\n",
      "Zeros 7539     0.68\n",
      "44\n"
     ]
    },
    {
     "data": {
      "image/png": "[encoded data removed]",
      "text/plain": [
       "<matplotlib.figure.Figure at 0x1e374b90>"
      ]
     },
     "metadata": {},
     "output_type": "display_data"
    },
    {
     "name": "stdout",
     "output_type": "stream",
     "text": [
      "L -778504.58566\n",
      "decorr 4.98713022794\n",
      "L + tau R -783491.715888\n",
      "Zeros 7500     0.67\n",
      "45\n"
     ]
    },
    {
     "data": {
      "image/png": "[encoded data removed]",
      "text/plain": [
       "<matplotlib.figure.Figure at 0x159a5290>"
      ]
     },
     "metadata": {},
     "output_type": "display_data"
    },
    {
     "name": "stdout",
     "output_type": "stream",
     "text": [
      "L -778458.576858\n",
      "decorr 4.98712986778\n",
      "L + tau R -783445.706726\n",
      "Zeros 7461     0.67\n",
      "46\n"
     ]
    },
    {
     "data": {
      "image/png": "[encoded data removed]",
      "text/plain": [
       "<matplotlib.figure.Figure at 0x115cedd0>"
      ]
     },
     "metadata": {},
     "output_type": "display_data"
    },
    {
     "name": "stdout",
     "output_type": "stream",
     "text": [
      "L -778417.697367\n",
      "decorr 4.98712885007\n",
      "L + tau R -783404.826217\n",
      "Zeros 7423     0.67\n",
      "47\n"
     ]
    },
    {
     "data": {
      "image/png": "[encoded data removed]",
      "text/plain": [
       "<matplotlib.figure.Figure at 0x1987c850>"
      ]
     },
     "metadata": {},
     "output_type": "display_data"
    },
    {
     "name": "stdout",
     "output_type": "stream",
     "text": [
      "L -778379.312253\n",
      "decorr 4.98712537189\n",
      "L + tau R -783366.437625\n",
      "Zeros 7383     0.66\n",
      "48\n"
     ]
    },
    {
     "data": {
      "image/png": "[encoded data removed]",
      "text/plain": [
       "<matplotlib.figure.Figure at 0x159a5210>"
      ]
     },
     "metadata": {},
     "output_type": "display_data"
    },
    {
     "name": "stdout",
     "output_type": "stream",
     "text": [
      "L -778348.874209\n",
      "decorr 4.98712237639\n",
      "L + tau R -783335.996586\n",
      "Zeros 7346     0.66\n",
      "49\n"
     ]
    },
    {
     "data": {
      "image/png": "[encoded data removed]",
      "text/plain": [
       "<matplotlib.figure.Figure at 0x1abeca90>"
      ]
     },
     "metadata": {},
     "output_type": "display_data"
    },
    {
     "name": "stdout",
     "output_type": "stream",
     "text": [
      "L -778324.065223\n",
      "decorr 4.98711695653\n",
      "L + tau R -783311.18218\n",
      "Zeros 7309     0.66\n",
      "50\n"
     ]
    },
    {
     "data": {
      "image/png": "[encoded data removed]",
      "text/plain": [
       "<matplotlib.figure.Figure at 0xe0682d0>"
      ]
     },
     "metadata": {},
     "output_type": "display_data"
    },
    {
     "name": "stdout",
     "output_type": "stream",
     "text": [
      "L -778303.087319\n",
      "decorr 4.98711138779\n",
      "L + tau R -783290.198707\n",
      "Zeros 7272     0.65\n",
      "51\n"
     ]
    },
    {
     "data": {
      "image/png": "[encoded data removed]",
      "text/plain": [
       "<matplotlib.figure.Figure at 0x1abecbd0>"
      ]
     },
     "metadata": {},
     "output_type": "display_data"
    },
    {
     "name": "stdout",
     "output_type": "stream",
     "text": [
      "L -778286.232023\n",
      "decorr 4.98710499364\n",
      "L + tau R -783273.337016\n",
      "Zeros 7235     0.65\n",
      "52\n"
     ]
    },
    {
     "data": {
      "image/png": "[encoded data removed]",
      "text/plain": [
       "<matplotlib.figure.Figure at 0x1abecd10>"
      ]
     },
     "metadata": {},
     "output_type": "display_data"
    },
    {
     "name": "stdout",
     "output_type": "stream",
     "text": [
      "L -778271.950406\n",
      "decorr 4.98709711425\n",
      "L + tau R -783259.04752\n",
      "Zeros 7198     0.65\n",
      "53\n"
     ]
    },
    {
     "data": {
      "image/png": "[encoded data removed]",
      "text/plain": [
       "<matplotlib.figure.Figure at 0x195de150>"
      ]
     },
     "metadata": {},
     "output_type": "display_data"
    },
    {
     "name": "stdout",
     "output_type": "stream",
     "text": [
      "L -778261.261574\n",
      "decorr 4.98708857831\n",
      "L + tau R -783248.350153\n",
      "Zeros 7162     0.64\n",
      "54\n"
     ]
    },
    {
     "data": {
      "image/png": "[encoded data removed]",
      "text/plain": [
       "<matplotlib.figure.Figure at 0xc765bd0>"
      ]
     },
     "metadata": {},
     "output_type": "display_data"
    },
    {
     "name": "stdout",
     "output_type": "stream",
     "text": [
      "L -778252.992542\n",
      "decorr 4.98707818881\n",
      "L + tau R -783240.07073\n",
      "Zeros 7126     0.64\n",
      "55\n"
     ]
    },
    {
     "data": {
      "image/png": "[encoded data removed]",
      "text/plain": [
       "<matplotlib.figure.Figure at 0x198abd50>"
      ]
     },
     "metadata": {},
     "output_type": "display_data"
    },
    {
     "name": "stdout",
     "output_type": "stream",
     "text": [
      "L -778249.213294\n",
      "decorr 4.98706832113\n",
      "L + tau R -783236.281616\n",
      "Zeros 7090     0.64\n",
      "56\n"
     ]
    },
    {
     "data": {
      "image/png": "[encoded data removed]",
      "text/plain": [
       "<matplotlib.figure.Figure at 0x14567050>"
      ]
     },
     "metadata": {},
     "output_type": "display_data"
    },
    {
     "name": "stdout",
     "output_type": "stream",
     "text": [
      "L -778245.308189\n",
      "decorr 4.98705204895\n",
      "L + tau R -783232.360238\n",
      "Zeros 7054     0.63\n",
      "57\n"
     ]
    },
    {
     "data": {
      "image/png": "[encoded data removed]",
      "text/plain": [
       "<matplotlib.figure.Figure at 0x115e7190>"
      ]
     },
     "metadata": {},
     "output_type": "display_data"
    },
    {
     "name": "stdout",
     "output_type": "stream",
     "text": [
      "L -778246.157459\n",
      "decorr 4.9870359014\n",
      "L + tau R -783233.19336\n",
      "Zeros 7018     0.63\n",
      "58\n"
     ]
    },
    {
     "data": {
      "image/png": "[encoded data removed]",
      "text/plain": [
       "<matplotlib.figure.Figure at 0xb174a50>"
      ]
     },
     "metadata": {},
     "output_type": "display_data"
    },
    {
     "name": "stdout",
     "output_type": "stream",
     "text": [
      "L -778248.52253\n",
      "decorr 4.98701565328\n",
      "L + tau R -783235.538183\n",
      "Zeros 6982     0.63\n",
      "59\n"
     ]
    },
    {
     "data": {
      "image/png": "[encoded data removed]",
      "text/plain": [
       "<matplotlib.figure.Figure at 0x14ddac90>"
      ]
     },
     "metadata": {},
     "output_type": "display_data"
    },
    {
     "name": "stdout",
     "output_type": "stream",
     "text": [
      "L -778253.528422\n",
      "decorr 4.98699653129\n",
      "L + tau R -783240.524954\n",
      "Zeros 6947     0.62\n",
      "60\n"
     ]
    },
    {
     "data": {
      "image/png": "[encoded data removed]",
      "text/plain": [
       "<matplotlib.figure.Figure at 0x94ecc10>"
      ]
     },
     "metadata": {},
     "output_type": "display_data"
    },
    {
     "name": "stdout",
     "output_type": "stream",
     "text": [
      "L -778261.922903\n",
      "decorr 4.98697863011\n",
      "L + tau R -783248.901533\n",
      "Zeros 6912     0.62\n",
      "61\n"
     ]
    },
    {
     "data": {
      "image/png": "[encoded data removed]",
      "text/plain": [
       "<matplotlib.figure.Figure at 0x17460510>"
      ]
     },
     "metadata": {},
     "output_type": "display_data"
    },
    {
     "name": "stdout",
     "output_type": "stream",
     "text": [
      "L -778266.729684\n",
      "decorr 4.98695410598\n",
      "L + tau R -783253.68379\n",
      "Zeros 6877     0.62\n",
      "62\n"
     ]
    },
    {
     "data": {
      "image/png": "[encoded data removed]",
      "text/plain": [
       "<matplotlib.figure.Figure at 0x12de0290>"
      ]
     },
     "metadata": {},
     "output_type": "display_data"
    },
    {
     "name": "stdout",
     "output_type": "stream",
     "text": [
      "L -778286.499288\n",
      "decorr 4.98692863485\n",
      "L + tau R -783273.427923\n",
      "Zeros 6842     0.61\n",
      "63\n"
     ]
    },
    {
     "data": {
      "image/png": "[encoded data removed]",
      "text/plain": [
       "<matplotlib.figure.Figure at 0xd879b90>"
      ]
     },
     "metadata": {},
     "output_type": "display_data"
    },
    {
     "name": "stdout",
     "output_type": "stream",
     "text": [
      "L -778293.512807\n",
      "decorr 4.98690314816\n",
      "L + tau R -783280.415955\n",
      "Zeros 6807     0.61\n",
      "64\n"
     ]
    },
    {
     "data": {
      "image/png": "[encoded data removed]",
      "text/plain": [
       "<matplotlib.figure.Figure at 0xb174510>"
      ]
     },
     "metadata": {},
     "output_type": "display_data"
    },
    {
     "name": "stdout",
     "output_type": "stream",
     "text": [
      "L -778309.218915\n",
      "decorr 4.98687347032\n",
      "L + tau R -783296.092386\n",
      "Zeros 6772     0.61\n",
      "65\n"
     ]
    },
    {
     "data": {
      "image/png": "[encoded data removed]",
      "text/plain": [
       "<matplotlib.figure.Figure at 0xb634310>"
      ]
     },
     "metadata": {},
     "output_type": "display_data"
    },
    {
     "name": "stdout",
     "output_type": "stream",
     "text": [
      "L -778327.127593\n",
      "decorr 4.98684303194\n",
      "L + tau R -783313.970625\n",
      "Zeros 6738     0.61\n",
      "66\n"
     ]
    },
    {
     "data": {
      "image/png": "[encoded data removed]",
      "text/plain": [
       "<matplotlib.figure.Figure at 0xe098850>"
      ]
     },
     "metadata": {},
     "output_type": "display_data"
    },
    {
     "name": "stdout",
     "output_type": "stream",
     "text": [
      "L -778345.728371\n",
      "decorr 4.98681501362\n",
      "L + tau R -783332.543384\n",
      "Zeros 6704     0.6\n",
      "67\n"
     ]
    },
    {
     "data": {
      "image/png": "[encoded data removed]",
      "text/plain": [
       "<matplotlib.figure.Figure at 0xd886510>"
      ]
     },
     "metadata": {},
     "output_type": "display_data"
    },
    {
     "name": "stdout",
     "output_type": "stream",
     "text": [
      "L -778369.680287\n",
      "decorr 4.98678777201\n",
      "L + tau R -783356.468059\n",
      "Zeros 6670     0.6\n",
      "68\n"
     ]
    },
    {
     "data": {
      "image/png": "[encoded data removed]",
      "text/plain": [
       "<matplotlib.figure.Figure at 0x185d3390>"
      ]
     },
     "metadata": {},
     "output_type": "display_data"
    },
    {
     "name": "stdout",
     "output_type": "stream",
     "text": [
      "L -778420.238896\n",
      "decorr 4.98676323872\n",
      "L + tau R -783407.002135\n",
      "Zeros 6636     0.6\n",
      "69\n"
     ]
    },
    {
     "data": {
      "image/png": "[encoded data removed]",
      "text/plain": [
       "<matplotlib.figure.Figure at 0xb606850>"
      ]
     },
     "metadata": {},
     "output_type": "display_data"
    },
    {
     "name": "stdout",
     "output_type": "stream",
     "text": [
      "L -778443.020327\n",
      "decorr 4.98673411642\n",
      "L + tau R -783429.754444\n",
      "Zeros 6602     0.59\n",
      "70\n"
     ]
    },
    {
     "data": {
      "image/png": "[encoded data removed]",
      "text/plain": [
       "<matplotlib.figure.Figure at 0xb60ea50>"
      ]
     },
     "metadata": {},
     "output_type": "display_data"
    },
    {
     "name": "stdout",
     "output_type": "stream",
     "text": [
      "L -778479.063459\n",
      "decorr 4.98670864876\n",
      "L + tau R -783465.772108\n",
      "Zeros 6568     0.59\n",
      "71\n"
     ]
    },
    {
     "data": {
      "image/png": "[encoded data removed]",
      "text/plain": [
       "<matplotlib.figure.Figure at 0xb163b50>"
      ]
     },
     "metadata": {},
     "output_type": "display_data"
    },
    {
     "name": "stdout",
     "output_type": "stream",
     "text": [
      "L -778509.883072\n",
      "decorr 4.98668697734\n",
      "L + tau R -783496.570049\n",
      "Zeros 6535     0.59\n",
      "72\n"
     ]
    },
    {
     "data": {
      "image/png": "[encoded data removed]",
      "text/plain": [
       "<matplotlib.figure.Figure at 0x19871450>"
      ]
     },
     "metadata": {},
     "output_type": "display_data"
    },
    {
     "name": "stdout",
     "output_type": "stream",
     "text": [
      "L -778540.545276\n",
      "decorr 4.98665583076\n",
      "L + tau R -783527.201107\n",
      "Zeros 6502     0.58\n",
      "73\n"
     ]
    },
    {
     "data": {
      "image/png": "[encoded data removed]",
      "text/plain": [
       "<matplotlib.figure.Figure at 0xd86d810>"
      ]
     },
     "metadata": {},
     "output_type": "display_data"
    },
    {
     "name": "stdout",
     "output_type": "stream",
     "text": [
      "L -778584.342646\n",
      "decorr 4.9866298102\n",
      "L + tau R -783570.972456\n",
      "Zeros 6469     0.58\n",
      "74\n"
     ]
    },
    {
     "data": {
      "image/png": "[encoded data removed]",
      "text/plain": [
       "<matplotlib.figure.Figure at 0xc4a70d0>"
      ]
     },
     "metadata": {},
     "output_type": "display_data"
    },
    {
     "name": "stdout",
     "output_type": "stream",
     "text": [
      "L -778629.81088\n",
      "decorr 4.98660048776\n",
      "L + tau R -783616.411368\n",
      "Zeros 6436     0.58\n",
      "75\n"
     ]
    },
    {
     "data": {
      "image/png": "[encoded data removed]",
      "text/plain": [
       "<matplotlib.figure.Figure at 0x1e348d10>"
      ]
     },
     "metadata": {},
     "output_type": "display_data"
    },
    {
     "name": "stdout",
     "output_type": "stream",
     "text": [
      "L -778695.079655\n",
      "decorr 4.98657912682\n",
      "L + tau R -783681.658782\n",
      "Zeros 6403     0.58\n",
      "76\n"
     ]
    },
    {
     "data": {
      "image/png": "[encoded data removed]",
      "text/plain": [
       "<matplotlib.figure.Figure at 0x11e95b90>"
      ]
     },
     "metadata": {},
     "output_type": "display_data"
    },
    {
     "name": "stdout",
     "output_type": "stream",
     "text": [
      "L -778753.629494\n",
      "decorr 4.98655315242\n",
      "L + tau R -783740.182646\n",
      "Zeros 6370     0.57\n",
      "77\n"
     ]
    },
    {
     "data": {
      "image/png": "[encoded data removed]",
      "text/plain": [
       "<matplotlib.figure.Figure at 0x195f9fd0>"
      ]
     },
     "metadata": {},
     "output_type": "display_data"
    },
    {
     "name": "stdout",
     "output_type": "stream",
     "text": [
      "L -778812.58588\n",
      "decorr 4.98652961759\n",
      "L + tau R -783799.115498\n",
      "Zeros 6338     0.57\n",
      "78\n"
     ]
    },
    {
     "data": {
      "image/png": "[encoded data removed]",
      "text/plain": [
       "<matplotlib.figure.Figure at 0x12567890>"
      ]
     },
     "metadata": {},
     "output_type": "display_data"
    },
    {
     "name": "stdout",
     "output_type": "stream",
     "text": [
      "L -778865.55685\n",
      "decorr 4.98650035111\n",
      "L + tau R -783852.057201\n",
      "Zeros 6306     0.57\n",
      "79\n"
     ]
    },
    {
     "data": {
      "image/png": "[encoded data removed]",
      "text/plain": [
       "<matplotlib.figure.Figure at 0x12db3510>"
      ]
     },
     "metadata": {},
     "output_type": "display_data"
    },
    {
     "name": "stdout",
     "output_type": "stream",
     "text": [
      "L -778949.327673\n",
      "decorr 4.98647554389\n",
      "L + tau R -783935.803217\n",
      "Zeros 6274     0.56\n",
      "80\n"
     ]
    },
    {
     "data": {
      "image/png": "[encoded data removed]",
      "text/plain": [
       "<matplotlib.figure.Figure at 0xb637090>"
      ]
     },
     "metadata": {},
     "output_type": "display_data"
    },
    {
     "name": "stdout",
     "output_type": "stream",
     "text": [
      "L -779058.213685\n",
      "decorr 4.98645162568\n",
      "L + tau R -784044.665311\n",
      "Zeros 6242     0.56\n",
      "81\n"
     ]
    },
    {
     "data": {
      "image/png": "[encoded data removed]",
      "text/plain": [
       "<matplotlib.figure.Figure at 0x1ac1a890>"
      ]
     },
     "metadata": {},
     "output_type": "display_data"
    },
    {
     "name": "stdout",
     "output_type": "stream",
     "text": [
      "L -779096.813141\n",
      "decorr 4.98643810649\n",
      "L + tau R -784083.251248\n",
      "Zeros 6210     0.56\n",
      "82\n"
     ]
    },
    {
     "data": {
      "image/png": "[encoded data removed]",
      "text/plain": [
       "<matplotlib.figure.Figure at 0x1e342790>"
      ]
     },
     "metadata": {},
     "output_type": "display_data"
    },
    {
     "name": "stdout",
     "output_type": "stream",
     "text": [
      "L -779188.966037\n",
      "decorr 4.98640686669\n",
      "L + tau R -784175.372903\n",
      "Zeros 6178     0.55\n",
      "83\n"
     ]
    },
    {
     "data": {
      "image/png": "[encoded data removed]",
      "text/plain": [
       "<matplotlib.figure.Figure at 0xdf48110>"
      ]
     },
     "metadata": {},
     "output_type": "display_data"
    },
    {
     "name": "stdout",
     "output_type": "stream",
     "text": [
      "L -779247.299832\n",
      "decorr 4.98637871963\n",
      "L + tau R -784233.678552\n",
      "Zeros 6147     0.55\n",
      "84\n"
     ]
    },
    {
     "data": {
      "image/png": "[encoded data removed]",
      "text/plain": [
       "<matplotlib.figure.Figure at 0xb613210>"
      ]
     },
     "metadata": {},
     "output_type": "display_data"
    },
    {
     "name": "stdout",
     "output_type": "stream",
     "text": [
      "L -779323.281939\n",
      "decorr 4.98635510145\n",
      "L + tau R -784309.63704\n",
      "Zeros 6116     0.55\n",
      "85\n"
     ]
    },
    {
     "data": {
      "image/png": "[encoded data removed]",
      "text/plain": [
       "<matplotlib.figure.Figure at 0x12db5310>"
      ]
     },
     "metadata": {},
     "output_type": "display_data"
    },
    {
     "name": "stdout",
     "output_type": "stream",
     "text": [
      "L -779443.493143\n",
      "decorr 4.98632291896\n",
      "L + tau R -784429.816062\n",
      "Zeros 6085     0.55\n",
      "86\n"
     ]
    },
    {
     "data": {
      "image/png": "[encoded data removed]",
      "text/plain": [
       "<matplotlib.figure.Figure at 0x1c31ded0>"
      ]
     },
     "metadata": {},
     "output_type": "display_data"
    },
    {
     "name": "stdout",
     "output_type": "stream",
     "text": [
      "L -779520.438723\n",
      "decorr 4.98630099202\n",
      "L + tau R -784506.739715\n",
      "Zeros 6054     0.54\n",
      "87\n"
     ]
    },
    {
     "data": {
      "image/png": "[encoded data removed]",
      "text/plain": [
       "<matplotlib.figure.Figure at 0xc74d750>"
      ]
     },
     "metadata": {},
     "output_type": "display_data"
    },
    {
     "name": "stdout",
     "output_type": "stream",
     "text": [
      "L -779619.632639\n",
      "decorr 4.98627953853\n",
      "L + tau R -784605.912177\n",
      "Zeros 6023     0.54\n",
      "88\n"
     ]
    },
    {
     "data": {
      "image/png": "[encoded data removed]",
      "text/plain": [
       "<matplotlib.figure.Figure at 0x115c6ed0>"
      ]
     },
     "metadata": {},
     "output_type": "display_data"
    },
    {
     "name": "stdout",
     "output_type": "stream",
     "text": [
      "L -779762.2567\n",
      "decorr 4.98624540297\n",
      "L + tau R -784748.502103\n",
      "Zeros 5992     0.54\n",
      "89\n"
     ]
    },
    {
     "data": {
      "image/png": "[encoded data removed]",
      "text/plain": [
       "<matplotlib.figure.Figure at 0xb157950>"
      ]
     },
     "metadata": {},
     "output_type": "display_data"
    },
    {
     "name": "stdout",
     "output_type": "stream",
     "text": [
      "L -779876.268843\n",
      "decorr 4.98623162053\n",
      "L + tau R -784862.500463\n",
      "Zeros 5962     0.54\n",
      "90\n"
     ]
    },
    {
     "data": {
      "image/png": "[encoded data removed]",
      "text/plain": [
       "<matplotlib.figure.Figure at 0x115bef50>"
      ]
     },
     "metadata": {},
     "output_type": "display_data"
    },
    {
     "name": "stdout",
     "output_type": "stream",
     "text": [
      "L -780071.379632\n",
      "decorr 4.98621347462\n",
      "L + tau R -785057.593107\n",
      "Zeros 5932     0.53\n",
      "91\n"
     ]
    },
    {
     "data": {
      "image/png": "[encoded data removed]",
      "text/plain": [
       "<matplotlib.figure.Figure at 0xb14dd50>"
      ]
     },
     "metadata": {},
     "output_type": "display_data"
    },
    {
     "name": "stdout",
     "output_type": "stream",
     "text": [
      "L -780314.6151\n",
      "decorr 4.98618910001\n",
      "L + tau R -785300.8042\n",
      "Zeros 5902     0.53\n",
      "92\n"
     ]
    },
    {
     "data": {
      "image/png": "[encoded data removed]",
      "text/plain": [
       "<matplotlib.figure.Figure at 0xb625f90>"
      ]
     },
     "metadata": {},
     "output_type": "display_data"
    },
    {
     "name": "stdout",
     "output_type": "stream",
     "text": [
      "L nan\n",
      "decorr 4.98617187418\n",
      "L + tau R nan\n",
      "Zeros 5872     0.53\n",
      "93\n"
     ]
    },
    {
     "ename": "IndexError",
     "evalue": "cannot do a non-empty take from an empty axes.",
     "output_type": "error",
     "traceback": [
      "\u001b[1;31m---------------------------------------------------------------------------\u001b[0m",
      "\u001b[1;31mIndexError\u001b[0m                                Traceback (most recent call last)",
      "\u001b[1;32m<ipython-input-190-ba99d20261a1>\u001b[0m in \u001b[0;36m<module>\u001b[1;34m()\u001b[0m\n\u001b[0;32m     44\u001b[0m     \u001b[0mregularizations_list\u001b[0m\u001b[1;33m=\u001b[0m\u001b[0mregularizations_list\u001b[0m\u001b[1;33m,\u001b[0m\u001b[1;33m\u001b[0m\u001b[0m\n\u001b[0;32m     45\u001b[0m     \u001b[0mparams_list\u001b[0m\u001b[1;33m=\u001b[0m\u001b[0mparams_list\u001b[0m\u001b[1;33m,\u001b[0m\u001b[1;33m\u001b[0m\u001b[0m\n\u001b[1;32m---> 46\u001b[1;33m     \u001b[0miters_count\u001b[0m\u001b[1;33m=\u001b[0m\u001b[1;36m450\u001b[0m\u001b[1;33m\u001b[0m\u001b[0m\n\u001b[0m\u001b[0;32m     47\u001b[0m )\n",
      "\u001b[1;32m<ipython-input-46-3d04e86849fe>\u001b[0m in \u001b[0;36mlaunch_em\u001b[1;34m(freq_matrix, phi_matrix, theta_matrix, logger, regularizations_list, params_list, iters_count)\u001b[0m\n\u001b[0;32m     18\u001b[0m     \u001b[1;32mfor\u001b[0m \u001b[0mit\u001b[0m \u001b[1;32min\u001b[0m \u001b[0mxrange\u001b[0m\u001b[1;33m(\u001b[0m\u001b[0miters_count\u001b[0m\u001b[1;33m)\u001b[0m\u001b[1;33m:\u001b[0m\u001b[1;33m\u001b[0m\u001b[0m\n\u001b[0;32m     19\u001b[0m         \u001b[1;32mprint\u001b[0m \u001b[0mit\u001b[0m\u001b[1;33m\u001b[0m\u001b[0m\n\u001b[1;32m---> 20\u001b[1;33m         \u001b[0mn_wt\u001b[0m\u001b[1;33m,\u001b[0m \u001b[0mn_dt\u001b[0m \u001b[1;33m=\u001b[0m \u001b[0mparams_list\u001b[0m\u001b[1;33m[\u001b[0m\u001b[0mit\u001b[0m\u001b[1;33m]\u001b[0m\u001b[1;33m[\u001b[0m\u001b[1;34m'method'\u001b[0m\u001b[1;33m]\u001b[0m\u001b[1;33m(\u001b[0m\u001b[0mfreq_matrix\u001b[0m\u001b[1;33m,\u001b[0m \u001b[0mdocptr\u001b[0m\u001b[1;33m,\u001b[0m \u001b[0mphi_matrix\u001b[0m\u001b[1;33m,\u001b[0m \u001b[0mtheta_matrix\u001b[0m\u001b[1;33m,\u001b[0m \u001b[0mparams_list\u001b[0m\u001b[1;33m[\u001b[0m\u001b[0mit\u001b[0m\u001b[1;33m]\u001b[0m\u001b[1;33m)\u001b[0m\u001b[1;33m\u001b[0m\u001b[0m\n\u001b[0m\u001b[0;32m     21\u001b[0m         \u001b[0mr_wt\u001b[0m\u001b[1;33m,\u001b[0m \u001b[0mr_dt\u001b[0m \u001b[1;33m=\u001b[0m \u001b[0mregularizations_list\u001b[0m\u001b[1;33m[\u001b[0m\u001b[0mit\u001b[0m\u001b[1;33m]\u001b[0m\u001b[1;33m(\u001b[0m\u001b[0mn_wt\u001b[0m\u001b[1;33m,\u001b[0m \u001b[0mn_dt\u001b[0m\u001b[1;33m,\u001b[0m \u001b[0mphi_matrix\u001b[0m\u001b[1;33m,\u001b[0m \u001b[0mtheta_matrix\u001b[0m\u001b[1;33m)\u001b[0m\u001b[1;33m\u001b[0m\u001b[0m\n\u001b[0;32m     22\u001b[0m         \u001b[0mn_wt\u001b[0m \u001b[1;33m=\u001b[0m \u001b[0mnp\u001b[0m\u001b[1;33m.\u001b[0m\u001b[0mmaximum\u001b[0m\u001b[1;33m(\u001b[0m\u001b[0mn_wt\u001b[0m \u001b[1;33m+\u001b[0m \u001b[0mr_wt\u001b[0m\u001b[1;33m,\u001b[0m \u001b[1;36m0\u001b[0m\u001b[1;33m)\u001b[0m\u001b[1;33m\u001b[0m\u001b[0m\n",
      "\u001b[1;32m<ipython-input-189-b99d673b34e8>\u001b[0m in \u001b[0;36mperform_obg_e_step_update\u001b[1;34m(freq_matrix, docptr, phi_matrix, theta_matrix, params)\u001b[0m\n\u001b[0;32m     45\u001b[0m     \u001b[0mbeta_t\u001b[0m \u001b[1;33m=\u001b[0m \u001b[0mnp\u001b[0m\u001b[1;33m.\u001b[0m\u001b[0msum\u001b[0m\u001b[1;33m(\u001b[0m\u001b[0mbeta_wt\u001b[0m\u001b[1;33m,\u001b[0m \u001b[0maxis\u001b[0m\u001b[1;33m=\u001b[0m\u001b[1;36m0\u001b[0m\u001b[1;33m)\u001b[0m\u001b[1;33m\u001b[0m\u001b[0m\n\u001b[0;32m     46\u001b[0m     \u001b[0mgamma_wt\u001b[0m \u001b[1;33m=\u001b[0m \u001b[0malpha_wt\u001b[0m \u001b[1;33m+\u001b[0m \u001b[0mtransposed_phi_matrix\u001b[0m \u001b[1;33m*\u001b[0m \u001b[1;33m(\u001b[0m\u001b[1;36m1.\u001b[0m \u001b[1;33m-\u001b[0m \u001b[0mtransposed_phi_matrix\u001b[0m\u001b[1;33m)\u001b[0m \u001b[1;33m*\u001b[0m \u001b[1;33m(\u001b[0m\u001b[0mbeta_t\u001b[0m\u001b[1;33m[\u001b[0m\u001b[0mnp\u001b[0m\u001b[1;33m.\u001b[0m\u001b[0mnewaxis\u001b[0m\u001b[1;33m,\u001b[0m \u001b[1;33m:\u001b[0m\u001b[1;33m]\u001b[0m \u001b[1;33m-\u001b[0m \u001b[0mbeta_wt\u001b[0m\u001b[1;33m)\u001b[0m\u001b[1;33m\u001b[0m\u001b[0m\n\u001b[1;32m---> 47\u001b[1;33m     \u001b[0mbound\u001b[0m \u001b[1;33m=\u001b[0m \u001b[0mnp\u001b[0m\u001b[1;33m.\u001b[0m\u001b[0mpercentile\u001b[0m\u001b[1;33m(\u001b[0m\u001b[0mgamma_wt\u001b[0m\u001b[1;33m[\u001b[0m\u001b[0mgamma_wt\u001b[0m \u001b[1;33m<\u001b[0m \u001b[1;36m0\u001b[0m\u001b[1;33m]\u001b[0m\u001b[1;33m,\u001b[0m \u001b[0mpercentile\u001b[0m\u001b[1;33m)\u001b[0m\u001b[1;33m\u001b[0m\u001b[0m\n\u001b[0m\u001b[0;32m     48\u001b[0m     \u001b[0mn_wt\u001b[0m\u001b[1;33m[\u001b[0m\u001b[0mgamma_wt\u001b[0m \u001b[1;33m>\u001b[0m \u001b[0mbound\u001b[0m\u001b[1;33m]\u001b[0m \u001b[1;33m=\u001b[0m \u001b[1;36m0.\u001b[0m\u001b[1;33m\u001b[0m\u001b[0m\n\u001b[0;32m     49\u001b[0m \u001b[1;33m\u001b[0m\u001b[0m\n",
      "\u001b[1;32m/usr/share/python/yandex-ydf-toolbox/local/lib/python2.7/site-packages/numpy/lib/function_base.pyc\u001b[0m in \u001b[0;36mpercentile\u001b[1;34m(a, q, axis, out, overwrite_input, interpolation, keepdims)\u001b[0m\n\u001b[0;32m   3266\u001b[0m     r, k = _ureduce(a, func=_percentile, q=q, axis=axis, out=out,\n\u001b[0;32m   3267\u001b[0m                     \u001b[0moverwrite_input\u001b[0m\u001b[1;33m=\u001b[0m\u001b[0moverwrite_input\u001b[0m\u001b[1;33m,\u001b[0m\u001b[1;33m\u001b[0m\u001b[0m\n\u001b[1;32m-> 3268\u001b[1;33m                     interpolation=interpolation)\n\u001b[0m\u001b[0;32m   3269\u001b[0m     \u001b[1;32mif\u001b[0m \u001b[0mkeepdims\u001b[0m\u001b[1;33m:\u001b[0m\u001b[1;33m\u001b[0m\u001b[0m\n\u001b[0;32m   3270\u001b[0m         \u001b[1;32mif\u001b[0m \u001b[0mq\u001b[0m\u001b[1;33m.\u001b[0m\u001b[0mndim\u001b[0m \u001b[1;33m==\u001b[0m \u001b[1;36m0\u001b[0m\u001b[1;33m:\u001b[0m\u001b[1;33m\u001b[0m\u001b[0m\n",
      "\u001b[1;32m/usr/share/python/yandex-ydf-toolbox/local/lib/python2.7/site-packages/numpy/lib/function_base.pyc\u001b[0m in \u001b[0;36m_ureduce\u001b[1;34m(a, func, **kwargs)\u001b[0m\n\u001b[0;32m   2995\u001b[0m         \u001b[0mkeepdim\u001b[0m \u001b[1;33m=\u001b[0m \u001b[1;33m[\u001b[0m\u001b[1;36m1\u001b[0m\u001b[1;33m]\u001b[0m \u001b[1;33m*\u001b[0m \u001b[0ma\u001b[0m\u001b[1;33m.\u001b[0m\u001b[0mndim\u001b[0m\u001b[1;33m\u001b[0m\u001b[0m\n\u001b[0;32m   2996\u001b[0m \u001b[1;33m\u001b[0m\u001b[0m\n\u001b[1;32m-> 2997\u001b[1;33m     \u001b[0mr\u001b[0m \u001b[1;33m=\u001b[0m \u001b[0mfunc\u001b[0m\u001b[1;33m(\u001b[0m\u001b[0ma\u001b[0m\u001b[1;33m,\u001b[0m \u001b[1;33m**\u001b[0m\u001b[0mkwargs\u001b[0m\u001b[1;33m)\u001b[0m\u001b[1;33m\u001b[0m\u001b[0m\n\u001b[0m\u001b[0;32m   2998\u001b[0m     \u001b[1;32mreturn\u001b[0m \u001b[0mr\u001b[0m\u001b[1;33m,\u001b[0m \u001b[0mkeepdim\u001b[0m\u001b[1;33m\u001b[0m\u001b[0m\n\u001b[0;32m   2999\u001b[0m \u001b[1;33m\u001b[0m\u001b[0m\n",
      "\u001b[1;32m/usr/share/python/yandex-ydf-toolbox/local/lib/python2.7/site-packages/numpy/lib/function_base.pyc\u001b[0m in \u001b[0;36m_percentile\u001b[1;34m(a, q, axis, out, overwrite_input, interpolation, keepdims)\u001b[0m\n\u001b[0;32m   3383\u001b[0m             \u001b[0mn\u001b[0m \u001b[1;33m=\u001b[0m \u001b[0mnp\u001b[0m\u001b[1;33m.\u001b[0m\u001b[0misnan\u001b[0m\u001b[1;33m(\u001b[0m\u001b[0map\u001b[0m\u001b[1;33m[\u001b[0m\u001b[1;33m-\u001b[0m\u001b[1;36m1\u001b[0m\u001b[1;33m:\u001b[0m\u001b[1;33m,\u001b[0m \u001b[1;33m.\u001b[0m\u001b[1;33m.\u001b[0m\u001b[1;33m.\u001b[0m\u001b[1;33m]\u001b[0m\u001b[1;33m)\u001b[0m\u001b[1;33m\u001b[0m\u001b[0m\n\u001b[0;32m   3384\u001b[0m \u001b[1;33m\u001b[0m\u001b[0m\n\u001b[1;32m-> 3385\u001b[1;33m         \u001b[0mx1\u001b[0m \u001b[1;33m=\u001b[0m \u001b[0mtake\u001b[0m\u001b[1;33m(\u001b[0m\u001b[0map\u001b[0m\u001b[1;33m,\u001b[0m \u001b[0mindices_below\u001b[0m\u001b[1;33m,\u001b[0m \u001b[0maxis\u001b[0m\u001b[1;33m=\u001b[0m\u001b[0maxis\u001b[0m\u001b[1;33m)\u001b[0m \u001b[1;33m*\u001b[0m \u001b[0mweights_below\u001b[0m\u001b[1;33m\u001b[0m\u001b[0m\n\u001b[0m\u001b[0;32m   3386\u001b[0m         \u001b[0mx2\u001b[0m \u001b[1;33m=\u001b[0m \u001b[0mtake\u001b[0m\u001b[1;33m(\u001b[0m\u001b[0map\u001b[0m\u001b[1;33m,\u001b[0m \u001b[0mindices_above\u001b[0m\u001b[1;33m,\u001b[0m \u001b[0maxis\u001b[0m\u001b[1;33m=\u001b[0m\u001b[0maxis\u001b[0m\u001b[1;33m)\u001b[0m \u001b[1;33m*\u001b[0m \u001b[0mweights_above\u001b[0m\u001b[1;33m\u001b[0m\u001b[0m\n\u001b[0;32m   3387\u001b[0m \u001b[1;33m\u001b[0m\u001b[0m\n",
      "\u001b[1;32m/usr/share/python/yandex-ydf-toolbox/local/lib/python2.7/site-packages/numpy/core/fromnumeric.pyc\u001b[0m in \u001b[0;36mtake\u001b[1;34m(a, indices, axis, out, mode)\u001b[0m\n\u001b[0;32m    122\u001b[0m     \u001b[1;32mexcept\u001b[0m \u001b[0mAttributeError\u001b[0m\u001b[1;33m:\u001b[0m\u001b[1;33m\u001b[0m\u001b[0m\n\u001b[0;32m    123\u001b[0m         \u001b[1;32mreturn\u001b[0m \u001b[0m_wrapit\u001b[0m\u001b[1;33m(\u001b[0m\u001b[0ma\u001b[0m\u001b[1;33m,\u001b[0m \u001b[1;34m'take'\u001b[0m\u001b[1;33m,\u001b[0m \u001b[0mindices\u001b[0m\u001b[1;33m,\u001b[0m \u001b[0maxis\u001b[0m\u001b[1;33m,\u001b[0m \u001b[0mout\u001b[0m\u001b[1;33m,\u001b[0m \u001b[0mmode\u001b[0m\u001b[1;33m)\u001b[0m\u001b[1;33m\u001b[0m\u001b[0m\n\u001b[1;32m--> 124\u001b[1;33m     \u001b[1;32mreturn\u001b[0m \u001b[0mtake\u001b[0m\u001b[1;33m(\u001b[0m\u001b[0mindices\u001b[0m\u001b[1;33m,\u001b[0m \u001b[0maxis\u001b[0m\u001b[1;33m,\u001b[0m \u001b[0mout\u001b[0m\u001b[1;33m,\u001b[0m \u001b[0mmode\u001b[0m\u001b[1;33m)\u001b[0m\u001b[1;33m\u001b[0m\u001b[0m\n\u001b[0m\u001b[0;32m    125\u001b[0m \u001b[1;33m\u001b[0m\u001b[0m\n\u001b[0;32m    126\u001b[0m \u001b[1;33m\u001b[0m\u001b[0m\n",
      "\u001b[1;31mIndexError\u001b[0m: cannot do a non-empty take from an empty axes."
     ]
    }
   ],
   "source": [
    "# design experiment\n",
    "\n",
    "D, W = origin_freq_matrix.shape\n",
    "T = 5\n",
    "\n",
    "np.random.seed(42)\n",
    "\n",
    "phi_matrix = np.random.uniform(size=(T, W)).astype(np.float64)\n",
    "phi_matrix /= np.sum(phi_matrix, axis=1)[:, np.newaxis]\n",
    "\n",
    "theta_matrix = np.random.uniform(size=(D, T)).astype(np.float64)\n",
    "theta_matrix /= np.sum(theta_matrix, axis=1)[:, np.newaxis]\n",
    "\n",
    "\n",
    "DECORR_TAU = 1e3\n",
    "\n",
    "trivial_regularization = trivial_regularization\n",
    "decorr_regularization = create_reg_decorr_unbiased(DECORR_TAU)\n",
    "\n",
    "no_selection_params = {\n",
    "    'method': perform_e_step_update,\n",
    "    'block_size': 50,\n",
    "    'p_dwt_processor': trivial_p_dwt_processor\n",
    "}\n",
    "obg_selection_params = {\n",
    "    'method': perform_obg_e_step_update,\n",
    "    'block_size': 50,\n",
    "    'percentile': 99.5\n",
    "}\n",
    "\n",
    "regularizations_list = np.zeros(450, dtype=object)\n",
    "params_list = np.zeros(450, dtype=object)\n",
    "\n",
    "regularizations_list[:30] = decorr_regularization\n",
    "regularizations_list[30:] = trivial_regularization\n",
    "params_list[:30] = no_selection_params\n",
    "params_list[30:] = obg_selection_params\n",
    "\n",
    "phi, theta = launch_em(\n",
    "    freq_matrix=origin_freq_matrix, \n",
    "    phi_matrix=phi_matrix,\n",
    "    theta_matrix=theta_matrix,\n",
    "    logger=create_decorr_logger(DECORR_TAU),\n",
    "    regularizations_list=regularizations_list,\n",
    "    params_list=params_list,\n",
    "    iters_count=450\n",
    ")"
   ]
  },
  {
   "cell_type": "code",
   "execution_count": null,
   "metadata": {
    "collapsed": true
   },
   "outputs": [],
   "source": [
    "49\n",
    "L -779670.397213\n",
    "decorr 4.98731219952\n",
    "L + tau R -784657.709413\n",
    "Zeros 7117     0.64"
   ]
  },
  {
   "cell_type": "code",
   "execution_count": 175,
   "metadata": {
    "collapsed": false
   },
   "outputs": [
    {
     "name": "stdout",
     "output_type": "stream",
     "text": [
      "0\n",
      "\tspace\t\tNN 0.0297035998546\n",
      "\tedu\t\tNN 0.0241587911266\n",
      "\tcom\t\tNN 0.0140549684888\n",
      "\tnasa\t\tNN 0.0102307645378\n",
      "\tprogram\t\tNN 0.00973499876547\n",
      "\tinformation\t\tNN 0.00934217453832\n",
      "\tavailable\t\tJJ 0.00762263797324\n",
      "\tsystem\t\tNN 0.00737630672214\n",
      "\tinclude\t\tVB 0.00647557616006\n",
      "\talso\t\tRB 0.00607285106743\n",
      "\tkeyboard\t\tNN 0.00588911184771\n",
      "\tcenter\t\tNN 0.00577006482603\n",
      "\tshuttle\t\tNN 0.0056842991822\n",
      "\tlist\t\tNN 0.0050686251806\n",
      "\tscience\t\tNN 0.00482320884167\n",
      "\tgov\t\tNN 0.00476085171464\n",
      "\tbank\t\tNN 0.00464957074177\n",
      "\tnews\t\tNN 0.0045194254546\n",
      "\tuniversity\t\tNN 0.00448590477405\n",
      "\tmail\t\tNN 0.00440622486593\n",
      "1\n",
      "\thealth\t\tNN 0.0158469054406\n",
      "\tdisease\t\tNN 0.0151632605908\n",
      "\tmedical\t\tJJ 0.0136282400908\n",
      "\tcenter\t\tNN 0.0104703828031\n",
      "\tcancer\t\tNN 0.0100275088669\n",
      "\tuse\t\tNN 0.00956738820501\n",
      "\tnumber\t\tNN 0.00948663289283\n",
      "\tpatient\t\tNN 0.00934934749968\n",
      "\tyear\t\tNN 0.0091013442192\n",
      "\tresearch\t\tNN 0.00892378442169\n",
      "\tchild\t\tNN 0.00851993044097\n",
      "\tstudy\t\tNN 0.00815426467613\n",
      "\tapril\t\tNN 0.0077052333953\n",
      "\taids\t\tNN 0.0062002198088\n",
      "\tcase\t\tNN 0.00609772031446\n",
      "\tlevel\t\tNN 0.00598673648477\n",
      "\tuniversity\t\tNN 0.00579740099197\n",
      "\tperson\t\tNN 0.0056892852553\n",
      "\tpage\t\tNN 0.00566026862323\n",
      "\treport\t\tVB 0.00558680735598\n",
      "2\n",
      "\tget\t\tVB 0.0135970687005\n",
      "\tused\t\tVB 0.0118500620707\n",
      "\tknow\t\tVB 0.00917785504178\n",
      "\tuse\t\tVB 0.00825650911703\n",
      "\tcircuit\t\tNN 0.00774987983247\n",
      "\tanyone\t\tNN 0.00729221582044\n",
      "\tpower\t\tNN 0.00694044951968\n",
      "\tlook\t\tVB 0.00675874480421\n",
      "\twork\t\tVB 0.00659179628902\n",
      "\tgood\t\tJJ 0.00658342631736\n",
      "\tmake\t\tVB 0.00645132572576\n",
      "\tthank\t\tNN 0.00635710608906\n",
      "\twant\t\tVB 0.00632081948608\n",
      "\tsee\t\tVB 0.00613800314121\n",
      "\tline\t\tNN 0.00601227598958\n",
      "\ttime\t\tNN 0.005883680728\n",
      "\tgo\t\tVB 0.00584868945277\n",
      "\tcurrent\t\tJJ 0.00549497711891\n",
      "\tthing\t\tNN 0.00547689198438\n",
      "\talso\t\tRB 0.00525560270977\n",
      "3\n",
      "\tget\t\tVB 0.0149644260686\n",
      "\tperson\t\tNN 0.0129045822957\n",
      "\tknow\t\tVB 0.01034183855\n",
      "\tsay\t\tVB 0.0093374030506\n",
      "\tthink\t\tVB 0.00883863236318\n",
      "\tsee\t\tVB 0.0086294649611\n",
      "\tmake\t\tVB 0.00859599636944\n",
      "\ttake\t\tVB 0.00825169475978\n",
      "\ttime\t\tNN 0.00823331916696\n",
      "\tgo\t\tVB 0.00800290347722\n",
      "\tproblem\t\tNN 0.00720637283747\n",
      "\tthing\t\tNN 0.00712555215659\n",
      "\tfood\t\tNN 0.00676816439824\n",
      "\talso\t\tRB 0.00665330288318\n",
      "\tdoctor\t\tNN 0.00626955905307\n",
      "\teven\t\tRB 0.00607284094925\n",
      "\tday\t\tNN 0.00606941711656\n",
      "\tyear\t\tNN 0.00602521795193\n",
      "\tgood\t\tJJ 0.005577811328\n",
      "\tmany\t\tJJ 0.00548527808132\n",
      "4\n",
      "\tspace\t\tNN 0.0157833256868\n",
      "\tsatellite\t\tNN 0.00891662858595\n",
      "\torbit\t\tNN 0.00805585404069\n",
      "\tlaunch\t\tNN 0.00752030097776\n",
      "\tearth\t\tNN 0.00749368154779\n",
      "\tsystem\t\tNN 0.00705507158256\n",
      "\tground\t\tNN 0.00654427730012\n",
      "\tused\t\tVB 0.00654334967628\n",
      "\tyear\t\tNN 0.00649816785604\n",
      "\tmission\t\tNN 0.00628166304868\n",
      "\twire\t\tNN 0.00619977662293\n",
      "\twater\t\tNN 0.00617672834818\n",
      "\tfirst\t\tJJ 0.00615599947083\n",
      "\tmoon\t\tNN 0.00587105842771\n",
      "\trocket\t\tNN 0.00577960460088\n",
      "\tlunar\t\tJJ 0.00560181972491\n",
      "\ttime\t\tNN 0.00501278300071\n",
      "\tlaunch\t\tVB 0.00489895234719\n",
      "\talso\t\tRB 0.00483237446954\n",
      "\tprobe\t\tNN 0.00433268421416\n"
     ]
    }
   ],
   "source": [
    "for t in xrange(T):\n",
    "    top = heapq.nlargest(20, range(W), key=lambda w: phi[t, w])\n",
    "    print t\n",
    "    for w in top:\n",
    "        print '\\t', '\\t\\t'.join(num_2_token[w].split('/')), phi[t, w]"
   ]
  },
  {
   "cell_type": "code",
   "execution_count": 176,
   "metadata": {
    "collapsed": false
   },
   "outputs": [
    {
     "name": "stdout",
     "output_type": "stream",
     "text": [
      "      first top  second top\n",
      "0         space         edu\n",
      "1           edu        nasa\n",
      "2           com         com\n",
      "3          nasa       space\n",
      "4       program         gov\n",
      "5   information        pitt\n",
      "6     available   intellect\n",
      "7        system  skepticism\n",
      "8       include         jxp\n",
      "9          also    chastity\n",
      "10     keyboard         geb\n",
      "11       center       cadre\n",
      "12      shuttle         dsl\n",
      "13         list    shameful\n",
      "14      science   surrender\n",
      "15          gov          cs\n",
      "16         bank         pub\n",
      "17         news         ftp\n",
      "18   university         gif\n",
      "19         mail   anonymous\n",
      "\n",
      "\n",
      "\n",
      "     first top  second top\n",
      "0       health      cancer\n",
      "1      disease      health\n",
      "2      medical        aids\n",
      "3       center     disease\n",
      "4       cancer       child\n",
      "5          use         use\n",
      "6       number     medical\n",
      "7      patient      number\n",
      "8         year    clinical\n",
      "9     research        page\n",
      "10       child       april\n",
      "11       study      report\n",
      "12       april        year\n",
      "13        aids      volume\n",
      "14        case        case\n",
      "15       level  newsletter\n",
      "16  university     patient\n",
      "17      person      center\n",
      "18        page       adult\n",
      "19      report      safety\n",
      "\n",
      "\n",
      "\n",
      "   first top  second top\n",
      "0        get        chip\n",
      "1       used      output\n",
      "2       know         amp\n",
      "3        use     circuit\n",
      "4    circuit       input\n",
      "5     anyone         get\n",
      "6      power     voltage\n",
      "7       look  electronic\n",
      "8       work         pin\n",
      "9       good      anyone\n",
      "10      make        used\n",
      "11     thank        line\n",
      "12      want       thank\n",
      "13       see       power\n",
      "14      line        know\n",
      "15      time      device\n",
      "16        go     current\n",
      "17   current         use\n",
      "18     thing        work\n",
      "19      also       logic\n",
      "\n",
      "\n",
      "\n",
      "   first top second top\n",
      "0        get     doctor\n",
      "1     person       pain\n",
      "2       know        get\n",
      "3        say       food\n",
      "4      think     person\n",
      "5        see       diet\n",
      "6       make      thing\n",
      "7       take      think\n",
      "8       time       seem\n",
      "9         go        see\n",
      "10   problem      yeast\n",
      "11     thing       know\n",
      "12      food        say\n",
      "13      also       take\n",
      "14    doctor     muscle\n",
      "15      even         go\n",
      "16       day   reaction\n",
      "17      year    seizure\n",
      "18      good       want\n",
      "19      many       good\n",
      "\n",
      "\n",
      "\n",
      "    first top  second top\n",
      "0       space      wiring\n",
      "1   satellite      launch\n",
      "2       orbit       space\n",
      "3      launch      outlet\n",
      "4       earth     neutral\n",
      "5      system   satellite\n",
      "6      ground       orbit\n",
      "7        used       radar\n",
      "8        year     vehicle\n",
      "9     mission      ground\n",
      "10       wire        moon\n",
      "11      water       tower\n",
      "12      first      engine\n",
      "13       moon       earth\n",
      "14     rocket      rocket\n",
      "15      lunar      launch\n",
      "16       time       water\n",
      "17     launch       lunar\n",
      "18       also      ground\n",
      "19      probe  spacecraft\n",
      "\n",
      "\n",
      "\n"
     ]
    }
   ],
   "source": [
    "import pandas\n",
    "for t in xrange(T):\n",
    "    top1 = heapq.nlargest(20, range(W), key=lambda w: phi[t, w])\n",
    "    top2 = heapq.nlargest(20, range(W), key=lambda w: - gamma_wt[w, t])\n",
    "    \n",
    "    if np.random.random() > 0.5:\n",
    "        t = top1\n",
    "        top1 = top2\n",
    "        top2 = t\n",
    "        \n",
    "    df = pandas.DataFrame({\n",
    "            'first top': [\n",
    "                num_2_token[w].split('/')[0]\n",
    "                for w in top1\n",
    "            ],\n",
    "            'second top': [\n",
    "                num_2_token[w].split('/')[0]\n",
    "                for w in top2\n",
    "            ]\n",
    "        })\n",
    "    print df\n",
    "    print '\\n\\n'"
   ]
  },
  {
   "cell_type": "code",
   "execution_count": null,
   "metadata": {
    "collapsed": true
   },
   "outputs": [],
   "source": []
  },
  {
   "cell_type": "code",
   "execution_count": null,
   "metadata": {
    "collapsed": true
   },
   "outputs": [],
   "source": []
  }
 ],
 "metadata": {
  "kernelspec": {
   "display_name": "Python 2",
   "language": "python",
   "name": "python2"
  },
  "language_info": {
   "codemirror_mode": {
    "name": "ipython",
    "version": 2
   },
   "file_extension": ".py",
   "mimetype": "text/x-python",
   "name": "python",
   "nbconvert_exporter": "python",
   "pygments_lexer": "ipython2",
   "version": "2.7.3"
  }
 },
 "nbformat": 4,
 "nbformat_minor": 0
}
