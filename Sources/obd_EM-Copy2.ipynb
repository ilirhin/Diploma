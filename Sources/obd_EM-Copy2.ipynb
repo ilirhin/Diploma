{
 "cells": [
  {
   "cell_type": "markdown",
   "metadata": {},
   "source": [
    "Рассмотрим Optimal Brain Damage для задачи тематического моделирования. Напомним, перед нами ставится задача максимизации: \n",
    "$$\n",
    "L = \\sum_{d,w} n_{dw} \\log \\sum_{t} \\phi_{wt} \\theta_{td}\n",
    "$$\n",
    "У нас есть какое-то решение $\\phi$  и $\\theta$, мы хотим его сделать более разреженным, сохранив структуру и несильно испортив правдоподобие, используя метод OBD. \n",
    "\n",
    "Далее будем использовать стандартные обозначения ARTM ($p_{tdw}$, $n_{wt}$, $n_t$ и так далее).\n",
    "\n",
    "### Математическая составляющая\n",
    "####Зануление \\Phi\n",
    " Для каждого $w$, $t$ определелим изменение правдоподобия при занулении $\\phi_{wt}$:\n",
    "$$\n",
    "\\Delta_1 L = \\sum_{d} n_{dw} \\left( \\log \\sum_{s\\colon s\\neq t} \\phi_{ws} \\theta_{sd} - \\log \\sum_{s} \\phi_{ws} \\theta_{sd} \\right)=\n",
    "\\sum_{d} n_{dw} \\log \\frac{\\sum_{s\\colon s\\neq t} \\phi_{ws} \\theta_{sd} }{\\sum_{s} \\phi_{ws} \\theta_{sd}}=\n",
    "$$\n",
    "$$\n",
    "=\n",
    "\\sum_{d} n_{dw} \\log \\left( 1 - \\frac{\\phi_{wt} \\theta_{td} }{\\sum_{s} \\phi_{ws} \\theta_{sd}} \\right) =\n",
    "\\sum_{d} n_{dw} \\log(1 - p_{tdw}) \\approx - \\sum_{d} n_{dw} p_{tdw} = - n_{wt}\n",
    "$$\n",
    "Таким образом, если мы хотим занулять параметры модели для разреживания, кажется, что нужно занулять параметры с наименьшим значением $n_{wt}$. Однако, здесь опускается один важный момент: когда мы разреживаем модель и зануляем какой-то $\\phi_{wt}$, вероятность всех остальных слов в теме увеличивается, а это увеличивает правдоподобие. Оценим эффект увеличения логарифма правдоподобия при занулении $\\phi_{wt}$:\n",
    "$$\n",
    "\\Delta_2 L = \\sum_{d, u \\neq w} n_{du} \\left( \\log \\left( \\sum_{s \\neq t} \\phi_{us} \\theta_{sd}  + \\frac{\\phi_{us}}{1 - \\phi_{wt}} \\theta_{td} \\right) - \\log \\sum_{s} \\phi_{us} \\theta_{sd} \\right)=\n",
    "$$\n",
    "$$\n",
    "=\\sum_{d, u \\neq w} n_{du} \\left( \\log \\left( \\sum_{s} \\phi_{us} \\theta_{sd}  + \\frac{\\phi_{wt}}{1 - \\phi_{wt}} \\phi_{us} \\theta_{td} \\right) - \\log \\sum_{s} \\phi_{us} \\theta_{sd} \\right)=\n",
    "$$\n",
    "$$\n",
    "=\\sum_{d, u \\neq w} n_{du} \\log \\left(1 + \\frac{\\phi_{wt}}{1 - \\phi_{wt}} \\frac{\\phi_{us} \\theta_{td} }{\\sum_{s} \\phi_{us} \\theta_{sd}}\\right) = \\sum_{d, u \\neq w} n_{du}  \\log \\left(1 + \\frac{\\phi_{wt}}{1 - \\phi_{wt}} p_{tdu}\\right) \\approx\n",
    "$$\n",
    "$$\n",
    "\\approx \\sum_{d, u \\neq w} n_{du} \\frac{\\phi_{wt}}{1 - \\phi_{wt}} p_{tdu} = \\frac{\\phi_{wt}}{1 - \\phi_{wt}} \\sum_{d, u \\neq w} n_{du} p_{tdu} = \\frac{\\phi_{wt}}{1 - \\phi_{wt}} \\left( n_t - n_{wt}\\right) = \n",
    "$$\n",
    "$$\n",
    "=\\frac{\\phi_{wt} n_t}{1 - \\phi_{wt}} \\left( 1 - \\frac{n_{wt}}{n_t}\\right) \\approx n_{wt}\n",
    "$$\n",
    "В первом приближении за счёт увеличения $\\phi_{ut}$ при $u \\neq w$ логарифм правдоподобия увеличится на $n_{wt}$. То есть суммарно в первом приближении правдоподобие не изменится. У данной проблемы есть два решения. Во-первых, мы можем честно посчитать $\\Delta_1 L $ и $\\Delta_2 L $ на Е-шаге и использовать их сумму (их можно эффективно быстро подсчитать, однако есть минус, что есть логарифмы, а это сказывается на скорости выполнения). Второй способ - разложить изменение не до первого члена в ряде тейлора, а до второго.\n",
    "$$\n",
    "\\Delta_1 L = \\sum_{d} n_{dw} \\log(1 - p_{tdw}) \\approx = - \\sum_{d} n_{dw} \\left( p_{tdw} + \\frac12 p_{tdw}^2\\right) = -n_{wt} -  \\frac12 \\sum_{d} n_{dw} p_{tdw}^2\n",
    "$$\n",
    "$$\n",
    "\\Delta_2 L = \\sum_{d, u \\neq w} n_{du}  \\log \\left(1 + \\frac{\\phi_{wt}}{1 - \\phi_{wt}} p_{tdu}\\right) \\approx\n",
    "\\sum_{d, u \\neq w} n_{du}  \\left(\\frac{\\phi_{wt}}{1 - \\phi_{wt}} p_{tdu} - \\frac12\\left( \\frac{\\phi_{wt}}{1 - \\phi_{wt}}  \\right)^2 p_{tdu}^2\\right) =\n",
    "$$\n",
    "$$\n",
    "= \\frac{\\phi_{wt}}{1 - \\phi_{wt}}  \\left( n_t - n_{wt}\\right) - \\frac12\\left( \\frac{\\phi_{wt}}{1 - \\phi_{wt}}  \\right)^2 \\sum_{d, u \\neq w} n_{du} p_{tdu}^2 \\approx n_{wt} - \\frac12\\left( \\frac{\\phi_{wt}}{1 - \\phi_{wt}}  \\right)^2 \\sum_{d, u \\neq w} n_{du} p_{tdu}^2\n",
    "$$\n",
    "Итак,\n",
    "$$\n",
    "\\Delta L = \\Delta_1 L + \\Delta_2 L \\approx -  \\frac12 \\sum_{d} n_{dw} p_{tdw}^2 - \\frac12\\left( \\frac{\\phi_{wt}}{1 - \\phi_{wt}}  \\right)^2 \\sum_{d, u \\neq w} n_{du} p_{tdu}^2\n",
    "$$\n",
    "Это тоже можно эффективно подсчитать на E шаге, только теперь не будет логарифмов, а значит считаться будет быстрее.\n",
    "####Зануление $\\Theta$\n",
    "Аналогично доказывается, что\n",
    "$$\n",
    "\\Delta L = \\sum_w n_{dw} \\log \\left( 1 - p_{tdw}\\right) - n_d \\log(1 - \\theta_{td})\n",
    "$$\n",
    "###Как это можно использовать\n",
    "1. Для разреживания модели на Е шаге. Можно разреживать уже имеющееся хорошее решение, можно делать по ходу итераций.\n",
    "2. Когда мы хотим выбирать характерные слова из темы, можно выбирать не по $\\phi_{wt}$, а по $\\Delta_1 L + \\Delta_2 L$."
   ]
  },
  {
   "cell_type": "code",
   "execution_count": null,
   "metadata": {
    "collapsed": true
   },
   "outputs": [],
   "source": []
  },
  {
   "cell_type": "code",
   "execution_count": null,
   "metadata": {
    "collapsed": true
   },
   "outputs": [],
   "source": []
  },
  {
   "cell_type": "markdown",
   "metadata": {},
   "source": [
    "#Питоновская реализация EM алгоритма\n",
    "\n",
    "Полезно проделать, чтобы разобраться в numpy и в том, как эффективно писать на питоне."
   ]
  },
  {
   "cell_type": "code",
   "execution_count": 1,
   "metadata": {
    "collapsed": false
   },
   "outputs": [],
   "source": [
    "import numpy as np\n",
    "import scipy\n",
    "import scipy.sparse\n",
    "from sklearn.datasets import fetch_20newsgroups\n",
    "import gensim\n",
    "from collections import Counter\n",
    "import heapq\n",
    "import nltk\n",
    "from nltk.corpus import stopwords\n",
    "from sklearn.cross_validation import cross_val_score\n",
    "from sklearn.svm import SVC\n",
    "import matplotlib.pyplot as plt\n",
    "%matplotlib inline"
   ]
  },
  {
   "cell_type": "markdown",
   "metadata": {},
   "source": [
    "Нужно скачать некоторые коллекции данных и установить библиотеки (nltk, gensim)"
   ]
  },
  {
   "cell_type": "code",
   "execution_count": 2,
   "metadata": {
    "collapsed": false
   },
   "outputs": [
    {
     "name": "stdout",
     "output_type": "stream",
     "text": [
      "[nltk_data] Downloading package stopwords to /home/tylorn/nltk_data...\n",
      "[nltk_data]   Package stopwords is already up-to-date!\n"
     ]
    },
    {
     "data": {
      "text/plain": [
       "True"
      ]
     },
     "execution_count": 2,
     "metadata": {},
     "output_type": "execute_result"
    }
   ],
   "source": [
    "nltk.download('stopwords')"
   ]
  },
  {
   "cell_type": "code",
   "execution_count": 3,
   "metadata": {
    "collapsed": false
   },
   "outputs": [],
   "source": [
    "english_stopwords = set(stopwords.words('english'))"
   ]
  },
  {
   "cell_type": "markdown",
   "metadata": {},
   "source": [
    "## Исходники, можно пропускать"
   ]
  },
  {
   "cell_type": "code",
   "execution_count": 4,
   "metadata": {
    "collapsed": true
   },
   "outputs": [],
   "source": [
    "def trivial_p_dwt_processor(p_dwt):\n",
    "    pass\n",
    "\n",
    "def create_frac_of_max_p_dwt_processor(frac_size):\n",
    "    def fun(p_dwt):\n",
    "        maximums = np.max(p_dwt, axis=1)\n",
    "        p_dwt[p_dwt < frac_size * maximums[:, np.newaxis]] = 0.\n",
    "        p_dwt /= (np.sum(p_dwt, axis=1)[:, np.newaxis] + 1e-10)\n",
    "    return fun"
   ]
  },
  {
   "cell_type": "code",
   "execution_count": 5,
   "metadata": {
    "collapsed": true
   },
   "outputs": [],
   "source": [
    "def perform_e_step_update(freq_matrix, docptr, phi_matrix, theta_matrix, params):\n",
    "    block_size = params.get('block_size', 1)\n",
    "    p_dwt_processor = params.get('p_dwt_processor', lambda x: None)\n",
    "    \n",
    "    D, W = freq_matrix.shape\n",
    "    T = phi_matrix.shape[0]\n",
    "    n_wt, n_dt = np.zeros((W, T)), np.zeros((D, T))\n",
    "    transposed_phi_matrix = np.transpose(phi_matrix)\n",
    "    \n",
    "    indices = freq_matrix.indices\n",
    "    indptr = freq_matrix.indptr\n",
    "    data = freq_matrix.data\n",
    "    \n",
    "    for block_num in xrange((D + block_size - 1) / block_size):\n",
    "        block_start = block_num * block_size\n",
    "        block_finish = min(D, block_start + block_size)\n",
    "        ind_start, ind_finish = indptr[block_start], indptr[block_finish]\n",
    "        \n",
    "        datas = data[ind_start:ind_finish]\n",
    "        words = indices[ind_start:ind_finish]\n",
    "        docs = docptr[ind_start:ind_finish]\n",
    "        \n",
    "        p_dwt = transposed_phi_matrix[words] * theta_matrix[docs, :]\n",
    "        p_dwt /= (np.sum(p_dwt, axis=1)[:, np.newaxis] + 1e-10)\n",
    "        p_dwt_processor(p_dwt)\n",
    "        p_dwt *= datas[:, np.newaxis]\n",
    "        \n",
    "        for doc_num in xrange(block_start, block_finish):\n",
    "            doc_start, doc_finish = indptr[doc_num], indptr[doc_num + 1]\n",
    "            doc_p_dwt = p_dwt[(doc_start - ind_start):(doc_finish - ind_start), :]\n",
    "            n_dt[doc_num, :] += np.sum(doc_p_dwt, axis=0)\n",
    "            n_wt[indices[doc_start:doc_finish], :] += doc_p_dwt\n",
    "\n",
    "    return n_wt, n_dt"
   ]
  },
  {
   "cell_type": "code",
   "execution_count": 6,
   "metadata": {
    "collapsed": true
   },
   "outputs": [],
   "source": [
    "def perform_obg_e_step_update(freq_matrix, docptr, phi_matrix, theta_matrix, params):\n",
    "    block_size = params.get('block_size', 1)\n",
    "    percentile = params.get('percentile', 99)\n",
    "    return_gamma = params.get('return_gamma', False)\n",
    "    theta_obg = params.get('theta_obg', False)\n",
    "    \n",
    "    D, W = freq_matrix.shape\n",
    "    T = phi_matrix.shape[0]\n",
    "    n_wt, n_dt = np.zeros((W, T)), np.zeros((D, T))\n",
    "    alpha_wt, beta_wt = np.zeros((W, T)), np.zeros((W, T))\n",
    "    if theta_obg:\n",
    "        alpha_dt = np.zeros((D, T))\n",
    "    transposed_phi_matrix = np.transpose(phi_matrix)\n",
    "    \n",
    "    indices = freq_matrix.indices\n",
    "    indptr = freq_matrix.indptr\n",
    "    data = freq_matrix.data\n",
    "    \n",
    "    for block_num in xrange((D + block_size - 1) / block_size):\n",
    "        block_start = block_num * block_size\n",
    "        block_finish = min(D, block_start + block_size)\n",
    "        ind_start, ind_finish = indptr[block_start], indptr[block_finish]\n",
    "        \n",
    "        datas = data[ind_start:ind_finish]\n",
    "        words = indices[ind_start:ind_finish]\n",
    "        docs = docptr[ind_start:ind_finish]\n",
    "        \n",
    "        p_dwt = transposed_phi_matrix[words] * theta_matrix[docs, :]\n",
    "        p_dwt /= (np.sum(p_dwt, axis=1)[:, np.newaxis] + 1e-20)\n",
    "        \n",
    "        alpha_dwt = np.log(1. - p_dwt) * datas[:, np.newaxis]\n",
    "        beta_dwt = np.log(1. + p_dwt) * datas[:, np.newaxis]\n",
    "        n_dwt = p_dwt * datas[:, np.newaxis]\n",
    "        \n",
    "        for doc_num in xrange(block_start, block_finish):\n",
    "            doc_start, doc_finish = indptr[doc_num], indptr[doc_num + 1]\n",
    "            \n",
    "            doc_n_dwt = n_dwt[(doc_start - ind_start):(doc_finish - ind_start), :]\n",
    "            doc_alpha_dwt = alpha_dwt[(doc_start - ind_start):(doc_finish - ind_start), :]\n",
    "            doc_beta_dwt = beta_dwt[(doc_start - ind_start):(doc_finish - ind_start), :]\n",
    "            \n",
    "            n_dt[doc_num, :] += np.sum(doc_n_dwt, axis=0)\n",
    "            \n",
    "            if theta_obg:\n",
    "                alpha_dt[doc_num, :] += np.sum(doc_alpha_dwt, axis=0)\n",
    "                \n",
    "            positions = indices[doc_start:doc_finish]\n",
    "            n_wt[positions, :] += doc_n_dwt\n",
    "            alpha_wt[positions, :] += doc_alpha_dwt\n",
    "            beta_wt[positions, :] += doc_beta_dwt\n",
    "    \n",
    "    beta_t = np.sum(beta_wt, axis=0)\n",
    "    gamma_wt = alpha_wt + transposed_phi_matrix * (1. - transposed_phi_matrix) * (beta_t[np.newaxis, :] - beta_wt)\n",
    "    bound = np.percentile(gamma_wt[gamma_wt < 0], percentile)\n",
    "    n_wt[gamma_wt > bound] = 0.\n",
    "    \n",
    "    if theta_obg:\n",
    "        gamma_dt = alpha_dt + np.sum(n_dt, axis=1)[:, np.newaxis] * np.log(1. - theta_matrix)\n",
    "        bound = np.percentile(gamma_dt[gamma_dt < 0], percentile)\n",
    "        n_dt[gamma_dt > bound] = 0.\n",
    "    \n",
    "    plt.hist(np.log(- gamma_wt[(gamma_wt < 0) & (gamma_wt > -100)]).flatten(), bins=100)\n",
    "    plt.show()\n",
    "    \n",
    "    if return_gamma:\n",
    "        return n_wt, n_dt, gamma_wt\n",
    "    else:\n",
    "        return n_wt, n_dt"
   ]
  },
  {
   "cell_type": "code",
   "execution_count": 7,
   "metadata": {
    "collapsed": true
   },
   "outputs": [],
   "source": [
    "def launch_em(\n",
    "    freq_matrix, \n",
    "    phi_matrix,\n",
    "    theta_matrix,\n",
    "    logger,\n",
    "    regularizations_list,\n",
    "    params_list,\n",
    "    iters_count=100\n",
    "):\n",
    "    phi_matrix = np.array(phi_matrix)\n",
    "    theta_matrix = np.array(theta_matrix)\n",
    "    docptr = []\n",
    "    indptr = freq_matrix.indptr\n",
    "    for doc_num in xrange(D):\n",
    "        docptr.extend([doc_num] * (indptr[doc_num + 1] - indptr[doc_num]))\n",
    "    docptr = np.array(docptr)\n",
    "    \n",
    "    for it in xrange(iters_count):\n",
    "        print it\n",
    "        n_wt, n_dt = params_list[it]['method'](freq_matrix, docptr, phi_matrix, theta_matrix, params_list[it])\n",
    "        r_wt, r_dt = regularizations_list[it](n_wt, n_dt, phi_matrix, theta_matrix)\n",
    "        n_wt = np.maximum(n_wt + r_wt, 0)\n",
    "        n_dt = np.maximum(n_dt + r_dt, 0)\n",
    "        n_wt /= np.sum(n_wt, axis=0)\n",
    "        n_dt /= np.sum(n_dt, axis=1)[:, np.newaxis]\n",
    "        phi_matrix = np.transpose(n_wt)\n",
    "        theta_matrix = n_dt\n",
    "        logger(freq_matrix, docptr, phi_matrix, theta_matrix)\n",
    "        \n",
    "    return phi_matrix, theta_matrix"
   ]
  },
  {
   "cell_type": "code",
   "execution_count": null,
   "metadata": {
    "collapsed": true
   },
   "outputs": [],
   "source": []
  },
  {
   "cell_type": "code",
   "execution_count": 8,
   "metadata": {
    "collapsed": true
   },
   "outputs": [],
   "source": [
    "def trivial_regularization(n_wt, n_dt, phi_matrix, theta_matrix):\n",
    "    return 0., 0.\n",
    "\n",
    "def calculate_decorr(phi_matrix):\n",
    "    aggr_phi = np.sum(phi_matrix, axis=1)\n",
    "    return np.sum(phi_matrix * (aggr_phi[:, np.newaxis] - phi_matrix))\n",
    "\n",
    "def create_reg_decorr_naive(tau, theta_alpha=0.):\n",
    "    def fun (n_wt, n_dt, phi_matrix, theta_matrix):\n",
    "        aggr_phi = np.sum(phi_matrix, axis=1)\n",
    "        return - tau * np.transpose(phi_matrix * (aggr_phi[:, np.newaxis] - phi_matrix)), theta_alpha\n",
    "    return fun\n",
    "\n",
    "def create_reg_lda(phi_alpha, theta_alpha):\n",
    "    def fun (n_wt, n_dt, phi_matrix, theta_matrix):\n",
    "        return phi_alpha, theta_alpha\n",
    "    return fun\n",
    "\n",
    "def create_reg_decorr_unbiased(tau, theta_alpha=0.):\n",
    "    def fun (n_wt, n_dt, phi_matrix, theta_matrix):\n",
    "        tmp_phi =  n_wt / np.sum(n_wt, axis=0)\n",
    "        aggr_phi = np.sum(tmp_phi, axis=0)\n",
    "        return - tau * tmp_phi * (aggr_phi[np.newaxis, :] - tmp_phi), theta_alpha\n",
    "    return fun\n",
    "\n",
    "def calculate_likelihood(freq_matrix, docptr, phi_matrix, theta_matrix, block_size=1):\n",
    "    D, W = freq_matrix.shape\n",
    "    T = phi_matrix.shape[0]\n",
    "    transposed_phi_matrix = np.transpose(phi_matrix)\n",
    "    \n",
    "    indices = freq_matrix.indices\n",
    "    indptr = freq_matrix.indptr\n",
    "    data = freq_matrix.data\n",
    "    \n",
    "    res = 0.\n",
    "    for block_num in xrange((D + block_size - 1) / block_size):\n",
    "        block_start = block_num * block_size\n",
    "        block_finish = min(D, block_start + block_size)\n",
    "        ind_start, ind_finish = indptr[block_start], indptr[block_finish]\n",
    "        \n",
    "        datas = data[ind_start:ind_finish]\n",
    "        words = indices[ind_start:ind_finish]\n",
    "        docs = docptr[ind_start:ind_finish]\n",
    "        \n",
    "        p_dwt = transposed_phi_matrix[words] * theta_matrix[docs, :]\n",
    "        res += np.sum(np.log(np.sum(p_dwt, axis=1) + 1e-10) * datas)\n",
    "    \n",
    "    return res\n",
    "\n",
    "\n",
    "def create_decorr_logger(tau):\n",
    "    def fun(freq_matrix, docptr, phi_matrix, theta_matrix):\n",
    "        likelihood = calculate_likelihood(freq_matrix, docptr, phi_matrix, theta_matrix, 50)\n",
    "        decorr = calculate_decorr(phi_matrix)\n",
    "        print 'L', likelihood\n",
    "        print 'decorr', decorr\n",
    "        print 'L + tau R', likelihood - tau * decorr\n",
    "        non_zeros = np.sum(phi_matrix > 1e-20)\n",
    "        size = phi_matrix.shape[0] * phi_matrix.shape[1]\n",
    "        print 'Non zeros elements', non_zeros, '   fraction', round(1. * non_zeros / size, 2)\n",
    "    return fun"
   ]
  },
  {
   "cell_type": "code",
   "execution_count": null,
   "metadata": {
    "collapsed": true
   },
   "outputs": [],
   "source": []
  },
  {
   "cell_type": "code",
   "execution_count": 27,
   "metadata": {
    "collapsed": false
   },
   "outputs": [],
   "source": [
    "def prepare_dataset(dataset):\n",
    "    # remove stopwords\n",
    "    occurences = Counter()\n",
    "    for i, doc in enumerate(dataset.data):\n",
    "        tokens = gensim.utils.lemmatize(doc)\n",
    "        for token in set(tokens):\n",
    "            occurences[token] += 1\n",
    "        if i % 500 == 0:\n",
    "            print 'Processed: ', i, 'documents from', len(dataset.data)\n",
    "    \n",
    "    row, col, data = [], [], []\n",
    "    token_2_num = {}\n",
    "    for i, doc in enumerate(dataset.data):\n",
    "        tokens = gensim.utils.lemmatize(doc)\n",
    "        cnt = Counter()\n",
    "        for token in tokens:\n",
    "            word = token.split('/')[0]\n",
    "            if word not in english_stopwords and 10 <= occurences[token] < len(dataset.data) / 2:\n",
    "                if token not in token_2_num:\n",
    "                    token_2_num[token] = len(token_2_num)\n",
    "                cnt[token_2_num[token]] += 1\n",
    "        for w, c in cnt.iteritems():\n",
    "            row.append(i)\n",
    "            col.append(w)\n",
    "            data.append(c)\n",
    "        \n",
    "    num_2_token = {\n",
    "        v: k\n",
    "        for k, v in token_2_num.iteritems()\n",
    "    }\n",
    "    print 'Nonzero values:', len(data)\n",
    "    return scipy.sparse.csr_matrix((data, (row, col))), token_2_num, num_2_token\n"
   ]
  },
  {
   "cell_type": "markdown",
   "metadata": {},
   "source": [
    "### Используем коллекцию 20newsgroups\n",
    "\n",
    "Возьмём три научные темы, очистим данные, лемматизируем слова, удаляем редкие и частые слова (реализация этого в клетке выше)."
   ]
  },
  {
   "cell_type": "code",
   "execution_count": 28,
   "metadata": {
    "collapsed": true
   },
   "outputs": [],
   "source": [
    "dataset = fetch_20newsgroups(\n",
    "    subset='train',\n",
    "    remove=('headers', 'footers', 'quotes')\n",
    ")"
   ]
  },
  {
   "cell_type": "code",
   "execution_count": 29,
   "metadata": {
    "collapsed": false
   },
   "outputs": [
    {
     "name": "stdout",
     "output_type": "stream",
     "text": [
      "Processed:  0 documents from 11314\n",
      "Processed:  500 documents from 11314\n",
      "Processed:  1000 documents from 11314\n",
      "Processed:  1500 documents from 11314\n",
      "Processed:  2000 documents from 11314\n",
      "Processed:  2500 documents from 11314\n",
      "Processed:  3000 documents from 11314\n",
      "Processed:  3500 documents from 11314\n",
      "Processed:  4000 documents from 11314\n",
      "Processed:  4500 documents from 11314\n",
      "Processed:  5000 documents from 11314\n",
      "Processed:  5500 documents from 11314\n",
      "Processed:  6000 documents from 11314\n",
      "Processed:  6500 documents from 11314\n",
      "Processed:  7000 documents from 11314\n",
      "Processed:  7500 documents from 11314\n",
      "Processed:  8000 documents from 11314\n",
      "Processed:  8500 documents from 11314\n",
      "Processed:  9000 documents from 11314\n",
      "Processed:  9500 documents from 11314\n",
      "Processed:  10000 documents from 11314\n",
      "Processed:  10500 documents from 11314\n",
      "Processed:  11000 documents from 11314\n",
      "Nonzero values: 576936\n",
      "CPU times: user 10min 9s, sys: 28 ms, total: 10min 9s\n",
      "Wall time: 10min 9s\n"
     ]
    }
   ],
   "source": [
    "%%time\n",
    "origin_freq_matrix, token_2_num, num_2_token = prepare_dataset(dataset)"
   ]
  },
  {
   "cell_type": "markdown",
   "metadata": {
    "collapsed": true
   },
   "source": [
    "##Оценка качества модели\n",
    "\n",
    "Считаем следующие метрики: правдоподобие, разреженность(доля и количество ненулевых элементов в матрицах), коррелированность тем, оценка качества SVM, обученного предсказывать метку документа по полученным признакам документов."
   ]
  },
  {
   "cell_type": "code",
   "execution_count": 30,
   "metadata": {
    "collapsed": true
   },
   "outputs": [],
   "source": [
    "def evaluate(freq_matrix, phi, theta, dataset):\n",
    "    T, W = phi.shape\n",
    "    D, T = theta.shape\n",
    "    \n",
    "    docptr = []\n",
    "    indptr = freq_matrix.indptr\n",
    "    for doc_num in xrange(D):\n",
    "        docptr.extend([doc_num] * (indptr[doc_num + 1] - indptr[doc_num]))\n",
    "    docptr = np.array(docptr)\n",
    "    \n",
    "    correlation_on_topic = calculate_decorr(phi) / (T * (T - 1))\n",
    "    log_likelihood = calculate_likelihood(origin_freq_matrix, docptr, phi, theta, 50)\n",
    "    phi_non_zeros = np.sum(phi > 1e-20)\n",
    "    phi_size = W * T\n",
    "    theta_non_zeros = np.sum(theta > 1e-20)\n",
    "    theta_size = D * T\n",
    "\n",
    "    theta_copy = theta.copy()\n",
    "    theta_copy[np.isnan(theta_copy)] = 1. / T\n",
    "    svm_score = np.mean(cross_val_score(SVC(), theta_copy, dataset.target, 'accuracy', cv=4))\n",
    "\n",
    "    print 'L\\t\\t\\t\\t', round(log_likelihood)\n",
    "    print 'Average topic correlation\\t', round(correlation_on_topic, 4)\n",
    "    print 'Phi nonzeros\\t\\t\\t', phi_non_zeros, '\\tfrac\\t', 1. * phi_non_zeros / phi_size\n",
    "    print 'Theta nonzeros\\t\\t\\t', theta_non_zeros, '\\tfrac\\t', 1. * theta_non_zeros / theta_size\n",
    "    print 'SVM score\\t\\t\\t', round(svm_score, 4)"
   ]
  },
  {
   "cell_type": "code",
   "execution_count": null,
   "metadata": {
    "collapsed": true
   },
   "outputs": [],
   "source": []
  },
  {
   "cell_type": "markdown",
   "metadata": {
    "collapsed": false
   },
   "source": [
    "## baseline решение - обычный PLSA"
   ]
  },
  {
   "cell_type": "code",
   "execution_count": 31,
   "metadata": {
    "collapsed": false,
    "scrolled": true
   },
   "outputs": [
    {
     "name": "stdout",
     "output_type": "stream",
     "text": [
      "0\n",
      "L -7577557.14498\n",
      "decorr 24.8513606695\n",
      "L + tau R -7577557.14498\n",
      "Non zeros elements 222025    fraction 1.0\n",
      "1\n",
      "L -7544645.12672\n",
      "decorr 24.8185559002\n",
      "L + tau R -7544645.12672\n",
      "Non zeros elements 222025    fraction 1.0\n",
      "2\n",
      "L -7490147.65267\n",
      "decorr 24.7372627276\n",
      "L + tau R -7490147.65267\n",
      "Non zeros elements 222025    fraction 1.0\n",
      "3\n",
      "L -7409587.12834\n",
      "decorr 24.5705428905\n",
      "L + tau R -7409587.12834\n",
      "Non zeros elements 222025    fraction 1.0\n",
      "4\n",
      "L -7314078.58123\n",
      "decorr 24.3309707495\n",
      "L + tau R -7314078.58123\n",
      "Non zeros elements 222025    fraction 1.0\n",
      "5\n",
      "L -7220166.49586\n",
      "decorr 24.1372623993\n",
      "L + tau R -7220166.49586\n",
      "Non zeros elements 222025    fraction 1.0\n",
      "6\n",
      "L -7139209.80822\n",
      "decorr 24.098580852\n",
      "L + tau R -7139209.80822\n",
      "Non zeros elements 221994    fraction 1.0\n",
      "7\n",
      "L -7064706.38328\n",
      "decorr 24.1187026094\n",
      "L + tau R -7064706.38328\n",
      "Non zeros elements 221910    fraction 1.0\n",
      "8\n",
      "L -6993093.44012\n",
      "decorr 24.1580141136\n",
      "L + tau R -6993093.44012\n",
      "Non zeros elements 221679    fraction 1.0\n",
      "9\n",
      "L -6928340.54047\n",
      "decorr 24.2242516843\n",
      "L + tau R -6928340.54047\n",
      "Non zeros elements 219048    fraction 0.99\n",
      "10\n",
      "L -6873853.10759\n",
      "decorr 24.2757302762\n",
      "L + tau R -6873853.10759\n",
      "Non zeros elements 214546    fraction 0.97\n",
      "11\n",
      "L -6830136.57853\n",
      "decorr 24.2897126529\n",
      "L + tau R -6830136.57853\n",
      "Non zeros elements 212581    fraction 0.96\n",
      "12\n",
      "L -6795547.78934\n",
      "decorr 24.2906464686\n",
      "L + tau R -6795547.78934\n",
      "Non zeros elements 211662    fraction 0.95\n",
      "13\n",
      "L -6767606.72256\n",
      "decorr 24.2908263234\n",
      "L + tau R -6767606.72256\n",
      "Non zeros elements 210555    fraction 0.95\n",
      "14\n",
      "L -6744371.40469\n",
      "decorr 24.2901962972\n",
      "L + tau R -6744371.40469\n",
      "Non zeros elements 208854    fraction 0.94\n",
      "15\n",
      "L -6724811.07391\n",
      "decorr 24.2886606804\n",
      "L + tau R -6724811.07391\n",
      "Non zeros elements 206294    fraction 0.93\n",
      "16\n",
      "L -6708036.92691\n",
      "decorr 24.2867527434\n",
      "L + tau R -6708036.92691\n",
      "Non zeros elements 203125    fraction 0.91\n",
      "17\n",
      "L -6693358.0825\n",
      "decorr 24.2848851005\n",
      "L + tau R -6693358.0825\n",
      "Non zeros elements 199331    fraction 0.9\n",
      "18\n",
      "L -6680410.84754\n",
      "decorr 24.2831165599\n",
      "L + tau R -6680410.84754\n",
      "Non zeros elements 194921    fraction 0.88\n",
      "19\n",
      "L -6668953.09305\n",
      "decorr 24.2813579841\n",
      "L + tau R -6668953.09305\n",
      "Non zeros elements 190323    fraction 0.86\n",
      "20\n",
      "L -6658801.57241\n",
      "decorr 24.2795781799\n",
      "L + tau R -6658801.57241\n",
      "Non zeros elements 185581    fraction 0.84\n",
      "21\n",
      "L -6649786.64421\n",
      "decorr 24.2777626859\n",
      "L + tau R -6649786.64421\n",
      "Non zeros elements 180752    fraction 0.81\n",
      "22\n",
      "L -6641731.17989\n",
      "decorr 24.2759107873\n",
      "L + tau R -6641731.17989\n",
      "Non zeros elements 175877    fraction 0.79\n",
      "23\n",
      "L -6634467.22948\n",
      "decorr 24.2740535336\n",
      "L + tau R -6634467.22948\n",
      "Non zeros elements 171243    fraction 0.77\n",
      "24\n",
      "L -6627852.40448\n",
      "decorr 24.2722069565\n",
      "L + tau R -6627852.40448\n",
      "Non zeros elements 166767    fraction 0.75\n",
      "25\n",
      "L -6621782.09942\n",
      "decorr 24.2703646479\n",
      "L + tau R -6621782.09942\n",
      "Non zeros elements 162404    fraction 0.73\n",
      "26\n",
      "L -6616182.51052\n",
      "decorr 24.2685313548\n",
      "L + tau R -6616182.51052\n",
      "Non zeros elements 158296    fraction 0.71\n",
      "27\n",
      "L -6611021.53377\n",
      "decorr 24.2667389818\n",
      "L + tau R -6611021.53377\n",
      "Non zeros elements 154407    fraction 0.7\n",
      "28\n",
      "L -6606268.43558\n",
      "decorr 24.2650129972\n",
      "L + tau R -6606268.43558\n",
      "Non zeros elements 150877    fraction 0.68\n",
      "29\n",
      "L -6601871.00611\n",
      "decorr 24.2633615246\n",
      "L + tau R -6601871.00611\n",
      "Non zeros elements 147486    fraction 0.66\n",
      "30\n",
      "L -6597781.71222\n",
      "decorr 24.2617927444\n",
      "L + tau R -6597781.71222\n",
      "Non zeros elements 144249    fraction 0.65\n",
      "31\n",
      "L -6593963.92612\n",
      "decorr 24.2603198255\n",
      "L + tau R -6593963.92612\n",
      "Non zeros elements 141129    fraction 0.64\n",
      "32\n",
      "L -6590403.48694\n",
      "decorr 24.2589453685\n",
      "L + tau R -6590403.48694\n",
      "Non zeros elements 138176    fraction 0.62\n",
      "33\n",
      "L -6587087.66886\n",
      "decorr 24.2576564779\n",
      "L + tau R -6587087.66886\n",
      "Non zeros elements 135429    fraction 0.61\n",
      "34\n",
      "L -6583988.78535\n",
      "decorr 24.2564392343\n",
      "L + tau R -6583988.78535\n",
      "Non zeros elements 132772    fraction 0.6\n",
      "35\n",
      "L -6581069.39997\n",
      "decorr 24.2552888161\n",
      "L + tau R -6581069.39997\n",
      "Non zeros elements 130269    fraction 0.59\n",
      "36\n",
      "L -6578320.68305\n",
      "decorr 24.2542065503\n",
      "L + tau R -6578320.68305\n",
      "Non zeros elements 127914    fraction 0.58\n",
      "37\n",
      "L -6575742.42681\n",
      "decorr 24.2531942925\n",
      "L + tau R -6575742.42681\n",
      "Non zeros elements 125594    fraction 0.57\n",
      "38\n",
      "L -6573331.38079\n",
      "decorr 24.2522469902\n",
      "L + tau R -6573331.38079\n",
      "Non zeros elements 123361    fraction 0.56\n",
      "39\n",
      "L -6571074.12627\n",
      "decorr 24.2513594132\n",
      "L + tau R -6571074.12627\n",
      "Non zeros elements 121276    fraction 0.55\n",
      "40\n",
      "L -6568947.04157\n",
      "decorr 24.2505262405\n",
      "L + tau R -6568947.04157\n",
      "Non zeros elements 119310    fraction 0.54\n",
      "41\n",
      "L -6566950.45483\n",
      "decorr 24.2497464622\n",
      "L + tau R -6566950.45483\n",
      "Non zeros elements 117477    fraction 0.53\n",
      "42\n",
      "L -6565075.28212\n",
      "decorr 24.2490183205\n",
      "L + tau R -6565075.28212\n",
      "Non zeros elements 115698    fraction 0.52\n",
      "43\n",
      "L -6563290.90502\n",
      "decorr 24.2483344003\n",
      "L + tau R -6563290.90502\n",
      "Non zeros elements 113902    fraction 0.51\n",
      "44\n",
      "L -6561588.89233\n",
      "decorr 24.2476962165\n",
      "L + tau R -6561588.89233\n",
      "Non zeros elements 112300    fraction 0.51\n",
      "45\n",
      "L -6559947.73138\n",
      "decorr 24.2471038029\n",
      "L + tau R -6559947.73138\n",
      "Non zeros elements 110793    fraction 0.5\n",
      "46\n",
      "L -6558350.83579\n",
      "decorr 24.246548418\n",
      "L + tau R -6558350.83579\n",
      "Non zeros elements 109247    fraction 0.49\n",
      "47\n",
      "L -6556816.05495\n",
      "decorr 24.2460253466\n",
      "L + tau R -6556816.05495\n",
      "Non zeros elements 107867    fraction 0.49\n",
      "48\n",
      "L -6555359.96582\n",
      "decorr 24.2455393214\n",
      "L + tau R -6555359.96582\n",
      "Non zeros elements 106492    fraction 0.48\n",
      "49\n",
      "L -6553963.28543\n",
      "decorr 24.2450884828\n",
      "L + tau R -6553963.28543\n",
      "Non zeros elements 105208    fraction 0.47\n"
     ]
    }
   ],
   "source": [
    "# design experiment\n",
    "\n",
    "D, W = origin_freq_matrix.shape\n",
    "T = 25\n",
    "\n",
    "np.random.seed(42)\n",
    "\n",
    "phi_matrix = np.random.uniform(size=(T, W)).astype(np.float64)\n",
    "phi_matrix /= np.sum(phi_matrix, axis=1)[:, np.newaxis]\n",
    "\n",
    "theta_matrix = np.random.uniform(size=(D, T)).astype(np.float64)\n",
    "theta_matrix /= np.sum(theta_matrix, axis=1)[:, np.newaxis]\n",
    "\n",
    "no_selection_params = {\n",
    "    'method': perform_e_step_update,\n",
    "    'block_size': 50,\n",
    "    'p_dwt_processor': trivial_p_dwt_processor\n",
    "}\n",
    "\n",
    "regularizations_list = np.zeros(50, dtype=object)\n",
    "params_list = np.zeros(50, dtype=object)\n",
    "\n",
    "regularizations_list[:] = trivial_regularization\n",
    "params_list[:] = no_selection_params\n",
    "\n",
    "phi, theta = launch_em(\n",
    "    freq_matrix=origin_freq_matrix, \n",
    "    phi_matrix=phi_matrix,\n",
    "    theta_matrix=theta_matrix,\n",
    "    logger=create_decorr_logger(0.),\n",
    "    regularizations_list=regularizations_list,\n",
    "    params_list=params_list,\n",
    "    iters_count=50\n",
    ")"
   ]
  },
  {
   "cell_type": "code",
   "execution_count": 32,
   "metadata": {
    "collapsed": false
   },
   "outputs": [
    {
     "name": "stdout",
     "output_type": "stream",
     "text": [
      "L\t\t\t\t-6553963.0\n",
      "Average topic correlation\t0.0404\n",
      "Phi nonzeros\t\t\t105208 \tfrac\t0.473856547686\n",
      "Theta nonzeros\t\t\t189182 \tfrac\t0.668842142478\n",
      "SVM score\t\t\t0.4668\n"
     ]
    }
   ],
   "source": [
    "evaluate(origin_freq_matrix, phi, theta, dataset)"
   ]
  },
  {
   "cell_type": "markdown",
   "metadata": {},
   "source": [
    "За 50 итераций алгоритм не успевает сойтись так, чтобы занулить большую часть параметров. Если сделать 100 итераций то будет гораздо лучшее решение."
   ]
  },
  {
   "cell_type": "code",
   "execution_count": null,
   "metadata": {
    "collapsed": true
   },
   "outputs": [],
   "source": []
  },
  {
   "cell_type": "markdown",
   "metadata": {},
   "source": [
    "## Регуляризатор разреживания из ARTM"
   ]
  },
  {
   "cell_type": "code",
   "execution_count": 33,
   "metadata": {
    "collapsed": false,
    "scrolled": true
   },
   "outputs": [
    {
     "name": "stdout",
     "output_type": "stream",
     "text": [
      "0\n",
      "L -7577547.3885\n",
      "decorr 24.8512951894\n",
      "L + tau R -7577547.3885\n",
      "Non zeros elements 221919    fraction 1.0\n",
      "1\n",
      "L -7544610.51603\n",
      "decorr 24.8184738235\n",
      "L + tau R -7544610.51603\n",
      "Non zeros elements 221828    fraction 1.0\n",
      "2\n",
      "L -7490069.49806\n",
      "decorr 24.7371319459\n",
      "L + tau R -7490069.49806\n",
      "Non zeros elements 221715    fraction 1.0\n",
      "3\n",
      "L -7409444.35781\n",
      "decorr 24.5702850465\n",
      "L + tau R -7409444.35781\n",
      "Non zeros elements 221523    fraction 1.0\n",
      "4\n",
      "L -7313865.19414\n",
      "decorr 24.3304800711\n",
      "L + tau R -7313865.19414\n",
      "Non zeros elements 221022    fraction 1.0\n",
      "5\n",
      "L -7219904.80033\n",
      "decorr 24.1365578558\n",
      "L + tau R -7219904.80033\n",
      "Non zeros elements 219594    fraction 0.99\n",
      "6\n",
      "L -7138936.54551\n",
      "decorr 24.0977609773\n",
      "L + tau R -7138936.54551\n",
      "Non zeros elements 214094    fraction 0.96\n",
      "7\n",
      "L -7064462.47692\n",
      "decorr 24.1177246452\n",
      "L + tau R -7064462.47692\n",
      "Non zeros elements 203373    fraction 0.92\n",
      "8\n",
      "L -6992934.24044\n",
      "decorr 24.1567988607\n",
      "L + tau R -6992934.24044\n",
      "Non zeros elements 194841    fraction 0.88\n",
      "9\n",
      "L -6928321.42456\n",
      "decorr 24.2230839572\n",
      "L + tau R -6928321.42456\n",
      "Non zeros elements 183233    fraction 0.83\n",
      "10\n",
      "L -6873989.24774\n",
      "decorr 24.2750594241\n",
      "L + tau R -6873989.24774\n",
      "Non zeros elements 169477    fraction 0.76\n",
      "11\n",
      "L -6830427.25745\n",
      "decorr 24.2894549114\n",
      "L + tau R -6830427.25745\n",
      "Non zeros elements 155596    fraction 0.7\n",
      "12\n",
      "L -6796000.66049\n",
      "decorr 24.290412764\n",
      "L + tau R -6796000.66049\n",
      "Non zeros elements 142483    fraction 0.64\n",
      "13\n",
      "L -6768269.83841\n",
      "decorr 24.2905707077\n",
      "L + tau R -6768269.83841\n",
      "Non zeros elements 131253    fraction 0.59\n",
      "14\n",
      "L -6745285.77958\n",
      "decorr 24.2899332042\n",
      "L + tau R -6745285.77958\n",
      "Non zeros elements 121781    fraction 0.55\n",
      "15\n",
      "L -6725988.92555\n",
      "decorr 24.2884269172\n",
      "L + tau R -6725988.92555\n",
      "Non zeros elements 113761    fraction 0.51\n",
      "16\n",
      "L -6709545.33745\n",
      "decorr 24.2864879782\n",
      "L + tau R -6709545.33745\n",
      "Non zeros elements 107236    fraction 0.48\n",
      "17\n",
      "L -6695286.76713\n",
      "decorr 24.2844974543\n",
      "L + tau R -6695286.76713\n",
      "Non zeros elements 101659    fraction 0.46\n",
      "18\n",
      "L -6682830.14966\n",
      "decorr 24.282492991\n",
      "L + tau R -6682830.14966\n",
      "Non zeros elements 96916    fraction 0.44\n",
      "19\n",
      "L -6671925.87846\n",
      "decorr 24.2804503695\n",
      "L + tau R -6671925.87846\n",
      "Non zeros elements 92846    fraction 0.42\n",
      "20\n",
      "L -6662376.11937\n",
      "decorr 24.2783715179\n",
      "L + tau R -6662376.11937\n",
      "Non zeros elements 89355    fraction 0.4\n",
      "21\n",
      "L -6653990.34875\n",
      "decorr 24.2762815391\n",
      "L + tau R -6653990.34875\n",
      "Non zeros elements 86236    fraction 0.39\n",
      "22\n",
      "L -6646550.9682\n",
      "decorr 24.2742011787\n",
      "L + tau R -6646550.9682\n",
      "Non zeros elements 83431    fraction 0.38\n",
      "23\n",
      "L -6639902.67686\n",
      "decorr 24.2721549216\n",
      "L + tau R -6639902.67686\n",
      "Non zeros elements 80889    fraction 0.36\n",
      "24\n",
      "L -6633935.38816\n",
      "decorr 24.2701652695\n",
      "L + tau R -6633935.38816\n",
      "Non zeros elements 78759    fraction 0.35\n",
      "25\n",
      "L -6628572.8735\n",
      "decorr 24.2682503991\n",
      "L + tau R -6628572.8735\n",
      "Non zeros elements 76740    fraction 0.35\n",
      "26\n",
      "L -6623748.41202\n",
      "decorr 24.266440326\n",
      "L + tau R -6623748.41202\n",
      "Non zeros elements 74910    fraction 0.34\n",
      "27\n",
      "L -6619400.94829\n",
      "decorr 24.2647611955\n",
      "L + tau R -6619400.94829\n",
      "Non zeros elements 73227    fraction 0.33\n",
      "28\n",
      "L -6615472.1942\n",
      "decorr 24.2632099101\n",
      "L + tau R -6615472.1942\n",
      "Non zeros elements 71790    fraction 0.32\n",
      "29\n",
      "L -6611924.76965\n",
      "decorr 24.2617678034\n",
      "L + tau R -6611924.76965\n",
      "Non zeros elements 70484    fraction 0.32\n",
      "30\n",
      "L -6608732.80509\n",
      "decorr 24.2604243083\n",
      "L + tau R -6608732.80509\n",
      "Non zeros elements 69259    fraction 0.31\n",
      "31\n",
      "L -6605856.17716\n",
      "decorr 24.2591747194\n",
      "L + tau R -6605856.17716\n",
      "Non zeros elements 68202    fraction 0.31\n",
      "32\n",
      "L -6603258.81437\n",
      "decorr 24.2580126746\n",
      "L + tau R -6603258.81437\n",
      "Non zeros elements 67190    fraction 0.3\n",
      "33\n",
      "L -6600916.21135\n",
      "decorr 24.2569301771\n",
      "L + tau R -6600916.21135\n",
      "Non zeros elements 66224    fraction 0.3\n",
      "34\n",
      "L -6598806.95438\n",
      "decorr 24.2559204917\n",
      "L + tau R -6598806.95438\n",
      "Non zeros elements 65351    fraction 0.29\n",
      "35\n",
      "L -6596907.77414\n",
      "decorr 24.2549806705\n",
      "L + tau R -6596907.77414\n",
      "Non zeros elements 64588    fraction 0.29\n",
      "36\n",
      "L -6595195.72067\n",
      "decorr 24.2541090713\n",
      "L + tau R -6595195.72067\n",
      "Non zeros elements 63808    fraction 0.29\n",
      "37\n",
      "L -6593651.33028\n",
      "decorr 24.2533029869\n",
      "L + tau R -6593651.33028\n",
      "Non zeros elements 63102    fraction 0.28\n",
      "38\n",
      "L -6592254.75416\n",
      "decorr 24.2525582209\n",
      "L + tau R -6592254.75416\n",
      "Non zeros elements 62494    fraction 0.28\n",
      "39\n",
      "L -6590988.64716\n",
      "decorr 24.2518703206\n",
      "L + tau R -6590988.64716\n",
      "Non zeros elements 61892    fraction 0.28\n",
      "40\n",
      "L -6589840.00418\n",
      "decorr 24.2512356347\n",
      "L + tau R -6589840.00418\n",
      "Non zeros elements 61306    fraction 0.28\n",
      "41\n",
      "L -6588797.14131\n",
      "decorr 24.2506495286\n",
      "L + tau R -6588797.14131\n",
      "Non zeros elements 60789    fraction 0.27\n",
      "42\n",
      "L -6587851.17323\n",
      "decorr 24.2501069881\n",
      "L + tau R -6587851.17323\n",
      "Non zeros elements 60277    fraction 0.27\n",
      "43\n",
      "L -6586994.56769\n",
      "decorr 24.2496037544\n",
      "L + tau R -6586994.56769\n",
      "Non zeros elements 59809    fraction 0.27\n",
      "44\n",
      "L -6586217.79675\n",
      "decorr 24.249136248\n",
      "L + tau R -6586217.79675\n",
      "Non zeros elements 59393    fraction 0.27\n",
      "45\n",
      "L -6585511.40158\n",
      "decorr 24.248701468\n",
      "L + tau R -6585511.40158\n",
      "Non zeros elements 59006    fraction 0.27\n",
      "46\n",
      "L -6584867.82535\n",
      "decorr 24.2482973673\n",
      "L + tau R -6584867.82535\n",
      "Non zeros elements 58632    fraction 0.26\n",
      "47\n",
      "L -6584281.64154\n",
      "decorr 24.2479227812\n",
      "L + tau R -6584281.64154\n",
      "Non zeros elements 58254    fraction 0.26\n",
      "48\n",
      "L -6583748.59474\n",
      "decorr 24.247576669\n",
      "L + tau R -6583748.59474\n",
      "Non zeros elements 57918    fraction 0.26\n",
      "49\n",
      "L -6583263.79178\n",
      "decorr 24.247257641\n",
      "L + tau R -6583263.79178\n",
      "Non zeros elements 57610    fraction 0.26\n"
     ]
    }
   ],
   "source": [
    "# design experiment\n",
    "\n",
    "D, W = origin_freq_matrix.shape\n",
    "T = 25\n",
    "\n",
    "np.random.seed(42)\n",
    "\n",
    "phi_matrix = np.random.uniform(size=(T, W)).astype(np.float64)\n",
    "phi_matrix /= np.sum(phi_matrix, axis=1)[:, np.newaxis]\n",
    "\n",
    "theta_matrix = np.random.uniform(size=(D, T)).astype(np.float64)\n",
    "theta_matrix /= np.sum(theta_matrix, axis=1)[:, np.newaxis]\n",
    "\n",
    "no_selection_params = {\n",
    "    'method': perform_e_step_update,\n",
    "    'block_size': 50,\n",
    "    'p_dwt_processor': trivial_p_dwt_processor\n",
    "}\n",
    "\n",
    "regularizations_list = np.zeros(50, dtype=object)\n",
    "params_list = np.zeros(50, dtype=object)\n",
    "\n",
    "regularizations_list[:] = create_reg_lda(-0.001, -0.001)\n",
    "params_list[:] = no_selection_params\n",
    "\n",
    "phi, theta = launch_em(\n",
    "    freq_matrix=origin_freq_matrix, \n",
    "    phi_matrix=phi_matrix,\n",
    "    theta_matrix=theta_matrix,\n",
    "    logger=create_decorr_logger(0.),\n",
    "    regularizations_list=regularizations_list,\n",
    "    params_list=params_list,\n",
    "    iters_count=50\n",
    ")"
   ]
  },
  {
   "cell_type": "code",
   "execution_count": 34,
   "metadata": {
    "collapsed": false
   },
   "outputs": [
    {
     "name": "stdout",
     "output_type": "stream",
     "text": [
      "L\t\t\t\t-6583264.0\n",
      "Average topic correlation\t0.0404\n",
      "Phi nonzeros\t\t\t57610 \tfrac\t0.259475284315\n",
      "Theta nonzeros\t\t\t71913 \tfrac\t0.254244299098\n",
      "SVM score\t\t\t0.4412\n"
     ]
    }
   ],
   "source": [
    "evaluate(origin_freq_matrix, phi, theta, dataset)"
   ]
  },
  {
   "cell_type": "markdown",
   "metadata": {},
   "source": [
    "Получены гораздо более разреженные матрицы $\\Phi$ и $\\Theta$. Однако, правдоподобие получилось чуть хуже чем у PLSA, как и качество при обучении SVM (это говорит о том, что теряется больше информации при понижении размерности чем PLSA)"
   ]
  },
  {
   "cell_type": "code",
   "execution_count": null,
   "metadata": {
    "collapsed": true
   },
   "outputs": [],
   "source": []
  },
  {
   "cell_type": "code",
   "execution_count": null,
   "metadata": {
    "collapsed": true
   },
   "outputs": [],
   "source": []
  },
  {
   "cell_type": "markdown",
   "metadata": {},
   "source": [
    "## OBG для разреживания матрицы Фи"
   ]
  },
  {
   "cell_type": "code",
   "execution_count": 35,
   "metadata": {
    "collapsed": false
   },
   "outputs": [
    {
     "name": "stdout",
     "output_type": "stream",
     "text": [
      "0\n",
      "L -7577557.14498\n",
      "decorr 24.8513606695\n",
      "L + tau R -7577557.14498\n",
      "Non zeros elements 222025    fraction 1.0\n",
      "1\n",
      "L -7544645.12672\n",
      "decorr 24.8185559002\n",
      "L + tau R -7544645.12672\n",
      "Non zeros elements 222025    fraction 1.0\n",
      "2\n",
      "L -7490147.65267\n",
      "decorr 24.7372627276\n",
      "L + tau R -7490147.65267\n",
      "Non zeros elements 222025    fraction 1.0\n",
      "3\n",
      "L -7409587.12834\n",
      "decorr 24.5705428905\n",
      "L + tau R -7409587.12834\n",
      "Non zeros elements 222025    fraction 1.0\n",
      "4\n",
      "L -7314078.58123\n",
      "decorr 24.3309707495\n",
      "L + tau R -7314078.58123\n",
      "Non zeros elements 222025    fraction 1.0\n",
      "5\n",
      "L -7220166.49586\n",
      "decorr 24.1372623993\n",
      "L + tau R -7220166.49586\n",
      "Non zeros elements 222025    fraction 1.0\n",
      "6\n",
      "L -7139209.80822\n",
      "decorr 24.098580852\n",
      "L + tau R -7139209.80822\n",
      "Non zeros elements 221994    fraction 1.0\n",
      "7\n",
      "L -7064706.38328\n",
      "decorr 24.1187026094\n",
      "L + tau R -7064706.38328\n",
      "Non zeros elements 221910    fraction 1.0\n",
      "8\n",
      "L -6993093.44012\n",
      "decorr 24.1580141136\n",
      "L + tau R -6993093.44012\n",
      "Non zeros elements 221679    fraction 1.0\n",
      "9\n",
      "L -6928340.54047\n",
      "decorr 24.2242516843\n",
      "L + tau R -6928340.54047\n",
      "Non zeros elements 219048    fraction 0.99\n",
      "10\n",
      "L -6873853.10759\n",
      "decorr 24.2757302762\n",
      "L + tau R -6873853.10759\n",
      "Non zeros elements 214546    fraction 0.97\n",
      "11\n",
      "L -6830136.57853\n",
      "decorr 24.2897126529\n",
      "L + tau R -6830136.57853\n",
      "Non zeros elements 212581    fraction 0.96\n",
      "12\n",
      "L -6795547.78934\n",
      "decorr 24.2906464686\n",
      "L + tau R -6795547.78934\n",
      "Non zeros elements 211662    fraction 0.95\n",
      "13\n",
      "L -6767606.72256\n",
      "decorr 24.2908263234\n",
      "L + tau R -6767606.72256\n",
      "Non zeros elements 210555    fraction 0.95\n",
      "14\n",
      "L -6744371.40469\n",
      "decorr 24.2901962972\n",
      "L + tau R -6744371.40469\n",
      "Non zeros elements 208854    fraction 0.94\n",
      "15\n",
      "L -6724811.07391\n",
      "decorr 24.2886606804\n",
      "L + tau R -6724811.07391\n",
      "Non zeros elements 206294    fraction 0.93\n",
      "16\n",
      "L -6708036.92691\n",
      "decorr 24.2867527434\n",
      "L + tau R -6708036.92691\n",
      "Non zeros elements 203125    fraction 0.91\n",
      "17\n",
      "L -6693358.0825\n",
      "decorr 24.2848851005\n",
      "L + tau R -6693358.0825\n",
      "Non zeros elements 199331    fraction 0.9\n",
      "18\n",
      "L -6680410.84754\n",
      "decorr 24.2831165599\n",
      "L + tau R -6680410.84754\n",
      "Non zeros elements 194921    fraction 0.88\n",
      "19\n",
      "L -6668953.09305\n",
      "decorr 24.2813579841\n",
      "L + tau R -6668953.09305\n",
      "Non zeros elements 190323    fraction 0.86\n",
      "20\n",
      "L -6658801.57241\n",
      "decorr 24.2795781799\n",
      "L + tau R -6658801.57241\n",
      "Non zeros elements 185581    fraction 0.84\n",
      "21\n",
      "L -6649786.64421\n",
      "decorr 24.2777626859\n",
      "L + tau R -6649786.64421\n",
      "Non zeros elements 180752    fraction 0.81\n",
      "22\n",
      "L -6641731.17989\n",
      "decorr 24.2759107873\n",
      "L + tau R -6641731.17989\n",
      "Non zeros elements 175877    fraction 0.79\n",
      "23\n",
      "L -6634467.22948\n",
      "decorr 24.2740535336\n",
      "L + tau R -6634467.22948\n",
      "Non zeros elements 171243    fraction 0.77\n",
      "24\n",
      "L -6627852.40448\n",
      "decorr 24.2722069565\n",
      "L + tau R -6627852.40448\n",
      "Non zeros elements 166767    fraction 0.75\n",
      "25\n",
      "L -6621782.09942\n",
      "decorr 24.2703646479\n",
      "L + tau R -6621782.09942\n",
      "Non zeros elements 162404    fraction 0.73\n",
      "26\n",
      "L -6616182.51052\n",
      "decorr 24.2685313548\n",
      "L + tau R -6616182.51052\n",
      "Non zeros elements 158296    fraction 0.71\n",
      "27\n",
      "L -6611021.53377\n",
      "decorr 24.2667389818\n",
      "L + tau R -6611021.53377\n",
      "Non zeros elements 154407    fraction 0.7\n",
      "28\n",
      "L -6606268.43558\n",
      "decorr 24.2650129972\n",
      "L + tau R -6606268.43558\n",
      "Non zeros elements 150877    fraction 0.68\n",
      "29\n",
      "L -6601871.00611\n",
      "decorr 24.2633615246\n",
      "L + tau R -6601871.00611\n",
      "Non zeros elements 147486    fraction 0.66\n",
      "30\n",
      "L -6597781.71222\n",
      "decorr 24.2617927444\n",
      "L + tau R -6597781.71222\n",
      "Non zeros elements 144249    fraction 0.65\n",
      "31\n",
      "L -6593963.92612\n",
      "decorr 24.2603198255\n",
      "L + tau R -6593963.92612\n",
      "Non zeros elements 141129    fraction 0.64\n",
      "32\n",
      "L -6590403.48694\n",
      "decorr 24.2589453685\n",
      "L + tau R -6590403.48694\n",
      "Non zeros elements 138176    fraction 0.62\n",
      "33\n",
      "L -6587087.66886\n",
      "decorr 24.2576564779\n",
      "L + tau R -6587087.66886\n",
      "Non zeros elements 135429    fraction 0.61\n",
      "34\n",
      "L -6583988.78535\n",
      "decorr 24.2564392343\n",
      "L + tau R -6583988.78535\n",
      "Non zeros elements 132772    fraction 0.6\n",
      "35\n",
      "L -6581069.39997\n",
      "decorr 24.2552888161\n",
      "L + tau R -6581069.39997\n",
      "Non zeros elements 130269    fraction 0.59\n",
      "36\n",
      "L -6578320.68305\n",
      "decorr 24.2542065503\n",
      "L + tau R -6578320.68305\n",
      "Non zeros elements 127914    fraction 0.58\n",
      "37\n",
      "L -6575742.42681\n",
      "decorr 24.2531942925\n",
      "L + tau R -6575742.42681\n",
      "Non zeros elements 125594    fraction 0.57\n",
      "38\n",
      "L -6573331.38079\n",
      "decorr 24.2522469902\n",
      "L + tau R -6573331.38079\n",
      "Non zeros elements 123361    fraction 0.56\n",
      "39\n",
      "L -6571074.12627\n",
      "decorr 24.2513594132\n",
      "L + tau R -6571074.12627\n",
      "Non zeros elements 121276    fraction 0.55\n",
      "40\n"
     ]
    },
    {
     "data": {
      "image/png": "[encoded data removed]",
      "text/plain": [
       "<matplotlib.figure.Figure at 0x9bc3210>"
      ]
     },
     "metadata": {},
     "output_type": "display_data"
    },
    {
     "name": "stdout",
     "output_type": "stream",
     "text": [
      "L -6568779.6497\n",
      "decorr 24.2504056384\n",
      "L + tau R -6568779.6497\n",
      "Non zeros elements 71117    fraction 0.32\n",
      "41\n"
     ]
    },
    {
     "data": {
      "image/png": "[encoded data removed]",
      "text/plain": [
       "<matplotlib.figure.Figure at 0xc2d9650>"
      ]
     },
     "metadata": {},
     "output_type": "display_data"
    },
    {
     "name": "stdout",
     "output_type": "stream",
     "text": [
      "L -6566786.41611\n",
      "decorr 24.2496745927\n",
      "L + tau R -6566786.41611\n",
      "Non zeros elements 68920    fraction 0.31\n",
      "42\n"
     ]
    },
    {
     "data": {
      "image/png": "[encoded data removed]",
      "text/plain": [
       "<matplotlib.figure.Figure at 0x9bcd190>"
      ]
     },
     "metadata": {},
     "output_type": "display_data"
    },
    {
     "name": "stdout",
     "output_type": "stream",
     "text": [
      "L -6564909.79286\n",
      "decorr 24.2489442008\n",
      "L + tau R -6564909.79286\n",
      "Non zeros elements 66763    fraction 0.3\n",
      "43\n"
     ]
    },
    {
     "data": {
      "image/png": "[encoded data removed]",
      "text/plain": [
       "<matplotlib.figure.Figure at 0x1f15ec50>"
      ]
     },
     "metadata": {},
     "output_type": "display_data"
    },
    {
     "name": "stdout",
     "output_type": "stream",
     "text": [
      "L -6563125.83433\n",
      "decorr 24.2482507512\n",
      "L + tau R -6563125.83433\n",
      "Non zeros elements 64734    fraction 0.29\n",
      "44\n"
     ]
    },
    {
     "data": {
      "image/png": "[encoded data removed]",
      "text/plain": [
       "<matplotlib.figure.Figure at 0xb82bb90>"
      ]
     },
     "metadata": {},
     "output_type": "display_data"
    },
    {
     "name": "stdout",
     "output_type": "stream",
     "text": [
      "L -6561434.73191\n",
      "decorr 24.2476289385\n",
      "L + tau R -6561434.73191\n",
      "Non zeros elements 62842    fraction 0.28\n",
      "45\n"
     ]
    },
    {
     "data": {
      "image/png": "[encoded data removed]",
      "text/plain": [
       "<matplotlib.figure.Figure at 0xc683350>"
      ]
     },
     "metadata": {},
     "output_type": "display_data"
    },
    {
     "name": "stdout",
     "output_type": "stream",
     "text": [
      "L -6559790.35685\n",
      "decorr 24.2470319328\n",
      "L + tau R -6559790.35685\n",
      "Non zeros elements 61013    fraction 0.27\n",
      "46\n"
     ]
    },
    {
     "data": {
      "image/png": "[encoded data removed]",
      "text/plain": [
       "<matplotlib.figure.Figure at 0x1f027490>"
      ]
     },
     "metadata": {},
     "output_type": "display_data"
    },
    {
     "name": "stdout",
     "output_type": "stream",
     "text": [
      "L -6558182.37769\n",
      "decorr 24.2464616841\n",
      "L + tau R -6558182.37769\n",
      "Non zeros elements 59312    fraction 0.27\n",
      "47\n"
     ]
    },
    {
     "data": {
      "image/png": "[encoded data removed]",
      "text/plain": [
       "<matplotlib.figure.Figure at 0x1d874a10>"
      ]
     },
     "metadata": {},
     "output_type": "display_data"
    },
    {
     "name": "stdout",
     "output_type": "stream",
     "text": [
      "L -6556643.65851\n",
      "decorr 24.2459050307\n",
      "L + tau R -6556643.65851\n",
      "Non zeros elements 57715    fraction 0.26\n",
      "48\n"
     ]
    },
    {
     "data": {
      "image/png": "[encoded data removed]",
      "text/plain": [
       "<matplotlib.figure.Figure at 0x1d8740d0>"
      ]
     },
     "metadata": {},
     "output_type": "display_data"
    },
    {
     "name": "stdout",
     "output_type": "stream",
     "text": [
      "L -6555192.16538\n",
      "decorr 24.2453338334\n",
      "L + tau R -6555192.16538\n",
      "Non zeros elements 56199    fraction 0.25\n",
      "49\n"
     ]
    },
    {
     "data": {
      "image/png": "[encoded data removed]",
      "text/plain": [
       "<matplotlib.figure.Figure at 0x144a56d0>"
      ]
     },
     "metadata": {},
     "output_type": "display_data"
    },
    {
     "name": "stdout",
     "output_type": "stream",
     "text": [
      "L -6553846.81895\n",
      "decorr 24.2447693557\n",
      "L + tau R -6553846.81895\n",
      "Non zeros elements 54757    fraction 0.25\n"
     ]
    }
   ],
   "source": [
    "# design experiment\n",
    "\n",
    "D, W = origin_freq_matrix.shape\n",
    "T = 25\n",
    "\n",
    "np.random.seed(42)\n",
    "\n",
    "phi_matrix = np.random.uniform(size=(T, W)).astype(np.float64)\n",
    "phi_matrix /= np.sum(phi_matrix, axis=1)[:, np.newaxis]\n",
    "\n",
    "theta_matrix = np.random.uniform(size=(D, T)).astype(np.float64)\n",
    "theta_matrix /= np.sum(theta_matrix, axis=1)[:, np.newaxis]\n",
    "\n",
    "no_selection_params = {\n",
    "    'method': perform_e_step_update,\n",
    "    'block_size': 50,\n",
    "    'p_dwt_processor': trivial_p_dwt_processor\n",
    "}\n",
    "obg_selection_params = {\n",
    "    'method': perform_obg_e_step_update,\n",
    "    'block_size': 50,\n",
    "    'percentile': 97.5\n",
    "}\n",
    "\n",
    "regularizations_list = np.zeros(50, dtype=object)\n",
    "params_list = np.zeros(50, dtype=object)\n",
    "\n",
    "regularizations_list[:40] = trivial_regularization\n",
    "regularizations_list[40:] = trivial_regularization\n",
    "params_list[:40] = no_selection_params\n",
    "params_list[40:] = obg_selection_params\n",
    "\n",
    "phi, theta = launch_em(\n",
    "    freq_matrix=origin_freq_matrix, \n",
    "    phi_matrix=phi_matrix,\n",
    "    theta_matrix=theta_matrix,\n",
    "    logger=create_decorr_logger(0.),\n",
    "    regularizations_list=regularizations_list,\n",
    "    params_list=params_list,\n",
    "    iters_count=50\n",
    ")"
   ]
  },
  {
   "cell_type": "markdown",
   "metadata": {},
   "source": [
    "Начиная с 45ой итерации отображаются распределения логарифмов значений $\\Delta L$ при занулении элементов матрицы $\\Phi$"
   ]
  },
  {
   "cell_type": "code",
   "execution_count": 36,
   "metadata": {
    "collapsed": false
   },
   "outputs": [
    {
     "name": "stdout",
     "output_type": "stream",
     "text": [
      "L\t\t\t\t-6553847.0\n",
      "Average topic correlation\t0.0404\n",
      "Phi nonzeros\t\t\t54757 \tfrac\t0.246625380025\n",
      "Theta nonzeros\t\t\t189167 \tfrac\t0.668789110836\n",
      "SVM score\t\t\t0.4669\n"
     ]
    }
   ],
   "source": [
    "evaluate(origin_freq_matrix, phi, theta, dataset)"
   ]
  },
  {
   "cell_type": "markdown",
   "metadata": {},
   "source": [
    "Матрица $\\Phi$ существенно более разрежена чем при PLSA (0.54 не нулей против 0.8) и при разреживающим LDA (0.54 против 0.64). Однако, правдоподобие немного лишь хуже чем при PLSA, а качество SVM даже выше. Разреживание $\\Phi$ происходит отчасти за счёт уменьшения разреженности $\\Theta$ (такая же как у PLSA)."
   ]
  },
  {
   "cell_type": "code",
   "execution_count": null,
   "metadata": {
    "collapsed": true
   },
   "outputs": [],
   "source": []
  },
  {
   "cell_type": "markdown",
   "metadata": {},
   "source": [
    "## OBD для $\\Phi$ и $\\Theta$"
   ]
  },
  {
   "cell_type": "code",
   "execution_count": 43,
   "metadata": {
    "collapsed": false
   },
   "outputs": [
    {
     "name": "stdout",
     "output_type": "stream",
     "text": [
      "0\n",
      "L -7577557.14498\n",
      "decorr 24.8513606695\n",
      "L + tau R -7577557.14498\n",
      "Non zeros elements 222025    fraction 1.0\n",
      "1\n",
      "L -7544645.12672\n",
      "decorr 24.8185559002\n",
      "L + tau R -7544645.12672\n",
      "Non zeros elements 222025    fraction 1.0\n",
      "2\n",
      "L -7490147.65267\n",
      "decorr 24.7372627276\n",
      "L + tau R -7490147.65267\n",
      "Non zeros elements 222025    fraction 1.0\n",
      "3\n",
      "L -7409587.12834\n",
      "decorr 24.5705428905\n",
      "L + tau R -7409587.12834\n",
      "Non zeros elements 222025    fraction 1.0\n",
      "4\n",
      "L -7314078.58123\n",
      "decorr 24.3309707495\n",
      "L + tau R -7314078.58123\n",
      "Non zeros elements 222025    fraction 1.0\n",
      "5\n",
      "L -7220166.49586\n",
      "decorr 24.1372623993\n",
      "L + tau R -7220166.49586\n",
      "Non zeros elements 222025    fraction 1.0\n",
      "6\n",
      "L -7139209.80822\n",
      "decorr 24.098580852\n",
      "L + tau R -7139209.80822\n",
      "Non zeros elements 221994    fraction 1.0\n",
      "7\n",
      "L -7064706.38328\n",
      "decorr 24.1187026094\n",
      "L + tau R -7064706.38328\n",
      "Non zeros elements 221910    fraction 1.0\n",
      "8\n",
      "L -6993093.44012\n",
      "decorr 24.1580141136\n",
      "L + tau R -6993093.44012\n",
      "Non zeros elements 221679    fraction 1.0\n",
      "9\n",
      "L -6928340.54047\n",
      "decorr 24.2242516843\n",
      "L + tau R -6928340.54047\n",
      "Non zeros elements 219048    fraction 0.99\n",
      "10\n",
      "L -6873853.10759\n",
      "decorr 24.2757302762\n",
      "L + tau R -6873853.10759\n",
      "Non zeros elements 214546    fraction 0.97\n",
      "11\n",
      "L -6830136.57853\n",
      "decorr 24.2897126529\n",
      "L + tau R -6830136.57853\n",
      "Non zeros elements 212581    fraction 0.96\n",
      "12\n",
      "L -6795547.78934\n",
      "decorr 24.2906464686\n",
      "L + tau R -6795547.78934\n",
      "Non zeros elements 211662    fraction 0.95\n",
      "13\n",
      "L -6767606.72256\n",
      "decorr 24.2908263234\n",
      "L + tau R -6767606.72256\n",
      "Non zeros elements 210555    fraction 0.95\n",
      "14\n",
      "L -6744371.40469\n",
      "decorr 24.2901962972\n",
      "L + tau R -6744371.40469\n",
      "Non zeros elements 208854    fraction 0.94\n",
      "15\n",
      "L -6724811.07391\n",
      "decorr 24.2886606804\n",
      "L + tau R -6724811.07391\n",
      "Non zeros elements 206294    fraction 0.93\n",
      "16\n",
      "L -6708036.92691\n",
      "decorr 24.2867527434\n",
      "L + tau R -6708036.92691\n",
      "Non zeros elements 203125    fraction 0.91\n",
      "17\n",
      "L -6693358.0825\n",
      "decorr 24.2848851005\n",
      "L + tau R -6693358.0825\n",
      "Non zeros elements 199331    fraction 0.9\n",
      "18\n",
      "L -6680410.84754\n",
      "decorr 24.2831165599\n",
      "L + tau R -6680410.84754\n",
      "Non zeros elements 194921    fraction 0.88\n",
      "19\n",
      "L -6668953.09305\n",
      "decorr 24.2813579841\n",
      "L + tau R -6668953.09305\n",
      "Non zeros elements 190323    fraction 0.86\n",
      "20\n",
      "L -6658801.57241\n",
      "decorr 24.2795781799\n",
      "L + tau R -6658801.57241\n",
      "Non zeros elements 185581    fraction 0.84\n",
      "21\n",
      "L -6649786.64421\n",
      "decorr 24.2777626859\n",
      "L + tau R -6649786.64421\n",
      "Non zeros elements 180752    fraction 0.81\n",
      "22\n",
      "L -6641731.17989\n",
      "decorr 24.2759107873\n",
      "L + tau R -6641731.17989\n",
      "Non zeros elements 175877    fraction 0.79\n",
      "23\n",
      "L -6634467.22948\n",
      "decorr 24.2740535336\n",
      "L + tau R -6634467.22948\n",
      "Non zeros elements 171243    fraction 0.77\n",
      "24\n",
      "L -6627852.40448\n",
      "decorr 24.2722069565\n",
      "L + tau R -6627852.40448\n",
      "Non zeros elements 166767    fraction 0.75\n",
      "25\n",
      "L -6621782.09942\n",
      "decorr 24.2703646479\n",
      "L + tau R -6621782.09942\n",
      "Non zeros elements 162404    fraction 0.73\n",
      "26\n",
      "L -6616182.51052\n",
      "decorr 24.2685313548\n",
      "L + tau R -6616182.51052\n",
      "Non zeros elements 158296    fraction 0.71\n",
      "27\n",
      "L -6611021.53377\n",
      "decorr 24.2667389818\n",
      "L + tau R -6611021.53377\n",
      "Non zeros elements 154407    fraction 0.7\n",
      "28\n",
      "L -6606268.43558\n",
      "decorr 24.2650129972\n",
      "L + tau R -6606268.43558\n",
      "Non zeros elements 150877    fraction 0.68\n",
      "29\n",
      "L -6601871.00611\n",
      "decorr 24.2633615246\n",
      "L + tau R -6601871.00611\n",
      "Non zeros elements 147486    fraction 0.66\n",
      "30\n",
      "L -6597781.71222\n",
      "decorr 24.2617927444\n",
      "L + tau R -6597781.71222\n",
      "Non zeros elements 144249    fraction 0.65\n",
      "31\n",
      "L -6593963.92612\n",
      "decorr 24.2603198255\n",
      "L + tau R -6593963.92612\n",
      "Non zeros elements 141129    fraction 0.64\n",
      "32\n",
      "L -6590403.48694\n",
      "decorr 24.2589453685\n",
      "L + tau R -6590403.48694\n",
      "Non zeros elements 138176    fraction 0.62\n",
      "33\n",
      "L -6587087.66886\n",
      "decorr 24.2576564779\n",
      "L + tau R -6587087.66886\n",
      "Non zeros elements 135429    fraction 0.61\n",
      "34\n",
      "L -6583988.78535\n",
      "decorr 24.2564392343\n",
      "L + tau R -6583988.78535\n",
      "Non zeros elements 132772    fraction 0.6\n",
      "35\n",
      "L -6581069.39997\n",
      "decorr 24.2552888161\n",
      "L + tau R -6581069.39997\n",
      "Non zeros elements 130269    fraction 0.59\n",
      "36\n",
      "L -6578320.68305\n",
      "decorr 24.2542065503\n",
      "L + tau R -6578320.68305\n",
      "Non zeros elements 127914    fraction 0.58\n",
      "37\n",
      "L -6575742.42681\n",
      "decorr 24.2531942925\n",
      "L + tau R -6575742.42681\n",
      "Non zeros elements 125594    fraction 0.57\n",
      "38\n",
      "L -6573331.38079\n",
      "decorr 24.2522469902\n",
      "L + tau R -6573331.38079\n",
      "Non zeros elements 123361    fraction 0.56\n",
      "39\n",
      "L -6571074.12627\n",
      "decorr 24.2513594132\n",
      "L + tau R -6571074.12627\n",
      "Non zeros elements 121276    fraction 0.55\n",
      "40\n"
     ]
    },
    {
     "data": {
      "image/png": "[encoded data removed]",
      "text/plain": [
       "<matplotlib.figure.Figure at 0xb93ab90>"
      ]
     },
     "metadata": {},
     "output_type": "display_data"
    },
    {
     "name": "stdout",
     "output_type": "stream",
     "text": [
      "L -6568779.64966\n",
      "decorr 24.2504056383\n",
      "L + tau R -6568779.64966\n",
      "Non zeros elements 69658    fraction 0.31\n",
      "41\n"
     ]
    },
    {
     "data": {
      "image/png": "[encoded data removed]",
      "text/plain": [
       "<matplotlib.figure.Figure at 0x9bc0290>"
      ]
     },
     "metadata": {},
     "output_type": "display_data"
    },
    {
     "name": "stdout",
     "output_type": "stream",
     "text": [
      "L -6566786.38453\n",
      "decorr 24.2496745414\n",
      "L + tau R -6566786.38453\n",
      "Non zeros elements 66150    fraction 0.3\n",
      "42\n"
     ]
    },
    {
     "data": {
      "image/png": "[encoded data removed]",
      "text/plain": [
       "<matplotlib.figure.Figure at 0x15a307d0>"
      ]
     },
     "metadata": {},
     "output_type": "display_data"
    },
    {
     "name": "stdout",
     "output_type": "stream",
     "text": [
      "L -6564908.22079\n",
      "decorr 24.2489412938\n",
      "L + tau R -6564908.22079\n",
      "Non zeros elements 62810    fraction 0.28\n",
      "43\n"
     ]
    },
    {
     "data": {
      "image/png": "[encoded data removed]",
      "text/plain": [
       "<matplotlib.figure.Figure at 0x1899c790>"
      ]
     },
     "metadata": {},
     "output_type": "display_data"
    },
    {
     "name": "stdout",
     "output_type": "stream",
     "text": [
      "L -6563113.05164\n",
      "decorr 24.2482228468\n",
      "L + tau R -6563113.05164\n",
      "Non zeros elements 59742    fraction 0.27\n",
      "44\n"
     ]
    },
    {
     "data": {
      "image/png": "[encoded data removed]",
      "text/plain": [
       "<matplotlib.figure.Figure at 0x117ae390>"
      ]
     },
     "metadata": {},
     "output_type": "display_data"
    },
    {
     "name": "stdout",
     "output_type": "stream",
     "text": [
      "L -6561395.4411\n",
      "decorr 24.2474867465\n",
      "L + tau R -6561395.4411\n",
      "Non zeros elements 56943    fraction 0.26\n",
      "45\n"
     ]
    },
    {
     "data": {
      "image/png": "[encoded data removed]",
      "text/plain": [
       "<matplotlib.figure.Figure at 0xc684c90>"
      ]
     },
     "metadata": {},
     "output_type": "display_data"
    },
    {
     "name": "stdout",
     "output_type": "stream",
     "text": [
      "L -6559778.3602\n",
      "decorr 24.2466484006\n",
      "L + tau R -6559778.3602\n",
      "Non zeros elements 54317    fraction 0.24\n",
      "46\n"
     ]
    },
    {
     "data": {
      "image/png": "[encoded data removed]",
      "text/plain": [
       "<matplotlib.figure.Figure at 0xf086f90>"
      ]
     },
     "metadata": {},
     "output_type": "display_data"
    },
    {
     "name": "stdout",
     "output_type": "stream",
     "text": [
      "L -6558415.31836\n",
      "decorr 24.2455355107\n",
      "L + tau R -6558415.31836\n",
      "Non zeros elements 51842    fraction 0.23\n",
      "47\n"
     ]
    },
    {
     "data": {
      "image/png": "[encoded data removed]",
      "text/plain": [
       "<matplotlib.figure.Figure at 0xf070790>"
      ]
     },
     "metadata": {},
     "output_type": "display_data"
    },
    {
     "name": "stdout",
     "output_type": "stream",
     "text": [
      "L -6557547.09165\n",
      "decorr 24.2442213156\n",
      "L + tau R -6557547.09165\n",
      "Non zeros elements 49500    fraction 0.22\n",
      "48\n"
     ]
    },
    {
     "data": {
      "image/png": "[encoded data removed]",
      "text/plain": [
       "<matplotlib.figure.Figure at 0x1d9e1350>"
      ]
     },
     "metadata": {},
     "output_type": "display_data"
    },
    {
     "name": "stdout",
     "output_type": "stream",
     "text": [
      "L -6557245.36163\n",
      "decorr 24.2426792803\n",
      "L + tau R -6557245.36163\n",
      "Non zeros elements 47269    fraction 0.21\n",
      "49\n"
     ]
    },
    {
     "data": {
      "image/png": "[encoded data removed]",
      "text/plain": [
       "<matplotlib.figure.Figure at 0xc667d50>"
      ]
     },
     "metadata": {},
     "output_type": "display_data"
    },
    {
     "name": "stdout",
     "output_type": "stream",
     "text": [
      "L -6557589.62725\n",
      "decorr 24.2411846209\n",
      "L + tau R -6557589.62725\n",
      "Non zeros elements 45140    fraction 0.2\n"
     ]
    }
   ],
   "source": [
    "# design experiment\n",
    "\n",
    "D, W = origin_freq_matrix.shape\n",
    "T = 25\n",
    "\n",
    "np.random.seed(42)\n",
    "\n",
    "phi_matrix = np.random.uniform(size=(T, W)).astype(np.float64)\n",
    "phi_matrix /= np.sum(phi_matrix, axis=1)[:, np.newaxis]\n",
    "\n",
    "theta_matrix = np.random.uniform(size=(D, T)).astype(np.float64)\n",
    "theta_matrix /= np.sum(theta_matrix, axis=1)[:, np.newaxis]\n",
    "\n",
    "no_selection_params = {\n",
    "    'method': perform_e_step_update,\n",
    "    'block_size': 50,\n",
    "    'p_dwt_processor': trivial_p_dwt_processor\n",
    "}\n",
    "obg_selection_params = {\n",
    "    'method': perform_obg_e_step_update,\n",
    "    'block_size': 50,\n",
    "    'percentile': 95.5,\n",
    "    'theta_obg': True\n",
    "}\n",
    "\n",
    "regularizations_list = np.zeros(50, dtype=object)\n",
    "params_list = np.zeros(50, dtype=object)\n",
    "\n",
    "regularizations_list[:40] = trivial_regularization\n",
    "regularizations_list[40:] = trivial_regularization\n",
    "params_list[:40] = no_selection_params\n",
    "params_list[40:] = obg_selection_params\n",
    "\n",
    "phi, theta = launch_em(\n",
    "    freq_matrix=origin_freq_matrix, \n",
    "    phi_matrix=phi_matrix,\n",
    "    theta_matrix=theta_matrix,\n",
    "    logger=create_decorr_logger(0.),\n",
    "    regularizations_list=regularizations_list,\n",
    "    params_list=params_list,\n",
    "    iters_count=50\n",
    ")"
   ]
  },
  {
   "cell_type": "code",
   "execution_count": 44,
   "metadata": {
    "collapsed": false
   },
   "outputs": [
    {
     "name": "stdout",
     "output_type": "stream",
     "text": [
      "L\t\t\t\t-6557590.0\n",
      "Average topic correlation\t0.0404\n",
      "Phi nonzeros\t\t\t45140 \tfrac\t0.203310438014\n",
      "Theta nonzeros\t\t\t124591 \tfrac\t0.440484355666\n",
      "SVM score\t\t\t0.4678\n"
     ]
    }
   ],
   "source": [
    "evaluate(origin_freq_matrix, phi, theta, dataset)"
   ]
  },
  {
   "cell_type": "markdown",
   "metadata": {},
   "source": [
    "При тех же значениях метрик качества, количество нулей в матрице $\\Theta$ уменьшилось."
   ]
  },
  {
   "cell_type": "code",
   "execution_count": null,
   "metadata": {
    "collapsed": true
   },
   "outputs": [],
   "source": []
  },
  {
   "cell_type": "markdown",
   "metadata": {},
   "source": [
    "Возможно зануления OBD повторяют зануления lda разреживания. Чтобы проверить это, применим obd к матрицам полученным при помощи lda регуляризатора."
   ]
  },
  {
   "cell_type": "markdown",
   "metadata": {},
   "source": [
    "## OBD для $\\Phi$ и $\\Theta$ поверх регуляризатора разреживания"
   ]
  },
  {
   "cell_type": "code",
   "execution_count": 39,
   "metadata": {
    "collapsed": false
   },
   "outputs": [
    {
     "name": "stdout",
     "output_type": "stream",
     "text": [
      "0\n",
      "L -7577547.3885\n",
      "decorr 24.8512951894\n",
      "L + tau R -7577547.3885\n",
      "Non zeros elements 221919    fraction 1.0\n",
      "1\n",
      "L -7544610.51603\n",
      "decorr 24.8184738235\n",
      "L + tau R -7544610.51603\n",
      "Non zeros elements 221828    fraction 1.0\n",
      "2\n",
      "L -7490069.49806\n",
      "decorr 24.7371319459\n",
      "L + tau R -7490069.49806\n",
      "Non zeros elements 221715    fraction 1.0\n",
      "3\n",
      "L -7409444.35781\n",
      "decorr 24.5702850465\n",
      "L + tau R -7409444.35781\n",
      "Non zeros elements 221523    fraction 1.0\n",
      "4\n",
      "L -7313865.19414\n",
      "decorr 24.3304800711\n",
      "L + tau R -7313865.19414\n",
      "Non zeros elements 221022    fraction 1.0\n",
      "5\n",
      "L -7219904.80033\n",
      "decorr 24.1365578558\n",
      "L + tau R -7219904.80033\n",
      "Non zeros elements 219594    fraction 0.99\n",
      "6\n",
      "L -7138936.54551\n",
      "decorr 24.0977609773\n",
      "L + tau R -7138936.54551\n",
      "Non zeros elements 214094    fraction 0.96\n",
      "7\n",
      "L -7064462.47692\n",
      "decorr 24.1177246452\n",
      "L + tau R -7064462.47692\n",
      "Non zeros elements 203373    fraction 0.92\n",
      "8\n",
      "L -6992934.24044\n",
      "decorr 24.1567988607\n",
      "L + tau R -6992934.24044\n",
      "Non zeros elements 194841    fraction 0.88\n",
      "9\n",
      "L -6928321.42456\n",
      "decorr 24.2230839572\n",
      "L + tau R -6928321.42456\n",
      "Non zeros elements 183233    fraction 0.83\n",
      "10\n",
      "L -6873989.24774\n",
      "decorr 24.2750594241\n",
      "L + tau R -6873989.24774\n",
      "Non zeros elements 169477    fraction 0.76\n",
      "11\n",
      "L -6830427.25745\n",
      "decorr 24.2894549114\n",
      "L + tau R -6830427.25745\n",
      "Non zeros elements 155596    fraction 0.7\n",
      "12\n",
      "L -6796000.66049\n",
      "decorr 24.290412764\n",
      "L + tau R -6796000.66049\n",
      "Non zeros elements 142483    fraction 0.64\n",
      "13\n",
      "L -6768269.83841\n",
      "decorr 24.2905707077\n",
      "L + tau R -6768269.83841\n",
      "Non zeros elements 131253    fraction 0.59\n",
      "14\n",
      "L -6745285.77958\n",
      "decorr 24.2899332042\n",
      "L + tau R -6745285.77958\n",
      "Non zeros elements 121781    fraction 0.55\n",
      "15\n",
      "L -6725988.92555\n",
      "decorr 24.2884269172\n",
      "L + tau R -6725988.92555\n",
      "Non zeros elements 113761    fraction 0.51\n",
      "16\n",
      "L -6709545.33745\n",
      "decorr 24.2864879782\n",
      "L + tau R -6709545.33745\n",
      "Non zeros elements 107236    fraction 0.48\n",
      "17\n",
      "L -6695286.76713\n",
      "decorr 24.2844974543\n",
      "L + tau R -6695286.76713\n",
      "Non zeros elements 101659    fraction 0.46\n",
      "18\n",
      "L -6682830.14966\n",
      "decorr 24.282492991\n",
      "L + tau R -6682830.14966\n",
      "Non zeros elements 96916    fraction 0.44\n",
      "19\n",
      "L -6671925.87846\n",
      "decorr 24.2804503695\n",
      "L + tau R -6671925.87846\n",
      "Non zeros elements 92846    fraction 0.42\n",
      "20\n",
      "L -6662376.11937\n",
      "decorr 24.2783715179\n",
      "L + tau R -6662376.11937\n",
      "Non zeros elements 89355    fraction 0.4\n",
      "21\n",
      "L -6653990.34875\n",
      "decorr 24.2762815391\n",
      "L + tau R -6653990.34875\n",
      "Non zeros elements 86236    fraction 0.39\n",
      "22\n",
      "L -6646550.9682\n",
      "decorr 24.2742011787\n",
      "L + tau R -6646550.9682\n",
      "Non zeros elements 83431    fraction 0.38\n",
      "23\n",
      "L -6639902.67686\n",
      "decorr 24.2721549216\n",
      "L + tau R -6639902.67686\n",
      "Non zeros elements 80889    fraction 0.36\n",
      "24\n",
      "L -6633935.38816\n",
      "decorr 24.2701652695\n",
      "L + tau R -6633935.38816\n",
      "Non zeros elements 78759    fraction 0.35\n",
      "25\n",
      "L -6628572.8735\n",
      "decorr 24.2682503991\n",
      "L + tau R -6628572.8735\n",
      "Non zeros elements 76740    fraction 0.35\n",
      "26\n",
      "L -6623748.41202\n",
      "decorr 24.266440326\n",
      "L + tau R -6623748.41202\n",
      "Non zeros elements 74910    fraction 0.34\n",
      "27\n",
      "L -6619400.94829\n",
      "decorr 24.2647611955\n",
      "L + tau R -6619400.94829\n",
      "Non zeros elements 73227    fraction 0.33\n",
      "28\n",
      "L -6615472.1942\n",
      "decorr 24.2632099101\n",
      "L + tau R -6615472.1942\n",
      "Non zeros elements 71790    fraction 0.32\n",
      "29\n",
      "L -6611924.76965\n",
      "decorr 24.2617678034\n",
      "L + tau R -6611924.76965\n",
      "Non zeros elements 70484    fraction 0.32\n",
      "30\n",
      "L -6608732.80509\n",
      "decorr 24.2604243083\n",
      "L + tau R -6608732.80509\n",
      "Non zeros elements 69259    fraction 0.31\n",
      "31\n",
      "L -6605856.17716\n",
      "decorr 24.2591747194\n",
      "L + tau R -6605856.17716\n",
      "Non zeros elements 68202    fraction 0.31\n",
      "32\n",
      "L -6603258.81437\n",
      "decorr 24.2580126746\n",
      "L + tau R -6603258.81437\n",
      "Non zeros elements 67190    fraction 0.3\n",
      "33\n",
      "L -6600916.21135\n",
      "decorr 24.2569301771\n",
      "L + tau R -6600916.21135\n",
      "Non zeros elements 66224    fraction 0.3\n",
      "34\n",
      "L -6598806.95438\n",
      "decorr 24.2559204917\n",
      "L + tau R -6598806.95438\n",
      "Non zeros elements 65351    fraction 0.29\n",
      "35\n",
      "L -6596907.77414\n",
      "decorr 24.2549806705\n",
      "L + tau R -6596907.77414\n",
      "Non zeros elements 64588    fraction 0.29\n",
      "36\n",
      "L -6595195.72067\n",
      "decorr 24.2541090713\n",
      "L + tau R -6595195.72067\n",
      "Non zeros elements 63808    fraction 0.29\n",
      "37\n",
      "L -6593651.33028\n",
      "decorr 24.2533029869\n",
      "L + tau R -6593651.33028\n",
      "Non zeros elements 63102    fraction 0.28\n",
      "38\n",
      "L -6592254.75416\n",
      "decorr 24.2525582209\n",
      "L + tau R -6592254.75416\n",
      "Non zeros elements 62494    fraction 0.28\n",
      "39\n",
      "L -6590988.64716\n",
      "decorr 24.2518703206\n",
      "L + tau R -6590988.64716\n",
      "Non zeros elements 61892    fraction 0.28\n",
      "40\n"
     ]
    },
    {
     "data": {
      "image/png": "[encoded data removed]",
      "text/plain": [
       "<matplotlib.figure.Figure at 0xb93a890>"
      ]
     },
     "metadata": {},
     "output_type": "display_data"
    },
    {
     "name": "stdout",
     "output_type": "stream",
     "text": [
      "L -6589743.96595\n",
      "decorr 24.2511713022\n",
      "L + tau R -6589743.96595\n",
      "Non zeros elements 57138    fraction 0.26\n",
      "41\n"
     ]
    },
    {
     "data": {
      "image/png": "[encoded data removed]",
      "text/plain": [
       "<matplotlib.figure.Figure at 0x9fc2b10>"
      ]
     },
     "metadata": {},
     "output_type": "display_data"
    },
    {
     "name": "stdout",
     "output_type": "stream",
     "text": [
      "L -6588700.40741\n",
      "decorr 24.2506071396\n",
      "L + tau R -6588700.40741\n",
      "Non zeros elements 56143    fraction 0.25\n",
      "42\n"
     ]
    },
    {
     "data": {
      "image/png": "[encoded data removed]",
      "text/plain": [
       "<matplotlib.figure.Figure at 0x1f16c450>"
      ]
     },
     "metadata": {},
     "output_type": "display_data"
    },
    {
     "name": "stdout",
     "output_type": "stream",
     "text": [
      "L -6587752.81539\n",
      "decorr 24.2500552256\n",
      "L + tau R -6587752.81539\n",
      "Non zeros elements 55213    fraction 0.25\n",
      "43\n"
     ]
    },
    {
     "data": {
      "image/png": "[encoded data removed]",
      "text/plain": [
       "<matplotlib.figure.Figure at 0xb82ab10>"
      ]
     },
     "metadata": {},
     "output_type": "display_data"
    },
    {
     "name": "stdout",
     "output_type": "stream",
     "text": [
      "L -6586891.288\n",
      "decorr 24.2495325261\n",
      "L + tau R -6586891.288\n",
      "Non zeros elements 54338    fraction 0.24\n",
      "44\n"
     ]
    },
    {
     "data": {
      "image/png": "[encoded data removed]",
      "text/plain": [
       "<matplotlib.figure.Figure at 0x1f152750>"
      ]
     },
     "metadata": {},
     "output_type": "display_data"
    },
    {
     "name": "stdout",
     "output_type": "stream",
     "text": [
      "L -6586109.6417\n",
      "decorr 24.2490252326\n",
      "L + tau R -6586109.6417\n",
      "Non zeros elements 53496    fraction 0.24\n",
      "45\n"
     ]
    },
    {
     "data": {
      "image/png": "[encoded data removed]",
      "text/plain": [
       "<matplotlib.figure.Figure at 0x1d88dfd0>"
      ]
     },
     "metadata": {},
     "output_type": "display_data"
    },
    {
     "name": "stdout",
     "output_type": "stream",
     "text": [
      "L -6585391.596\n",
      "decorr 24.2485469942\n",
      "L + tau R -6585391.596\n",
      "Non zeros elements 52673    fraction 0.24\n",
      "46\n"
     ]
    },
    {
     "data": {
      "image/png": "[encoded data removed]",
      "text/plain": [
       "<matplotlib.figure.Figure at 0xc63fd10>"
      ]
     },
     "metadata": {},
     "output_type": "display_data"
    },
    {
     "name": "stdout",
     "output_type": "stream",
     "text": [
      "L -6584740.28716\n",
      "decorr 24.2480849582\n",
      "L + tau R -6584740.28716\n",
      "Non zeros elements 51871    fraction 0.23\n",
      "47\n"
     ]
    },
    {
     "data": {
      "image/png": "[encoded data removed]",
      "text/plain": [
       "<matplotlib.figure.Figure at 0xd275750>"
      ]
     },
     "metadata": {},
     "output_type": "display_data"
    },
    {
     "name": "stdout",
     "output_type": "stream",
     "text": [
      "L -6584149.7094\n",
      "decorr 24.2476029898\n",
      "L + tau R -6584149.7094\n",
      "Non zeros elements 51089    fraction 0.23\n",
      "48\n"
     ]
    },
    {
     "data": {
      "image/png": "[encoded data removed]",
      "text/plain": [
       "<matplotlib.figure.Figure at 0xb811c50>"
      ]
     },
     "metadata": {},
     "output_type": "display_data"
    },
    {
     "name": "stdout",
     "output_type": "stream",
     "text": [
      "L -6583629.89651\n",
      "decorr 24.2471389707\n",
      "L + tau R -6583629.89651\n",
      "Non zeros elements 50322    fraction 0.23\n",
      "49\n"
     ]
    },
    {
     "data": {
      "image/png": "[encoded data removed]",
      "text/plain": [
       "<matplotlib.figure.Figure at 0x1f01d810>"
      ]
     },
     "metadata": {},
     "output_type": "display_data"
    },
    {
     "name": "stdout",
     "output_type": "stream",
     "text": [
      "L -6583167.71516\n",
      "decorr 24.2466267673\n",
      "L + tau R -6583167.71516\n",
      "Non zeros elements 49566    fraction 0.22\n"
     ]
    }
   ],
   "source": [
    "# design experiment\n",
    "\n",
    "D, W = origin_freq_matrix.shape\n",
    "T = 25\n",
    "\n",
    "np.random.seed(42)\n",
    "\n",
    "phi_matrix = np.random.uniform(size=(T, W)).astype(np.float64)\n",
    "phi_matrix /= np.sum(phi_matrix, axis=1)[:, np.newaxis]\n",
    "\n",
    "theta_matrix = np.random.uniform(size=(D, T)).astype(np.float64)\n",
    "theta_matrix /= np.sum(theta_matrix, axis=1)[:, np.newaxis]\n",
    "\n",
    "no_selection_params = {\n",
    "    'method': perform_e_step_update,\n",
    "    'block_size': 50,\n",
    "    'p_dwt_processor': trivial_p_dwt_processor\n",
    "}\n",
    "obg_selection_params = {\n",
    "    'method': perform_obg_e_step_update,\n",
    "    'block_size': 50,\n",
    "    'percentile': 98.5,\n",
    "    'theta_obg': True\n",
    "}\n",
    "\n",
    "regularizations_list = np.zeros(50, dtype=object)\n",
    "params_list = np.zeros(50, dtype=object)\n",
    "\n",
    "regularizations_list[:40] = create_reg_lda(-0.001, -0.001)\n",
    "regularizations_list[40:] = trivial_regularization\n",
    "params_list[:40] = no_selection_params\n",
    "params_list[40:] = obg_selection_params\n",
    "\n",
    "phi, theta = launch_em(\n",
    "    freq_matrix=origin_freq_matrix, \n",
    "    phi_matrix=phi_matrix,\n",
    "    theta_matrix=theta_matrix,\n",
    "    logger=create_decorr_logger(0.),\n",
    "    regularizations_list=regularizations_list,\n",
    "    params_list=params_list,\n",
    "    iters_count=50\n",
    ")"
   ]
  },
  {
   "cell_type": "code",
   "execution_count": 40,
   "metadata": {
    "collapsed": false
   },
   "outputs": [
    {
     "name": "stdout",
     "output_type": "stream",
     "text": [
      "L\t\t\t\t-6583168.0\n",
      "Average topic correlation\t0.0404\n",
      "Phi nonzeros\t\t\t49566 \tfrac\t0.223245130053\n",
      "Theta nonzeros\t\t\t69665 \tfrac\t0.246296623652\n",
      "SVM score\t\t\t0.4406\n"
     ]
    }
   ],
   "source": [
    "evaluate(origin_freq_matrix, phi, theta, dataset)"
   ]
  },
  {
   "cell_type": "markdown",
   "metadata": {},
   "source": [
    "При тех же значениях метрик получаем более разреженную модель."
   ]
  },
  {
   "cell_type": "code",
   "execution_count": null,
   "metadata": {
    "collapsed": true
   },
   "outputs": [],
   "source": []
  },
  {
   "cell_type": "code",
   "execution_count": null,
   "metadata": {
    "collapsed": true
   },
   "outputs": [],
   "source": []
  },
  {
   "cell_type": "markdown",
   "metadata": {},
   "source": [
    "## Ещё одно альтернативное решение: разреживать $p_{tdw}$ на Е шаге, чтобы каждое вхождение слова в документ описывалось небольшим числом тем."
   ]
  },
  {
   "cell_type": "code",
   "execution_count": 41,
   "metadata": {
    "collapsed": false,
    "scrolled": true
   },
   "outputs": [
    {
     "name": "stdout",
     "output_type": "stream",
     "text": [
      "0\n",
      "L -7577557.14498\n",
      "decorr 24.8513606695\n",
      "L + tau R -7577557.14498\n",
      "Non zeros elements 222025    fraction 1.0\n",
      "1\n",
      "L -7544645.12672\n",
      "decorr 24.8185559002\n",
      "L + tau R -7544645.12672\n",
      "Non zeros elements 222025    fraction 1.0\n",
      "2\n",
      "L -7490147.65267\n",
      "decorr 24.7372627276\n",
      "L + tau R -7490147.65267\n",
      "Non zeros elements 222025    fraction 1.0\n",
      "3\n",
      "L -7409587.12834\n",
      "decorr 24.5705428905\n",
      "L + tau R -7409587.12834\n",
      "Non zeros elements 222025    fraction 1.0\n",
      "4\n",
      "L -7314078.58123\n",
      "decorr 24.3309707495\n",
      "L + tau R -7314078.58123\n",
      "Non zeros elements 222025    fraction 1.0\n",
      "5\n",
      "L -7220166.49586\n",
      "decorr 24.1372623993\n",
      "L + tau R -7220166.49586\n",
      "Non zeros elements 222025    fraction 1.0\n",
      "6\n",
      "L -7139209.80822\n",
      "decorr 24.098580852\n",
      "L + tau R -7139209.80822\n",
      "Non zeros elements 221994    fraction 1.0\n",
      "7\n",
      "L -7064706.38328\n",
      "decorr 24.1187026094\n",
      "L + tau R -7064706.38328\n",
      "Non zeros elements 221910    fraction 1.0\n",
      "8\n",
      "L -6993093.44012\n",
      "decorr 24.1580141136\n",
      "L + tau R -6993093.44012\n",
      "Non zeros elements 221679    fraction 1.0\n",
      "9\n",
      "L -6928340.54047\n",
      "decorr 24.2242516843\n",
      "L + tau R -6928340.54047\n",
      "Non zeros elements 219048    fraction 0.99\n",
      "10\n",
      "L -6873853.10759\n",
      "decorr 24.2757302762\n",
      "L + tau R -6873853.10759\n",
      "Non zeros elements 214546    fraction 0.97\n",
      "11\n",
      "L -6830136.57853\n",
      "decorr 24.2897126529\n",
      "L + tau R -6830136.57853\n",
      "Non zeros elements 212581    fraction 0.96\n",
      "12\n",
      "L -6795547.78934\n",
      "decorr 24.2906464686\n",
      "L + tau R -6795547.78934\n",
      "Non zeros elements 211662    fraction 0.95\n",
      "13\n",
      "L -6767606.72256\n",
      "decorr 24.2908263234\n",
      "L + tau R -6767606.72256\n",
      "Non zeros elements 210555    fraction 0.95\n",
      "14\n",
      "L -6744371.40469\n",
      "decorr 24.2901962972\n",
      "L + tau R -6744371.40469\n",
      "Non zeros elements 208854    fraction 0.94\n",
      "15\n",
      "L -6724811.07391\n",
      "decorr 24.2886606804\n",
      "L + tau R -6724811.07391\n",
      "Non zeros elements 206294    fraction 0.93\n",
      "16\n",
      "L -6708036.92691\n",
      "decorr 24.2867527434\n",
      "L + tau R -6708036.92691\n",
      "Non zeros elements 203125    fraction 0.91\n",
      "17\n",
      "L -6693358.0825\n",
      "decorr 24.2848851005\n",
      "L + tau R -6693358.0825\n",
      "Non zeros elements 199331    fraction 0.9\n",
      "18\n",
      "L -6680410.84754\n",
      "decorr 24.2831165599\n",
      "L + tau R -6680410.84754\n",
      "Non zeros elements 194921    fraction 0.88\n",
      "19\n",
      "L -6668953.09305\n",
      "decorr 24.2813579841\n",
      "L + tau R -6668953.09305\n",
      "Non zeros elements 190323    fraction 0.86\n",
      "20\n",
      "L -6658801.57241\n",
      "decorr 24.2795781799\n",
      "L + tau R -6658801.57241\n",
      "Non zeros elements 185581    fraction 0.84\n",
      "21\n",
      "L -6649786.64421\n",
      "decorr 24.2777626859\n",
      "L + tau R -6649786.64421\n",
      "Non zeros elements 180752    fraction 0.81\n",
      "22\n",
      "L -6641731.17989\n",
      "decorr 24.2759107873\n",
      "L + tau R -6641731.17989\n",
      "Non zeros elements 175877    fraction 0.79\n",
      "23\n",
      "L -6634467.22948\n",
      "decorr 24.2740535336\n",
      "L + tau R -6634467.22948\n",
      "Non zeros elements 171243    fraction 0.77\n",
      "24\n",
      "L -6627852.40448\n",
      "decorr 24.2722069565\n",
      "L + tau R -6627852.40448\n",
      "Non zeros elements 166767    fraction 0.75\n",
      "25\n",
      "L -6621782.09942\n",
      "decorr 24.2703646479\n",
      "L + tau R -6621782.09942\n",
      "Non zeros elements 162404    fraction 0.73\n",
      "26\n",
      "L -6616182.51052\n",
      "decorr 24.2685313548\n",
      "L + tau R -6616182.51052\n",
      "Non zeros elements 158296    fraction 0.71\n",
      "27\n",
      "L -6611021.53377\n",
      "decorr 24.2667389818\n",
      "L + tau R -6611021.53377\n",
      "Non zeros elements 154407    fraction 0.7\n",
      "28\n",
      "L -6606268.43558\n",
      "decorr 24.2650129972\n",
      "L + tau R -6606268.43558\n",
      "Non zeros elements 150877    fraction 0.68\n",
      "29\n",
      "L -6601871.00611\n",
      "decorr 24.2633615246\n",
      "L + tau R -6601871.00611\n",
      "Non zeros elements 147486    fraction 0.66\n",
      "30\n",
      "L -6597781.71222\n",
      "decorr 24.2617927444\n",
      "L + tau R -6597781.71222\n",
      "Non zeros elements 144249    fraction 0.65\n",
      "31\n",
      "L -6593963.92612\n",
      "decorr 24.2603198255\n",
      "L + tau R -6593963.92612\n",
      "Non zeros elements 141129    fraction 0.64\n",
      "32\n",
      "L -6590403.48694\n",
      "decorr 24.2589453685\n",
      "L + tau R -6590403.48694\n",
      "Non zeros elements 138176    fraction 0.62\n",
      "33\n",
      "L -6587087.66886\n",
      "decorr 24.2576564779\n",
      "L + tau R -6587087.66886\n",
      "Non zeros elements 135429    fraction 0.61\n",
      "34\n",
      "L -6583988.78535\n",
      "decorr 24.2564392343\n",
      "L + tau R -6583988.78535\n",
      "Non zeros elements 132772    fraction 0.6\n",
      "35\n",
      "L -6581069.39997\n",
      "decorr 24.2552888161\n",
      "L + tau R -6581069.39997\n",
      "Non zeros elements 130269    fraction 0.59\n",
      "36\n",
      "L -6578320.68305\n",
      "decorr 24.2542065503\n",
      "L + tau R -6578320.68305\n",
      "Non zeros elements 127914    fraction 0.58\n",
      "37\n",
      "L -6575742.42681\n",
      "decorr 24.2531942925\n",
      "L + tau R -6575742.42681\n",
      "Non zeros elements 125594    fraction 0.57\n",
      "38\n",
      "L -6573331.38079\n",
      "decorr 24.2522469902\n",
      "L + tau R -6573331.38079\n",
      "Non zeros elements 123361    fraction 0.56\n",
      "39\n",
      "L -6571074.12627\n",
      "decorr 24.2513594132\n",
      "L + tau R -6571074.12627\n",
      "Non zeros elements 121276    fraction 0.55\n",
      "40\n",
      "L -6587039.24963\n",
      "decorr 24.2443680922\n",
      "L + tau R -6587039.24963\n",
      "Non zeros elements 53331    fraction 0.24\n",
      "41\n",
      "L -6591439.20146\n",
      "decorr 24.2462643168\n",
      "L + tau R -6591439.20146\n",
      "Non zeros elements 51982    fraction 0.23\n",
      "42\n",
      "L -6593687.76876\n",
      "decorr 24.24774234\n",
      "L + tau R -6593687.76876\n",
      "Non zeros elements 51260    fraction 0.23\n",
      "43\n",
      "L -6595285.78954\n",
      "decorr 24.2484855351\n",
      "L + tau R -6595285.78954\n",
      "Non zeros elements 50857    fraction 0.23\n",
      "44\n",
      "L -6596521.02676\n",
      "decorr 24.2488713203\n",
      "L + tau R -6596521.02676\n",
      "Non zeros elements 50532    fraction 0.23\n",
      "45\n",
      "L -6597527.08656\n",
      "decorr 24.2492955137\n",
      "L + tau R -6597527.08656\n",
      "Non zeros elements 50335    fraction 0.23\n",
      "46\n",
      "L -6598399.03797\n",
      "decorr 24.2495494311\n",
      "L + tau R -6598399.03797\n",
      "Non zeros elements 50187    fraction 0.23\n",
      "47\n",
      "L -6577736.56034\n",
      "decorr 24.2501090491\n",
      "L + tau R -6577736.56034\n",
      "Non zeros elements 50187    fraction 0.23\n",
      "48\n",
      "L -6572489.32564\n",
      "decorr 24.248444937\n",
      "L + tau R -6572489.32564\n",
      "Non zeros elements 50187    fraction 0.23\n",
      "49\n",
      "L -6570247.76533\n",
      "decorr 24.2469815059\n",
      "L + tau R -6570247.76533\n",
      "Non zeros elements 50187    fraction 0.23\n"
     ]
    }
   ],
   "source": [
    "# design experiment\n",
    "\n",
    "D, W = origin_freq_matrix.shape\n",
    "T = 25\n",
    "\n",
    "np.random.seed(42)\n",
    "\n",
    "phi_matrix = np.random.uniform(size=(T, W)).astype(np.float64)\n",
    "phi_matrix /= np.sum(phi_matrix, axis=1)[:, np.newaxis]\n",
    "\n",
    "theta_matrix = np.random.uniform(size=(D, T)).astype(np.float64)\n",
    "theta_matrix /= np.sum(theta_matrix, axis=1)[:, np.newaxis]\n",
    "\n",
    "big_selection_params = {\n",
    "    'method': perform_e_step_update,\n",
    "    'block_size': 50,\n",
    "    'p_dwt_processor': create_frac_of_max_p_dwt_processor(0.5)\n",
    "}\n",
    "no_selection_params = {\n",
    "    'method': perform_e_step_update,\n",
    "    'block_size': 50,\n",
    "    'p_dwt_processor': trivial_p_dwt_processor\n",
    "}\n",
    "\n",
    "regularizations_list = np.zeros(50, dtype=object)\n",
    "params_list = np.zeros(50, dtype=object)\n",
    "\n",
    "regularizations_list[:] = trivial_regularization\n",
    "params_list[:40] = no_selection_params\n",
    "params_list[40:47] = big_selection_params\n",
    "params_list[47:50] = no_selection_params\n",
    "\n",
    "phi, theta = launch_em(\n",
    "    freq_matrix=origin_freq_matrix, \n",
    "    phi_matrix=phi_matrix,\n",
    "    theta_matrix=theta_matrix,\n",
    "    logger=create_decorr_logger(0.),\n",
    "    regularizations_list=regularizations_list,\n",
    "    params_list=params_list,\n",
    "    iters_count=50\n",
    ")"
   ]
  },
  {
   "cell_type": "code",
   "execution_count": 42,
   "metadata": {
    "collapsed": false
   },
   "outputs": [
    {
     "name": "stdout",
     "output_type": "stream",
     "text": [
      "L\t\t\t\t-6570248.0\n",
      "Average topic correlation\t0.0404\n",
      "Phi nonzeros\t\t\t50187 \tfrac\t0.226042112375\n",
      "Theta nonzeros\t\t\t49071 \tfrac\t0.173487714336\n",
      "SVM score\t\t\t0.4492\n"
     ]
    }
   ],
   "source": [
    "evaluate(origin_freq_matrix, phi, theta, dataset)"
   ]
  },
  {
   "cell_type": "markdown",
   "metadata": {},
   "source": [
    "Получается очень хорошее разреживание $\\Theta$, неплохое разреживание $\\Phi$. Однако SVM качество падает."
   ]
  },
  {
   "cell_type": "code",
   "execution_count": null,
   "metadata": {
    "collapsed": true
   },
   "outputs": [],
   "source": []
  },
  {
   "cell_type": "code",
   "execution_count": null,
   "metadata": {
    "collapsed": true
   },
   "outputs": [],
   "source": []
  }
 ],
 "metadata": {
  "kernelspec": {
   "display_name": "Python 2",
   "language": "python",
   "name": "python2"
  },
  "language_info": {
   "codemirror_mode": {
    "name": "ipython",
    "version": 2
   },
   "file_extension": ".py",
   "mimetype": "text/x-python",
   "name": "python",
   "nbconvert_exporter": "python",
   "pygments_lexer": "ipython2",
   "version": "2.7.3"
  }
 },
 "nbformat": 4,
 "nbformat_minor": 0
}
