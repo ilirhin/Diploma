{
 "cells": [
  {
   "cell_type": "markdown",
   "metadata": {},
   "source": [
    "#Питоновская реализация EM алгоритма\n",
    "\n",
    "Полезно проделать, чтобы разобраться в numpy и в том, как эффективно писать на питоне."
   ]
  },
  {
   "cell_type": "code",
   "execution_count": 1,
   "metadata": {
    "collapsed": false
   },
   "outputs": [
    {
     "name": "stderr",
     "output_type": "stream",
     "text": [
      "/usr/share/python/yandex-ydf-toolbox/local/lib/python2.7/site-packages/sklearn/cross_validation.py:44: DeprecationWarning: This module was deprecated in version 0.18 in favor of the model_selection module into which all the refactored classes and functions are moved. Also note that the interface of the new CV iterators are different from that of this module. This module will be removed in 0.20.\n",
      "  \"This module will be removed in 0.20.\", DeprecationWarning)\n"
     ]
    }
   ],
   "source": [
    "import numpy as np\n",
    "import scipy\n",
    "import scipy.sparse\n",
    "from sklearn.datasets import fetch_20newsgroups\n",
    "import gensim\n",
    "from collections import Counter\n",
    "import heapq\n",
    "import nltk\n",
    "from nltk.corpus import stopwords\n",
    "from sklearn.cross_validation import cross_val_score\n",
    "from sklearn.svm import SVC\n",
    "import matplotlib.pyplot as plt\n",
    "from sklearn.manifold import TSNE\n",
    "%matplotlib inline"
   ]
  },
  {
   "cell_type": "markdown",
   "metadata": {},
   "source": [
    "Нужно скачать некоторые коллекции данных и установить библиотеки (nltk, gensim)"
   ]
  },
  {
   "cell_type": "code",
   "execution_count": 2,
   "metadata": {
    "collapsed": false
   },
   "outputs": [
    {
     "name": "stdout",
     "output_type": "stream",
     "text": [
      "[nltk_data] Downloading package stopwords to /home/tylorn/nltk_data...\n",
      "[nltk_data]   Package stopwords is already up-to-date!\n"
     ]
    },
    {
     "data": {
      "text/plain": [
       "True"
      ]
     },
     "execution_count": 2,
     "metadata": {},
     "output_type": "execute_result"
    }
   ],
   "source": [
    "nltk.download('stopwords')"
   ]
  },
  {
   "cell_type": "code",
   "execution_count": 3,
   "metadata": {
    "collapsed": false
   },
   "outputs": [],
   "source": [
    "english_stopwords = set(stopwords.words('english'))"
   ]
  },
  {
   "cell_type": "markdown",
   "metadata": {},
   "source": [
    "## Исходники, можно пропускать"
   ]
  },
  {
   "cell_type": "code",
   "execution_count": 4,
   "metadata": {
    "collapsed": true
   },
   "outputs": [],
   "source": [
    "def trivial_p_dwt_processor(p_dwt):\n",
    "    pass\n",
    "\n",
    "def create_frac_of_max_p_dwt_processor(frac_size):\n",
    "    def fun(p_dwt):\n",
    "        maximums = np.max(p_dwt, axis=1)\n",
    "        p_dwt[p_dwt < frac_size * maximums[:, np.newaxis]] = 0.\n",
    "        p_dwt /= (np.sum(p_dwt, axis=1)[:, np.newaxis] + 1e-10)\n",
    "    return fun"
   ]
  },
  {
   "cell_type": "code",
   "execution_count": 5,
   "metadata": {
    "collapsed": true
   },
   "outputs": [],
   "source": [
    "def perform_e_step_update(it_num, freq_matrix, docptr, phi_matrix, theta_matrix, params):\n",
    "    block_size = params.get('block_size', 1)\n",
    "    p_dwt_processor = params.get('p_dwt_processor', lambda x: None)\n",
    "    event_handler = params.get('event_handler', EmptyHandler())\n",
    "    \n",
    "    D, W = freq_matrix.shape\n",
    "    T = phi_matrix.shape[0]\n",
    "    n_wt, n_dt = np.zeros((W, T)), np.zeros((D, T))\n",
    "    transposed_phi_matrix = np.transpose(phi_matrix)\n",
    "    \n",
    "    indices = freq_matrix.indices\n",
    "    indptr = freq_matrix.indptr\n",
    "    data = freq_matrix.data\n",
    "    \n",
    "    for block_num in xrange((D + block_size - 1) / block_size):\n",
    "        block_start = block_num * block_size\n",
    "        block_finish = min(D, block_start + block_size)\n",
    "        ind_start, ind_finish = indptr[block_start], indptr[block_finish]\n",
    "        \n",
    "        datas = data[ind_start:ind_finish]\n",
    "        words = indices[ind_start:ind_finish]\n",
    "        docs = docptr[ind_start:ind_finish]\n",
    "        \n",
    "        p_dwt = transposed_phi_matrix[words] * theta_matrix[docs, :]\n",
    "        p_dwt /= (np.sum(p_dwt, axis=1)[:, np.newaxis] + 1e-20)\n",
    "        p_dwt_processor(p_dwt)\n",
    "        p_dwt *= datas[:, np.newaxis]\n",
    "        \n",
    "        for doc_num in xrange(block_start, block_finish):\n",
    "            doc_start, doc_finish = indptr[doc_num], indptr[doc_num + 1]\n",
    "            doc_p_dwt = p_dwt[(doc_start - ind_start):(doc_finish - ind_start), :]\n",
    "            n_dt[doc_num, :] += np.sum(doc_p_dwt, axis=0)\n",
    "            n_wt[indices[doc_start:doc_finish], :] += doc_p_dwt\n",
    "            \n",
    "    event = {\n",
    "        'n_wt': n_wt,\n",
    "        'n_dt': n_dt,\n",
    "        'freq_matrix': freq_matrix,\n",
    "        'phi_matrix': phi_matrix,\n",
    "        'theta_matrix': theta_matrix,\n",
    "        'docptr': docptr,\n",
    "        'it_num': it_num\n",
    "    }\n",
    "    event_handler.handle(event)\n",
    "\n",
    "    return n_wt, n_dt"
   ]
  },
  {
   "cell_type": "code",
   "execution_count": 6,
   "metadata": {
    "collapsed": false
   },
   "outputs": [],
   "source": [
    "def launch_em(\n",
    "    freq_matrix, \n",
    "    phi_matrix,\n",
    "    theta_matrix,\n",
    "    regularizations_list,\n",
    "    params_list,\n",
    "    iters_count=100\n",
    "):\n",
    "    phi_matrix = np.copy(phi_matrix)\n",
    "    theta_matrix = np.copy(theta_matrix)\n",
    "    docptr = []\n",
    "    indptr = freq_matrix.indptr\n",
    "    for doc_num in xrange(D):\n",
    "        docptr.extend([doc_num] * (indptr[doc_num + 1] - indptr[doc_num]))\n",
    "    docptr = np.array(docptr)\n",
    "    \n",
    "    for it in xrange(iters_count):\n",
    "        n_wt, n_dt = params_list[it]['method'](it, freq_matrix, docptr, phi_matrix, theta_matrix, params_list[it])\n",
    "        r_wt, r_dt = regularizations_list[it](n_wt, n_dt, phi_matrix, theta_matrix)\n",
    "        n_wt = np.maximum(n_wt + r_wt, 0)\n",
    "        n_dt = np.maximum(n_dt + r_dt, 0)\n",
    "        n_wt /= np.sum(n_wt, axis=0)\n",
    "        n_dt /= np.sum(n_dt, axis=1)[:, np.newaxis]\n",
    "        phi_matrix = np.transpose(n_wt)\n",
    "        theta_matrix = n_dt\n",
    "        \n",
    "    return phi_matrix, theta_matrix"
   ]
  },
  {
   "cell_type": "code",
   "execution_count": 125,
   "metadata": {
    "collapsed": true
   },
   "outputs": [],
   "source": [
    "def trivial_regularization(n_wt, n_dt, phi_matrix, theta_matrix):\n",
    "    return 0., 0.\n",
    "\n",
    "def calculate_decorr(phi_matrix):\n",
    "    aggr_phi = np.sum(phi_matrix, axis=1)\n",
    "    return np.sum(phi_matrix * (aggr_phi[:, np.newaxis] - phi_matrix))\n",
    "\n",
    "def create_reg_decorr_naive(tau, theta_alpha=0.):\n",
    "    def fun (n_wt, n_dt, phi_matrix, theta_matrix):\n",
    "        aggr_phi = np.sum(phi_matrix, axis=1)\n",
    "        return - tau * np.transpose(phi_matrix * (aggr_phi[:, np.newaxis] - phi_matrix)), theta_alpha\n",
    "    return fun\n",
    "\n",
    "def create_reg_lda(phi_alpha, theta_alpha):\n",
    "    def fun (n_wt, n_dt, phi_matrix, theta_matrix):\n",
    "        return phi_alpha, theta_alpha\n",
    "    return fun\n",
    "\n",
    "def create_reg_decorr_unbiased(tau, theta_alpha=0.):\n",
    "    def fun (n_wt, n_dt, phi_matrix, theta_matrix):\n",
    "        tmp_phi =  n_wt / np.sum(n_wt, axis=0)\n",
    "        aggr_phi = np.sum(tmp_phi, axis=0)\n",
    "        return - tau * tmp_phi * (aggr_phi[np.newaxis, :] - tmp_phi), theta_alpha\n",
    "    return fun\n",
    "\n",
    "def calculate_likelihood(freq_matrix, docptr, phi_matrix, theta_matrix, block_size=1):\n",
    "    D, W = freq_matrix.shape\n",
    "    T = phi_matrix.shape[0]\n",
    "    transposed_phi_matrix = np.transpose(phi_matrix)\n",
    "    \n",
    "    indices = freq_matrix.indices\n",
    "    indptr = freq_matrix.indptr\n",
    "    data = freq_matrix.data\n",
    "    \n",
    "    res = 0.\n",
    "    for block_num in xrange((D + block_size - 1) / block_size):\n",
    "        block_start = block_num * block_size\n",
    "        block_finish = min(D, block_start + block_size)\n",
    "        ind_start, ind_finish = indptr[block_start], indptr[block_finish]\n",
    "        \n",
    "        datas = data[ind_start:ind_finish]\n",
    "        words = indices[ind_start:ind_finish]\n",
    "        docs = docptr[ind_start:ind_finish]\n",
    "        \n",
    "        p_dwt = transposed_phi_matrix[words] * theta_matrix[docs, :]\n",
    "        res += np.sum(np.log(np.sum(p_dwt, axis=1) + 1e-20) * datas)\n",
    "    \n",
    "    return res\n",
    "\n",
    "\n",
    "def external_calculate_likelihood(freq_matrix, phi_matrix, theta_matrix):\n",
    "    docptr = []\n",
    "    indptr = freq_matrix.indptr\n",
    "    for doc_num in xrange(D):\n",
    "        docptr.extend([doc_num] * (indptr[doc_num + 1] - indptr[doc_num]))\n",
    "    docptr = np.array(docptr)\n",
    "    \n",
    "    return calculate_likelihood(freq_matrix, docptr, phi_matrix, theta_matrix, block_size=50)\n",
    "\n",
    "def external_calculate_perplexity(freq_matrix, phi_matrix, theta_matrix):\n",
    "    likelihood = external_calculate_likelihood(freq_matrix, phi_matrix, theta_matrix)\n",
    "    return np.exp(- likelihood / freq_matrix.sum())\n",
    "\n",
    "class EmptyLogger(object):\n",
    "    def iteration(*args):\n",
    "        pass\n",
    "    def final_info(self, ):\n",
    "        pass\n",
    "    \n",
    "class DecorrWatcher(object):\n",
    "    def __init__(self, tau):\n",
    "        self.tau = tau\n",
    "\n",
    "    def iteration(self, iter_num, freq_matrix, docptr, phi_matrix, theta_matrix, res):\n",
    "        print iter_num\n",
    "        likelihood = calculate_likelihood(freq_matrix, docptr, phi_matrix, theta_matrix, 50)\n",
    "        decorr = calculate_decorr(phi_matrix)\n",
    "        print 'L', likelihood\n",
    "        print 'decorr', decorr\n",
    "        print 'L + tau R', likelihood - self.tau * decorr\n",
    "        non_zeros = np.sum(phi_matrix > 1e-20)\n",
    "        size = phi_matrix.shape[0] * phi_matrix.shape[1]\n",
    "        print 'Phi non zeros elements', non_zeros, '   fraction', round(1. * non_zeros / size, 2)\n",
    "        non_zeros = np.sum(theta_matrix > 1e-20)\n",
    "        size = theta_matrix.shape[0] * theta_matrix.shape[1]\n",
    "        print 'Theta non zeros elements', non_zeros, '   fraction', round(1. * non_zeros / size, 2)\n",
    "    def final_info(self):\n",
    "        pass\n",
    "\n",
    "\n",
    "class EmptyHandler(object):\n",
    "    def requires(self, name):\n",
    "        return False\n",
    "        \n",
    "    def handle(self, event):\n",
    "        pass\n",
    "    \n",
    "    def final(self):\n",
    "        pass\n",
    "            \n"
   ]
  },
  {
   "cell_type": "code",
   "execution_count": 8,
   "metadata": {
    "collapsed": false
   },
   "outputs": [],
   "source": [
    "def prepare_dataset(dataset):\n",
    "    # remove stopwords\n",
    "    occurences = Counter()\n",
    "    for i, doc in enumerate(dataset.data):\n",
    "        tokens = gensim.utils.lemmatize(doc)\n",
    "        for token in set(tokens):\n",
    "            occurences[token] += 1\n",
    "        if i % 500 == 0:\n",
    "            print 'Processed: ', i, 'documents from', len(dataset.data)\n",
    "    \n",
    "    row, col, data = [], [], []\n",
    "    token_2_num = {}\n",
    "    for i, doc in enumerate(dataset.data):\n",
    "        tokens = gensim.utils.lemmatize(doc)\n",
    "        cnt = Counter()\n",
    "        for token in tokens:\n",
    "            word = token.split('/')[0]\n",
    "            if word not in english_stopwords and 10 <= occurences[token] < len(dataset.data) / 2:\n",
    "                if token not in token_2_num:\n",
    "                    token_2_num[token] = len(token_2_num)\n",
    "                cnt[token_2_num[token]] += 1\n",
    "        for w, c in cnt.iteritems():\n",
    "            row.append(i)\n",
    "            col.append(w)\n",
    "            data.append(c)\n",
    "        \n",
    "    num_2_token = {\n",
    "        v: k\n",
    "        for k, v in token_2_num.iteritems()\n",
    "    }\n",
    "    print 'Nonzero values:', len(data)\n",
    "    return scipy.sparse.csr_matrix((data, (row, col))), token_2_num, num_2_token\n"
   ]
  },
  {
   "cell_type": "code",
   "execution_count": 9,
   "metadata": {
    "collapsed": true
   },
   "outputs": [],
   "source": [
    "def prepare_dataset_with_cooccurences(dataset):\n",
    "    # remove stopwords\n",
    "    occurences = Counter()\n",
    "    cooccurences = Counter()\n",
    "    for i, doc in enumerate(dataset.data):\n",
    "        tokens = gensim.utils.lemmatize(doc)\n",
    "        for token in set(tokens):\n",
    "            occurences[token] += 1\n",
    "        if i % 500 == 0:\n",
    "            print 'Preprocessed: ', i, 'documents from', len(dataset.data)\n",
    "    \n",
    "    row, col, data = [], [], []\n",
    "    token_2_num = {}\n",
    "    for i, doc in enumerate(dataset.data):\n",
    "        tokens = gensim.utils.lemmatize(doc)\n",
    "        cnt = Counter()\n",
    "        words_set = set()\n",
    "        for token in tokens:\n",
    "            word = token.split('/')[0]\n",
    "            if word not in english_stopwords and 10 <= occurences[token] < len(dataset.data) / 2:\n",
    "                if token not in token_2_num:\n",
    "                    token_2_num[token] = len(token_2_num)\n",
    "                words_set.add(token_2_num[token])\n",
    "                cnt[token_2_num[token]] += 1\n",
    "        for w, c in cnt.iteritems():\n",
    "            row.append(i)\n",
    "            col.append(w)\n",
    "            data.append(c)\n",
    "            \n",
    "        for w1 in words_set:\n",
    "            for w2 in words_set:\n",
    "                cooccurences[(w1, w2)] += 1\n",
    "                \n",
    "        if i % 500 == 0:\n",
    "            print 'Processed: ', i, 'documents from', len(dataset.data)\n",
    "        \n",
    "    num_2_token = {\n",
    "        v: k\n",
    "        for k, v in token_2_num.iteritems()\n",
    "    }\n",
    "    print 'Nonzero values:', len(data)\n",
    "    return scipy.sparse.csr_matrix((data, (row, col))), token_2_num, num_2_token, cooccurences\n"
   ]
  },
  {
   "cell_type": "markdown",
   "metadata": {},
   "source": [
    "### Используем коллекцию 20newsgroups\n",
    "\n",
    "Возьмём три научные темы, очистим данные, лемматизируем слова, удаляем редкие и частые слова (реализация этого в клетке выше)."
   ]
  },
  {
   "cell_type": "code",
   "execution_count": 10,
   "metadata": {
    "collapsed": true
   },
   "outputs": [],
   "source": [
    "dataset = fetch_20newsgroups(\n",
    "    subset='all',\n",
    "    categories=['sci.electronics', 'sci.med', 'sci.space', 'rec.autos', 'rec.sport.baseball', 'rec.sport.hockey'],\n",
    "    remove=('headers', 'footers', 'quotes')\n",
    ")"
   ]
  },
  {
   "cell_type": "code",
   "execution_count": 12,
   "metadata": {
    "collapsed": false
   },
   "outputs": [
    {
     "name": "stdout",
     "output_type": "stream",
     "text": [
      "Processed:  0 documents from 5944\n",
      "Processed:  500 documents from 5944\n",
      "Processed:  1000 documents from 5944\n",
      "Processed:  1500 documents from 5944\n",
      "Processed:  2000 documents from 5944\n",
      "Processed:  2500 documents from 5944\n",
      "Processed:  3000 documents from 5944\n",
      "Processed:  3500 documents from 5944\n",
      "Processed:  4000 documents from 5944\n",
      "Processed:  4500 documents from 5944\n",
      "Processed:  5000 documents from 5944\n",
      "Processed:  5500 documents from 5944\n",
      "Nonzero values: 250931\n",
      "CPU times: user 0 ns, sys: 3min 58s, total: 3min 58s\n",
      "Wall time: 3min 58s\n"
     ]
    }
   ],
   "source": [
    "%%time\n",
    "origin_freq_matrix, token_2_num, num_2_token = prepare_dataset(dataset)"
   ]
  },
  {
   "cell_type": "markdown",
   "metadata": {},
   "source": [
    "# Метрики"
   ]
  },
  {
   "cell_type": "code",
   "execution_count": 13,
   "metadata": {
    "collapsed": false
   },
   "outputs": [],
   "source": [
    "def investigate_phi_uniqueness(phi):\n",
    "    T, W = phi.shape\n",
    "    for t in xrange(T):\n",
    "        matrix = phi\n",
    "        positions = matrix[t, :] == 0.\n",
    "        topics = [x for x in xrange(T) if x != t]\n",
    "\n",
    "        print 'Topic', t\n",
    "        print '\\t', np.sum(positions), 'zeros'\n",
    "        if np.sum(positions) != 0:\n",
    "            print '\\tSubmatrix rank', np.linalg.matrix_rank(matrix[np.ix_(topics, positions)])\n",
    "            eigen_values = np.linalg.svd(matrix[np.ix_(topics, positions)])[1]\n",
    "            print '\\tEigen values:', eigen_values\n",
    "            max_val = np.min(np.linalg.svd(matrix[topics, :])[1])\n",
    "            print '\\tUniqueness measure:', min(eigen_values)\n",
    "            print '\\tNormalized uniqueness measure:', min(eigen_values) / max_val\n",
    "        else:\n",
    "            print '\\tUniqueness measure:', 0."
   ]
  },
  {
   "cell_type": "code",
   "execution_count": 14,
   "metadata": {
    "collapsed": false
   },
   "outputs": [],
   "source": [
    "def calc_phi_uniqueness_measures(phi):\n",
    "    T, W = phi.shape\n",
    "    res = []\n",
    "    nres = []\n",
    "    for t in xrange(T):\n",
    "        positions = phi[t, :] == 0.\n",
    "        topics = [x for x in xrange(T) if x != t]\n",
    "        if np.sum(positions) == 0:\n",
    "            res.append(0.)\n",
    "            nres.append(0.)\n",
    "        else:\n",
    "            rank = np.linalg.matrix_rank(phi[np.ix_(topics, positions)])\n",
    "            if rank == T - 1:\n",
    "                max_val = np.min(np.linalg.svd(phi[topics, :])[1])\n",
    "                curr_val = np.min(np.linalg.svd(phi[np.ix_(topics, positions)])[1])\n",
    "                res.append(curr_val)\n",
    "                nres.append(curr_val / max_val)\n",
    "            else:\n",
    "                res.append(0.)\n",
    "                nres.append(0.)\n",
    "    return res, nres"
   ]
  },
  {
   "cell_type": "markdown",
   "metadata": {
    "collapsed": false
   },
   "source": [
    "## baseline решение - обычный PLSA"
   ]
  },
  {
   "cell_type": "code",
   "execution_count": 15,
   "metadata": {
    "collapsed": false,
    "scrolled": true
   },
   "outputs": [],
   "source": [
    "# design experiment\n",
    "\n",
    "D, W = origin_freq_matrix.shape\n",
    "T = 10\n",
    "\n",
    "np.random.seed(42)\n",
    "\n",
    "phi_matrix = np.random.uniform(size=(T, W)).astype(np.float64)\n",
    "phi_matrix /= np.sum(phi_matrix, axis=1)[:, np.newaxis]\n",
    "\n",
    "theta_matrix = np.random.uniform(size=(D, T)).astype(np.float64)\n",
    "theta_matrix /= np.sum(theta_matrix, axis=1)[:, np.newaxis]\n",
    "\n",
    "no_selection_params = {\n",
    "    'method': perform_e_step_update,\n",
    "    'block_size': 50,\n",
    "    'p_dwt_processor': trivial_p_dwt_processor\n",
    "}\n",
    "\n",
    "regularizations_list = np.zeros(50, dtype=object)\n",
    "params_list = np.zeros(50, dtype=object)\n",
    "\n",
    "regularizations_list[:] = trivial_regularization\n",
    "params_list[:] = no_selection_params\n",
    "\n",
    "phi, theta = launch_em(\n",
    "    freq_matrix=origin_freq_matrix, \n",
    "    phi_matrix=phi_matrix,\n",
    "    theta_matrix=theta_matrix,\n",
    "    regularizations_list=regularizations_list,\n",
    "    params_list=params_list,\n",
    "    iters_count=50\n",
    ")"
   ]
  },
  {
   "cell_type": "code",
   "execution_count": 16,
   "metadata": {
    "collapsed": false
   },
   "outputs": [
    {
     "name": "stdout",
     "output_type": "stream",
     "text": [
      "Topic 0\n",
      "\t1 zeros\n",
      "\tSubmatrix rank 1\n",
      "\tEigen values: [ 0.00036236]\n",
      "\tUniqueness measure: 0.000362356967308\n",
      "\tNormalized uniqueness measure: 0.0125574061728\n",
      "Topic 1\n",
      "\t0 zeros\n",
      "\tUniqueness measure: 0.0\n",
      "Topic 2\n",
      "\t1 zeros\n",
      "\tSubmatrix rank 1\n",
      "\tEigen values: [ 0.00426255]\n",
      "\tUniqueness measure: 0.00426254931063\n",
      "\tNormalized uniqueness measure: 0.147332028364\n",
      "Topic 3\n",
      "\t2 zeros\n",
      "\tSubmatrix rank 2\n",
      "\tEigen values: [  5.38549416e-04   6.44864767e-05]\n",
      "\tUniqueness measure: 6.4486476716e-05\n",
      "\tNormalized uniqueness measure: 0.00224244528414\n",
      "Topic 4\n",
      "\t1 zeros\n",
      "\tSubmatrix rank 1\n",
      "\tEigen values: [ 0.00032108]\n",
      "\tUniqueness measure: 0.000321078203087\n",
      "\tNormalized uniqueness measure: 0.0111362014618\n",
      "Topic 5\n",
      "\t1 zeros\n",
      "\tSubmatrix rank 1\n",
      "\tEigen values: [ 0.00036236]\n",
      "\tUniqueness measure: 0.000362356967308\n",
      "\tNormalized uniqueness measure: 0.0126003289364\n",
      "Topic 6\n",
      "\t4 zeros\n",
      "\tSubmatrix rank 2\n",
      "\tEigen values: [  6.43474127e-04   8.67316964e-05   4.20246000e-20   8.28318061e-21]\n",
      "\tUniqueness measure: 8.28318060897e-21\n",
      "\tNormalized uniqueness measure: 2.82413458274e-19\n",
      "Topic 7\n",
      "\t1 zeros\n",
      "\tSubmatrix rank 1\n",
      "\tEigen values: [ 0.00017747]\n",
      "\tUniqueness measure: 0.00017746878326\n",
      "\tNormalized uniqueness measure: 0.00617182451656\n",
      "Topic 8\n",
      "\t0 zeros\n",
      "\tUniqueness measure: 0.0\n",
      "Topic 9\n",
      "\t2 zeros\n",
      "\tSubmatrix rank 2\n",
      "\tEigen values: [ 0.00427113  0.00024262]\n",
      "\tUniqueness measure: 0.000242619595459\n",
      "\tNormalized uniqueness measure: 0.00839143880432\n"
     ]
    }
   ],
   "source": [
    "investigate_phi_uniqueness(phi)"
   ]
  },
  {
   "cell_type": "markdown",
   "metadata": {},
   "source": [
    "## Регуляризатор разреживания из ARTM"
   ]
  },
  {
   "cell_type": "code",
   "execution_count": 17,
   "metadata": {
    "collapsed": false,
    "scrolled": true
   },
   "outputs": [],
   "source": [
    "# design experiment\n",
    "\n",
    "D, W = origin_freq_matrix.shape\n",
    "T = 10\n",
    "\n",
    "np.random.seed(42)\n",
    "\n",
    "phi_matrix = np.random.uniform(size=(T, W)).astype(np.float64)\n",
    "phi_matrix /= np.sum(phi_matrix, axis=1)[:, np.newaxis]\n",
    "\n",
    "theta_matrix = np.random.uniform(size=(D, T)).astype(np.float64)\n",
    "theta_matrix /= np.sum(theta_matrix, axis=1)[:, np.newaxis]\n",
    "\n",
    "no_selection_params = {\n",
    "    'method': perform_e_step_update,\n",
    "    'block_size': 50,\n",
    "    'p_dwt_processor': trivial_p_dwt_processor\n",
    "}\n",
    "\n",
    "regularizations_list = np.zeros(50, dtype=object)\n",
    "params_list = np.zeros(50, dtype=object)\n",
    "\n",
    "regularizations_list[:40] = trivial_regularization\n",
    "regularizations_list[40:] = create_reg_lda(-0.5, -0.1)\n",
    "params_list[:] = no_selection_params\n",
    "\n",
    "phi, theta = launch_em(\n",
    "    freq_matrix=origin_freq_matrix, \n",
    "    phi_matrix=phi_matrix,\n",
    "    theta_matrix=theta_matrix,\n",
    "    regularizations_list=regularizations_list,\n",
    "    params_list=params_list,\n",
    "    iters_count=50\n",
    ")"
   ]
  },
  {
   "cell_type": "code",
   "execution_count": 19,
   "metadata": {
    "collapsed": false
   },
   "outputs": [
    {
     "data": {
      "text/plain": [
       "([0.016824989710753795,\n",
       "  0.015764409357305491,\n",
       "  0.012639124238315811,\n",
       "  0.016463162448230539,\n",
       "  0.019010397978027907,\n",
       "  0.018896024020086145,\n",
       "  0.01513340282436648,\n",
       "  0.021976547667496068,\n",
       "  0.017426636030994386,\n",
       "  0.017112463155040381],\n",
       " [0.55898906159009887,\n",
       "  0.5378290190495808,\n",
       "  0.42955133589021466,\n",
       "  0.56185058304876023,\n",
       "  0.63532894935080686,\n",
       "  0.63025838428581205,\n",
       "  0.51649384107097773,\n",
       "  0.75009905463559678,\n",
       "  0.58857055727113172,\n",
       "  0.58392933779575107])"
      ]
     },
     "execution_count": 19,
     "metadata": {},
     "output_type": "execute_result"
    }
   ],
   "source": [
    "calc_phi_uniqueness_measures(phi)"
   ]
  },
  {
   "cell_type": "code",
   "execution_count": 20,
   "metadata": {
    "collapsed": false,
    "scrolled": true
   },
   "outputs": [],
   "source": [
    "# design experiment\n",
    "\n",
    "D, W = origin_freq_matrix.shape\n",
    "T = 10\n",
    "\n",
    "np.random.seed(42)\n",
    "\n",
    "phi_matrix = np.random.uniform(size=(T, W)).astype(np.float64)\n",
    "phi_matrix /= np.sum(phi_matrix, axis=1)[:, np.newaxis]\n",
    "\n",
    "theta_matrix = np.random.uniform(size=(D, T)).astype(np.float64)\n",
    "theta_matrix /= np.sum(theta_matrix, axis=1)[:, np.newaxis]\n",
    "\n",
    "no_selection_params = {\n",
    "    'method': perform_e_step_update,\n",
    "    'block_size': 50,\n",
    "    'p_dwt_processor': trivial_p_dwt_processor\n",
    "}\n",
    "\n",
    "regularizations_list = np.zeros(50, dtype=object)\n",
    "params_list = np.zeros(50, dtype=object)\n",
    "\n",
    "regularizations_list[:40] = trivial_regularization\n",
    "regularizations_list[40:] = create_reg_lda(0., -0.1)\n",
    "params_list[:] = no_selection_params\n",
    "\n",
    "phi, theta = launch_em(\n",
    "    freq_matrix=origin_freq_matrix, \n",
    "    phi_matrix=phi_matrix,\n",
    "    theta_matrix=theta_matrix,\n",
    "    regularizations_list=regularizations_list,\n",
    "    params_list=params_list,\n",
    "    iters_count=50\n",
    ")"
   ]
  },
  {
   "cell_type": "code",
   "execution_count": 21,
   "metadata": {
    "collapsed": false
   },
   "outputs": [
    {
     "data": {
      "text/plain": [
       "([0.0,\n",
       "  3.4631982641377834e-05,\n",
       "  0.00016467828293141736,\n",
       "  9.3939565400859144e-05,\n",
       "  6.384996128656755e-05,\n",
       "  0.0,\n",
       "  0.00010818252022242827,\n",
       "  0.00087147905866739568,\n",
       "  0.00014037140803594699,\n",
       "  0.00038429320878725356],\n",
       " [0.0,\n",
       "  0.0012157503757983265,\n",
       "  0.0057751291449496239,\n",
       "  0.0033093137647332753,\n",
       "  0.0022434298318202948,\n",
       "  0.0,\n",
       "  0.0037987565898770686,\n",
       "  0.030707470796873148,\n",
       "  0.0049295555569488607,\n",
       "  0.013524242725496455])"
      ]
     },
     "execution_count": 21,
     "metadata": {},
     "output_type": "execute_result"
    }
   ],
   "source": [
    "calc_phi_uniqueness_measures(phi)"
   ]
  },
  {
   "cell_type": "code",
   "execution_count": 22,
   "metadata": {
    "collapsed": false
   },
   "outputs": [
    {
     "name": "stdout",
     "output_type": "stream",
     "text": [
      "Topic 0\n",
      "\t9 zeros\n",
      "\tSubmatrix rank 6\n",
      "\tEigen values: [  7.85556562e-03   8.36278128e-04   4.66918236e-04   3.13118909e-04\n",
      "   2.39270431e-04   1.10092779e-05   2.11438830e-20   1.17427112e-20\n",
      "   1.34780351e-22]\n",
      "\tUniqueness measure: 1.34780350668e-22\n",
      "\tNormalized uniqueness measure: 4.73602244501e-21\n",
      "Topic 1\n",
      "\t71 zeros\n",
      "\tSubmatrix rank 9\n",
      "\tEigen values: [  2.47879169e-03   1.63005943e-03   1.60201351e-03   1.17070545e-03\n",
      "   1.07344112e-03   8.68063784e-04   2.96611957e-04   1.34200614e-04\n",
      "   3.46319826e-05]\n",
      "\tUniqueness measure: 3.46319826414e-05\n",
      "\tNormalized uniqueness measure: 0.0012157503758\n",
      "Topic 2\n",
      "\t97 zeros\n",
      "\tSubmatrix rank 9\n",
      "\tEigen values: [ 0.01283832  0.00318565  0.00207699  0.00114804  0.00099897  0.0007596\n",
      "  0.00064911  0.0003466   0.00016468]\n",
      "\tUniqueness measure: 0.000164678282931\n",
      "\tNormalized uniqueness measure: 0.00577512914495\n",
      "Topic 3\n",
      "\t144 zeros\n",
      "\tSubmatrix rank 9\n",
      "\tEigen values: [  2.34830696e-02   4.24951947e-03   1.73318588e-03   1.11156368e-03\n",
      "   1.08100150e-03   6.86642109e-04   4.37424670e-04   2.01616189e-04\n",
      "   9.39395654e-05]\n",
      "\tUniqueness measure: 9.39395654009e-05\n",
      "\tNormalized uniqueness measure: 0.00330931376473\n",
      "Topic 4\n",
      "\t107 zeros\n",
      "\tSubmatrix rank 9\n",
      "\tEigen values: [  3.89952141e-03   2.68919221e-03   2.61108285e-03   2.41854806e-03\n",
      "   1.86134075e-03   1.29351888e-03   9.15667343e-04   5.66354784e-04\n",
      "   6.38499613e-05]\n",
      "\tUniqueness measure: 6.38499612866e-05\n",
      "\tNormalized uniqueness measure: 0.00224342983182\n",
      "Topic 5\n",
      "\t12 zeros\n",
      "\tSubmatrix rank 6\n",
      "\tEigen values: [  1.02485457e-03   5.46097369e-04   4.31728041e-04   3.81810699e-04\n",
      "   3.30656096e-04   1.28526207e-17   2.51657532e-20   8.65792256e-21\n",
      "   6.73394861e-23]\n",
      "\tUniqueness measure: 6.73394861105e-23\n",
      "\tNormalized uniqueness measure: 2.37168159818e-21\n",
      "Topic 6\n",
      "\t107 zeros\n",
      "\tSubmatrix rank 9\n",
      "\tEigen values: [ 0.00490578  0.00285829  0.00264565  0.00213046  0.00100813  0.00085648\n",
      "  0.00066649  0.0002143   0.00010818]\n",
      "\tUniqueness measure: 0.000108182520222\n",
      "\tNormalized uniqueness measure: 0.00379875658988\n",
      "Topic 7\n",
      "\t202 zeros\n",
      "\tSubmatrix rank 9\n",
      "\tEigen values: [ 0.00554845  0.0039247   0.00299988  0.00207373  0.00140905  0.00120553\n",
      "  0.00101541  0.0008926   0.00087148]\n",
      "\tUniqueness measure: 0.000871479058667\n",
      "\tNormalized uniqueness measure: 0.0307074707969\n",
      "Topic 8\n",
      "\t51 zeros\n",
      "\tSubmatrix rank 9\n",
      "\tEigen values: [ 0.00265323  0.00129739  0.00094271  0.00051275  0.0004316   0.00032527\n",
      "  0.00026939  0.00023167  0.00014037]\n",
      "\tUniqueness measure: 0.000140371408036\n",
      "\tNormalized uniqueness measure: 0.00492955555695\n",
      "Topic 9\n",
      "\t163 zeros\n",
      "\tSubmatrix rank 9\n",
      "\tEigen values: [ 0.02793599  0.00400827  0.00245103  0.00131331  0.00090093  0.0007843\n",
      "  0.00069282  0.00067156  0.00038429]\n",
      "\tUniqueness measure: 0.000384293208787\n",
      "\tNormalized uniqueness measure: 0.0135242427255\n"
     ]
    }
   ],
   "source": [
    "investigate_phi_uniqueness(phi)"
   ]
  },
  {
   "cell_type": "code",
   "execution_count": 75,
   "metadata": {
    "collapsed": true
   },
   "outputs": [],
   "source": [
    "def perform_lda(T, words_alpha, docs_alpha, seed=42, freq_matrix=origin_freq_matrix):\n",
    "    D, W = freq_matrix.shape\n",
    "\n",
    "    np.random.seed(seed)\n",
    "\n",
    "    phi_matrix = np.random.uniform(size=(T, W)).astype(np.float64)\n",
    "    phi_matrix /= np.sum(phi_matrix, axis=1)[:, np.newaxis]\n",
    "\n",
    "    theta_matrix = np.random.uniform(size=(D, T)).astype(np.float64)\n",
    "    theta_matrix /= np.sum(theta_matrix, axis=1)[:, np.newaxis]\n",
    "\n",
    "    no_selection_params = {\n",
    "        'method': perform_e_step_update,\n",
    "        'block_size': 50,\n",
    "        'p_dwt_processor': trivial_p_dwt_processor\n",
    "    }\n",
    "\n",
    "    regularizations_list = np.zeros(50, dtype=object)\n",
    "    params_list = np.zeros(50, dtype=object)\n",
    "\n",
    "    regularizations_list[:10] = trivial_regularization\n",
    "    regularizations_list[10:] = create_reg_lda(words_alpha, docs_alpha)\n",
    "    params_list[:] = no_selection_params\n",
    "\n",
    "    phi, theta = launch_em(\n",
    "        freq_matrix=freq_matrix, \n",
    "        phi_matrix=phi_matrix,\n",
    "        theta_matrix=theta_matrix,\n",
    "        regularizations_list=regularizations_list,\n",
    "        params_list=params_list,\n",
    "        iters_count=50\n",
    "    )\n",
    "    \n",
    "    return phi, theta"
   ]
  },
  {
   "cell_type": "code",
   "execution_count": 24,
   "metadata": {
    "collapsed": false
   },
   "outputs": [],
   "source": [
    "font = {'family' : 'normal',\n",
    "        'size'   : 12}\n",
    "\n",
    "plt.rc('font', **font)"
   ]
  },
  {
   "cell_type": "code",
   "execution_count": 25,
   "metadata": {
    "collapsed": true
   },
   "outputs": [],
   "source": [
    "alpha_values = [-10, -9, -8, -7, -6, -5, -4, -3, -2, -1, 0] + [\n",
    "    - 10 ** (-i)\n",
    "    for i in xrange(30)\n",
    "]"
   ]
  },
  {
   "cell_type": "code",
   "execution_count": 26,
   "metadata": {
    "collapsed": false
   },
   "outputs": [
    {
     "name": "stdout",
     "output_type": "stream",
     "text": [
      "-10\n",
      "-9\n",
      "-8\n",
      "-7\n",
      "-6\n",
      "-5\n",
      "-4\n",
      "-3\n",
      "-2\n",
      "-1\n",
      "0\n",
      "-1\n",
      "-0.1\n",
      "-0.01\n",
      "-0.001\n",
      "-0.0001\n",
      "-1e-05\n",
      "-1e-06\n",
      "-1e-07\n",
      "-1e-08\n",
      "-1e-09\n",
      "-1e-10\n",
      "-1e-11\n",
      "-1e-12\n",
      "-1e-13\n",
      "-1e-14\n",
      "-1e-15\n",
      "-1e-16\n",
      "-1e-17\n",
      "-1e-18\n",
      "-1e-19\n",
      "-1e-20\n",
      "-1e-21\n",
      "-1e-22\n",
      "-1e-23\n",
      "-1e-24\n",
      "-1e-25\n",
      "-1e-26\n",
      "-1e-27\n",
      "-1e-28\n",
      "-1e-29\n"
     ]
    }
   ],
   "source": [
    "minus_log_alphas = []\n",
    "avg_uniqueness_measures = []\n",
    "avg_normalized_uniqueness_measures = []\n",
    "for alpha in alpha_values:\n",
    "    print alpha\n",
    "    minus_log_alphas.append(-np.log10(-alpha))\n",
    "    phi, theta = perform_lda(10, alpha, 0.)\n",
    "    ums, nums = calc_phi_uniqueness_measures(phi)\n",
    "    avg_uniqueness_measures.append(np.mean(ums))\n",
    "    avg_normalized_uniqueness_measures.append(np.mean(nums))"
   ]
  },
  {
   "cell_type": "code",
   "execution_count": 27,
   "metadata": {
    "collapsed": false
   },
   "outputs": [
    {
     "name": "stderr",
     "output_type": "stream",
     "text": [
      "/usr/share/python/yandex-ydf-toolbox/local/lib/python2.7/site-packages/matplotlib/font_manager.py:1288: UserWarning: findfont: Font family [u'normal'] not found. Falling back to Bitstream Vera Sans\n",
      "  (prop.get_family(), self.defaultFamily[fontext]))\n"
     ]
    },
    {
     "data": {
      "image/png": "[encoded data removed]",
      "text/plain": [
       "<matplotlib.figure.Figure at 0xe276050>"
      ]
     },
     "metadata": {},
     "output_type": "display_data"
    }
   ],
   "source": [
    "plt.figure(figsize=(10, 5))\n",
    "plt.xlabel('$- \\\\log\\\\ (- \\\\alpha)$')\n",
    "plt.ylabel('avg topic uniqueness measure')\n",
    "plt.plot(minus_log_alphas, avg_uniqueness_measures)\n",
    "plt.xlim(-1.5, 30)\n",
    "plt.savefig('/home/tylorn/uniqueness2/sparsity_um_dependency.eps', format='eps')\n",
    "plt.show()"
   ]
  },
  {
   "cell_type": "code",
   "execution_count": 28,
   "metadata": {
    "collapsed": false
   },
   "outputs": [
    {
     "data": {
      "image/png": "[encoded data removed]",
      "text/plain": [
       "<matplotlib.figure.Figure at 0xb6340d0>"
      ]
     },
     "metadata": {},
     "output_type": "display_data"
    }
   ],
   "source": [
    "plt.figure(figsize=(10, 5))\n",
    "plt.xlabel('$- \\\\log\\\\ (- \\\\alpha)$')\n",
    "plt.ylabel('avg topic normalized uniqueness measure')\n",
    "plt.plot(minus_log_alphas, avg_normalized_uniqueness_measures)\n",
    "plt.ylim(0, 1)\n",
    "plt.xlim(-1.5, 30)\n",
    "plt.show()"
   ]
  },
  {
   "cell_type": "markdown",
   "metadata": {},
   "source": [
    "#### Даже небольшого разреживания хватает, чтобы темы стали cущественно уникальными"
   ]
  },
  {
   "cell_type": "code",
   "execution_count": 29,
   "metadata": {
    "collapsed": false
   },
   "outputs": [
    {
     "name": "stdout",
     "output_type": "stream",
     "text": [
      "-10\n",
      "-9\n",
      "-8\n",
      "-7\n",
      "-6\n",
      "-5\n",
      "-4\n",
      "-3\n",
      "-2\n",
      "-1\n",
      "0\n",
      "-1\n",
      "-0.1\n",
      "-0.01\n",
      "-0.001\n",
      "-0.0001\n",
      "-1e-05\n",
      "-1e-06\n",
      "-1e-07\n",
      "-1e-08\n",
      "-1e-09\n",
      "-1e-10\n",
      "-1e-11\n",
      "-1e-12\n",
      "-1e-13\n",
      "-1e-14\n",
      "-1e-15\n",
      "-1e-16\n",
      "-1e-17\n",
      "-1e-18\n",
      "-1e-19\n",
      "-1e-20\n",
      "-1e-21\n",
      "-1e-22\n",
      "-1e-23\n",
      "-1e-24\n",
      "-1e-25\n",
      "-1e-26\n",
      "-1e-27\n",
      "-1e-28\n",
      "-1e-29\n"
     ]
    }
   ],
   "source": [
    "minus_log_alphas = []\n",
    "avg_uniqueness_measures2 = []\n",
    "avg_normalized_uniqueness_measures2 = []\n",
    "for alpha in alpha_values:\n",
    "    print alpha\n",
    "    minus_log_alphas.append(-np.log10(-alpha))\n",
    "    phi, theta = perform_lda(10, alpha, -0.1)\n",
    "    ums, nums = calc_phi_uniqueness_measures(phi)\n",
    "    avg_uniqueness_measures2.append(np.mean(ums))\n",
    "    avg_normalized_uniqueness_measures2.append(np.mean(nums))"
   ]
  },
  {
   "cell_type": "code",
   "execution_count": 30,
   "metadata": {
    "collapsed": false
   },
   "outputs": [
    {
     "data": {
      "image/png": "[encoded data removed]",
      "text/plain": [
       "<matplotlib.figure.Figure at 0xb641a50>"
      ]
     },
     "metadata": {},
     "output_type": "display_data"
    }
   ],
   "source": [
    "plt.figure(figsize=(10, 5))\n",
    "plt.xlabel('$- \\\\log\\\\ (- \\\\alpha)$')\n",
    "plt.ylabel('avg topic uniqueness measure')\n",
    "plt.xlim(-1.5, 30)\n",
    "plt.plot(minus_log_alphas, avg_uniqueness_measures)\n",
    "plt.plot(minus_log_alphas, avg_uniqueness_measures2)\n",
    "plt.legend(['$\\\\beta = 0$', '$\\\\beta = -0.1$', '$\\\\beta = 0.1$'])\n",
    "plt.show()"
   ]
  },
  {
   "cell_type": "code",
   "execution_count": 31,
   "metadata": {
    "collapsed": false
   },
   "outputs": [
    {
     "data": {
      "image/png": "[encoded data removed]",
      "text/plain": [
       "<matplotlib.figure.Figure at 0xf014910>"
      ]
     },
     "metadata": {},
     "output_type": "display_data"
    }
   ],
   "source": [
    "plt.figure(figsize=(10, 5))\n",
    "plt.xlabel('$- \\\\log\\\\ (- \\\\alpha)$')\n",
    "plt.ylabel('avg topic normalized uniqueness measure')\n",
    "plt.ylim(0, 1)\n",
    "plt.xlim(-1.5, 30)\n",
    "plt.plot(minus_log_alphas, avg_normalized_uniqueness_measures)\n",
    "plt.plot(minus_log_alphas, avg_normalized_uniqueness_measures2)\n",
    "plt.legend(['$\\\\beta = 0$', '$\\\\beta = -0.1$', '$\\\\beta = 0.1$'])\n",
    "plt.show()"
   ]
  },
  {
   "cell_type": "markdown",
   "metadata": {},
   "source": [
    "#### Разреживание  $\\Theta$ заставляет темы быть более сглаженными, что сказывается негативно на их единственности"
   ]
  },
  {
   "cell_type": "code",
   "execution_count": 32,
   "metadata": {
    "collapsed": false
   },
   "outputs": [
    {
     "name": "stdout",
     "output_type": "stream",
     "text": [
      "-10\n",
      "-9\n",
      "-8\n",
      "-7\n",
      "-6\n",
      "-5\n",
      "-4\n",
      "-3\n",
      "-2\n",
      "-1\n",
      "0\n",
      "-1\n",
      "-0.1\n",
      "-0.01\n",
      "-0.001\n",
      "-0.0001\n",
      "-1e-05\n",
      "-1e-06\n",
      "-1e-07\n",
      "-1e-08\n",
      "-1e-09\n",
      "-1e-10\n",
      "-1e-11\n",
      "-1e-12\n",
      "-1e-13\n",
      "-1e-14\n",
      "-1e-15\n",
      "-1e-16\n",
      "-1e-17\n",
      "-1e-18\n",
      "-1e-19\n",
      "-1e-20\n",
      "-1e-21\n",
      "-1e-22\n",
      "-1e-23\n",
      "-1e-24\n",
      "-1e-25\n",
      "-1e-26\n",
      "-1e-27\n",
      "-1e-28\n",
      "-1e-29\n"
     ]
    }
   ],
   "source": [
    "minus_log_alphas = []\n",
    "avg_uniqueness_measures3 = []\n",
    "avg_normalized_uniqueness_measures3 = []\n",
    "for alpha in alpha_values:\n",
    "    print alpha\n",
    "    minus_log_alphas.append(-np.log10(-alpha))\n",
    "    phi, theta = perform_lda(10, alpha, 0.1)\n",
    "    ums, nums = calc_phi_uniqueness_measures(phi)\n",
    "    avg_uniqueness_measures3.append(np.mean(ums))\n",
    "    avg_normalized_uniqueness_measures3.append(np.mean(nums))"
   ]
  },
  {
   "cell_type": "code",
   "execution_count": 33,
   "metadata": {
    "collapsed": false
   },
   "outputs": [
    {
     "data": {
      "image/png": "[encoded data removed]",
      "text/plain": [
       "<matplotlib.figure.Figure at 0x16c51490>"
      ]
     },
     "metadata": {},
     "output_type": "display_data"
    }
   ],
   "source": [
    "plt.figure(figsize=(10, 5))\n",
    "plt.title('$R = \\\\alpha\\\\ \\\\sum_t\\\\ \\\\sum_w\\\\ \\\\log\\\\ \\\\phi_{wt}\\\\ +\\\\ \\\\beta \\\\sum_d\\\\ \\\\sum_t\\\\ \\\\log\\\\ \\\\theta_{td}$')\n",
    "plt.xlabel('$- \\\\log\\\\ (- \\\\alpha)$')\n",
    "plt.ylabel('avg topic uniqueness measure')\n",
    "plt.xlim(-1.5, 30)\n",
    "plt.plot(minus_log_alphas, avg_uniqueness_measures)\n",
    "plt.plot(minus_log_alphas, avg_uniqueness_measures2)\n",
    "plt.plot(minus_log_alphas, avg_uniqueness_measures3)\n",
    "plt.legend(['$\\\\beta = 0$', '$\\\\beta = -0.1$', '$\\\\beta = 0.1$'])\n",
    "plt.savefig('/home/tylorn/uniqueness2/sparsity_um_dependency.eps', format='eps')\n",
    "plt.show()"
   ]
  },
  {
   "cell_type": "code",
   "execution_count": null,
   "metadata": {
    "collapsed": false
   },
   "outputs": [
    {
     "data": {
      "image/png": "[encoded data removed]",
      "text/plain": [
       "<matplotlib.figure.Figure at 0xa375350>"
      ]
     },
     "metadata": {},
     "output_type": "display_data"
    }
   ],
   "source": [
    "plt.figure(figsize=(10, 5))\n",
    "plt.title('$R = \\\\alpha\\\\ \\\\sum_t\\\\ \\\\sum_w\\\\ \\\\log\\\\ \\\\phi_{wt}\\\\ +\\\\ \\\\beta \\\\sum_d\\\\ \\\\sum_t\\\\ \\\\log\\\\ \\\\theta_{td}$')\n",
    "plt.xlabel('$- \\\\log\\\\ (- \\\\alpha)$')\n",
    "plt.ylabel('avg topic normalized uniqueness measure')\n",
    "plt.ylim(0, 1)\n",
    "plt.xlim(-1.5, 30)\n",
    "plt.plot(minus_log_alphas, avg_normalized_uniqueness_measures)\n",
    "plt.plot(minus_log_alphas, avg_normalized_uniqueness_measures2)\n",
    "plt.plot(minus_log_alphas, avg_normalized_uniqueness_measures3)\n",
    "plt.legend(['$\\\\beta = 0$', '$\\\\beta = -0.1$', '$\\\\beta = 0.1$'])\n",
    "plt.savefig('/home/tylorn/uniqueness2/sparsity_num_dependency.eps', format='eps')\n",
    "plt.show()"
   ]
  },
  {
   "cell_type": "markdown",
   "metadata": {},
   "source": [
    "#### Сглаживание  $\\Theta$, наоборот, позволяет темам быть более разреженными, что сказывается нменого положительно на их единственности. Однако, так как есть ещё и условие на унитематические документы в теореме, то лучше не пользоваться сглаживанием документов."
   ]
  },
  {
   "cell_type": "code",
   "execution_count": null,
   "metadata": {
    "collapsed": true
   },
   "outputs": [],
   "source": []
  },
  {
   "cell_type": "code",
   "execution_count": null,
   "metadata": {
    "collapsed": true
   },
   "outputs": [],
   "source": []
  },
  {
   "cell_type": "code",
   "execution_count": null,
   "metadata": {
    "collapsed": false
   },
   "outputs": [
    {
     "name": "stdout",
     "output_type": "stream",
     "text": [
      "2\n",
      "3\n",
      "4\n",
      "5\n",
      "6\n",
      "7\n",
      "8\n",
      "9\n",
      "10\n",
      "11\n",
      "12\n",
      "13\n",
      "14\n",
      "15\n",
      "16\n",
      "17\n",
      "18\n",
      "19\n",
      "20\n",
      "21\n",
      "22\n",
      "23\n",
      "24\n",
      "25\n",
      "26\n",
      "27\n",
      "28\n",
      "29\n",
      "30\n",
      "31\n",
      "32\n",
      "33\n",
      "34\n",
      "35\n",
      "36\n",
      "37\n",
      "38\n",
      "39\n",
      "40\n",
      "41\n",
      "42\n",
      "43\n",
      "44"
     ]
    }
   ],
   "source": [
    "topics_values = []\n",
    "min_ums_values = []\n",
    "min_nums_values = []\n",
    "max_ums_values = []\n",
    "max_nums_values = []\n",
    "avg_ums_values = []\n",
    "avg_nums_values = []\n",
    "for T in xrange(2, 51):\n",
    "    print T\n",
    "    min_ums_value = 0 \n",
    "    min_nums_value = 0 \n",
    "    max_ums_value = 0 \n",
    "    max_nums_value = 0 \n",
    "    avg_ums_value = 0 \n",
    "    avg_nums_value = 0 \n",
    "    \n",
    "    for seed in xrange(30):\n",
    "        phi, theta = perform_lda(T, - 0.1, 0., seed=seed)\n",
    "        dums, dnums = calc_phi_uniqueness_measures(phi)\n",
    "        \n",
    "        min_ums_value += np.min(dums) \n",
    "        min_nums_value += np.min(dnums) \n",
    "        max_ums_value += np.max(dums) \n",
    "        max_nums_value += np.max(dnums) \n",
    "        avg_ums_value += np.mean(dums) \n",
    "        avg_nums_value += np.mean(dnums) \n",
    "    \n",
    "    min_ums_value /= 30 \n",
    "    min_nums_value /= 30\n",
    "    max_ums_value /= 30\n",
    "    max_nums_value /= 30\n",
    "    avg_ums_value /= 30\n",
    "    avg_nums_value /= 30\n",
    "    \n",
    "    topics_values.append(T)\n",
    "    min_ums_values.append(min_ums_value)\n",
    "    min_nums_values.append(min_nums_value)\n",
    "    max_ums_values.append(max_ums_value)\n",
    "    max_nums_values.append(max_nums_value)\n",
    "    avg_ums_values.append(avg_ums_value)\n",
    "    avg_nums_values.append(avg_nums_value)\n"
   ]
  },
  {
   "cell_type": "code",
   "execution_count": 37,
   "metadata": {
    "collapsed": false
   },
   "outputs": [
    {
     "data": {
      "image/png": "[encoded data removed]",
      "text/plain": [
       "<matplotlib.figure.Figure at 0xca0edd0>"
      ]
     },
     "metadata": {},
     "output_type": "display_data"
    }
   ],
   "source": [
    "plt.figure(figsize=(10, 5))\n",
    "plt.xlabel('Topics number')\n",
    "plt.ylabel('Uniqueness measure')\n",
    "plt.plot(topics_values, min_ums_values)\n",
    "plt.plot(topics_values, avg_ums_values)\n",
    "plt.plot(topics_values, max_ums_values)\n",
    "plt.legend(['min', 'avg', 'max'])\n",
    "plt.savefig('/home/tylorn/uniqueness2/topics_um_dependency.eps', format='eps')\n",
    "plt.show()"
   ]
  },
  {
   "cell_type": "code",
   "execution_count": 38,
   "metadata": {
    "collapsed": false
   },
   "outputs": [
    {
     "data": {
      "image/png": "[encoded data removed]",
      "text/plain": [
       "<matplotlib.figure.Figure at 0xca0e550>"
      ]
     },
     "metadata": {},
     "output_type": "display_data"
    }
   ],
   "source": [
    "plt.figure(figsize=(10, 5))\n",
    "plt.xlabel('Topics number')\n",
    "plt.ylabel('Normalized uniqueness measure')\n",
    "plt.plot(topics_values, min_nums_values)\n",
    "plt.plot(topics_values, avg_nums_values)\n",
    "plt.plot(topics_values, max_nums_values)\n",
    "plt.legend(['min', 'avg', 'max'])\n",
    "plt.savefig('/home/tylorn/uniqueness2/topics_num_dependency.eps', format='eps')\n",
    "plt.show()"
   ]
  },
  {
   "cell_type": "code",
   "execution_count": null,
   "metadata": {
    "collapsed": true
   },
   "outputs": [],
   "source": []
  },
  {
   "cell_type": "code",
   "execution_count": null,
   "metadata": {
    "collapsed": true
   },
   "outputs": [],
   "source": []
  },
  {
   "cell_type": "code",
   "execution_count": null,
   "metadata": {
    "collapsed": true
   },
   "outputs": [],
   "source": [
    "def perform_extended_lda(\n",
    "    T, words_alpha, docs_alpha, seed=42, \n",
    "    freq_matrix=origin_freq_matrix, phi_zero_init=None, \n",
    "    theta_zero_init=None\n",
    "):\n",
    "    D, W = freq_matrix.shape\n",
    "\n",
    "    np.random.seed(seed)\n",
    "\n",
    "    phi_matrix = np.random.uniform(size=(T, W)).astype(np.float64)\n",
    "    if phi_zero_init is not None:\n",
    "        phi_matrix[phi_zero_init < 1e-20] = 0.\n",
    "    phi_matrix /= np.sum(phi_matrix, axis=1)[:, np.newaxis]\n",
    "\n",
    "    theta_matrix = np.random.uniform(size=(D, T)).astype(np.float64)\n",
    "    if theta_zero_init is not None:\n",
    "        theta_zero_init[theta_zero_init < 1e-20] = 0.\n",
    "    theta_matrix /= np.sum(theta_matrix, axis=1)[:, np.newaxis]\n",
    "\n",
    "    no_selection_params = {\n",
    "        'method': perform_e_step_update,\n",
    "        'block_size': 50,\n",
    "        'p_dwt_processor': trivial_p_dwt_processor\n",
    "    }\n",
    "\n",
    "    regularizations_list = np.zeros(50, dtype=object)\n",
    "    params_list = np.zeros(50, dtype=object)\n",
    "\n",
    "    regularizations_list[:10] = trivial_regularization\n",
    "    regularizations_list[10:] = create_reg_lda(words_alpha, docs_alpha)\n",
    "    params_list[:] = no_selection_params\n",
    "\n",
    "    phi, theta = launch_em(\n",
    "        freq_matrix=freq_matrix, \n",
    "        phi_matrix=phi_matrix,\n",
    "        theta_matrix=theta_matrix,\n",
    "        regularizations_list=regularizations_list,\n",
    "        params_list=params_list,\n",
    "        iters_count=50\n",
    "    )\n",
    "    \n",
    "    return phi, theta"
   ]
  },
  {
   "cell_type": "code",
   "execution_count": null,
   "metadata": {
    "collapsed": true
   },
   "outputs": [],
   "source": [
    "def plot_tsne(phis, colors, perplexity):\n",
    "    model = TSNE(n_components=2, random_state=42, perplexity=perplexity)\n",
    "    X = model.fit_transform(phis) \n",
    "    plt.figure(figsize=(10, 8))\n",
    "    plt.xlim(0.95 * min(X[:, 0]), 1.05 * max(X[:, 0]))\n",
    "    plt.ylim(0.95 * min(X[:, 1]), 1.05 * max(X[:, 1]))\n",
    "    sc = plt.scatter(X[:, 0], X[:, 1], c=colors)\n",
    "    plt.colorbar(sc)\n",
    "    plt.show()"
   ]
  },
  {
   "cell_type": "code",
   "execution_count": null,
   "metadata": {
    "collapsed": true
   },
   "outputs": [],
   "source": [
    "def investigate_matrix_variance(matrices, title_prefix=''):\n",
    "    smapes = []\n",
    "    maes = []\n",
    "    for i in xrange(len(matrices)):\n",
    "        for j in xrange(len(matrices)):\n",
    "            if i < j:\n",
    "                indices = (matrices[i] > 1e-20) | (matrices[j] > 1e-20)\n",
    "                fst = matrices[i][indices]\n",
    "                snd = matrices[j][indices]\n",
    "                smapes.append(np.mean(2. * np.abs(fst - snd) / (np.abs(fst) + np.abs(snd))))\n",
    "                maes.append(np.mean(np.abs(fst - snd)))\n",
    "                \n",
    "    print 'Average pairwise MAE: {}'.format(np.mean(maes))\n",
    "    print 'Pairwise MAE std: {}'.format(np.std(maes))\n",
    "    plt.title(title_prefix + ' pairwise MAE distribution')\n",
    "    plt.hist(maes, bins=50)\n",
    "    plt.show()\n",
    "    \n",
    "    \n",
    "    print 'Average pairwise sMAPE: {}'.format(np.mean(smapes))\n",
    "    print 'Pairwise sMAPE std: {}'.format(np.std(smapes))\n",
    "    plt.title(title_prefix + ' pairwise  sMAPE distribution')\n",
    "    plt.hist(smapes, bins=50)\n",
    "    plt.show()"
   ]
  },
  {
   "cell_type": "code",
   "execution_count": null,
   "metadata": {
    "collapsed": true
   },
   "outputs": [],
   "source": [
    "def investigate_scalar_variance(values, title_prefix=''):\n",
    "    plt.title(title_prefix + ' value distribution')\n",
    "    plt.hist(values, bins=50)\n",
    "    plt.show()\n",
    "    \n",
    "    smapes = []\n",
    "    maes = []\n",
    "    for i in xrange(len(values)):\n",
    "        for j in xrange(len(values)):\n",
    "            if i < j:\n",
    "                fst = values[i]\n",
    "                snd = values[j]\n",
    "                smapes.append(np.mean(2. * np.abs(fst - snd) / (np.abs(fst) + np.abs(snd))))\n",
    "                maes.append(np.mean(np.abs(fst - snd)))\n",
    "                \n",
    "    print 'Average pairwise MAE: {}'.format(np.mean(maes))\n",
    "    print 'Pairwise MAE std: {}'.format(np.std(maes))\n",
    "    plt.title(title_prefix + ' pairwise MAE distribution')\n",
    "    plt.hist(maes, bins=50)\n",
    "    plt.show()\n",
    "    \n",
    "    \n",
    "    print 'Average pairwise sMAPE: {}'.format(np.mean(smapes))\n",
    "    print 'Pairwise sMAPE std: {}'.format(np.std(smapes))\n",
    "    plt.title(title_prefix + ' pairwise sMAPE distribution')\n",
    "    plt.hist(smapes, bins=50)\n",
    "    plt.show()"
   ]
  },
  {
   "cell_type": "code",
   "execution_count": null,
   "metadata": {
    "collapsed": true
   },
   "outputs": [],
   "source": [
    "def smape_dist(a, b):\n",
    "    indices = (a > 1e-20) | (b > 1e-20)\n",
    "    fst = a[indices]\n",
    "    snd = b[indices]\n",
    "    return np.mean(2. * np.abs(fst - snd) / (np.abs(fst) + np.abs(snd)))\n",
    "\n",
    "def mae_dist(a, b):\n",
    "    indices = (a > 1e-20) | (b > 1e-20)\n",
    "    fst = a[indices]\n",
    "    snd = b[indices]\n",
    "    return np.mean(np.abs(fst - snd))\n",
    "\n",
    "def kl_dist(a, b):\n",
    "    indices = (a > 1e-20)\n",
    "    return np.sum(np.log(a[indices] / b[indices]) * a[indices])\n",
    "\n",
    "def kl2_dist(a, b):\n",
    "    c = (a + b) / 2.\n",
    "    return kl_dist(a, c) + kl_dist(b, c)\n",
    "\n",
    "def greed_match(fst, snd, dst_fun):\n",
    "    T, W = fst.shape\n",
    "    dists = []\n",
    "    for t1 in xrange(T):\n",
    "        dists.append(min(\n",
    "            dst_fun(fst[t1, :], snd[t2, :])\n",
    "            for t2 in xrange(T)\n",
    "        ))\n",
    "    return np.array(dists)"
   ]
  },
  {
   "cell_type": "code",
   "execution_count": null,
   "metadata": {
    "collapsed": true
   },
   "outputs": [],
   "source": [
    "def check_phis(init_phi, phis, title_prefix=''):\n",
    "    origin_phi = init_phi\n",
    "    init_phi = init_phi.flatten()\n",
    "    \n",
    "    smapes = []\n",
    "    maes = []\n",
    "    greed_smapes = []\n",
    "    greed_maes = []\n",
    "    \n",
    "    greed_kls = []\n",
    "    greed_kl2s = []\n",
    "    \n",
    "    for phi in phis:\n",
    "        indices = (phi > 1e-20) | (init_phi > 1e-20)\n",
    "        fst = phi[indices]\n",
    "        snd = init_phi[indices]\n",
    "        smapes.append(np.mean(2. * np.abs(fst - snd) / (np.abs(fst) + np.abs(snd))))\n",
    "        maes.append(np.mean(np.abs(fst - snd)))\n",
    "        \n",
    "        phi = phi.reshape(origin_phi.shape)\n",
    "        greed_smapes.append(greed_match(origin_phi, phi, smape_dist))\n",
    "        greed_maes.append(greed_match(origin_phi, phi, mae_dist))\n",
    "        \n",
    "        greed_kls.append(greed_match(origin_phi, phi, kl_dist))\n",
    "        greed_kl2s.append(greed_match(origin_phi, phi, kl2_dist))\n",
    "        \n",
    "    print 'Average MAE: {}'.format(np.mean(maes))\n",
    "    print 'MAE std: {}'.format(np.std(maes))\n",
    "    print 'Min MAE: {}'.format(np.min(maes))\n",
    "    print ''\n",
    "    print 'Average sMAPE: {}'.format(np.mean(smapes))\n",
    "    print 'sMAPE std: {}'.format(np.std(smapes))\n",
    "    print 'Min sMAPE: {}'.format(np.min(smapes))\n",
    "    print ''\n",
    "    print 'Average greed MAE: {}'.format(np.mean(greed_maes))\n",
    "    print 'greed MAE std: {}'.format(np.std(greed_maes))\n",
    "    print ''\n",
    "    print 'Average greed sMAPE: {}'.format(np.mean(greed_smapes))\n",
    "    print 'greed sMAPE std: {}'.format(np.std(greed_smapes))\n",
    "    print ''\n",
    "    print 'Average greed KL: {}'.format(np.mean(greed_kls))\n",
    "    print 'greed KL std: {}'.format(np.std(greed_kls))\n",
    "    print ''\n",
    "    print 'Average greed KL2: {}'.format(np.mean(greed_kl2s))\n",
    "    print 'greed KL2 std: {}'.format(np.std(greed_kl2s))"
   ]
  },
  {
   "cell_type": "markdown",
   "metadata": {},
   "source": [
    "# Просто обучаем sparse LDA"
   ]
  },
  {
   "cell_type": "code",
   "execution_count": null,
   "metadata": {
    "collapsed": true
   },
   "outputs": [],
   "source": [
    "%%time\n",
    "phis = []\n",
    "perplexities = []\n",
    "for seed in xrange(300):\n",
    "    print seed\n",
    "    phi, theta = perform_extended_lda(10, - 0.1, 0., seed=seed)\n",
    "    phis.append(phi.flatten())\n",
    "    perplexities.append(external_calculate_perplexity(origin_freq_matrix, phi, theta))\n",
    "phis = np.array(phis)"
   ]
  },
  {
   "cell_type": "markdown",
   "metadata": {},
   "source": [
    "## sparse LDA: phi points"
   ]
  },
  {
   "cell_type": "code",
   "execution_count": null,
   "metadata": {
    "collapsed": false,
    "scrolled": false
   },
   "outputs": [],
   "source": [
    "plot_tsne(phis, perplexities, 10)"
   ]
  },
  {
   "cell_type": "markdown",
   "metadata": {},
   "source": [
    "## sparse LDA: phi variance"
   ]
  },
  {
   "cell_type": "code",
   "execution_count": null,
   "metadata": {
    "collapsed": false
   },
   "outputs": [],
   "source": [
    "investigate_matrix_variance(phis, 'Phi matrix:')"
   ]
  },
  {
   "cell_type": "markdown",
   "metadata": {},
   "source": [
    "## sparse LDA: perplexity variance"
   ]
  },
  {
   "cell_type": "code",
   "execution_count": null,
   "metadata": {
    "collapsed": false
   },
   "outputs": [],
   "source": [
    "investigate_scalar_variance(perplexities, 'Perplexity:')"
   ]
  },
  {
   "cell_type": "code",
   "execution_count": null,
   "metadata": {
    "collapsed": true
   },
   "outputs": [],
   "source": []
  },
  {
   "cell_type": "code",
   "execution_count": null,
   "metadata": {
    "collapsed": true
   },
   "outputs": [],
   "source": []
  },
  {
   "cell_type": "markdown",
   "metadata": {},
   "source": [
    "# Обучаем sparse LDA с начальными нулями"
   ]
  },
  {
   "cell_type": "code",
   "execution_count": null,
   "metadata": {
    "collapsed": false
   },
   "outputs": [],
   "source": [
    "init_phi, init_theta = perform_extended_lda(10, - 0.1, 0., seed=42)"
   ]
  },
  {
   "cell_type": "code",
   "execution_count": null,
   "metadata": {
    "collapsed": false
   },
   "outputs": [],
   "source": [
    "phis = []\n",
    "perplexities = []\n",
    "for seed in xrange(300):\n",
    "    print seed\n",
    "    phi, theta = perform_extended_lda(10, - 0.1, 0., seed=seed, phi_zero_init=init_phi, theta_zero_init=init_theta)\n",
    "    phis.append(phi.flatten())\n",
    "    perplexities.append(external_calculate_perplexity(origin_freq_matrix, phi, theta))\n",
    "phis = np.array(phis)"
   ]
  },
  {
   "cell_type": "markdown",
   "metadata": {},
   "source": [
    "## full initialized sparse LDA: phi points"
   ]
  },
  {
   "cell_type": "code",
   "execution_count": null,
   "metadata": {
    "collapsed": false
   },
   "outputs": [],
   "source": [
    "plot_tsne(phis, perplexities, 10)"
   ]
  },
  {
   "cell_type": "markdown",
   "metadata": {},
   "source": [
    "## full initialized sparse LDA: phi variance"
   ]
  },
  {
   "cell_type": "code",
   "execution_count": null,
   "metadata": {
    "collapsed": false
   },
   "outputs": [],
   "source": [
    "investigate_matrix_variance(phis, 'Phi matrix:')"
   ]
  },
  {
   "cell_type": "markdown",
   "metadata": {},
   "source": [
    "## full initialized sparse LDA: perplexity variance"
   ]
  },
  {
   "cell_type": "code",
   "execution_count": null,
   "metadata": {
    "collapsed": false
   },
   "outputs": [],
   "source": [
    "investigate_scalar_variance(perplexities, 'Perplexity:')"
   ]
  },
  {
   "cell_type": "code",
   "execution_count": null,
   "metadata": {
    "collapsed": true
   },
   "outputs": [],
   "source": [
    "check_phis(init_phi, phis)"
   ]
  },
  {
   "cell_type": "code",
   "execution_count": null,
   "metadata": {
    "collapsed": true
   },
   "outputs": [],
   "source": []
  },
  {
   "cell_type": "markdown",
   "metadata": {},
   "source": [
    "# Syntetic sparse LDA"
   ]
  },
  {
   "cell_type": "code",
   "execution_count": null,
   "metadata": {
    "collapsed": false
   },
   "outputs": [],
   "source": [
    "m = np.dot(init_theta, init_phi)\n",
    "print np.sum(np.isnan(m))\n",
    "m[np.isnan(m)] = 0.\n",
    "new_freq_matrix = scipy.sparse.csr_matrix(m)"
   ]
  },
  {
   "cell_type": "code",
   "execution_count": null,
   "metadata": {
    "collapsed": false,
    "scrolled": true
   },
   "outputs": [],
   "source": [
    "phis = []\n",
    "perplexities = []\n",
    "for seed in xrange(30):\n",
    "    print seed\n",
    "    phi, theta = perform_extended_lda(10, - 0.1, 0., seed=seed, freq_matrix=new_freq_matrix)\n",
    "    phis.append(phi.flatten())\n",
    "    perplexities.append(external_calculate_perplexity(new_freq_matrix, phi, theta))\n",
    "phis = np.array(phis)"
   ]
  },
  {
   "cell_type": "markdown",
   "metadata": {},
   "source": [
    "## Syntetic sparse LDA: phi points"
   ]
  },
  {
   "cell_type": "code",
   "execution_count": null,
   "metadata": {
    "collapsed": false
   },
   "outputs": [],
   "source": [
    "plot_tsne(phis, perplexities, 5)"
   ]
  },
  {
   "cell_type": "markdown",
   "metadata": {},
   "source": [
    "## Syntetic sparse LDA: phi variance"
   ]
  },
  {
   "cell_type": "code",
   "execution_count": null,
   "metadata": {
    "collapsed": false
   },
   "outputs": [],
   "source": [
    "investigate_matrix_variance(phis)"
   ]
  },
  {
   "cell_type": "markdown",
   "metadata": {},
   "source": [
    "## Syntetic sparse LDA: perplexity variance"
   ]
  },
  {
   "cell_type": "code",
   "execution_count": null,
   "metadata": {
    "collapsed": false
   },
   "outputs": [],
   "source": [
    "investigate_scalar_variance(perplexities)"
   ]
  },
  {
   "cell_type": "code",
   "execution_count": null,
   "metadata": {
    "collapsed": true
   },
   "outputs": [],
   "source": [
    "check_phis(init_phi, phis)"
   ]
  },
  {
   "cell_type": "code",
   "execution_count": null,
   "metadata": {
    "collapsed": true
   },
   "outputs": [],
   "source": []
  },
  {
   "cell_type": "markdown",
   "metadata": {},
   "source": [
    "# Full initialized PLSA"
   ]
  },
  {
   "cell_type": "code",
   "execution_count": null,
   "metadata": {
    "collapsed": true
   },
   "outputs": [],
   "source": [
    "new_init_phi, new_init_theta = perform_extended_lda(10, 0., 0., seed=seed, phi_zero_init=init_phi, theta_zero_init=init_theta)"
   ]
  },
  {
   "cell_type": "code",
   "execution_count": null,
   "metadata": {
    "collapsed": false
   },
   "outputs": [],
   "source": [
    "phis = []\n",
    "perplexities = []\n",
    "for seed in xrange(300):\n",
    "    print seed\n",
    "    phi, theta = perform_extended_lda(10, 0., 0., seed=seed, phi_zero_init=new_init_phi, theta_zero_init=new_init_theta)\n",
    "    phis.append(phi.flatten())\n",
    "    perplexities.append(external_calculate_perplexity(origin_freq_matrix, phi, theta))\n",
    "phis = np.array(phis)"
   ]
  },
  {
   "cell_type": "markdown",
   "metadata": {},
   "source": [
    "## Full initialized PLSA: phi points"
   ]
  },
  {
   "cell_type": "code",
   "execution_count": null,
   "metadata": {
    "collapsed": false
   },
   "outputs": [],
   "source": [
    "plot_tsne(phis, perplexities, 10)"
   ]
  },
  {
   "cell_type": "markdown",
   "metadata": {},
   "source": [
    "## Full initialized PLSA: phi variance"
   ]
  },
  {
   "cell_type": "code",
   "execution_count": null,
   "metadata": {
    "collapsed": false
   },
   "outputs": [],
   "source": [
    "investigate_matrix_variance(phis)"
   ]
  },
  {
   "cell_type": "markdown",
   "metadata": {},
   "source": [
    "## Full initialized PLSA: perplexity variance"
   ]
  },
  {
   "cell_type": "code",
   "execution_count": null,
   "metadata": {
    "collapsed": false
   },
   "outputs": [],
   "source": [
    "investigate_scalar_variance(perplexities)"
   ]
  },
  {
   "cell_type": "markdown",
   "metadata": {},
   "source": [
    "## Оценим качество приближения"
   ]
  },
  {
   "cell_type": "code",
   "execution_count": null,
   "metadata": {
    "collapsed": false
   },
   "outputs": [],
   "source": [
    "check_phis(new_init_phi, phis)"
   ]
  },
  {
   "cell_type": "code",
   "execution_count": null,
   "metadata": {
    "collapsed": true
   },
   "outputs": [],
   "source": []
  },
  {
   "cell_type": "code",
   "execution_count": null,
   "metadata": {
    "collapsed": true
   },
   "outputs": [],
   "source": []
  },
  {
   "cell_type": "markdown",
   "metadata": {},
   "source": [
    "# Syntetic PLSA"
   ]
  },
  {
   "cell_type": "code",
   "execution_count": null,
   "metadata": {
    "collapsed": false
   },
   "outputs": [],
   "source": [
    "m = np.dot(new_init_theta, new_init_phi)\n",
    "print np.sum(np.isnan(m))\n",
    "m[np.isnan(m)] = 0.\n",
    "new_freq_matrix = scipy.sparse.csr_matrix(m)"
   ]
  },
  {
   "cell_type": "code",
   "execution_count": null,
   "metadata": {
    "collapsed": false
   },
   "outputs": [],
   "source": [
    "phis = []\n",
    "perplexities = []\n",
    "for seed in xrange(30):\n",
    "    print seed\n",
    "    phi, theta = perform_extended_lda(10, 0., 0., seed=seed, freq_matrix=new_freq_matrix)\n",
    "    phis.append(phi.flatten())\n",
    "    perplexities.append(external_calculate_perplexity(new_freq_matrix, phi, theta))\n",
    "phis = np.array(phis)"
   ]
  },
  {
   "cell_type": "markdown",
   "metadata": {},
   "source": [
    "## Full initialized syntetic PLSA: phi points"
   ]
  },
  {
   "cell_type": "code",
   "execution_count": null,
   "metadata": {
    "collapsed": false
   },
   "outputs": [],
   "source": [
    "plot_tsne(phis, perplexities, 5)"
   ]
  },
  {
   "cell_type": "markdown",
   "metadata": {},
   "source": [
    "## Full initialized syntetic PLSA: phi variance"
   ]
  },
  {
   "cell_type": "code",
   "execution_count": null,
   "metadata": {
    "collapsed": false
   },
   "outputs": [],
   "source": [
    "investigate_matrix_variance(phis)"
   ]
  },
  {
   "cell_type": "markdown",
   "metadata": {},
   "source": [
    "## Full initialized syntetic PLSA: perplexity variance"
   ]
  },
  {
   "cell_type": "code",
   "execution_count": null,
   "metadata": {
    "collapsed": false
   },
   "outputs": [],
   "source": [
    "investigate_scalar_variance(perplexities)"
   ]
  },
  {
   "cell_type": "markdown",
   "metadata": {},
   "source": [
    "## Оценим качество приближения"
   ]
  },
  {
   "cell_type": "code",
   "execution_count": null,
   "metadata": {
    "collapsed": false
   },
   "outputs": [],
   "source": [
    "check_phis(new_init_phi, phis)"
   ]
  },
  {
   "cell_type": "code",
   "execution_count": null,
   "metadata": {
    "collapsed": true
   },
   "outputs": [],
   "source": []
  },
  {
   "cell_type": "markdown",
   "metadata": {},
   "source": [
    "# Full initialized syntetic PLSA"
   ]
  },
  {
   "cell_type": "code",
   "execution_count": null,
   "metadata": {
    "collapsed": false
   },
   "outputs": [],
   "source": [
    "phis = []\n",
    "perplexities = []\n",
    "for seed in xrange(30):\n",
    "    print seed\n",
    "    phi, theta = perform_extended_lda(10, 0., 0., seed=seed, phi_zero_init=new_init_phi, theta_zero_init=new_init_theta, freq_matrix=new_freq_matrix)\n",
    "    phis.append(phi.flatten())\n",
    "    perplexities.append(external_calculate_perplexity(new_freq_matrix, phi, theta))\n",
    "phis = np.array(phis)"
   ]
  },
  {
   "cell_type": "markdown",
   "metadata": {},
   "source": [
    "## Full initialized syntetic PLSA: phi points"
   ]
  },
  {
   "cell_type": "code",
   "execution_count": null,
   "metadata": {
    "collapsed": false
   },
   "outputs": [],
   "source": [
    "plot_tsne(phis, perplexities, 5)"
   ]
  },
  {
   "cell_type": "markdown",
   "metadata": {},
   "source": [
    "## Full initialized syntetic PLSA: phi variance"
   ]
  },
  {
   "cell_type": "code",
   "execution_count": null,
   "metadata": {
    "collapsed": false
   },
   "outputs": [],
   "source": [
    "investigate_matrix_variance(phis)"
   ]
  },
  {
   "cell_type": "markdown",
   "metadata": {},
   "source": [
    "## Full initialized syntetic PLSA: perplexity variance"
   ]
  },
  {
   "cell_type": "code",
   "execution_count": null,
   "metadata": {
    "collapsed": false
   },
   "outputs": [],
   "source": [
    "investigate_scalar_variance(perplexities)"
   ]
  },
  {
   "cell_type": "markdown",
   "metadata": {},
   "source": [
    "## Оценим качество приближения"
   ]
  },
  {
   "cell_type": "code",
   "execution_count": null,
   "metadata": {
    "collapsed": false
   },
   "outputs": [],
   "source": [
    "check_phis(new_init_phi, phis)"
   ]
  },
  {
   "cell_type": "code",
   "execution_count": null,
   "metadata": {
    "collapsed": true
   },
   "outputs": [],
   "source": []
  },
  {
   "cell_type": "code",
   "execution_count": null,
   "metadata": {
    "collapsed": true
   },
   "outputs": [],
   "source": []
  },
  {
   "cell_type": "code",
   "execution_count": null,
   "metadata": {
    "collapsed": true
   },
   "outputs": [],
   "source": []
  },
  {
   "cell_type": "code",
   "execution_count": null,
   "metadata": {
    "collapsed": true
   },
   "outputs": [],
   "source": [
    "new_init_phi_, new_init_theta_ = perform_extended_lda(10, 0., 0., seed=seed, phi_zero_init=init_phi, theta_zero_init=init_theta)"
   ]
  },
  {
   "cell_type": "code",
   "execution_count": null,
   "metadata": {
    "collapsed": true
   },
   "outputs": [],
   "source": [
    "new_init_phi, new_init_theta = perform_extended_lda(10, 0., 0., seed=seed, phi_zero_init=new_init_phi_, theta_zero_init=new_init_theta_)"
   ]
  },
  {
   "cell_type": "code",
   "execution_count": null,
   "metadata": {
    "collapsed": false
   },
   "outputs": [],
   "source": [
    "m = np.dot(new_init_theta, new_init_phi)\n",
    "print np.sum(np.isnan(m))\n",
    "m[np.isnan(m)] = 0.\n",
    "new_freq_matrix = scipy.sparse.csr_matrix(m)"
   ]
  },
  {
   "cell_type": "code",
   "execution_count": null,
   "metadata": {
    "collapsed": false
   },
   "outputs": [],
   "source": [
    "phis = []\n",
    "perplexities = []\n",
    "for seed in xrange(30):\n",
    "    print seed\n",
    "    phi, theta = perform_extended_lda(10, 0., 0., seed=seed, freq_matrix=new_freq_matrix)\n",
    "    phis.append(phi.flatten())\n",
    "    perplexities.append(external_calculate_perplexity(new_freq_matrix, phi, theta))\n",
    "phis = np.array(phis)"
   ]
  },
  {
   "cell_type": "code",
   "execution_count": null,
   "metadata": {
    "collapsed": false
   },
   "outputs": [],
   "source": [
    "investigate_matrix_variance(phis)"
   ]
  },
  {
   "cell_type": "code",
   "execution_count": null,
   "metadata": {
    "collapsed": false
   },
   "outputs": [],
   "source": [
    "check_phis(new_init_phi, phis)"
   ]
  },
  {
   "cell_type": "code",
   "execution_count": null,
   "metadata": {
    "collapsed": true
   },
   "outputs": [],
   "source": []
  },
  {
   "cell_type": "code",
   "execution_count": null,
   "metadata": {
    "collapsed": true
   },
   "outputs": [],
   "source": []
  },
  {
   "cell_type": "code",
   "execution_count": null,
   "metadata": {
    "collapsed": true
   },
   "outputs": [],
   "source": []
  },
  {
   "cell_type": "code",
   "execution_count": null,
   "metadata": {
    "collapsed": true
   },
   "outputs": [],
   "source": [
    "topics_values1 = []\n",
    "perplexity_values1 = []\n",
    "for T in xrange(2, 51):\n",
    "    p = 0.\n",
    "    for seed in xrange(3):\n",
    "        phi, theta = perform_lda(T, - 0.1, 0., seed=seed)\n",
    "        p += external_calculate_perplexity(origin_freq_matrix, phi, theta)\n",
    "    p /= 3\n",
    "    \n",
    "    topics_values1.append(T)\n",
    "    perplexity_values1.append(p)\n",
    "    \n",
    "    print T, p\n",
    "perplexity_values1 = np.array(perplexity_values1)"
   ]
  },
  {
   "cell_type": "code",
   "execution_count": null,
   "metadata": {
    "collapsed": true
   },
   "outputs": [],
   "source": [
    "plt.figure(figsize=(10, 5))\n",
    "plt.xlabel('Topics number')\n",
    "plt.ylabel('Normalized uniqueness measure')\n",
    "plt.plot(topics_values, min_nums_values)\n",
    "plt.plot(topics_values, avg_nums_values)\n",
    "plt.plot(topics_values, max_nums_values)\n",
    "plt.plot(topics_values1, perplexity_values1 / np.max(perplexity_values1))\n",
    "plt.legend(['min', 'avg', 'max'])\n",
    "plt.show()"
   ]
  },
  {
   "cell_type": "code",
   "execution_count": null,
   "metadata": {
    "collapsed": true
   },
   "outputs": [],
   "source": []
  },
  {
   "cell_type": "code",
   "execution_count": 39,
   "metadata": {
    "collapsed": true
   },
   "outputs": [],
   "source": [
    "import pickle\n",
    "\n",
    "with open('6_topics_dependency.pkl', 'w') as f:\n",
    "    pickle.dump({\n",
    "        'avg_nums_value': avg_nums_value,\n",
    "        'min_nums_value': min_nums_value,\n",
    "        'max_nums_value': max_nums_value,\n",
    "        'avg_ums_value': avg_ums_value,\n",
    "        'min_ums_value': min_ums_value,\n",
    "        'max_ums_value': max_ums_value,\n",
    "        #'perplexity_values': perplexity_values1\n",
    "    }, f)"
   ]
  },
  {
   "cell_type": "code",
   "execution_count": null,
   "metadata": {
    "collapsed": true
   },
   "outputs": [],
   "source": []
  },
  {
   "cell_type": "code",
   "execution_count": 41,
   "metadata": {
    "collapsed": false
   },
   "outputs": [
    {
     "name": "stdout",
     "output_type": "stream",
     "text": [
      "10\n",
      "[0.30216149099066564]\n",
      "20\n",
      "[0.30216149099066564, 0.45180727863654602]\n",
      "30\n",
      "[0.30216149099066564, 0.45180727863654602, 0.51511767314071477]\n",
      "40\n",
      "[0.30216149099066564, 0.45180727863654602, 0.51511767314071477, 0.55133014083348042]\n",
      "50\n",
      "[0.30216149099066564, 0.45180727863654602, 0.51511767314071477, 0.55133014083348042, 0.59979735700323467]\n",
      "60\n",
      "[0.30216149099066564, 0.45180727863654602, 0.51511767314071477, 0.55133014083348042, 0.59979735700323467, 0.61192756567644979]\n",
      "70\n",
      "[0.30216149099066564, 0.45180727863654602, 0.51511767314071477, 0.55133014083348042, 0.59979735700323467, 0.61192756567644979, 0.56217971556569957]\n",
      "80\n"
     ]
    },
    {
     "ename": "KeyboardInterrupt",
     "evalue": "",
     "output_type": "error",
     "traceback": [
      "\u001b[1;31m---------------------------------------------------------------------------\u001b[0m",
      "\u001b[1;31mKeyboardInterrupt\u001b[0m                         Traceback (most recent call last)",
      "\u001b[1;32m<ipython-input-41-90dd9e5b8628>\u001b[0m in \u001b[0;36m<module>\u001b[1;34m()\u001b[0m\n\u001b[0;32m     17\u001b[0m     \u001b[1;32mfor\u001b[0m \u001b[0mseed\u001b[0m \u001b[1;32min\u001b[0m \u001b[0mxrange\u001b[0m\u001b[1;33m(\u001b[0m\u001b[1;36m1\u001b[0m\u001b[1;33m)\u001b[0m\u001b[1;33m:\u001b[0m\u001b[1;33m\u001b[0m\u001b[0m\n\u001b[0;32m     18\u001b[0m         \u001b[0mphi\u001b[0m\u001b[1;33m,\u001b[0m \u001b[0mtheta\u001b[0m \u001b[1;33m=\u001b[0m \u001b[0mperform_lda\u001b[0m\u001b[1;33m(\u001b[0m\u001b[0mT\u001b[0m\u001b[1;33m,\u001b[0m \u001b[1;33m-\u001b[0m \u001b[1;36m0.1\u001b[0m\u001b[1;33m,\u001b[0m \u001b[1;36m0.\u001b[0m\u001b[1;33m,\u001b[0m \u001b[0mseed\u001b[0m\u001b[1;33m=\u001b[0m\u001b[0mseed\u001b[0m\u001b[1;33m)\u001b[0m\u001b[1;33m\u001b[0m\u001b[0m\n\u001b[1;32m---> 19\u001b[1;33m         \u001b[0mdums\u001b[0m\u001b[1;33m,\u001b[0m \u001b[0mdnums\u001b[0m \u001b[1;33m=\u001b[0m \u001b[0mcalc_phi_uniqueness_measures\u001b[0m\u001b[1;33m(\u001b[0m\u001b[0mphi\u001b[0m\u001b[1;33m)\u001b[0m\u001b[1;33m\u001b[0m\u001b[0m\n\u001b[0m\u001b[0;32m     20\u001b[0m \u001b[1;33m\u001b[0m\u001b[0m\n\u001b[0;32m     21\u001b[0m         \u001b[0mmin_ums_value\u001b[0m \u001b[1;33m+=\u001b[0m \u001b[0mnp\u001b[0m\u001b[1;33m.\u001b[0m\u001b[0mmin\u001b[0m\u001b[1;33m(\u001b[0m\u001b[0mdums\u001b[0m\u001b[1;33m)\u001b[0m\u001b[1;33m\u001b[0m\u001b[0m\n",
      "\u001b[1;32m<ipython-input-14-8a2f53d5f3f8>\u001b[0m in \u001b[0;36mcalc_phi_uniqueness_measures\u001b[1;34m(phi)\u001b[0m\n\u001b[0;32m     12\u001b[0m             \u001b[0mrank\u001b[0m \u001b[1;33m=\u001b[0m \u001b[0mnp\u001b[0m\u001b[1;33m.\u001b[0m\u001b[0mlinalg\u001b[0m\u001b[1;33m.\u001b[0m\u001b[0mmatrix_rank\u001b[0m\u001b[1;33m(\u001b[0m\u001b[0mphi\u001b[0m\u001b[1;33m[\u001b[0m\u001b[0mnp\u001b[0m\u001b[1;33m.\u001b[0m\u001b[0mix_\u001b[0m\u001b[1;33m(\u001b[0m\u001b[0mtopics\u001b[0m\u001b[1;33m,\u001b[0m \u001b[0mpositions\u001b[0m\u001b[1;33m)\u001b[0m\u001b[1;33m]\u001b[0m\u001b[1;33m)\u001b[0m\u001b[1;33m\u001b[0m\u001b[0m\n\u001b[0;32m     13\u001b[0m             \u001b[1;32mif\u001b[0m \u001b[0mrank\u001b[0m \u001b[1;33m==\u001b[0m \u001b[0mT\u001b[0m \u001b[1;33m-\u001b[0m \u001b[1;36m1\u001b[0m\u001b[1;33m:\u001b[0m\u001b[1;33m\u001b[0m\u001b[0m\n\u001b[1;32m---> 14\u001b[1;33m                 \u001b[0mmax_val\u001b[0m \u001b[1;33m=\u001b[0m \u001b[0mnp\u001b[0m\u001b[1;33m.\u001b[0m\u001b[0mmin\u001b[0m\u001b[1;33m(\u001b[0m\u001b[0mnp\u001b[0m\u001b[1;33m.\u001b[0m\u001b[0mlinalg\u001b[0m\u001b[1;33m.\u001b[0m\u001b[0msvd\u001b[0m\u001b[1;33m(\u001b[0m\u001b[0mphi\u001b[0m\u001b[1;33m[\u001b[0m\u001b[0mtopics\u001b[0m\u001b[1;33m,\u001b[0m \u001b[1;33m:\u001b[0m\u001b[1;33m]\u001b[0m\u001b[1;33m)\u001b[0m\u001b[1;33m[\u001b[0m\u001b[1;36m1\u001b[0m\u001b[1;33m]\u001b[0m\u001b[1;33m)\u001b[0m\u001b[1;33m\u001b[0m\u001b[0m\n\u001b[0m\u001b[0;32m     15\u001b[0m                 \u001b[0mcurr_val\u001b[0m \u001b[1;33m=\u001b[0m \u001b[0mnp\u001b[0m\u001b[1;33m.\u001b[0m\u001b[0mmin\u001b[0m\u001b[1;33m(\u001b[0m\u001b[0mnp\u001b[0m\u001b[1;33m.\u001b[0m\u001b[0mlinalg\u001b[0m\u001b[1;33m.\u001b[0m\u001b[0msvd\u001b[0m\u001b[1;33m(\u001b[0m\u001b[0mphi\u001b[0m\u001b[1;33m[\u001b[0m\u001b[0mnp\u001b[0m\u001b[1;33m.\u001b[0m\u001b[0mix_\u001b[0m\u001b[1;33m(\u001b[0m\u001b[0mtopics\u001b[0m\u001b[1;33m,\u001b[0m \u001b[0mpositions\u001b[0m\u001b[1;33m)\u001b[0m\u001b[1;33m]\u001b[0m\u001b[1;33m)\u001b[0m\u001b[1;33m[\u001b[0m\u001b[1;36m1\u001b[0m\u001b[1;33m]\u001b[0m\u001b[1;33m)\u001b[0m\u001b[1;33m\u001b[0m\u001b[0m\n\u001b[0;32m     16\u001b[0m                 \u001b[0mres\u001b[0m\u001b[1;33m.\u001b[0m\u001b[0mappend\u001b[0m\u001b[1;33m(\u001b[0m\u001b[0mcurr_val\u001b[0m\u001b[1;33m)\u001b[0m\u001b[1;33m\u001b[0m\u001b[0m\n",
      "\u001b[1;32m/usr/share/python/yandex-ydf-toolbox/local/lib/python2.7/site-packages/numpy/linalg/linalg.pyc\u001b[0m in \u001b[0;36msvd\u001b[1;34m(a, full_matrices, compute_uv)\u001b[0m\n\u001b[0;32m   1357\u001b[0m \u001b[1;33m\u001b[0m\u001b[0m\n\u001b[0;32m   1358\u001b[0m         \u001b[0msignature\u001b[0m \u001b[1;33m=\u001b[0m \u001b[1;34m'D->DdD'\u001b[0m \u001b[1;32mif\u001b[0m \u001b[0misComplexType\u001b[0m\u001b[1;33m(\u001b[0m\u001b[0mt\u001b[0m\u001b[1;33m)\u001b[0m \u001b[1;32melse\u001b[0m \u001b[1;34m'd->ddd'\u001b[0m\u001b[1;33m\u001b[0m\u001b[0m\n\u001b[1;32m-> 1359\u001b[1;33m         \u001b[0mu\u001b[0m\u001b[1;33m,\u001b[0m \u001b[0ms\u001b[0m\u001b[1;33m,\u001b[0m \u001b[0mvt\u001b[0m \u001b[1;33m=\u001b[0m \u001b[0mgufunc\u001b[0m\u001b[1;33m(\u001b[0m\u001b[0ma\u001b[0m\u001b[1;33m,\u001b[0m \u001b[0msignature\u001b[0m\u001b[1;33m=\u001b[0m\u001b[0msignature\u001b[0m\u001b[1;33m,\u001b[0m \u001b[0mextobj\u001b[0m\u001b[1;33m=\u001b[0m\u001b[0mextobj\u001b[0m\u001b[1;33m)\u001b[0m\u001b[1;33m\u001b[0m\u001b[0m\n\u001b[0m\u001b[0;32m   1360\u001b[0m         \u001b[0mu\u001b[0m \u001b[1;33m=\u001b[0m \u001b[0mu\u001b[0m\u001b[1;33m.\u001b[0m\u001b[0mastype\u001b[0m\u001b[1;33m(\u001b[0m\u001b[0mresult_t\u001b[0m\u001b[1;33m,\u001b[0m \u001b[0mcopy\u001b[0m\u001b[1;33m=\u001b[0m\u001b[0mFalse\u001b[0m\u001b[1;33m)\u001b[0m\u001b[1;33m\u001b[0m\u001b[0m\n\u001b[0;32m   1361\u001b[0m         \u001b[0ms\u001b[0m \u001b[1;33m=\u001b[0m \u001b[0ms\u001b[0m\u001b[1;33m.\u001b[0m\u001b[0mastype\u001b[0m\u001b[1;33m(\u001b[0m\u001b[0m_realType\u001b[0m\u001b[1;33m(\u001b[0m\u001b[0mresult_t\u001b[0m\u001b[1;33m)\u001b[0m\u001b[1;33m,\u001b[0m \u001b[0mcopy\u001b[0m\u001b[1;33m=\u001b[0m\u001b[0mFalse\u001b[0m\u001b[1;33m)\u001b[0m\u001b[1;33m\u001b[0m\u001b[0m\n",
      "\u001b[1;31mKeyboardInterrupt\u001b[0m: "
     ]
    }
   ],
   "source": [
    "topics_values2 = []\n",
    "min_ums_values2 = []\n",
    "min_nums_values2 = []\n",
    "max_ums_values2 = []\n",
    "max_nums_values2 = []\n",
    "avg_ums_values2 = []\n",
    "avg_nums_values2 = []\n",
    "for T in xrange(10, 101, 10):\n",
    "    print T\n",
    "    min_ums_value = 0 \n",
    "    min_nums_value = 0 \n",
    "    max_ums_value = 0 \n",
    "    max_nums_value = 0 \n",
    "    avg_ums_value = 0 \n",
    "    avg_nums_value = 0 \n",
    "    \n",
    "    for seed in xrange(1):\n",
    "        phi, theta = perform_lda(T, - 0.1, 0., seed=seed)\n",
    "        dums, dnums = calc_phi_uniqueness_measures(phi)\n",
    "        \n",
    "        min_ums_value += np.min(dums) \n",
    "        min_nums_value += np.min(dnums) \n",
    "        max_ums_value += np.max(dums) \n",
    "        max_nums_value += np.max(dnums) \n",
    "        avg_ums_value += np.mean(dums) \n",
    "        avg_nums_value += np.mean(dnums) \n",
    "    \n",
    "    min_ums_value /= 1 \n",
    "    min_nums_value /= 1\n",
    "    max_ums_value /= 1\n",
    "    max_nums_value /= 1\n",
    "    avg_ums_value /= 1\n",
    "    avg_nums_value /= 1\n",
    "    \n",
    "    topics_values2.append(T)\n",
    "    min_ums_values2.append(min_ums_value)\n",
    "    min_nums_values2.append(min_nums_value)\n",
    "    max_ums_values2.append(max_ums_value)\n",
    "    max_nums_values2.append(max_nums_value)\n",
    "    avg_ums_values2.append(avg_ums_value)\n",
    "    avg_nums_values2.append(avg_nums_value)\n",
    "    \n",
    "    print min_nums_values2\n"
   ]
  },
  {
   "cell_type": "code",
   "execution_count": null,
   "metadata": {
    "collapsed": true
   },
   "outputs": [],
   "source": [
    "plt.figure(figsize=(10, 5))\n",
    "plt.xlabel('Topics number')\n",
    "plt.ylabel('Normalized uniqueness measure')\n",
    "plt.plot(topics_values, min_nums_values)\n",
    "plt.plot(topics_values, avg_nums_values)\n",
    "plt.plot(topics_values, max_nums_values)\n",
    "plt.legend(['min', 'avg', 'max'])\n",
    "plt.show()"
   ]
  },
  {
   "cell_type": "code",
   "execution_count": null,
   "metadata": {
    "collapsed": true
   },
   "outputs": [],
   "source": []
  },
  {
   "cell_type": "code",
   "execution_count": 45,
   "metadata": {
    "collapsed": true
   },
   "outputs": [],
   "source": []
  },
  {
   "cell_type": "code",
   "execution_count": 60,
   "metadata": {
    "collapsed": false
   },
   "outputs": [
    {
     "data": {
      "image/png": "[encoded data removed]",
      "text/plain": [
       "<matplotlib.figure.Figure at 0xa393f90>"
      ]
     },
     "metadata": {},
     "output_type": "display_data"
    }
   ],
   "source": [
    "import pickle\n",
    "\n",
    "with open('/home/tylorn/uniqueness_glob/topics_dependency_origin_1.pkl', 'r') as f:\n",
    "    d = pickle.load(f)\n",
    "\n",
    "def m_plot(val_name, err_name):\n",
    "    val = np.array(d[val_name])\n",
    "    err = np.array(d[err_name])\n",
    "    \n",
    "    plt.plot(d['topics_values'], val)\n",
    "    plt.fill_between(d['topics_values'], val - err, val + err, alpha=0.5, facecolor='yellow')\n",
    "    \n",
    "val = np.array(d['min_nums_values'])\n",
    "err = np.array(d['min_nums_values_err'])\n",
    "\n",
    "plt.figure(figsize=(10, 5))\n",
    "plt.xlabel('Topics number')\n",
    "plt.ylabel('Normalized uniqueness measure')\n",
    "\n",
    "m_plot('min_nums_values', 'min_nums_values_err')\n",
    "m_plot('avg_nums_values', 'avg_nums_values_err')\n",
    "m_plot('max_nums_values', 'max_nums_values_err')\n",
    "\n",
    "plt.show()"
   ]
  },
  {
   "cell_type": "code",
   "execution_count": 61,
   "metadata": {
    "collapsed": false
   },
   "outputs": [
    {
     "data": {
      "image/png": "[encoded data removed]",
      "text/plain": [
       "<matplotlib.figure.Figure at 0xa393c50>"
      ]
     },
     "metadata": {},
     "output_type": "display_data"
    }
   ],
   "source": [
    "import pickle\n",
    "\n",
    "with open('/home/tylorn/uniqueness_glob/topics_dependency_origin_2.pkl', 'r') as f:\n",
    "    d = pickle.load(f)\n",
    "\n",
    "def m_plot(val_name, err_name):\n",
    "    val = np.array(d[val_name])\n",
    "    err = np.array(d[err_name])\n",
    "    \n",
    "    plt.plot(d['topics_values'], val)\n",
    "    plt.fill_between(d['topics_values'], val - err, val + err, alpha=0.5, facecolor='yellow')\n",
    "    \n",
    "val = np.array(d['min_nums_values'])\n",
    "err = np.array(d['min_nums_values_err'])\n",
    "\n",
    "plt.figure(figsize=(10, 5))\n",
    "plt.xlabel('Topics number')\n",
    "plt.ylabel('Normalized uniqueness measure')\n",
    "\n",
    "m_plot('min_nums_values', 'min_nums_values_err')\n",
    "m_plot('avg_nums_values', 'avg_nums_values_err')\n",
    "m_plot('max_nums_values', 'max_nums_values_err')\n",
    "\n",
    "plt.show()"
   ]
  },
  {
   "cell_type": "code",
   "execution_count": null,
   "metadata": {
    "collapsed": true
   },
   "outputs": [],
   "source": []
  },
  {
   "cell_type": "code",
   "execution_count": 66,
   "metadata": {
    "collapsed": false
   },
   "outputs": [
    {
     "data": {
      "image/png": "[encoded data removed]",
      "text/plain": [
       "<matplotlib.figure.Figure at 0x169e9c50>"
      ]
     },
     "metadata": {},
     "output_type": "display_data"
    }
   ],
   "source": [
    "import pickle\n",
    "\n",
    "with open('/home/tylorn/uniqueness_glob/topics_dependency_origin_3.pkl', 'r') as f:\n",
    "    d = pickle.load(f)\n",
    "\n",
    "def m_plot(val_name, err_name):\n",
    "    val = np.array(d[val_name])\n",
    "    err = np.array(d[err_name])\n",
    "    \n",
    "    plt.plot(d['topics_values'], val)\n",
    "    plt.fill_between(d['topics_values'], val - err, val + err, alpha=0.5, facecolor='yellow')\n",
    "    \n",
    "val = np.array(d['min_nums_values'])\n",
    "err = np.array(d['min_nums_values_err'])\n",
    "\n",
    "plt.figure(figsize=(10, 5))\n",
    "plt.xlabel('Topics number')\n",
    "plt.ylabel('Normalized uniqueness measure')\n",
    "\n",
    "m_plot('min_nums_values', 'min_nums_values_err')\n",
    "m_plot('avg_nums_values', 'avg_nums_values_err')\n",
    "m_plot('max_nums_values', 'max_nums_values_err')\n",
    "\n",
    "plt.show()"
   ]
  },
  {
   "cell_type": "code",
   "execution_count": 67,
   "metadata": {
    "collapsed": false
   },
   "outputs": [
    {
     "data": {
      "image/png": "[encoded data removed]",
      "text/plain": [
       "<matplotlib.figure.Figure at 0x169e9fd0>"
      ]
     },
     "metadata": {},
     "output_type": "display_data"
    }
   ],
   "source": [
    "import pickle\n",
    "\n",
    "with open('/home/tylorn/uniqueness_glob/topics_dependency_origin_4.pkl', 'r') as f:\n",
    "    d = pickle.load(f)\n",
    "\n",
    "def m_plot(val_name, err_name):\n",
    "    val = np.array(d[val_name])\n",
    "    err = np.array(d[err_name])\n",
    "    \n",
    "    plt.plot(d['topics_values'], val)\n",
    "    plt.fill_between(d['topics_values'], val - err, val + err, alpha=0.5, facecolor='yellow')\n",
    "    \n",
    "val = np.array(d['min_nums_values'])\n",
    "err = np.array(d['min_nums_values_err'])\n",
    "\n",
    "plt.figure(figsize=(10, 5))\n",
    "plt.xlabel('Topics number')\n",
    "plt.ylabel('Normalized uniqueness measure')\n",
    "\n",
    "m_plot('min_nums_values', 'min_nums_values_err')\n",
    "m_plot('avg_nums_values', 'avg_nums_values_err')\n",
    "m_plot('max_nums_values', 'max_nums_values_err')\n",
    "\n",
    "plt.show()"
   ]
  },
  {
   "cell_type": "code",
   "execution_count": null,
   "metadata": {
    "collapsed": true
   },
   "outputs": [],
   "source": []
  },
  {
   "cell_type": "code",
   "execution_count": null,
   "metadata": {
    "collapsed": true
   },
   "outputs": [],
   "source": []
  },
  {
   "cell_type": "code",
   "execution_count": 109,
   "metadata": {
    "collapsed": false
   },
   "outputs": [],
   "source": [
    "import random\n",
    "\n",
    "def prepare_train_test_dataset(dataset):\n",
    "    # remove stopwords\n",
    "    occurences = Counter()\n",
    "    for i, doc in enumerate(dataset.data):\n",
    "        tokens = gensim.utils.lemmatize(doc)\n",
    "        for token in set(tokens):\n",
    "            occurences[token] += 1\n",
    "        if i % 500 == 0:\n",
    "            print 'Processed: ', i, 'documents from', len(dataset.data)\n",
    "    \n",
    "    train_row, train_col, train_data = [], [], []\n",
    "    test_row, test_col, test_data = [], [], []\n",
    "    token_2_num = {}\n",
    "    for i, doc in enumerate(dataset.data):\n",
    "        tokens = gensim.utils.lemmatize(doc)\n",
    "        cnt_train = Counter()\n",
    "        cnt_test = Counter()\n",
    "        for token in tokens:\n",
    "            word = token.split('/')[0]\n",
    "            if word not in english_stopwords and 10 <= occurences[token] < len(dataset.data) / 2:\n",
    "                if token not in token_2_num:\n",
    "                    token_2_num[token] = len(token_2_num)\n",
    "                if random.random() < 0.05:\n",
    "                    cnt_test[token_2_num[token]] += 1\n",
    "                else:\n",
    "                    cnt_train[token_2_num[token]] += 1\n",
    "        for w, c in cnt_test.iteritems():\n",
    "            test_row.append(i)\n",
    "            test_col.append(w)\n",
    "            test_data.append(c)\n",
    "        for w, c in cnt_train.iteritems():\n",
    "            train_row.append(i)\n",
    "            train_col.append(w)\n",
    "            train_data.append(c)\n",
    "        \n",
    "    num_2_token = {\n",
    "        v: k\n",
    "        for k, v in token_2_num.iteritems()\n",
    "    }\n",
    "    return (\n",
    "        scipy.sparse.csr_matrix((train_data, (train_row, train_col))),\n",
    "        scipy.sparse.csr_matrix((test_data, (test_row, test_col))),\n",
    "        token_2_num,\n",
    "        num_2_token\n",
    "    )\n"
   ]
  },
  {
   "cell_type": "code",
   "execution_count": 128,
   "metadata": {
    "collapsed": true
   },
   "outputs": [],
   "source": [
    "dataset2 = fetch_20newsgroups(\n",
    "    subset='all',\n",
    "    categories=['sci.electronics', 'sci.space', 'sci.med'],\n",
    "    remove=('headers', 'footers', 'quotes')\n",
    ")"
   ]
  },
  {
   "cell_type": "code",
   "execution_count": 129,
   "metadata": {
    "collapsed": false
   },
   "outputs": [
    {
     "name": "stdout",
     "output_type": "stream",
     "text": [
      "Processed:  0 documents from 2961\n",
      "Processed:  500 documents from 2961\n",
      "Processed:  1000 documents from 2961\n",
      "Processed:  1500 documents from 2961\n",
      "Processed:  2000 documents from 2961\n",
      "Processed:  2500 documents from 2961\n",
      "CPU times: user 0 ns, sys: 2min 7s, total: 2min 7s\n",
      "Wall time: 2min 7s\n"
     ]
    }
   ],
   "source": [
    "%%time\n",
    "train_origin_freq_matrix, test_origin_freq_matrix, _, _ = prepare_train_test_dataset(dataset2)"
   ]
  },
  {
   "cell_type": "code",
   "execution_count": 130,
   "metadata": {
    "collapsed": true
   },
   "outputs": [],
   "source": [
    "D, W = train_origin_freq_matrix.shape"
   ]
  },
  {
   "cell_type": "code",
   "execution_count": 135,
   "metadata": {
    "collapsed": false
   },
   "outputs": [
    {
     "name": "stdout",
     "output_type": "stream",
     "text": [
      "(2961, 3289)\n"
     ]
    }
   ],
   "source": [
    "print train_origin_freq_matrix.shape"
   ]
  },
  {
   "cell_type": "code",
   "execution_count": 132,
   "metadata": {
    "collapsed": false
   },
   "outputs": [
    {
     "data": {
      "text/plain": [
       "<2961x3287 sparse matrix of type '<type 'numpy.int64'>'\n",
       "\twith 9308 stored elements in Compressed Sparse Row format>"
      ]
     },
     "execution_count": 132,
     "metadata": {},
     "output_type": "execute_result"
    }
   ],
   "source": [
    "test_origin_freq_matrix"
   ]
  },
  {
   "cell_type": "code",
   "execution_count": 133,
   "metadata": {
    "collapsed": false,
    "scrolled": false
   },
   "outputs": [
    {
     "name": "stdout",
     "output_type": "stream",
     "text": [
      "2 1549.50889697 1692.19224216\n",
      "3 1416.73689174 1627.91688006\n",
      "4 1300.72748997 1596.63808255\n",
      "5 1252.98467522 1639.96950201\n",
      "6 1185.06859987 1583.14643462\n",
      "7 1152.02789785 1589.50994703\n",
      "8 1112.00350076 1637.4586821\n",
      "9 1081.96691887 1644.40247117\n",
      "10 1050.31194298 1658.89952194\n",
      "11 1010.07203763 1642.18551766\n",
      "12 1009.44147819 1730.5099764\n",
      "13 974.11468558 1698.15128035\n",
      "14 962.968577465 1765.36098121\n",
      "15 940.611590481 1741.80370549\n",
      "16 927.433393212 1734.50312175\n",
      "17 920.513058594 1887.17010184\n",
      "18 905.785271434 1881.22239358\n",
      "19 890.570627576 1856.58965589\n",
      "20 879.000523743 1923.24457188\n",
      "21 862.485544214 2048.84794647\n",
      "22 855.596998537 1994.72927933\n"
     ]
    },
    {
     "ename": "KeyboardInterrupt",
     "evalue": "",
     "output_type": "error",
     "traceback": [
      "\u001b[1;31m---------------------------------------------------------------------------\u001b[0m",
      "\u001b[1;31mKeyboardInterrupt\u001b[0m                         Traceback (most recent call last)",
      "\u001b[1;32m<ipython-input-133-7dbbd6f5f889>\u001b[0m in \u001b[0;36m<module>\u001b[1;34m()\u001b[0m\n\u001b[0;32m      6\u001b[0m     \u001b[0mp_test\u001b[0m \u001b[1;33m=\u001b[0m \u001b[1;36m0.\u001b[0m\u001b[1;33m\u001b[0m\u001b[0m\n\u001b[0;32m      7\u001b[0m     \u001b[1;32mfor\u001b[0m \u001b[0mseed\u001b[0m \u001b[1;32min\u001b[0m \u001b[0mxrange\u001b[0m\u001b[1;33m(\u001b[0m\u001b[1;36m3\u001b[0m\u001b[1;33m)\u001b[0m\u001b[1;33m:\u001b[0m\u001b[1;33m\u001b[0m\u001b[0m\n\u001b[1;32m----> 8\u001b[1;33m         \u001b[0mphi\u001b[0m\u001b[1;33m,\u001b[0m \u001b[0mtheta\u001b[0m \u001b[1;33m=\u001b[0m \u001b[0mperform_lda\u001b[0m\u001b[1;33m(\u001b[0m\u001b[0mT\u001b[0m\u001b[1;33m,\u001b[0m \u001b[1;33m-\u001b[0m \u001b[1;36m0.1\u001b[0m\u001b[1;33m,\u001b[0m \u001b[1;36m0.\u001b[0m\u001b[1;33m,\u001b[0m \u001b[0mseed\u001b[0m\u001b[1;33m=\u001b[0m\u001b[0mseed\u001b[0m\u001b[1;33m,\u001b[0m \u001b[0mfreq_matrix\u001b[0m\u001b[1;33m=\u001b[0m\u001b[0mtrain_origin_freq_matrix\u001b[0m\u001b[1;33m)\u001b[0m\u001b[1;33m\u001b[0m\u001b[0m\n\u001b[0m\u001b[0;32m      9\u001b[0m         \u001b[0mtheta\u001b[0m\u001b[1;33m[\u001b[0m\u001b[0mnp\u001b[0m\u001b[1;33m.\u001b[0m\u001b[0misnan\u001b[0m\u001b[1;33m(\u001b[0m\u001b[0mtheta\u001b[0m\u001b[1;33m)\u001b[0m\u001b[1;33m]\u001b[0m \u001b[1;33m=\u001b[0m \u001b[1;36m1e-20\u001b[0m\u001b[1;33m\u001b[0m\u001b[0m\n\u001b[0;32m     10\u001b[0m         \u001b[0mtheta\u001b[0m \u001b[1;33m/=\u001b[0m \u001b[0mnp\u001b[0m\u001b[1;33m.\u001b[0m\u001b[0msum\u001b[0m\u001b[1;33m(\u001b[0m\u001b[0mtheta\u001b[0m\u001b[1;33m,\u001b[0m \u001b[0maxis\u001b[0m\u001b[1;33m=\u001b[0m\u001b[1;36m1\u001b[0m\u001b[1;33m)\u001b[0m\u001b[1;33m[\u001b[0m\u001b[1;33m:\u001b[0m\u001b[1;33m,\u001b[0m \u001b[0mnp\u001b[0m\u001b[1;33m.\u001b[0m\u001b[0mnewaxis\u001b[0m\u001b[1;33m]\u001b[0m\u001b[1;33m\u001b[0m\u001b[0m\n",
      "\u001b[1;32m<ipython-input-75-b0b1af411c97>\u001b[0m in \u001b[0;36mperform_lda\u001b[1;34m(T, words_alpha, docs_alpha, seed, freq_matrix)\u001b[0m\n\u001b[0;32m     29\u001b[0m         \u001b[0mregularizations_list\u001b[0m\u001b[1;33m=\u001b[0m\u001b[0mregularizations_list\u001b[0m\u001b[1;33m,\u001b[0m\u001b[1;33m\u001b[0m\u001b[0m\n\u001b[0;32m     30\u001b[0m         \u001b[0mparams_list\u001b[0m\u001b[1;33m=\u001b[0m\u001b[0mparams_list\u001b[0m\u001b[1;33m,\u001b[0m\u001b[1;33m\u001b[0m\u001b[0m\n\u001b[1;32m---> 31\u001b[1;33m         \u001b[0miters_count\u001b[0m\u001b[1;33m=\u001b[0m\u001b[1;36m50\u001b[0m\u001b[1;33m\u001b[0m\u001b[0m\n\u001b[0m\u001b[0;32m     32\u001b[0m     )\n\u001b[0;32m     33\u001b[0m \u001b[1;33m\u001b[0m\u001b[0m\n",
      "\u001b[1;32m<ipython-input-6-e3cf260df250>\u001b[0m in \u001b[0;36mlaunch_em\u001b[1;34m(freq_matrix, phi_matrix, theta_matrix, regularizations_list, params_list, iters_count)\u001b[0m\n\u001b[0;32m     16\u001b[0m \u001b[1;33m\u001b[0m\u001b[0m\n\u001b[0;32m     17\u001b[0m     \u001b[1;32mfor\u001b[0m \u001b[0mit\u001b[0m \u001b[1;32min\u001b[0m \u001b[0mxrange\u001b[0m\u001b[1;33m(\u001b[0m\u001b[0miters_count\u001b[0m\u001b[1;33m)\u001b[0m\u001b[1;33m:\u001b[0m\u001b[1;33m\u001b[0m\u001b[0m\n\u001b[1;32m---> 18\u001b[1;33m         \u001b[0mn_wt\u001b[0m\u001b[1;33m,\u001b[0m \u001b[0mn_dt\u001b[0m \u001b[1;33m=\u001b[0m \u001b[0mparams_list\u001b[0m\u001b[1;33m[\u001b[0m\u001b[0mit\u001b[0m\u001b[1;33m]\u001b[0m\u001b[1;33m[\u001b[0m\u001b[1;34m'method'\u001b[0m\u001b[1;33m]\u001b[0m\u001b[1;33m(\u001b[0m\u001b[0mit\u001b[0m\u001b[1;33m,\u001b[0m \u001b[0mfreq_matrix\u001b[0m\u001b[1;33m,\u001b[0m \u001b[0mdocptr\u001b[0m\u001b[1;33m,\u001b[0m \u001b[0mphi_matrix\u001b[0m\u001b[1;33m,\u001b[0m \u001b[0mtheta_matrix\u001b[0m\u001b[1;33m,\u001b[0m \u001b[0mparams_list\u001b[0m\u001b[1;33m[\u001b[0m\u001b[0mit\u001b[0m\u001b[1;33m]\u001b[0m\u001b[1;33m)\u001b[0m\u001b[1;33m\u001b[0m\u001b[0m\n\u001b[0m\u001b[0;32m     19\u001b[0m         \u001b[0mr_wt\u001b[0m\u001b[1;33m,\u001b[0m \u001b[0mr_dt\u001b[0m \u001b[1;33m=\u001b[0m \u001b[0mregularizations_list\u001b[0m\u001b[1;33m[\u001b[0m\u001b[0mit\u001b[0m\u001b[1;33m]\u001b[0m\u001b[1;33m(\u001b[0m\u001b[0mn_wt\u001b[0m\u001b[1;33m,\u001b[0m \u001b[0mn_dt\u001b[0m\u001b[1;33m,\u001b[0m \u001b[0mphi_matrix\u001b[0m\u001b[1;33m,\u001b[0m \u001b[0mtheta_matrix\u001b[0m\u001b[1;33m)\u001b[0m\u001b[1;33m\u001b[0m\u001b[0m\n\u001b[0;32m     20\u001b[0m         \u001b[0mn_wt\u001b[0m \u001b[1;33m=\u001b[0m \u001b[0mnp\u001b[0m\u001b[1;33m.\u001b[0m\u001b[0mmaximum\u001b[0m\u001b[1;33m(\u001b[0m\u001b[0mn_wt\u001b[0m \u001b[1;33m+\u001b[0m \u001b[0mr_wt\u001b[0m\u001b[1;33m,\u001b[0m \u001b[1;36m0\u001b[0m\u001b[1;33m)\u001b[0m\u001b[1;33m\u001b[0m\u001b[0m\n",
      "\u001b[1;32m<ipython-input-5-df015e1ee29d>\u001b[0m in \u001b[0;36mperform_e_step_update\u001b[1;34m(it_num, freq_matrix, docptr, phi_matrix, theta_matrix, params)\u001b[0m\n\u001b[0;32m     30\u001b[0m             \u001b[0mdoc_start\u001b[0m\u001b[1;33m,\u001b[0m \u001b[0mdoc_finish\u001b[0m \u001b[1;33m=\u001b[0m \u001b[0mindptr\u001b[0m\u001b[1;33m[\u001b[0m\u001b[0mdoc_num\u001b[0m\u001b[1;33m]\u001b[0m\u001b[1;33m,\u001b[0m \u001b[0mindptr\u001b[0m\u001b[1;33m[\u001b[0m\u001b[0mdoc_num\u001b[0m \u001b[1;33m+\u001b[0m \u001b[1;36m1\u001b[0m\u001b[1;33m]\u001b[0m\u001b[1;33m\u001b[0m\u001b[0m\n\u001b[0;32m     31\u001b[0m             \u001b[0mdoc_p_dwt\u001b[0m \u001b[1;33m=\u001b[0m \u001b[0mp_dwt\u001b[0m\u001b[1;33m[\u001b[0m\u001b[1;33m(\u001b[0m\u001b[0mdoc_start\u001b[0m \u001b[1;33m-\u001b[0m \u001b[0mind_start\u001b[0m\u001b[1;33m)\u001b[0m\u001b[1;33m:\u001b[0m\u001b[1;33m(\u001b[0m\u001b[0mdoc_finish\u001b[0m \u001b[1;33m-\u001b[0m \u001b[0mind_start\u001b[0m\u001b[1;33m)\u001b[0m\u001b[1;33m,\u001b[0m \u001b[1;33m:\u001b[0m\u001b[1;33m]\u001b[0m\u001b[1;33m\u001b[0m\u001b[0m\n\u001b[1;32m---> 32\u001b[1;33m             \u001b[0mn_dt\u001b[0m\u001b[1;33m[\u001b[0m\u001b[0mdoc_num\u001b[0m\u001b[1;33m,\u001b[0m \u001b[1;33m:\u001b[0m\u001b[1;33m]\u001b[0m \u001b[1;33m+=\u001b[0m \u001b[0mnp\u001b[0m\u001b[1;33m.\u001b[0m\u001b[0msum\u001b[0m\u001b[1;33m(\u001b[0m\u001b[0mdoc_p_dwt\u001b[0m\u001b[1;33m,\u001b[0m \u001b[0maxis\u001b[0m\u001b[1;33m=\u001b[0m\u001b[1;36m0\u001b[0m\u001b[1;33m)\u001b[0m\u001b[1;33m\u001b[0m\u001b[0m\n\u001b[0m\u001b[0;32m     33\u001b[0m             \u001b[0mn_wt\u001b[0m\u001b[1;33m[\u001b[0m\u001b[0mindices\u001b[0m\u001b[1;33m[\u001b[0m\u001b[0mdoc_start\u001b[0m\u001b[1;33m:\u001b[0m\u001b[0mdoc_finish\u001b[0m\u001b[1;33m]\u001b[0m\u001b[1;33m,\u001b[0m \u001b[1;33m:\u001b[0m\u001b[1;33m]\u001b[0m \u001b[1;33m+=\u001b[0m \u001b[0mdoc_p_dwt\u001b[0m\u001b[1;33m\u001b[0m\u001b[0m\n\u001b[0;32m     34\u001b[0m \u001b[1;33m\u001b[0m\u001b[0m\n",
      "\u001b[1;32m/usr/share/python/yandex-ydf-toolbox/local/lib/python2.7/site-packages/numpy/core/fromnumeric.pyc\u001b[0m in \u001b[0;36msum\u001b[1;34m(a, axis, dtype, out, keepdims)\u001b[0m\n\u001b[0;32m   1735\u001b[0m \u001b[1;33m\u001b[0m\u001b[0m\n\u001b[0;32m   1736\u001b[0m \u001b[1;33m\u001b[0m\u001b[0m\n\u001b[1;32m-> 1737\u001b[1;33m \u001b[1;32mdef\u001b[0m \u001b[0msum\u001b[0m\u001b[1;33m(\u001b[0m\u001b[0ma\u001b[0m\u001b[1;33m,\u001b[0m \u001b[0maxis\u001b[0m\u001b[1;33m=\u001b[0m\u001b[0mNone\u001b[0m\u001b[1;33m,\u001b[0m \u001b[0mdtype\u001b[0m\u001b[1;33m=\u001b[0m\u001b[0mNone\u001b[0m\u001b[1;33m,\u001b[0m \u001b[0mout\u001b[0m\u001b[1;33m=\u001b[0m\u001b[0mNone\u001b[0m\u001b[1;33m,\u001b[0m \u001b[0mkeepdims\u001b[0m\u001b[1;33m=\u001b[0m\u001b[0mFalse\u001b[0m\u001b[1;33m)\u001b[0m\u001b[1;33m:\u001b[0m\u001b[1;33m\u001b[0m\u001b[0m\n\u001b[0m\u001b[0;32m   1738\u001b[0m     \"\"\"\n\u001b[0;32m   1739\u001b[0m     \u001b[0mSum\u001b[0m \u001b[0mof\u001b[0m \u001b[0marray\u001b[0m \u001b[0melements\u001b[0m \u001b[0mover\u001b[0m \u001b[0ma\u001b[0m \u001b[0mgiven\u001b[0m \u001b[0maxis\u001b[0m\u001b[1;33m.\u001b[0m\u001b[1;33m\u001b[0m\u001b[0m\n",
      "\u001b[1;31mKeyboardInterrupt\u001b[0m: "
     ]
    }
   ],
   "source": [
    "topics_values1 = []\n",
    "train_perplexity_values1 = []\n",
    "test_perplexity_values1 = []\n",
    "for T in xrange(2, 36):\n",
    "    p_train = 0.\n",
    "    p_test = 0.\n",
    "    for seed in xrange(3):\n",
    "        phi, theta = perform_lda(T, - 0.1, 0., seed=seed, freq_matrix=train_origin_freq_matrix)\n",
    "        theta[np.isnan(theta)] = 1e-20\n",
    "        theta /= np.sum(theta, axis=1)[:, np.newaxis]\n",
    "        p_train += external_calculate_perplexity(train_origin_freq_matrix, phi, theta)\n",
    "        p_test += external_calculate_perplexity(test_origin_freq_matrix, phi, theta)\n",
    "    p_train /= 3\n",
    "    p_test /= 3\n",
    "    \n",
    "    topics_values1.append(T)\n",
    "    train_perplexity_values1.append(p_train)\n",
    "    test_perplexity_values1.append(p_test)\n",
    "    \n",
    "    print T, p_train, p_test\n",
    "    \n",
    "train_perplexity_values1 = np.array(train_perplexity_values1)\n",
    "test_perplexity_values1 = np.array(test_perplexity_values1)"
   ]
  },
  {
   "cell_type": "code",
   "execution_count": null,
   "metadata": {
    "collapsed": true
   },
   "outputs": [],
   "source": []
  }
 ],
 "metadata": {
  "kernelspec": {
   "display_name": "Python 2",
   "language": "python",
   "name": "python2"
  },
  "language_info": {
   "codemirror_mode": {
    "name": "ipython",
    "version": 2
   },
   "file_extension": ".py",
   "mimetype": "text/x-python",
   "name": "python",
   "nbconvert_exporter": "python",
   "pygments_lexer": "ipython2",
   "version": "2.7.3"
  }
 },
 "nbformat": 4,
 "nbformat_minor": 0
}
