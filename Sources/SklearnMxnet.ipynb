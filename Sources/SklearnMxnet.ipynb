{
 "cells": [
  {
   "cell_type": "code",
   "execution_count": 1,
   "metadata": {
    "collapsed": true
   },
   "outputs": [],
   "source": [
    "import libmxnet\n",
    "import numpy as np\n",
    "import subprocess\n",
    "from sklearn.base import BaseEstimator\n",
    "import os\n",
    "import shutil\n",
    "import time\n",
    "from itertools import izip, imap\n",
    "from sklearn.metrics import log_loss, mean_squared_error\n",
    "from scipy.special import expit "
   ]
  },
  {
   "cell_type": "code",
   "execution_count": 2,
   "metadata": {
    "collapsed": false
   },
   "outputs": [],
   "source": [
    "class SklearnMxnet(BaseEstimator):\n",
    "    def __init__(\n",
    "        self, iters_count=100, depth=None, \n",
    "        mxnet_mode='regressor', dicrete_levels=None,\n",
    "        factors_fraction=None, f_taken_fraction=None,\n",
    "        model_complexity=None, verbose=False\n",
    "    ):\n",
    "        assert(mxnet_mode in ['regressor', 'bin_classifier'])\n",
    "        self.mxnet_mode = mxnet_mode\n",
    "        self.iters_count = iters_count\n",
    "        self.depth = depth\n",
    "        self.dicrete_levels = dicrete_levels\n",
    "        self.factors_fraction = factors_fraction\n",
    "        self.f_taken_fraction = f_taken_fraction\n",
    "        self.model_complexity = model_complexity\n",
    "        self.verbose = verbose\n",
    "    \n",
    "    def fit(self, X, y):\n",
    "        folder_name = '__tmp_mxnet_learn_{}'.format(time.time())\n",
    "        os.makedirs(folder_name)\n",
    "        \n",
    "        with open(folder_name + '/train', 'w') as f:\n",
    "            for i, (features, target) in enumerate(izip(X, y)):\n",
    "                f.write('{query_id}\\t{relevance}\\t{label}\\t{weight}\\t{features}\\n'.format(\n",
    "                    query_id = 0,\n",
    "                    relevance = target,\n",
    "                    weight = 1,\n",
    "                    label = i,\n",
    "                    features = '\\t'.join(imap(str, features)),\n",
    "                ))\n",
    "                \n",
    "        cmd = ['matrixnet']\n",
    "        cmd.extend(['-f', folder_name + '/train'])\n",
    "        cmd.extend(['-o', folder_name + '/matrixnet'])\n",
    "\n",
    "        if self.mxnet_mode == 'bin_classifier':\n",
    "            cmd.extend(['-c', '--c-fast'])\n",
    "            \n",
    "        if self.dicrete_levels is not None:\n",
    "            cmd.extend(['-x', str(self.dicrete_levels)])\n",
    "            \n",
    "        if self.factors_fraction is not None:\n",
    "            cmd.extend(['-Z', str(self.factors_fraction)])\n",
    "            \n",
    "        if self.f_taken_fraction is not None:\n",
    "            cmd.extend(['-S', str(self.f_taken_fraction)])\n",
    "            \n",
    "        if self.model_complexity is not None:\n",
    "            cmd.extend(['-g', str(self.model_complexity)])\n",
    "        \n",
    "        if self.iters_count is not None:\n",
    "            cmd.extend(['-i', str(self.iters_count)])\n",
    "        \n",
    "        if self.depth is not None:\n",
    "            cmd.extend(['-n', str(self.depth)])\n",
    "        \n",
    "        process = subprocess.Popen(cmd, stdout=subprocess.PIPE)\n",
    "        resp = process.communicate()[0]\n",
    "\n",
    "        if self.verbose:\n",
    "            print resp\n",
    "        \n",
    "        self.mxnet_ = libmxnet.TMXNetInfo(folder_name + '/matrixnet.info')\n",
    "        \n",
    "        shutil.rmtree(folder_name)\n",
    "        return self\n",
    "        \n",
    "        \n",
    "    def predict(self, X):\n",
    "        try:\n",
    "            getattr(self, \"mxnet_\")\n",
    "        except AttributeError:\n",
    "            raise RuntimeError(\"You must train mxnet before predicting data\")\n",
    "        prediction = np.array(self.mxnet_.Calculate([list(x) for x in X]))\n",
    "        if self.mxnet_mode == 'bin_classifier':\n",
    "            prediction = (expit(prediction) > 0.5).astype(int)\n",
    "        return prediction\n",
    "    \n",
    "    def predict_proba(self, X):\n",
    "        try:\n",
    "            getattr(self, \"mxnet_\")\n",
    "        except AttributeError:\n",
    "            raise RuntimeError(\"You must train mxnet before predicting data\")\n",
    "        prediction = np.array(self.mxnet_.Calculate([list(x) for x in X]))\n",
    "        if self.mxnet_mode == 'bin_classifier':\n",
    "            prediction = expit(prediction)\n",
    "        return prediction\n",
    "    \n",
    "    def get_params(self, deep=True):\n",
    "        return {\n",
    "            'mxnet_mode': self.mxnet_mode,\n",
    "            'iters_count': self.iters_count,\n",
    "            'depth': self.depth,\n",
    "            'dicrete_levels': self.dicrete_levels,\n",
    "            'factors_fraction': self.factors_fraction,\n",
    "            'f_taken_fraction': self.f_taken_fraction,\n",
    "            'model_complexity': self.model_complexity,\n",
    "            'verbose': self.verbose\n",
    "        }\n",
    "    \n",
    "    def set_params(self, **params):\n",
    "        self.mxnet_mode = params.get('mxnet_mode', self.mxnet_mode)\n",
    "        self.iters_count = params.get('iters_count', self.iters_count)\n",
    "        self.depth = params.get('depth', self.depth)\n",
    "        self.dicrete_levels = params.get('dicrete_levels', self.dicrete_levels)\n",
    "        self.factors_fraction = params.get('factors_fraction', self.factors_fraction)\n",
    "        self.f_taken_fraction = params.get('f_taken_fraction', self.f_taken_fraction)\n",
    "        self.model_complexity = params.get('model_complexity', self.model_complexity)\n",
    "        \n",
    "        self.verbose = params.get('verbose', self.verbose)\n",
    "        \n",
    "        return self\n",
    "    \n",
    "    def score(self, X, y):\n",
    "        y_pred = self.predict_proba(X)\n",
    "        if self.mxnet_mode == 'bin_classifier':\n",
    "            return log_loss(y, y_pred)\n",
    "        if self.mxnet_mode == 'regressor':\n",
    "            return - mean_squared_error(y, y_pred)"
   ]
  },
  {
   "cell_type": "code",
   "execution_count": null,
   "metadata": {
    "collapsed": true
   },
   "outputs": [],
   "source": []
  },
  {
   "cell_type": "code",
   "execution_count": 3,
   "metadata": {
    "collapsed": true
   },
   "outputs": [],
   "source": [
    "from sklearn.datasets import make_regression\n",
    "from sklearn.grid_search import GridSearchCV\n",
    "from sklearn.linear_model import LinearRegression"
   ]
  },
  {
   "cell_type": "code",
   "execution_count": 4,
   "metadata": {
    "collapsed": true
   },
   "outputs": [],
   "source": [
    "X_data, y_data = make_regression(n_features=10, n_samples=5000, noise=1000)"
   ]
  },
  {
   "cell_type": "code",
   "execution_count": 5,
   "metadata": {
    "collapsed": false
   },
   "outputs": [
    {
     "name": "stdout",
     "output_type": "stream",
     "text": [
      "{'depth': 2, 'iters_count': 300, 'f_taken_fraction': None}\n",
      "-996290.978241\n"
     ]
    }
   ],
   "source": [
    "tuned_params = {'depth' : [2, 4, 6, 8], 'iters_count':[100, 200, 300], 'f_taken_fraction': [None, 0.7]}\n",
    "gs = GridSearchCV(SklearnMxnet(), tuned_params, scoring='mean_squared_error')\n",
    "gs.fit(X_data, y_data)\n",
    "\n",
    "print gs.best_params_\n",
    "print gs.best_score_"
   ]
  },
  {
   "cell_type": "code",
   "execution_count": 6,
   "metadata": {
    "collapsed": false
   },
   "outputs": [
    {
     "name": "stdout",
     "output_type": "stream",
     "text": [
      "{'fit_intercept': False}\n",
      "-992477.518841\n"
     ]
    }
   ],
   "source": [
    "tuned_params = {'fit_intercept' : [True, False]}\n",
    "gs = GridSearchCV(LinearRegression(), tuned_params, scoring='mean_squared_error')\n",
    "gs.fit(X_data, y_data)\n",
    "\n",
    "print gs.best_params_\n",
    "print gs.best_score_"
   ]
  },
  {
   "cell_type": "code",
   "execution_count": 7,
   "metadata": {
    "collapsed": true
   },
   "outputs": [],
   "source": [
    "from sklearn.datasets import make_classification\n",
    "from sklearn.grid_search import GridSearchCV\n",
    "from sklearn.linear_model import LogisticRegression"
   ]
  },
  {
   "cell_type": "code",
   "execution_count": 8,
   "metadata": {
    "collapsed": false
   },
   "outputs": [],
   "source": [
    "X_data, y_data = make_classification(n_features=10, n_samples=5000)"
   ]
  },
  {
   "cell_type": "code",
   "execution_count": 9,
   "metadata": {
    "collapsed": false
   },
   "outputs": [
    {
     "name": "stdout",
     "output_type": "stream",
     "text": [
      "{'depth': 4, 'iters_count': 200}\n",
      "-0.218350088109\n"
     ]
    }
   ],
   "source": [
    "tuned_params = {'depth' : [2, 4, 6, 8], 'iters_count':[200]}\n",
    "gs = GridSearchCV(SklearnMxnet(mxnet_mode='bin_classifier'), tuned_params, scoring='log_loss')\n",
    "gs.fit(X_data, y_data)\n",
    "\n",
    "print gs.best_params_\n",
    "print gs.best_score_"
   ]
  },
  {
   "cell_type": "code",
   "execution_count": 10,
   "metadata": {
    "collapsed": false
   },
   "outputs": [
    {
     "name": "stdout",
     "output_type": "stream",
     "text": [
      "{'penalty': 'l1'}\n",
      "-0.289103510667\n"
     ]
    }
   ],
   "source": [
    "tuned_params = {'penalty' : ['l1', 'l2']}\n",
    "gs = GridSearchCV(LogisticRegression(), tuned_params, scoring='log_loss')\n",
    "gs.fit(X_data, y_data)\n",
    "\n",
    "print gs.best_params_\n",
    "print gs.best_score_"
   ]
  },
  {
   "cell_type": "code",
   "execution_count": null,
   "metadata": {
    "collapsed": true
   },
   "outputs": [],
   "source": []
  },
  {
   "cell_type": "code",
   "execution_count": null,
   "metadata": {
    "collapsed": true
   },
   "outputs": [],
   "source": []
  },
  {
   "cell_type": "code",
   "execution_count": 11,
   "metadata": {
    "collapsed": false
   },
   "outputs": [],
   "source": [
    "from sklearn.datasets import load_boston\n",
    "boston = load_boston()"
   ]
  },
  {
   "cell_type": "code",
   "execution_count": 12,
   "metadata": {
    "collapsed": false
   },
   "outputs": [
    {
     "name": "stdout",
     "output_type": "stream",
     "text": [
      "{'fit_intercept': True}\n",
      "-168.089177602\n"
     ]
    }
   ],
   "source": [
    "tuned_params = {'fit_intercept' : [True, False]}\n",
    "gs = GridSearchCV(LinearRegression(), tuned_params, scoring='mean_squared_error')\n",
    "gs.fit(boston.data, boston.target)\n",
    "\n",
    "print gs.best_params_\n",
    "print gs.best_score_"
   ]
  },
  {
   "cell_type": "code",
   "execution_count": 13,
   "metadata": {
    "collapsed": false
   },
   "outputs": [
    {
     "name": "stdout",
     "output_type": "stream",
     "text": [
      "{'depth': 2, 'iters_count': 300, 'f_taken_fraction': 0.7}\n",
      "-28.2219447143\n"
     ]
    }
   ],
   "source": [
    "tuned_params = {'depth' : [2, 4, 6, 8], 'iters_count':[100, 200, 300], 'f_taken_fraction': [None, 0.7]}\n",
    "gs = GridSearchCV(SklearnMxnet(), tuned_params, scoring='mean_squared_error')\n",
    "gs.fit(boston.data, boston.target)\n",
    "\n",
    "print gs.best_params_\n",
    "print gs.best_score_"
   ]
  },
  {
   "cell_type": "code",
   "execution_count": null,
   "metadata": {
    "collapsed": true
   },
   "outputs": [],
   "source": []
  }
 ],
 "metadata": {
  "kernelspec": {
   "display_name": "Python 2",
   "language": "python",
   "name": "python2"
  },
  "language_info": {
   "codemirror_mode": {
    "name": "ipython",
    "version": 2
   },
   "file_extension": ".py",
   "mimetype": "text/x-python",
   "name": "python",
   "nbconvert_exporter": "python",
   "pygments_lexer": "ipython2",
   "version": "2.7.3"
  }
 },
 "nbformat": 4,
 "nbformat_minor": 0
}
