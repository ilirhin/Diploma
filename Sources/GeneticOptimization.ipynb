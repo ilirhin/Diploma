{
 "cells": [
  {
   "cell_type": "code",
   "execution_count": 1,
   "metadata": {
    "collapsed": true
   },
   "outputs": [],
   "source": [
    "import numpy as np\n",
    "import random\n",
    "import heapq"
   ]
  },
  {
   "cell_type": "code",
   "execution_count": 2,
   "metadata": {
    "collapsed": true
   },
   "outputs": [],
   "source": [
    "MAX_NUM = 1000"
   ]
  },
  {
   "cell_type": "code",
   "execution_count": 45,
   "metadata": {
    "collapsed": false
   },
   "outputs": [],
   "source": [
    "matrix = np.fromfunction(lambda i, j: np.sin(i + j), (MAX_NUM, MAX_NUM))"
   ]
  },
  {
   "cell_type": "code",
   "execution_count": 46,
   "metadata": {
    "collapsed": true
   },
   "outputs": [],
   "source": [
    "def target_function(elems_set):\n",
    "    pos = list(elems_set)\n",
    "    return np.sum(matrix[np.ix_(pos, pos)])"
   ]
  },
  {
   "cell_type": "code",
   "execution_count": 47,
   "metadata": {
    "collapsed": false
   },
   "outputs": [],
   "source": [
    "def crossover(fst_set, snd_set):\n",
    "    positions = fst_set | snd_set\n",
    "    elem_2_num = dict(zip(positions, range(len(positions))))\n",
    "    num_2_elem = dict(zip(range(len(positions)), positions))\n",
    "    probs = np.zeros(len(positions))\n",
    "    for e in fst_set:\n",
    "        probs[elem_2_num[e]] += 1.\n",
    "    for e in snd_set:\n",
    "        probs[elem_2_num[e]] += 1.\n",
    "    probs /= np.sum(probs)\n",
    "    positions = np.array(list(positions))\n",
    "\n",
    "    for i in xrange(10):\n",
    "        yield set(np.random.choice(positions, len(fst_set), replace=False, p=probs))"
   ]
  },
  {
   "cell_type": "code",
   "execution_count": 48,
   "metadata": {
    "collapsed": false
   },
   "outputs": [],
   "source": [
    "def mutate(elem_set):\n",
    "    size = len(elem_set)\n",
    "    elem_set = elem_set | set(np.random.choice(MAX_NUM, 5, replace=False))\n",
    "    elem_set = list(elem_set)\n",
    "    for _ in xrange(5):\n",
    "        yield set(np.random.choice(elem_set, size, replace=False))"
   ]
  },
  {
   "cell_type": "code",
   "execution_count": null,
   "metadata": {
    "collapsed": true
   },
   "outputs": [],
   "source": []
  },
  {
   "cell_type": "code",
   "execution_count": 49,
   "metadata": {
    "collapsed": true
   },
   "outputs": [],
   "source": [
    "def get_initial_state(k=10, size=100):\n",
    "    result = []\n",
    "    for i in xrange(size):\n",
    "        result.append(set(np.random.choice(MAX_NUM, k, replace=False)))\n",
    "    return result"
   ]
  },
  {
   "cell_type": "code",
   "execution_count": 50,
   "metadata": {
    "collapsed": false
   },
   "outputs": [
    {
     "name": "stdout",
     "output_type": "stream",
     "text": [
      "set([548, 17, 457, 938, 172, 369, 280, 753, 765, 895]) 10.9176693447\n",
      "set([963, 748, 496, 881, 979, 478, 376, 761, 670, 575]) 2.55826000781\n",
      "set([224, 673, 930, 992, 170, 971, 12, 751, 824, 825]) 1.54531416967\n",
      "\n",
      "set([833, 4, 933, 839, 425, 846, 752, 148, 54, 570]) 81.5626251492\n",
      "set([997, 167, 425, 205, 305, 306, 181, 570, 827, 764]) 77.0460336098\n",
      "set([676, 167, 908, 463, 148, 469, 54, 826, 123, 570]) 73.9195063589\n",
      "\n",
      "set([833, 4, 425, 205, 846, 752, 305, 306, 827, 764]) 92.2304030945\n",
      "set([4, 997, 167, 425, 205, 846, 752, 54, 570, 827]) 91.7087828328\n",
      "set([4, 997, 167, 846, 752, 306, 148, 54, 827, 764]) 91.705287997\n",
      "\n",
      "set([833, 676, 997, 167, 425, 205, 752, 469, 4, 827]) 94.9956156993\n",
      "set([896, 4, 997, 167, 425, 205, 846, 752, 148, 695]) 94.3112282566\n",
      "set([833, 4, 997, 167, 425, 205, 752, 148, 54, 827]) 93.3158353661\n",
      "\n",
      "set([4, 167, 425, 205, 846, 783, 306, 469, 54, 123]) 95.18451709\n",
      "set([833, 4, 997, 167, 425, 205, 846, 752, 54, 827]) 95.1033760857\n",
      "set([833, 676, 997, 167, 425, 205, 752, 469, 4, 827]) 94.9956156993\n",
      "\n",
      "set([896, 4, 997, 167, 425, 205, 846, 54, 695, 827]) 97.1603883964\n",
      "set([896, 4, 997, 167, 425, 205, 846, 54, 827, 764]) 96.8235816185\n",
      "set([4, 997, 167, 425, 205, 846, 54, 676, 827, 764]) 96.4638451305\n",
      "\n",
      "set([802, 475, 4, 230, 167, 425, 205, 846, 827, 764]) 97.8120184671\n",
      "set([4, 997, 425, 205, 846, 54, 695, 676, 827, 764]) 97.3015441883\n",
      "set([802, 4, 997, 167, 425, 205, 846, 695, 827, 764]) 97.2163549326\n",
      "\n",
      "set([896, 4, 425, 205, 846, 469, 54, 695, 827, 764]) 98.518673755\n",
      "set([896, 833, 4, 425, 205, 846, 469, 695, 827, 764]) 97.8988951137\n",
      "set([896, 4, 425, 205, 846, 469, 54, 695, 676, 764]) 97.892234359\n",
      "\n",
      "set([802, 4, 230, 425, 205, 846, 469, 54, 827, 764]) 98.5455673909\n",
      "set([896, 4, 425, 205, 846, 469, 54, 695, 827, 764]) 98.518673755\n",
      "set([896, 4, 230, 425, 205, 846, 469, 54, 827, 764]) 98.412066502\n",
      "\n",
      "set([896, 450, 4, 425, 651, 846, 54, 695, 827, 381]) 98.8622462486\n",
      "set([896, 802, 4, 425, 205, 846, 469, 695, 827, 764]) 98.7968306016\n",
      "set([802, 475, 4, 230, 425, 205, 846, 695, 827, 764]) 98.6906166855\n",
      "\n",
      "set([802, 4, 230, 425, 205, 846, 54, 695, 827, 381]) 98.9155999545\n",
      "set([802, 4, 230, 425, 651, 205, 846, 695, 827, 764]) 98.8915238314\n",
      "set([896, 450, 4, 425, 651, 846, 54, 695, 827, 381]) 98.8622462486\n",
      "\n",
      "set([827, 4, 230, 425, 205, 846, 469, 73, 695, 475]) 99.0464483575\n",
      "set([896, 802, 4, 230, 425, 205, 846, 469, 695, 827]) 98.9976171795\n",
      "set([802, 4, 230, 425, 695, 205, 846, 73, 827, 764]) 98.9706899025\n",
      "\n",
      "set([896, 450, 4, 230, 425, 205, 469, 695, 827, 381]) 99.2249920458\n",
      "set([896, 802, 4, 230, 651, 205, 450, 695, 827, 381]) 99.2071381905\n",
      "set([896, 802, 4, 230, 425, 450, 846, 205, 695, 827]) 99.152831411\n",
      "\n",
      "set([425, 802, 4, 230, 73, 450, 205, 695, 827, 381]) 99.4147523497\n",
      "set([450, 4, 230, 73, 802, 205, 469, 695, 827, 381]) 99.3735824773\n",
      "set([802, 4, 230, 205, 846, 469, 695, 538, 827, 117]) 99.2770055979\n",
      "\n",
      "set([425, 802, 4, 230, 73, 450, 205, 695, 827, 381]) 99.4147523497\n",
      "set([425, 450, 827, 4, 230, 73, 205, 695, 802, 381]) 99.4147523497\n",
      "set([802, 4, 230, 425, 205, 450, 73, 695, 827, 381]) 99.4147523497\n",
      "\n",
      "set([802, 4, 425, 651, 695, 205, 450, 73, 827, 381]) 99.4674127683\n",
      "set([425, 802, 4, 230, 73, 450, 205, 695, 827, 381]) 99.4147523497\n",
      "set([425, 450, 827, 4, 230, 73, 205, 695, 802, 381]) 99.4147523497\n",
      "\n",
      "set([802, 4, 425, 651, 695, 205, 450, 73, 827, 381]) 99.4674127683\n",
      "set([450, 4, 425, 651, 802, 205, 73, 695, 827, 381]) 99.4674127683\n",
      "set([802, 4, 425, 651, 205, 450, 73, 695, 827, 381]) 99.4674127683\n",
      "\n",
      "set([450, 651, 4, 425, 695, 802, 205, 73, 827, 381]) 99.4674127683\n",
      "set([802, 4, 425, 651, 695, 205, 450, 73, 827, 381]) 99.4674127683\n",
      "set([450, 4, 425, 651, 802, 205, 73, 695, 827, 381]) 99.4674127683\n",
      "\n",
      "set([450, 651, 4, 425, 695, 802, 205, 73, 827, 381]) 99.4674127683\n",
      "set([802, 4, 425, 651, 695, 205, 450, 73, 827, 381]) 99.4674127683\n",
      "set([450, 4, 425, 651, 802, 205, 73, 695, 827, 381]) 99.4674127683\n",
      "\n",
      "set([450, 651, 4, 425, 695, 802, 205, 73, 827, 381]) 99.4674127683\n",
      "set([450, 651, 4, 425, 695, 802, 205, 73, 827, 381]) 99.4674127683\n",
      "set([802, 4, 425, 651, 695, 205, 450, 73, 827, 381]) 99.4674127683\n",
      "\n"
     ]
    }
   ],
   "source": [
    "#%%time\n",
    "state = get_initial_state()\n",
    "scores = [target_function(r) for r in state]\n",
    "\n",
    "for i in xrange(20):\n",
    "    print state[0], scores[0]\n",
    "    print state[1], scores[1]\n",
    "    print state[2], scores[2]\n",
    "    print ''\n",
    "    \n",
    "    probs = np.array(scores)\n",
    "    probs -= np.max(probs)\n",
    "    probs = np.exp(probs / 3.)\n",
    "    probs /= np.sum(probs)\n",
    "    \n",
    "    new_generation = list(state)\n",
    "    #crossover candidates\n",
    "    for i in xrange(30):\n",
    "        fst, snd = np.random.choice(state, 2, replace=False, p=probs)\n",
    "        for r in crossover(fst, snd):\n",
    "            new_generation.append(r)\n",
    "            \n",
    "    #mutation_candidates\n",
    "    mutations = []\n",
    "    for rec in new_generation:\n",
    "        for r in mutate(rec):\n",
    "            mutations.append(r)\n",
    "            \n",
    "    # selection\n",
    "    scored = [(x, target_function(x)) for x in new_generation + mutations]\n",
    "    scored = heapq.nlargest(100, scored, key=lambda x: x[1])\n",
    "    state, scores = zip(*scored)"
   ]
  },
  {
   "cell_type": "code",
   "execution_count": 52,
   "metadata": {
    "collapsed": false
   },
   "outputs": [
    {
     "name": "stdout",
     "output_type": "stream",
     "text": [
      "3.907\n",
      "3.851\n",
      "4.0\n",
      "4.039\n",
      "3.87\n",
      "4.059\n",
      "3.944\n",
      "3.887\n",
      "3.927\n",
      "4.02\n"
     ]
    }
   ],
   "source": [
    "for x in state[0]:\n",
    "    print x - np.floor(x / 2 / 3.1415) * 2 * 3.1415"
   ]
  },
  {
   "cell_type": "code",
   "execution_count": 28,
   "metadata": {
    "collapsed": false
   },
   "outputs": [
    {
     "ename": "NameError",
     "evalue": "name 'Recommendation' is not defined",
     "output_type": "error",
     "traceback": [
      "\u001b[1;31m---------------------------------------------------------------------------\u001b[0m",
      "\u001b[1;31mNameError\u001b[0m                                 Traceback (most recent call last)",
      "\u001b[1;32m<ipython-input-28-16127ec43a45>\u001b[0m in \u001b[0;36m<module>\u001b[1;34m()\u001b[0m\n\u001b[1;32m----> 1\u001b[1;33m \u001b[0mget_ipython\u001b[0m\u001b[1;33m(\u001b[0m\u001b[1;33m)\u001b[0m\u001b[1;33m.\u001b[0m\u001b[0mrun_cell_magic\u001b[0m\u001b[1;33m(\u001b[0m\u001b[1;34mu'time'\u001b[0m\u001b[1;33m,\u001b[0m \u001b[1;34mu''\u001b[0m\u001b[1;33m,\u001b[0m \u001b[1;34mu'for i in xrange(1000):\\n    crossover(\\n        Recommendation([0, 1, 2, 3], [4]),\\n        Recommendation([0, 1, 5, 6], [7])\\n    )'\u001b[0m\u001b[1;33m)\u001b[0m\u001b[1;33m\u001b[0m\u001b[0m\n\u001b[0m",
      "\u001b[1;32m/usr/share/python/yandex-ydf-toolbox/local/lib/python2.7/site-packages/IPython/core/interactiveshell.pyc\u001b[0m in \u001b[0;36mrun_cell_magic\u001b[1;34m(self, magic_name, line, cell)\u001b[0m\n\u001b[0;32m   2262\u001b[0m             \u001b[0mmagic_arg_s\u001b[0m \u001b[1;33m=\u001b[0m \u001b[0mself\u001b[0m\u001b[1;33m.\u001b[0m\u001b[0mvar_expand\u001b[0m\u001b[1;33m(\u001b[0m\u001b[0mline\u001b[0m\u001b[1;33m,\u001b[0m \u001b[0mstack_depth\u001b[0m\u001b[1;33m)\u001b[0m\u001b[1;33m\u001b[0m\u001b[0m\n\u001b[0;32m   2263\u001b[0m             \u001b[1;32mwith\u001b[0m \u001b[0mself\u001b[0m\u001b[1;33m.\u001b[0m\u001b[0mbuiltin_trap\u001b[0m\u001b[1;33m:\u001b[0m\u001b[1;33m\u001b[0m\u001b[0m\n\u001b[1;32m-> 2264\u001b[1;33m                 \u001b[0mresult\u001b[0m \u001b[1;33m=\u001b[0m \u001b[0mfn\u001b[0m\u001b[1;33m(\u001b[0m\u001b[0mmagic_arg_s\u001b[0m\u001b[1;33m,\u001b[0m \u001b[0mcell\u001b[0m\u001b[1;33m)\u001b[0m\u001b[1;33m\u001b[0m\u001b[0m\n\u001b[0m\u001b[0;32m   2265\u001b[0m             \u001b[1;32mreturn\u001b[0m \u001b[0mresult\u001b[0m\u001b[1;33m\u001b[0m\u001b[0m\n\u001b[0;32m   2266\u001b[0m \u001b[1;33m\u001b[0m\u001b[0m\n",
      "\u001b[1;32m<decorator-gen-60>\u001b[0m in \u001b[0;36mtime\u001b[1;34m(self, line, cell, local_ns)\u001b[0m\n",
      "\u001b[1;32m/usr/share/python/yandex-ydf-toolbox/local/lib/python2.7/site-packages/IPython/core/magic.pyc\u001b[0m in \u001b[0;36m<lambda>\u001b[1;34m(f, *a, **k)\u001b[0m\n\u001b[0;32m    191\u001b[0m     \u001b[1;31m# but it's overkill for just that one bit of state.\u001b[0m\u001b[1;33m\u001b[0m\u001b[1;33m\u001b[0m\u001b[0m\n\u001b[0;32m    192\u001b[0m     \u001b[1;32mdef\u001b[0m \u001b[0mmagic_deco\u001b[0m\u001b[1;33m(\u001b[0m\u001b[0marg\u001b[0m\u001b[1;33m)\u001b[0m\u001b[1;33m:\u001b[0m\u001b[1;33m\u001b[0m\u001b[0m\n\u001b[1;32m--> 193\u001b[1;33m         \u001b[0mcall\u001b[0m \u001b[1;33m=\u001b[0m \u001b[1;32mlambda\u001b[0m \u001b[0mf\u001b[0m\u001b[1;33m,\u001b[0m \u001b[1;33m*\u001b[0m\u001b[0ma\u001b[0m\u001b[1;33m,\u001b[0m \u001b[1;33m**\u001b[0m\u001b[0mk\u001b[0m\u001b[1;33m:\u001b[0m \u001b[0mf\u001b[0m\u001b[1;33m(\u001b[0m\u001b[1;33m*\u001b[0m\u001b[0ma\u001b[0m\u001b[1;33m,\u001b[0m \u001b[1;33m**\u001b[0m\u001b[0mk\u001b[0m\u001b[1;33m)\u001b[0m\u001b[1;33m\u001b[0m\u001b[0m\n\u001b[0m\u001b[0;32m    194\u001b[0m \u001b[1;33m\u001b[0m\u001b[0m\n\u001b[0;32m    195\u001b[0m         \u001b[1;32mif\u001b[0m \u001b[0mcallable\u001b[0m\u001b[1;33m(\u001b[0m\u001b[0marg\u001b[0m\u001b[1;33m)\u001b[0m\u001b[1;33m:\u001b[0m\u001b[1;33m\u001b[0m\u001b[0m\n",
      "\u001b[1;32m/usr/share/python/yandex-ydf-toolbox/local/lib/python2.7/site-packages/IPython/core/magics/execution.pyc\u001b[0m in \u001b[0;36mtime\u001b[1;34m(self, line, cell, local_ns)\u001b[0m\n\u001b[0;32m   1164\u001b[0m         \u001b[1;32melse\u001b[0m\u001b[1;33m:\u001b[0m\u001b[1;33m\u001b[0m\u001b[0m\n\u001b[0;32m   1165\u001b[0m             \u001b[0mst\u001b[0m \u001b[1;33m=\u001b[0m \u001b[0mclock2\u001b[0m\u001b[1;33m(\u001b[0m\u001b[1;33m)\u001b[0m\u001b[1;33m\u001b[0m\u001b[0m\n\u001b[1;32m-> 1166\u001b[1;33m             \u001b[1;32mexec\u001b[0m\u001b[1;33m(\u001b[0m\u001b[0mcode\u001b[0m\u001b[1;33m,\u001b[0m \u001b[0mglob\u001b[0m\u001b[1;33m,\u001b[0m \u001b[0mlocal_ns\u001b[0m\u001b[1;33m)\u001b[0m\u001b[1;33m\u001b[0m\u001b[0m\n\u001b[0m\u001b[0;32m   1167\u001b[0m             \u001b[0mend\u001b[0m \u001b[1;33m=\u001b[0m \u001b[0mclock2\u001b[0m\u001b[1;33m(\u001b[0m\u001b[1;33m)\u001b[0m\u001b[1;33m\u001b[0m\u001b[0m\n\u001b[0;32m   1168\u001b[0m             \u001b[0mout\u001b[0m \u001b[1;33m=\u001b[0m \u001b[0mNone\u001b[0m\u001b[1;33m\u001b[0m\u001b[0m\n",
      "\u001b[1;32m<timed exec>\u001b[0m in \u001b[0;36m<module>\u001b[1;34m()\u001b[0m\n",
      "\u001b[1;31mNameError\u001b[0m: name 'Recommendation' is not defined"
     ]
    }
   ],
   "source": [
    "%%time\n",
    "for i in xrange(1000):\n",
    "    crossover(\n",
    "        Recommendation([0, 1, 2, 3], [4]),\n",
    "        Recommendation([0, 1, 5, 6], [7])\n",
    "    )"
   ]
  },
  {
   "cell_type": "code",
   "execution_count": 254,
   "metadata": {
    "collapsed": false
   },
   "outputs": [
    {
     "name": "stdout",
     "output_type": "stream",
     "text": [
      "[0, 1, 2, 4] [18]\n",
      "[0, 1, 2, 18] [4]\n",
      "[0, 1, 3, 4] [15]\n",
      "[0, 3, 4, 15] [1]\n",
      "[1, 2, 3, 10] [4]\n",
      "[1, 2, 3, 4] [10]\n"
     ]
    }
   ],
   "source": [
    "for x in mutate(Recommendation([0, 1, 2, 3], [4])):\n",
    "    print x"
   ]
  },
  {
   "cell_type": "code",
   "execution_count": 352,
   "metadata": {
    "collapsed": false
   },
   "outputs": [],
   "source": [
    "with open('train', 'w') as fo:\n",
    "    for i, r in enumerate(get_initial_state(100000)):\n",
    "        fo.write('0\\t' + str(target_function(r)) + '\\t' + str(i) + '\\t0\\t')\n",
    "        positions = np.zeros(20)\n",
    "        for p in r.small_positions:\n",
    "            positions[p] = 1\n",
    "        for p in r.big_positions:\n",
    "            positions[p] = 2\n",
    "        fo.write('\\t'.join(map(str, positions)))\n",
    "        fo.write('\\n')"
   ]
  },
  {
   "cell_type": "code",
   "execution_count": 353,
   "metadata": {
    "collapsed": true
   },
   "outputs": [],
   "source": [
    "mx_model = matrixnet.MatrixnetClient('matrixnet_model/matrixnet.info')"
   ]
  },
  {
   "cell_type": "code",
   "execution_count": 354,
   "metadata": {
    "collapsed": true
   },
   "outputs": [],
   "source": [
    "def create_matrix(recs):\n",
    "    result = []\n",
    "    for r in recs:\n",
    "        positions = np.zeros(20)\n",
    "        for p in r.small_positions:\n",
    "            positions[p] = 1\n",
    "        for p in r.big_positions:\n",
    "            positions[p] = 2\n",
    "        result.append(positions)    \n",
    "    return result"
   ]
  },
  {
   "cell_type": "code",
   "execution_count": 355,
   "metadata": {
    "collapsed": true
   },
   "outputs": [],
   "source": [
    "import time"
   ]
  },
  {
   "cell_type": "code",
   "execution_count": 356,
   "metadata": {
    "collapsed": false
   },
   "outputs": [
    {
     "name": "stdout",
     "output_type": "stream",
     "text": [
      "[0, 2, 5, 12] [14] 62.3814826307\n",
      "[4, 7, 9, 14] [3] 65.8113343082\n",
      "[3, 4, 5, 10] [14] 63.5426939867\n",
      "\n",
      "0.181751012802\n",
      "0.117976903915\n",
      "0.0310199260712\n",
      "[16, 17, 18, 19] [10] 114.373404129\n",
      "[16, 17, 18, 19] [11] 114.199621257\n",
      "[14, 16, 18, 19] [10] 114.149365041\n",
      "\n",
      "0.183881998062\n",
      "0.141770124435\n",
      "0.0354239940643\n",
      "[13, 15, 17, 19] [11] 116.337729077\n",
      "[15, 17, 18, 19] [11] 115.927124725\n",
      "[16, 17, 18, 19] [10] 114.373404129\n",
      "\n",
      "0.181839942932\n",
      "0.105889797211\n",
      "0.0271098613739\n",
      "[13, 15, 17, 19] [11] 116.337729077\n",
      "[13, 15, 17, 19] [9] 116.217838925\n",
      "[15, 17, 18, 19] [9] 115.928792794\n",
      "\n",
      "0.180987119675\n",
      "0.101728916168\n",
      "0.0262639522552\n",
      "[13, 15, 17, 19] [11] 116.337729077\n",
      "[13, 15, 17, 19] [9] 116.217838925\n",
      "[15, 17, 18, 19] [9] 115.928792794\n",
      "\n",
      "0.180893182755\n",
      "0.108633995056\n",
      "0.0276901721954\n",
      "[13, 15, 17, 19] [11] 116.337729077\n",
      "[13, 15, 17, 19] [9] 116.217838925\n",
      "[15, 17, 18, 19] [9] 115.928792794\n",
      "\n",
      "0.181003093719\n",
      "0.108144044876\n",
      "0.0276830196381\n",
      "[13, 15, 17, 19] [11] 116.337729077\n",
      "[13, 15, 17, 19] [9] 116.217838925\n",
      "[15, 17, 18, 19] [9] 115.928792794\n",
      "\n",
      "0.176590919495\n",
      "0.101085186005\n",
      "0.0274770259857\n",
      "[13, 15, 17, 19] [11] 116.337729077\n",
      "[13, 15, 17, 19] [9] 116.217838925\n",
      "[15, 17, 18, 19] [9] 115.928792794\n",
      "\n",
      "0.176485061646\n",
      "0.117995023727\n",
      "0.0303318500519\n",
      "[13, 15, 17, 19] [11] 116.337729077\n",
      "[13, 15, 17, 19] [9] 116.217838925\n",
      "[15, 17, 18, 19] [9] 115.928792794\n",
      "\n",
      "0.174757003784\n",
      "0.0997800827026\n",
      "0.025976896286\n",
      "[13, 15, 17, 19] [11] 116.337729077\n",
      "[13, 15, 17, 19] [9] 116.217838925\n",
      "[15, 17, 18, 19] [9] 115.928792794\n",
      "\n",
      "0.178629159927\n",
      "0.103123188019\n",
      "0.0323719978333\n",
      "[13, 15, 17, 19] [11] 116.337729077\n",
      "[13, 15, 17, 19] [9] 116.217838925\n",
      "[15, 17, 18, 19] [9] 115.928792794\n",
      "\n",
      "0.189113855362\n",
      "0.0996270179749\n",
      "0.0272119045258\n",
      "[13, 15, 17, 19] [11] 116.337729077\n",
      "[13, 15, 17, 19] [9] 116.217838925\n",
      "[15, 17, 18, 19] [9] 115.928792794\n",
      "\n",
      "0.173133850098\n",
      "0.110766172409\n",
      "0.0349230766296\n",
      "[13, 15, 17, 19] [11] 116.337729077\n",
      "[13, 15, 17, 19] [9] 116.217838925\n",
      "[15, 17, 18, 19] [9] 115.928792794\n",
      "\n",
      "0.203824996948\n",
      "0.12587594986\n",
      "0.0321960449219\n",
      "[13, 15, 17, 19] [11] 116.337729077\n",
      "[13, 15, 17, 19] [9] 116.217838925\n",
      "[15, 17, 18, 19] [9] 115.928792794\n",
      "\n",
      "0.189688920975\n",
      "0.109176874161\n",
      "0.0697329044342\n",
      "[13, 15, 17, 19] [11] 116.337729077\n",
      "[13, 15, 17, 19] [9] 116.217838925\n",
      "[15, 17, 18, 19] [9] 115.928792794\n",
      "\n",
      "0.184433937073\n",
      "0.113972902298\n",
      "0.0296528339386\n",
      "[13, 15, 17, 19] [11] 116.337729077\n",
      "[13, 15, 17, 19] [9] 116.217838925\n",
      "[15, 17, 18, 19] [9] 115.928792794\n",
      "\n",
      "0.175703048706\n",
      "0.104068040848\n",
      "0.0268929004669\n",
      "[13, 15, 17, 19] [11] 116.337729077\n",
      "[13, 15, 17, 19] [9] 116.217838925\n",
      "[15, 17, 18, 19] [9] 115.928792794\n",
      "\n",
      "0.17513012886\n",
      "0.104192972183\n",
      "0.0268399715424\n",
      "[13, 15, 17, 19] [11] 116.337729077\n",
      "[13, 15, 17, 19] [9] 116.217838925\n",
      "[15, 17, 18, 19] [9] 115.928792794\n",
      "\n",
      "0.17405796051\n",
      "0.105963945389\n",
      "0.026848077774\n",
      "[13, 15, 17, 19] [11] 116.337729077\n",
      "[13, 15, 17, 19] [9] 116.217838925\n",
      "[15, 17, 18, 19] [9] 115.928792794\n",
      "\n",
      "0.177925109863\n",
      "0.102230787277\n",
      "0.0266709327698\n",
      "[13, 15, 17, 19] [11] 116.337729077\n",
      "[13, 15, 17, 19] [9] 116.217838925\n",
      "[15, 17, 18, 19] [9] 115.928792794\n",
      "\n",
      "0.174557924271\n",
      "0.104555845261\n",
      "0.0266830921173\n",
      "CPU times: user 6.45 s, sys: 0 ns, total: 6.45 s\n",
      "Wall time: 6.45 s\n"
     ]
    }
   ],
   "source": [
    "%%time\n",
    "state = get_initial_state()\n",
    "matrix = create_matrix(state)\n",
    "scores = mx_model.predict(matrix)\n",
    "hashes = set(r.unique_hash() for r in state)\n",
    "\n",
    "for i in xrange(20):\n",
    "    print state[0], scores[0]\n",
    "    print state[1], scores[1]\n",
    "    print state[2], scores[2]\n",
    "    print ''\n",
    "    \n",
    "    probs = np.exp(np.array(scores) / 3.)\n",
    "    probs /= np.sum(probs)\n",
    "    \n",
    "    new_generation = list(state)\n",
    "    #crossover candidates\n",
    "    start = time.time()\n",
    "    for i in xrange(100):\n",
    "        fst, snd = np.random.choice(state, 2, replace=False, p=probs)\n",
    "        for r in crossover(fst, snd):\n",
    "            h = r.unique_hash() \n",
    "            if h not in hashes:\n",
    "                new_generation.append(r)\n",
    "                hashes.add(h)\n",
    "            \n",
    "    print time.time() - start\n",
    "    start = time.time()\n",
    "            \n",
    "    #mutation_candidates\n",
    "    mutations = []\n",
    "    for rec in new_generation:\n",
    "        for r in mutate(rec):\n",
    "            h = r.unique_hash() \n",
    "            if h not in hashes:\n",
    "                mutations.append(r)\n",
    "                hashes.add(h)\n",
    "    \n",
    "    print time.time() - start\n",
    "    start = time.time()\n",
    "            \n",
    "    # selection\n",
    "    elems = new_generation + mutations\n",
    "    matrix = create_matrix(elems)\n",
    "    scores = mx_model.predict(matrix)\n",
    "\n",
    "    scored = heapq.nlargest(100, zip(elems, scores), key=lambda x: x[1])\n",
    "    state, scores = zip(*scored)\n",
    "    hashes = set(r.unique_hash() for r in state)\n",
    "    \n",
    "    print time.time() - start\n",
    "    start = time.time()"
   ]
  },
  {
   "cell_type": "code",
   "execution_count": null,
   "metadata": {
    "collapsed": true
   },
   "outputs": [],
   "source": []
  }
 ],
 "metadata": {
  "kernelspec": {
   "display_name": "Python 2",
   "language": "python",
   "name": "python2"
  },
  "language_info": {
   "codemirror_mode": {
    "name": "ipython",
    "version": 2
   },
   "file_extension": ".py",
   "mimetype": "text/x-python",
   "name": "python",
   "nbconvert_exporter": "python",
   "pygments_lexer": "ipython2",
   "version": "2.7.3"
  }
 },
 "nbformat": 4,
 "nbformat_minor": 0
}
