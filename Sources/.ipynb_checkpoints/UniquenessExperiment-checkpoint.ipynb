{
 "cells": [
  {
   "cell_type": "markdown",
   "metadata": {},
   "source": [
    "#Питоновская реализация EM алгоритма\n",
    "\n",
    "Полезно проделать, чтобы разобраться в numpy и в том, как эффективно писать на питоне."
   ]
  },
  {
   "cell_type": "code",
   "execution_count": 1,
   "metadata": {
    "collapsed": false
   },
   "outputs": [
    {
     "name": "stderr",
     "output_type": "stream",
     "text": [
      "/usr/share/python/yandex-ydf-toolbox/local/lib/python2.7/site-packages/sklearn/cross_validation.py:44: DeprecationWarning: This module was deprecated in version 0.18 in favor of the model_selection module into which all the refactored classes and functions are moved. Also note that the interface of the new CV iterators are different from that of this module. This module will be removed in 0.20.\n",
      "  \"This module will be removed in 0.20.\", DeprecationWarning)\n"
     ]
    }
   ],
   "source": [
    "import numpy as np\n",
    "import scipy\n",
    "import scipy.sparse\n",
    "from sklearn.datasets import fetch_20newsgroups\n",
    "import gensim\n",
    "from collections import Counter\n",
    "import heapq\n",
    "import nltk\n",
    "from nltk.corpus import stopwords\n",
    "from sklearn.cross_validation import cross_val_score\n",
    "from sklearn.svm import SVC\n",
    "import matplotlib.pyplot as plt\n",
    "from sklearn.manifold import TSNE\n",
    "%matplotlib inline"
   ]
  },
  {
   "cell_type": "markdown",
   "metadata": {},
   "source": [
    "Нужно скачать некоторые коллекции данных и установить библиотеки (nltk, gensim)"
   ]
  },
  {
   "cell_type": "code",
   "execution_count": 2,
   "metadata": {
    "collapsed": false
   },
   "outputs": [
    {
     "name": "stdout",
     "output_type": "stream",
     "text": [
      "[nltk_data] Downloading package stopwords to /home/tylorn/nltk_data...\n",
      "[nltk_data]   Package stopwords is already up-to-date!\n"
     ]
    },
    {
     "data": {
      "text/plain": [
       "True"
      ]
     },
     "execution_count": 2,
     "metadata": {},
     "output_type": "execute_result"
    }
   ],
   "source": [
    "nltk.download('stopwords')"
   ]
  },
  {
   "cell_type": "code",
   "execution_count": 3,
   "metadata": {
    "collapsed": false
   },
   "outputs": [],
   "source": [
    "english_stopwords = set(stopwords.words('english'))"
   ]
  },
  {
   "cell_type": "markdown",
   "metadata": {},
   "source": [
    "## Исходники, можно пропускать"
   ]
  },
  {
   "cell_type": "code",
   "execution_count": 4,
   "metadata": {
    "collapsed": true
   },
   "outputs": [],
   "source": [
    "def trivial_p_dwt_processor(p_dwt):\n",
    "    pass\n",
    "\n",
    "def create_frac_of_max_p_dwt_processor(frac_size):\n",
    "    def fun(p_dwt):\n",
    "        maximums = np.max(p_dwt, axis=1)\n",
    "        p_dwt[p_dwt < frac_size * maximums[:, np.newaxis]] = 0.\n",
    "        p_dwt /= (np.sum(p_dwt, axis=1)[:, np.newaxis] + 1e-10)\n",
    "    return fun"
   ]
  },
  {
   "cell_type": "code",
   "execution_count": 5,
   "metadata": {
    "collapsed": true
   },
   "outputs": [],
   "source": [
    "def perform_e_step_update(it_num, freq_matrix, docptr, phi_matrix, theta_matrix, params):\n",
    "    block_size = params.get('block_size', 1)\n",
    "    p_dwt_processor = params.get('p_dwt_processor', lambda x: None)\n",
    "    event_handler = params.get('event_handler', EmptyHandler())\n",
    "    \n",
    "    D, W = freq_matrix.shape\n",
    "    T = phi_matrix.shape[0]\n",
    "    n_wt, n_dt = np.zeros((W, T)), np.zeros((D, T))\n",
    "    transposed_phi_matrix = np.transpose(phi_matrix)\n",
    "    \n",
    "    indices = freq_matrix.indices\n",
    "    indptr = freq_matrix.indptr\n",
    "    data = freq_matrix.data\n",
    "    \n",
    "    for block_num in xrange((D + block_size - 1) / block_size):\n",
    "        block_start = block_num * block_size\n",
    "        block_finish = min(D, block_start + block_size)\n",
    "        ind_start, ind_finish = indptr[block_start], indptr[block_finish]\n",
    "        \n",
    "        datas = data[ind_start:ind_finish]\n",
    "        words = indices[ind_start:ind_finish]\n",
    "        docs = docptr[ind_start:ind_finish]\n",
    "        \n",
    "        p_dwt = transposed_phi_matrix[words] * theta_matrix[docs, :]\n",
    "        p_dwt /= (np.sum(p_dwt, axis=1)[:, np.newaxis] + 1e-20)\n",
    "        p_dwt_processor(p_dwt)\n",
    "        p_dwt *= datas[:, np.newaxis]\n",
    "        \n",
    "        for doc_num in xrange(block_start, block_finish):\n",
    "            doc_start, doc_finish = indptr[doc_num], indptr[doc_num + 1]\n",
    "            doc_p_dwt = p_dwt[(doc_start - ind_start):(doc_finish - ind_start), :]\n",
    "            n_dt[doc_num, :] += np.sum(doc_p_dwt, axis=0)\n",
    "            n_wt[indices[doc_start:doc_finish], :] += doc_p_dwt\n",
    "            \n",
    "    event = {\n",
    "        'n_wt': n_wt,\n",
    "        'n_dt': n_dt,\n",
    "        'freq_matrix': freq_matrix,\n",
    "        'phi_matrix': phi_matrix,\n",
    "        'theta_matrix': theta_matrix,\n",
    "        'docptr': docptr,\n",
    "        'it_num': it_num\n",
    "    }\n",
    "    event_handler.handle(event)\n",
    "\n",
    "    return n_wt, n_dt"
   ]
  },
  {
   "cell_type": "code",
   "execution_count": 6,
   "metadata": {
    "collapsed": false
   },
   "outputs": [],
   "source": [
    "def launch_em(\n",
    "    freq_matrix, \n",
    "    phi_matrix,\n",
    "    theta_matrix,\n",
    "    regularizations_list,\n",
    "    params_list,\n",
    "    iters_count=100\n",
    "):\n",
    "    phi_matrix = np.copy(phi_matrix)\n",
    "    theta_matrix = np.copy(theta_matrix)\n",
    "    docptr = []\n",
    "    indptr = freq_matrix.indptr\n",
    "    for doc_num in xrange(D):\n",
    "        docptr.extend([doc_num] * (indptr[doc_num + 1] - indptr[doc_num]))\n",
    "    docptr = np.array(docptr)\n",
    "    \n",
    "    for it in xrange(iters_count):\n",
    "        n_wt, n_dt = params_list[it]['method'](it, freq_matrix, docptr, phi_matrix, theta_matrix, params_list[it])\n",
    "        r_wt, r_dt = regularizations_list[it](n_wt, n_dt, phi_matrix, theta_matrix)\n",
    "        n_wt = np.maximum(n_wt + r_wt, 0)\n",
    "        n_dt = np.maximum(n_dt + r_dt, 0)\n",
    "        n_wt /= np.sum(n_wt, axis=0)\n",
    "        n_dt /= np.sum(n_dt, axis=1)[:, np.newaxis]\n",
    "        phi_matrix = np.transpose(n_wt)\n",
    "        theta_matrix = n_dt\n",
    "        \n",
    "    return phi_matrix, theta_matrix"
   ]
  },
  {
   "cell_type": "code",
   "execution_count": 7,
   "metadata": {
    "collapsed": true
   },
   "outputs": [],
   "source": [
    "def trivial_regularization(n_wt, n_dt, phi_matrix, theta_matrix):\n",
    "    return 0., 0.\n",
    "\n",
    "def calculate_decorr(phi_matrix):\n",
    "    aggr_phi = np.sum(phi_matrix, axis=1)\n",
    "    return np.sum(phi_matrix * (aggr_phi[:, np.newaxis] - phi_matrix))\n",
    "\n",
    "def create_reg_decorr_naive(tau, theta_alpha=0.):\n",
    "    def fun (n_wt, n_dt, phi_matrix, theta_matrix):\n",
    "        aggr_phi = np.sum(phi_matrix, axis=1)\n",
    "        return - tau * np.transpose(phi_matrix * (aggr_phi[:, np.newaxis] - phi_matrix)), theta_alpha\n",
    "    return fun\n",
    "\n",
    "def create_reg_lda(phi_alpha, theta_alpha):\n",
    "    def fun (n_wt, n_dt, phi_matrix, theta_matrix):\n",
    "        return phi_alpha, theta_alpha\n",
    "    return fun\n",
    "\n",
    "def create_reg_decorr_unbiased(tau, theta_alpha=0.):\n",
    "    def fun (n_wt, n_dt, phi_matrix, theta_matrix):\n",
    "        tmp_phi =  n_wt / np.sum(n_wt, axis=0)\n",
    "        aggr_phi = np.sum(tmp_phi, axis=0)\n",
    "        return - tau * tmp_phi * (aggr_phi[np.newaxis, :] - tmp_phi), theta_alpha\n",
    "    return fun\n",
    "\n",
    "def calculate_likelihood(freq_matrix, docptr, phi_matrix, theta_matrix, block_size=1):\n",
    "    D, W = freq_matrix.shape\n",
    "    T = phi_matrix.shape[0]\n",
    "    transposed_phi_matrix = np.transpose(phi_matrix)\n",
    "    \n",
    "    indices = freq_matrix.indices\n",
    "    indptr = freq_matrix.indptr\n",
    "    data = freq_matrix.data\n",
    "    \n",
    "    res = 0.\n",
    "    for block_num in xrange((D + block_size - 1) / block_size):\n",
    "        block_start = block_num * block_size\n",
    "        block_finish = min(D, block_start + block_size)\n",
    "        ind_start, ind_finish = indptr[block_start], indptr[block_finish]\n",
    "        \n",
    "        datas = data[ind_start:ind_finish]\n",
    "        words = indices[ind_start:ind_finish]\n",
    "        docs = docptr[ind_start:ind_finish]\n",
    "        \n",
    "        p_dwt = transposed_phi_matrix[words] * theta_matrix[docs, :]\n",
    "        res += np.sum(np.log(np.sum(p_dwt, axis=1) + 1e-20) * datas)\n",
    "    \n",
    "    return res\n",
    "\n",
    "\n",
    "def external_calculate_likelihood(freq_matrix, phi_matrix, theta_matrix):\n",
    "    docptr = []\n",
    "    indptr = freq_matrix.indptr\n",
    "    for doc_num in xrange(D):\n",
    "        docptr.extend([doc_num] * (indptr[doc_num + 1] - indptr[doc_num]))\n",
    "    docptr = np.array(docptr)\n",
    "    \n",
    "    return calculate_likelihood(freq_matrix, docptr, phi_matrix, theta_matrix, block_size=50)\n",
    "\n",
    "def external_calculate_perplexity(freq_matrix, phi_matrix, theta_matrix):\n",
    "    likelihood = external_calculate_likelihood(freq_matrix, phi_matrix, theta_matrix)\n",
    "    return np.exp(- likelihood / freq_matrix.sum())\n",
    "\n",
    "class EmptyLogger(object):\n",
    "    def iteration(*args):\n",
    "        pass\n",
    "    def final_info(self, ):\n",
    "        pass\n",
    "    \n",
    "class DecorrWatcher(object):\n",
    "    def __init__(self, tau):\n",
    "        self.tau = tau\n",
    "\n",
    "    def iteration(self, iter_num, freq_matrix, docptr, phi_matrix, theta_matrix, res):\n",
    "        print iter_num\n",
    "        likelihood = calculate_likelihood(freq_matrix, docptr, phi_matrix, theta_matrix, 50)\n",
    "        decorr = calculate_decorr(phi_matrix)\n",
    "        print 'L', likelihood\n",
    "        print 'decorr', decorr\n",
    "        print 'L + tau R', likelihood - self.tau * decorr\n",
    "        non_zeros = np.sum(phi_matrix > 1e-20)\n",
    "        size = phi_matrix.shape[0] * phi_matrix.shape[1]\n",
    "        print 'Phi non zeros elements', non_zeros, '   fraction', round(1. * non_zeros / size, 2)\n",
    "        non_zeros = np.sum(theta_matrix > 1e-20)\n",
    "        size = theta_matrix.shape[0] * theta_matrix.shape[1]\n",
    "        print 'Theta non zeros elements', non_zeros, '   fraction', round(1. * non_zeros / size, 2)\n",
    "    def final_info(self):\n",
    "        pass\n",
    "\n",
    "\n",
    "class EmptyHandler(object):\n",
    "    def requires(self, name):\n",
    "        return False\n",
    "        \n",
    "    def handle(self, event):\n",
    "        pass\n",
    "    \n",
    "    def final(self):\n",
    "        pass\n",
    "            \n"
   ]
  },
  {
   "cell_type": "code",
   "execution_count": 8,
   "metadata": {
    "collapsed": false
   },
   "outputs": [],
   "source": [
    "def prepare_dataset(dataset):\n",
    "    # remove stopwords\n",
    "    occurences = Counter()\n",
    "    for i, doc in enumerate(dataset.data):\n",
    "        tokens = gensim.utils.lemmatize(doc)\n",
    "        for token in set(tokens):\n",
    "            occurences[token] += 1\n",
    "        if i % 500 == 0:\n",
    "            print 'Processed: ', i, 'documents from', len(dataset.data)\n",
    "    \n",
    "    row, col, data = [], [], []\n",
    "    token_2_num = {}\n",
    "    for i, doc in enumerate(dataset.data):\n",
    "        tokens = gensim.utils.lemmatize(doc)\n",
    "        cnt = Counter()\n",
    "        for token in tokens:\n",
    "            word = token.split('/')[0]\n",
    "            if word not in english_stopwords and 10 <= occurences[token] < len(dataset.data) / 2:\n",
    "                if token not in token_2_num:\n",
    "                    token_2_num[token] = len(token_2_num)\n",
    "                cnt[token_2_num[token]] += 1\n",
    "        for w, c in cnt.iteritems():\n",
    "            row.append(i)\n",
    "            col.append(w)\n",
    "            data.append(c)\n",
    "        \n",
    "    num_2_token = {\n",
    "        v: k\n",
    "        for k, v in token_2_num.iteritems()\n",
    "    }\n",
    "    print 'Nonzero values:', len(data)\n",
    "    return scipy.sparse.csr_matrix((data, (row, col))), token_2_num, num_2_token\n"
   ]
  },
  {
   "cell_type": "code",
   "execution_count": 9,
   "metadata": {
    "collapsed": true
   },
   "outputs": [],
   "source": [
    "def prepare_dataset_with_cooccurences(dataset):\n",
    "    # remove stopwords\n",
    "    occurences = Counter()\n",
    "    cooccurences = Counter()\n",
    "    for i, doc in enumerate(dataset.data):\n",
    "        tokens = gensim.utils.lemmatize(doc)\n",
    "        for token in set(tokens):\n",
    "            occurences[token] += 1\n",
    "        if i % 500 == 0:\n",
    "            print 'Preprocessed: ', i, 'documents from', len(dataset.data)\n",
    "    \n",
    "    row, col, data = [], [], []\n",
    "    token_2_num = {}\n",
    "    for i, doc in enumerate(dataset.data):\n",
    "        tokens = gensim.utils.lemmatize(doc)\n",
    "        cnt = Counter()\n",
    "        words_set = set()\n",
    "        for token in tokens:\n",
    "            word = token.split('/')[0]\n",
    "            if word not in english_stopwords and 10 <= occurences[token] < len(dataset.data) / 2:\n",
    "                if token not in token_2_num:\n",
    "                    token_2_num[token] = len(token_2_num)\n",
    "                words_set.add(token_2_num[token])\n",
    "                cnt[token_2_num[token]] += 1\n",
    "        for w, c in cnt.iteritems():\n",
    "            row.append(i)\n",
    "            col.append(w)\n",
    "            data.append(c)\n",
    "            \n",
    "        for w1 in words_set:\n",
    "            for w2 in words_set:\n",
    "                cooccurences[(w1, w2)] += 1\n",
    "                \n",
    "        if i % 500 == 0:\n",
    "            print 'Processed: ', i, 'documents from', len(dataset.data)\n",
    "        \n",
    "    num_2_token = {\n",
    "        v: k\n",
    "        for k, v in token_2_num.iteritems()\n",
    "    }\n",
    "    print 'Nonzero values:', len(data)\n",
    "    return scipy.sparse.csr_matrix((data, (row, col))), token_2_num, num_2_token, cooccurences\n"
   ]
  },
  {
   "cell_type": "markdown",
   "metadata": {},
   "source": [
    "### Используем коллекцию 20newsgroups\n",
    "\n",
    "Возьмём три научные темы, очистим данные, лемматизируем слова, удаляем редкие и частые слова (реализация этого в клетке выше)."
   ]
  },
  {
   "cell_type": "code",
   "execution_count": 10,
   "metadata": {
    "collapsed": true
   },
   "outputs": [],
   "source": [
    "dataset = fetch_20newsgroups(\n",
    "    subset='all',\n",
    "    categories=['sci.electronics', 'sci.med', 'sci.space'],\n",
    "    remove=('headers', 'footers', 'quotes')\n",
    ")"
   ]
  },
  {
   "cell_type": "code",
   "execution_count": 11,
   "metadata": {
    "collapsed": false
   },
   "outputs": [
    {
     "name": "stdout",
     "output_type": "stream",
     "text": [
      "Processed:  0 documents from 2961\n",
      "Processed:  500 documents from 2961\n",
      "Processed:  1000 documents from 2961\n",
      "Processed:  1500 documents from 2961\n",
      "Processed:  2000 documents from 2961\n",
      "Processed:  2500 documents from 2961\n",
      "Nonzero values: 130233\n",
      "CPU times: user 0 ns, sys: 2min 4s, total: 2min 4s\n",
      "Wall time: 2min 4s\n"
     ]
    }
   ],
   "source": [
    "%%time\n",
    "origin_freq_matrix, token_2_num, num_2_token = prepare_dataset(dataset)"
   ]
  },
  {
   "cell_type": "markdown",
   "metadata": {},
   "source": [
    "# Метрики"
   ]
  },
  {
   "cell_type": "code",
   "execution_count": 12,
   "metadata": {
    "collapsed": false
   },
   "outputs": [],
   "source": [
    "def investigate_phi_uniqueness(phi):\n",
    "    T, W = phi.shape\n",
    "    for t in xrange(T):\n",
    "        matrix = phi\n",
    "        positions = matrix[t, :] == 0.\n",
    "        topics = [x for x in xrange(T) if x != t]\n",
    "\n",
    "        print 'Topic', t\n",
    "        print '\\t', np.sum(positions), 'zeros'\n",
    "        if np.sum(positions) != 0:\n",
    "            print '\\tSubmatrix rank', np.linalg.matrix_rank(matrix[np.ix_(topics, positions)])\n",
    "            eigen_values = np.linalg.svd(matrix[np.ix_(topics, positions)])[1]\n",
    "            print '\\tEigen values:', eigen_values\n",
    "            max_val = np.min(np.linalg.svd(matrix[topics, :])[1])\n",
    "            print '\\tUniqueness measure:', min(eigen_values)\n",
    "            print '\\tNormalized uniqueness measure:', min(eigen_values) / max_val\n",
    "        else:\n",
    "            print '\\tUniqueness measure:', 0."
   ]
  },
  {
   "cell_type": "code",
   "execution_count": 13,
   "metadata": {
    "collapsed": false
   },
   "outputs": [],
   "source": [
    "def calc_phi_uniqueness_measures(phi):\n",
    "    T, W = phi.shape\n",
    "    res = []\n",
    "    nres = []\n",
    "    for t in xrange(T):\n",
    "        positions = phi[t, :] == 0.\n",
    "        topics = [x for x in xrange(T) if x != t]\n",
    "        if np.sum(positions) == 0:\n",
    "            res.append(0.)\n",
    "            nres.append(0.)\n",
    "        else:\n",
    "            rank = np.linalg.matrix_rank(phi[np.ix_(topics, positions)])\n",
    "            if rank == T - 1:\n",
    "                max_val = np.min(np.linalg.svd(phi[topics, :])[1])\n",
    "                curr_val = np.min(np.linalg.svd(phi[np.ix_(topics, positions)])[1])\n",
    "                res.append(curr_val)\n",
    "                nres.append(curr_val / max_val)\n",
    "            else:\n",
    "                res.append(0.)\n",
    "                nres.append(0.)\n",
    "    return res, nres"
   ]
  },
  {
   "cell_type": "markdown",
   "metadata": {
    "collapsed": false
   },
   "source": [
    "## baseline решение - обычный PLSA"
   ]
  },
  {
   "cell_type": "code",
   "execution_count": 14,
   "metadata": {
    "collapsed": false,
    "scrolled": true
   },
   "outputs": [],
   "source": [
    "# design experiment\n",
    "\n",
    "D, W = origin_freq_matrix.shape\n",
    "T = 5\n",
    "\n",
    "np.random.seed(42)\n",
    "\n",
    "phi_matrix = np.random.uniform(size=(T, W)).astype(np.float64)\n",
    "phi_matrix /= np.sum(phi_matrix, axis=1)[:, np.newaxis]\n",
    "\n",
    "theta_matrix = np.random.uniform(size=(D, T)).astype(np.float64)\n",
    "theta_matrix /= np.sum(theta_matrix, axis=1)[:, np.newaxis]\n",
    "\n",
    "no_selection_params = {\n",
    "    'method': perform_e_step_update,\n",
    "    'block_size': 50,\n",
    "    'p_dwt_processor': trivial_p_dwt_processor\n",
    "}\n",
    "\n",
    "regularizations_list = np.zeros(50, dtype=object)\n",
    "params_list = np.zeros(50, dtype=object)\n",
    "\n",
    "regularizations_list[:] = trivial_regularization\n",
    "params_list[:] = no_selection_params\n",
    "\n",
    "phi, theta = launch_em(\n",
    "    freq_matrix=origin_freq_matrix, \n",
    "    phi_matrix=phi_matrix,\n",
    "    theta_matrix=theta_matrix,\n",
    "    regularizations_list=regularizations_list,\n",
    "    params_list=params_list,\n",
    "    iters_count=50\n",
    ")"
   ]
  },
  {
   "cell_type": "code",
   "execution_count": 15,
   "metadata": {
    "collapsed": false
   },
   "outputs": [
    {
     "name": "stdout",
     "output_type": "stream",
     "text": [
      "Topic 0\n",
      "\t0 zeros\n",
      "\tUniqueness measure: 0.0\n",
      "Topic 1\n",
      "\t0 zeros\n",
      "\tUniqueness measure: 0.0\n",
      "Topic 2\n",
      "\t0 zeros\n",
      "\tUniqueness measure: 0.0\n",
      "Topic 3\n",
      "\t0 zeros\n",
      "\tUniqueness measure: 0.0\n",
      "Topic 4\n",
      "\t0 zeros\n",
      "\tUniqueness measure: 0.0\n"
     ]
    }
   ],
   "source": [
    "investigate_phi_uniqueness(phi)"
   ]
  },
  {
   "cell_type": "markdown",
   "metadata": {},
   "source": [
    "## Регуляризатор разреживания из ARTM"
   ]
  },
  {
   "cell_type": "code",
   "execution_count": 16,
   "metadata": {
    "collapsed": false,
    "scrolled": true
   },
   "outputs": [],
   "source": [
    "# design experiment\n",
    "\n",
    "D, W = origin_freq_matrix.shape\n",
    "T = 5\n",
    "\n",
    "np.random.seed(42)\n",
    "\n",
    "phi_matrix = np.random.uniform(size=(T, W)).astype(np.float64)\n",
    "phi_matrix /= np.sum(phi_matrix, axis=1)[:, np.newaxis]\n",
    "\n",
    "theta_matrix = np.random.uniform(size=(D, T)).astype(np.float64)\n",
    "theta_matrix /= np.sum(theta_matrix, axis=1)[:, np.newaxis]\n",
    "\n",
    "no_selection_params = {\n",
    "    'method': perform_e_step_update,\n",
    "    'block_size': 50,\n",
    "    'p_dwt_processor': trivial_p_dwt_processor\n",
    "}\n",
    "\n",
    "regularizations_list = np.zeros(50, dtype=object)\n",
    "params_list = np.zeros(50, dtype=object)\n",
    "\n",
    "regularizations_list[:40] = trivial_regularization\n",
    "regularizations_list[40:] = create_reg_lda(-0.5, -0.1)\n",
    "params_list[:] = no_selection_params\n",
    "\n",
    "phi, theta = launch_em(\n",
    "    freq_matrix=origin_freq_matrix, \n",
    "    phi_matrix=phi_matrix,\n",
    "    theta_matrix=theta_matrix,\n",
    "    regularizations_list=regularizations_list,\n",
    "    params_list=params_list,\n",
    "    iters_count=50\n",
    ")"
   ]
  },
  {
   "cell_type": "code",
   "execution_count": 17,
   "metadata": {
    "collapsed": false
   },
   "outputs": [
    {
     "data": {
      "text/plain": [
       "([0.01706895956966276,\n",
       "  0.017489429523626806,\n",
       "  0.015857423256601555,\n",
       "  0.020975252477573356,\n",
       "  0.015726005430102389],\n",
       " [0.6295562000757241,\n",
       "  0.54740387209418906,\n",
       "  0.58052459766025599,\n",
       "  0.645441152951022,\n",
       "  0.57501996565414437])"
      ]
     },
     "execution_count": 17,
     "metadata": {},
     "output_type": "execute_result"
    }
   ],
   "source": [
    "calc_phi_uniqueness_measures(phi)"
   ]
  },
  {
   "cell_type": "code",
   "execution_count": 18,
   "metadata": {
    "collapsed": false,
    "scrolled": true
   },
   "outputs": [],
   "source": [
    "# design experiment\n",
    "\n",
    "D, W = origin_freq_matrix.shape\n",
    "T = 5\n",
    "\n",
    "np.random.seed(42)\n",
    "\n",
    "phi_matrix = np.random.uniform(size=(T, W)).astype(np.float64)\n",
    "phi_matrix /= np.sum(phi_matrix, axis=1)[:, np.newaxis]\n",
    "\n",
    "theta_matrix = np.random.uniform(size=(D, T)).astype(np.float64)\n",
    "theta_matrix /= np.sum(theta_matrix, axis=1)[:, np.newaxis]\n",
    "\n",
    "no_selection_params = {\n",
    "    'method': perform_e_step_update,\n",
    "    'block_size': 50,\n",
    "    'p_dwt_processor': trivial_p_dwt_processor\n",
    "}\n",
    "\n",
    "regularizations_list = np.zeros(50, dtype=object)\n",
    "params_list = np.zeros(50, dtype=object)\n",
    "\n",
    "regularizations_list[:40] = trivial_regularization\n",
    "regularizations_list[40:] = create_reg_lda(0., -0.1)\n",
    "params_list[:] = no_selection_params\n",
    "\n",
    "phi, theta = launch_em(\n",
    "    freq_matrix=origin_freq_matrix, \n",
    "    phi_matrix=phi_matrix,\n",
    "    theta_matrix=theta_matrix,\n",
    "    regularizations_list=regularizations_list,\n",
    "    params_list=params_list,\n",
    "    iters_count=50\n",
    ")"
   ]
  },
  {
   "cell_type": "code",
   "execution_count": 19,
   "metadata": {
    "collapsed": false
   },
   "outputs": [
    {
     "data": {
      "text/plain": [
       "([0.0,\n",
       "  6.8895087967300785e-05,\n",
       "  1.3268750823701712e-08,\n",
       "  7.0067026876352969e-05,\n",
       "  0.00036959978440860445],\n",
       " [0.0,\n",
       "  0.0022736323817031732,\n",
       "  5.0066481197142288e-07,\n",
       "  0.0022638592505025566,\n",
       "  0.013937712781856142])"
      ]
     },
     "execution_count": 19,
     "metadata": {},
     "output_type": "execute_result"
    }
   ],
   "source": [
    "calc_phi_uniqueness_measures(phi)"
   ]
  },
  {
   "cell_type": "code",
   "execution_count": 20,
   "metadata": {
    "collapsed": false
   },
   "outputs": [
    {
     "name": "stdout",
     "output_type": "stream",
     "text": [
      "Topic 0\n",
      "\t9 zeros\n",
      "\tSubmatrix rank 3\n",
      "\tEigen values: [  9.15249145e-04   7.65593527e-04   3.79082024e-04   1.06455413e-22]\n",
      "\tUniqueness measure: 1.06455413289e-22\n",
      "\tNormalized uniqueness measure: 4.05489934081e-21\n",
      "Topic 1\n",
      "\t5 zeros\n",
      "\tSubmatrix rank 4\n",
      "\tEigen values: [  7.97432121e-04   6.72051933e-04   4.71721096e-04   6.88950880e-05]\n",
      "\tUniqueness measure: 6.88950879673e-05\n",
      "\tNormalized uniqueness measure: 0.0022736323817\n",
      "Topic 2\n",
      "\t5 zeros\n",
      "\tSubmatrix rank 4\n",
      "\tEigen values: [  9.05123532e-04   3.43123150e-04   2.36132455e-04   1.32687508e-08]\n",
      "\tUniqueness measure: 1.32687508237e-08\n",
      "\tNormalized uniqueness measure: 5.00664811971e-07\n",
      "Topic 3\n",
      "\t8 zeros\n",
      "\tSubmatrix rank 4\n",
      "\tEigen values: [  1.00656178e-03   3.76490914e-04   2.84536272e-04   7.00670269e-05]\n",
      "\tUniqueness measure: 7.00670268764e-05\n",
      "\tNormalized uniqueness measure: 0.0022638592505\n",
      "Topic 4\n",
      "\t33 zeros\n",
      "\tSubmatrix rank 4\n",
      "\tEigen values: [ 0.00255653  0.00132451  0.00076365  0.0003696 ]\n",
      "\tUniqueness measure: 0.000369599784409\n",
      "\tNormalized uniqueness measure: 0.0139377127819\n"
     ]
    }
   ],
   "source": [
    "investigate_phi_uniqueness(phi)"
   ]
  },
  {
   "cell_type": "code",
   "execution_count": 21,
   "metadata": {
    "collapsed": true
   },
   "outputs": [],
   "source": [
    "def perform_lda(T, words_alpha, docs_alpha, seed=42):\n",
    "    D, W = origin_freq_matrix.shape\n",
    "\n",
    "    np.random.seed(seed)\n",
    "\n",
    "    phi_matrix = np.random.uniform(size=(T, W)).astype(np.float64)\n",
    "    phi_matrix /= np.sum(phi_matrix, axis=1)[:, np.newaxis]\n",
    "\n",
    "    theta_matrix = np.random.uniform(size=(D, T)).astype(np.float64)\n",
    "    theta_matrix /= np.sum(theta_matrix, axis=1)[:, np.newaxis]\n",
    "\n",
    "    no_selection_params = {\n",
    "        'method': perform_e_step_update,\n",
    "        'block_size': 50,\n",
    "        'p_dwt_processor': trivial_p_dwt_processor\n",
    "    }\n",
    "\n",
    "    regularizations_list = np.zeros(50, dtype=object)\n",
    "    params_list = np.zeros(50, dtype=object)\n",
    "\n",
    "    regularizations_list[:10] = trivial_regularization\n",
    "    regularizations_list[10:] = create_reg_lda(words_alpha, docs_alpha)\n",
    "    params_list[:] = no_selection_params\n",
    "\n",
    "    phi, theta = launch_em(\n",
    "        freq_matrix=origin_freq_matrix, \n",
    "        phi_matrix=phi_matrix,\n",
    "        theta_matrix=theta_matrix,\n",
    "        regularizations_list=regularizations_list,\n",
    "        params_list=params_list,\n",
    "        iters_count=50\n",
    "    )\n",
    "    \n",
    "    return phi, theta"
   ]
  },
  {
   "cell_type": "code",
   "execution_count": 22,
   "metadata": {
    "collapsed": false
   },
   "outputs": [],
   "source": [
    "font = {'family' : 'normal',\n",
    "        'size'   : 12}\n",
    "\n",
    "plt.rc('font', **font)"
   ]
  },
  {
   "cell_type": "code",
   "execution_count": 23,
   "metadata": {
    "collapsed": true
   },
   "outputs": [],
   "source": [
    "alpha_values = [-10, -9, -8, -7, -6, -5, -4, -3, -2, -1, 0] + [\n",
    "    - 10 ** (-i)\n",
    "    for i in xrange(30)\n",
    "]"
   ]
  },
  {
   "cell_type": "code",
   "execution_count": 24,
   "metadata": {
    "collapsed": false
   },
   "outputs": [
    {
     "name": "stdout",
     "output_type": "stream",
     "text": [
      "-10\n",
      "-9\n",
      "-8\n",
      "-7\n",
      "-6\n",
      "-5\n",
      "-4\n",
      "-3\n",
      "-2\n",
      "-1\n",
      "0\n",
      "-1\n",
      "-0.1\n",
      "-0.01\n",
      "-0.001\n",
      "-0.0001\n",
      "-1e-05\n",
      "-1e-06\n",
      "-1e-07\n",
      "-1e-08\n",
      "-1e-09\n",
      "-1e-10\n",
      "-1e-11\n",
      "-1e-12\n",
      "-1e-13\n",
      "-1e-14\n",
      "-1e-15\n",
      "-1e-16\n",
      "-1e-17\n",
      "-1e-18\n",
      "-1e-19\n",
      "-1e-20\n",
      "-1e-21\n",
      "-1e-22\n",
      "-1e-23\n",
      "-1e-24\n",
      "-1e-25\n",
      "-1e-26\n",
      "-1e-27\n",
      "-1e-28\n",
      "-1e-29\n"
     ]
    }
   ],
   "source": [
    "minus_log_alphas = []\n",
    "avg_uniqueness_measures = []\n",
    "avg_normalized_uniqueness_measures = []\n",
    "for alpha in alpha_values:\n",
    "    print alpha\n",
    "    minus_log_alphas.append(-np.log10(-alpha))\n",
    "    phi, theta = perform_lda(5, alpha, 0.)\n",
    "    ums, nums = calc_phi_uniqueness_measures(phi)\n",
    "    avg_uniqueness_measures.append(np.mean(ums))\n",
    "    avg_normalized_uniqueness_measures.append(np.mean(nums))"
   ]
  },
  {
   "cell_type": "code",
   "execution_count": 25,
   "metadata": {
    "collapsed": false
   },
   "outputs": [
    {
     "name": "stderr",
     "output_type": "stream",
     "text": [
      "/usr/share/python/yandex-ydf-toolbox/local/lib/python2.7/site-packages/matplotlib/font_manager.py:1288: UserWarning: findfont: Font family [u'normal'] not found. Falling back to Bitstream Vera Sans\n",
      "  (prop.get_family(), self.defaultFamily[fontext]))\n"
     ]
    },
    {
     "data": {
      "image/png": "[encoded data removed]",
      "text/plain": [
       "<matplotlib.figure.Figure at 0xaf4b6d0>"
      ]
     },
     "metadata": {},
     "output_type": "display_data"
    }
   ],
   "source": [
    "plt.figure(figsize=(10, 5))\n",
    "plt.xlabel('$- \\\\log\\\\ (- \\\\alpha)$')\n",
    "plt.ylabel('avg topic uniqueness measure')\n",
    "plt.plot(minus_log_alphas, avg_uniqueness_measures)\n",
    "plt.xlim(-1.5, 30)\n",
    "plt.savefig('/home/tylorn/uniqueness/sparsity_um_dependency.eps', format='eps')\n",
    "plt.show()"
   ]
  },
  {
   "cell_type": "code",
   "execution_count": 26,
   "metadata": {
    "collapsed": false
   },
   "outputs": [
    {
     "data": {
      "image/png": "[encoded data removed]",
      "text/plain": [
       "<matplotlib.figure.Figure at 0xaf4bbd0>"
      ]
     },
     "metadata": {},
     "output_type": "display_data"
    }
   ],
   "source": [
    "plt.figure(figsize=(10, 5))\n",
    "plt.xlabel('$- \\\\log\\\\ (- \\\\alpha)$')\n",
    "plt.ylabel('avg topic normalized uniqueness measure')\n",
    "plt.plot(minus_log_alphas, avg_normalized_uniqueness_measures)\n",
    "plt.ylim(0, 1)\n",
    "plt.xlim(-1.5, 30)\n",
    "plt.show()"
   ]
  },
  {
   "cell_type": "markdown",
   "metadata": {},
   "source": [
    "#### Даже небольшого разреживания хватает, чтобы темы стали cущественно уникальными"
   ]
  },
  {
   "cell_type": "code",
   "execution_count": 27,
   "metadata": {
    "collapsed": false
   },
   "outputs": [
    {
     "name": "stdout",
     "output_type": "stream",
     "text": [
      "-10\n",
      "-9\n",
      "-8\n",
      "-7\n",
      "-6\n",
      "-5\n",
      "-4\n",
      "-3\n",
      "-2\n",
      "-1\n",
      "0\n",
      "-1\n",
      "-0.1\n",
      "-0.01\n",
      "-0.001\n",
      "-0.0001\n",
      "-1e-05\n",
      "-1e-06\n",
      "-1e-07\n",
      "-1e-08\n",
      "-1e-09\n",
      "-1e-10\n",
      "-1e-11\n",
      "-1e-12\n",
      "-1e-13\n",
      "-1e-14\n",
      "-1e-15\n",
      "-1e-16\n",
      "-1e-17\n",
      "-1e-18\n",
      "-1e-19\n",
      "-1e-20\n",
      "-1e-21\n",
      "-1e-22\n",
      "-1e-23\n",
      "-1e-24\n",
      "-1e-25\n",
      "-1e-26\n",
      "-1e-27\n",
      "-1e-28\n",
      "-1e-29\n"
     ]
    }
   ],
   "source": [
    "minus_log_alphas = []\n",
    "avg_uniqueness_measures2 = []\n",
    "avg_normalized_uniqueness_measures2 = []\n",
    "for alpha in alpha_values:\n",
    "    print alpha\n",
    "    minus_log_alphas.append(-np.log10(-alpha))\n",
    "    phi, theta = perform_lda(5, alpha, -0.1)\n",
    "    ums, nums = calc_phi_uniqueness_measures(phi)\n",
    "    avg_uniqueness_measures2.append(np.mean(ums))\n",
    "    avg_normalized_uniqueness_measures2.append(np.mean(nums))"
   ]
  },
  {
   "cell_type": "code",
   "execution_count": 28,
   "metadata": {
    "collapsed": false
   },
   "outputs": [
    {
     "data": {
      "image/png": "[encoded data removed]",
      "text/plain": [
       "<matplotlib.figure.Figure at 0xdaedd90>"
      ]
     },
     "metadata": {},
     "output_type": "display_data"
    }
   ],
   "source": [
    "plt.figure(figsize=(10, 5))\n",
    "plt.xlabel('$- \\\\log\\\\ (- \\\\alpha)$')\n",
    "plt.ylabel('avg topic uniqueness measure')\n",
    "plt.xlim(-1.5, 30)\n",
    "plt.plot(minus_log_alphas, avg_uniqueness_measures)\n",
    "plt.plot(minus_log_alphas, avg_uniqueness_measures2)\n",
    "plt.legend(['$\\\\beta = 0$', '$\\\\beta = -0.1$', '$\\\\beta = 0.1$'])\n",
    "plt.show()"
   ]
  },
  {
   "cell_type": "code",
   "execution_count": 29,
   "metadata": {
    "collapsed": false
   },
   "outputs": [
    {
     "data": {
      "image/png": "[encoded data removed]",
      "text/plain": [
       "<matplotlib.figure.Figure at 0xaf4c890>"
      ]
     },
     "metadata": {},
     "output_type": "display_data"
    }
   ],
   "source": [
    "plt.figure(figsize=(10, 5))\n",
    "plt.xlabel('$- \\\\log\\\\ (- \\\\alpha)$')\n",
    "plt.ylabel('avg topic normalized uniqueness measure')\n",
    "plt.ylim(0, 1)\n",
    "plt.xlim(-1.5, 30)\n",
    "plt.plot(minus_log_alphas, avg_normalized_uniqueness_measures)\n",
    "plt.plot(minus_log_alphas, avg_normalized_uniqueness_measures2)\n",
    "plt.legend(['$\\\\beta = 0$', '$\\\\beta = -0.1$', '$\\\\beta = 0.1$'])\n",
    "plt.show()"
   ]
  },
  {
   "cell_type": "markdown",
   "metadata": {},
   "source": [
    "#### Разреживание  $\\Theta$ заставляет темы быть более сглаженными, что сказывается негативно на их единственности"
   ]
  },
  {
   "cell_type": "code",
   "execution_count": 30,
   "metadata": {
    "collapsed": false
   },
   "outputs": [
    {
     "name": "stdout",
     "output_type": "stream",
     "text": [
      "-10\n",
      "-9\n",
      "-8\n",
      "-7\n",
      "-6\n",
      "-5\n",
      "-4\n",
      "-3\n",
      "-2\n",
      "-1\n",
      "0\n",
      "-1\n",
      "-0.1\n",
      "-0.01\n",
      "-0.001\n",
      "-0.0001\n",
      "-1e-05\n",
      "-1e-06\n",
      "-1e-07\n",
      "-1e-08\n",
      "-1e-09\n",
      "-1e-10\n",
      "-1e-11\n",
      "-1e-12\n",
      "-1e-13\n",
      "-1e-14\n",
      "-1e-15\n",
      "-1e-16\n",
      "-1e-17\n",
      "-1e-18\n",
      "-1e-19\n",
      "-1e-20\n",
      "-1e-21\n",
      "-1e-22\n",
      "-1e-23\n",
      "-1e-24\n",
      "-1e-25\n",
      "-1e-26\n",
      "-1e-27\n",
      "-1e-28\n",
      "-1e-29\n"
     ]
    }
   ],
   "source": [
    "minus_log_alphas = []\n",
    "avg_uniqueness_measures3 = []\n",
    "avg_normalized_uniqueness_measures3 = []\n",
    "for alpha in alpha_values:\n",
    "    print alpha\n",
    "    minus_log_alphas.append(-np.log10(-alpha))\n",
    "    phi, theta = perform_lda(5, alpha, 0.1)\n",
    "    ums, nums = calc_phi_uniqueness_measures(phi)\n",
    "    avg_uniqueness_measures3.append(np.mean(ums))\n",
    "    avg_normalized_uniqueness_measures3.append(np.mean(nums))"
   ]
  },
  {
   "cell_type": "code",
   "execution_count": 31,
   "metadata": {
    "collapsed": false
   },
   "outputs": [
    {
     "data": {
      "image/png": "[encoded data removed]",
      "text/plain": [
       "<matplotlib.figure.Figure at 0x14214850>"
      ]
     },
     "metadata": {},
     "output_type": "display_data"
    }
   ],
   "source": [
    "plt.figure(figsize=(10, 5))\n",
    "plt.title('$R = \\\\alpha\\\\ \\\\sum_t\\\\ \\\\sum_w\\\\ \\\\log\\\\ \\\\phi_{wt}\\\\ +\\\\ \\\\beta \\\\sum_d\\\\ \\\\sum_t\\\\ \\\\log\\\\ \\\\theta_{td}$')\n",
    "plt.xlabel('$- \\\\log\\\\ (- \\\\alpha)$')\n",
    "plt.ylabel('avg topic uniqueness measure')\n",
    "plt.xlim(-1.5, 30)\n",
    "plt.plot(minus_log_alphas, avg_uniqueness_measures)\n",
    "plt.plot(minus_log_alphas, avg_uniqueness_measures2)\n",
    "plt.plot(minus_log_alphas, avg_uniqueness_measures3)\n",
    "plt.legend(['$\\\\beta = 0$', '$\\\\beta = -0.1$', '$\\\\beta = 0.1$'])\n",
    "plt.savefig('/home/tylorn/uniqueness/sparsity_um_dependency.eps', format='eps')\n",
    "plt.show()"
   ]
  },
  {
   "cell_type": "code",
   "execution_count": 32,
   "metadata": {
    "collapsed": false
   },
   "outputs": [
    {
     "data": {
      "image/png": "[encoded data removed]",
      "text/plain": [
       "<matplotlib.figure.Figure at 0x13c55110>"
      ]
     },
     "metadata": {},
     "output_type": "display_data"
    }
   ],
   "source": [
    "plt.figure(figsize=(10, 5))\n",
    "plt.title('$R = \\\\alpha\\\\ \\\\sum_t\\\\ \\\\sum_w\\\\ \\\\log\\\\ \\\\phi_{wt}\\\\ +\\\\ \\\\beta \\\\sum_d\\\\ \\\\sum_t\\\\ \\\\log\\\\ \\\\theta_{td}$')\n",
    "plt.xlabel('$- \\\\log\\\\ (- \\\\alpha)$')\n",
    "plt.ylabel('avg topic normalized uniqueness measure')\n",
    "plt.ylim(0, 1)\n",
    "plt.xlim(-1.5, 30)\n",
    "plt.plot(minus_log_alphas, avg_normalized_uniqueness_measures)\n",
    "plt.plot(minus_log_alphas, avg_normalized_uniqueness_measures2)\n",
    "plt.plot(minus_log_alphas, avg_normalized_uniqueness_measures3)\n",
    "plt.legend(['$\\\\beta = 0$', '$\\\\beta = -0.1$', '$\\\\beta = 0.1$'])\n",
    "plt.savefig('/home/tylorn/uniqueness/sparsity_num_dependency.eps', format='eps')\n",
    "plt.show()"
   ]
  },
  {
   "cell_type": "code",
   "execution_count": 125,
   "metadata": {
    "collapsed": false
   },
   "outputs": [],
   "source": [
    "import pickle\n",
    "\n",
    "with open('/home/tylorn/uniqueness_glob/alpha_dependency.pkl', 'w') as f:\n",
    "    pickle.dump({\n",
    "        'minus_log_alphas': minus_log_alphas,\n",
    "        'avg_uniqueness_measures': avg_uniqueness_measures,\n",
    "        'avg_uniqueness_measures2': avg_uniqueness_measures2,\n",
    "        'avg_uniqueness_measures3': avg_uniqueness_measures3,\n",
    "        'avg_normalized_uniqueness_measures': avg_normalized_uniqueness_measures,\n",
    "        'avg_normalized_uniqueness_measures2': avg_normalized_uniqueness_measures2,\n",
    "        'avg_normalized_uniqueness_measures3': avg_normalized_uniqueness_measures3\n",
    "    }, f)"
   ]
  },
  {
   "cell_type": "markdown",
   "metadata": {},
   "source": [
    "#### Сглаживание  $\\Theta$, наоборот, позволяет темам быть более разреженными, что сказывается нменого положительно на их единственности. Однако, так как есть ещё и условие на унитематические документы в теореме, то лучше не пользоваться сглаживанием документов."
   ]
  },
  {
   "cell_type": "code",
   "execution_count": null,
   "metadata": {
    "collapsed": true
   },
   "outputs": [],
   "source": []
  },
  {
   "cell_type": "code",
   "execution_count": null,
   "metadata": {
    "collapsed": true
   },
   "outputs": [],
   "source": []
  },
  {
   "cell_type": "code",
   "execution_count": 33,
   "metadata": {
    "collapsed": false
   },
   "outputs": [
    {
     "name": "stdout",
     "output_type": "stream",
     "text": [
      "2\n",
      "3\n",
      "4\n",
      "5\n",
      "6\n",
      "7\n",
      "8\n",
      "9\n",
      "10\n",
      "11\n",
      "12\n",
      "13\n",
      "14\n",
      "15\n",
      "16\n",
      "17\n",
      "18\n",
      "19\n",
      "20\n",
      "21\n",
      "22\n",
      "23\n",
      "24\n",
      "25\n",
      "26\n",
      "27\n",
      "28\n",
      "29\n",
      "30\n",
      "31\n",
      "32\n",
      "33\n",
      "34\n",
      "35\n",
      "36\n",
      "37\n",
      "38\n",
      "39\n",
      "40\n",
      "41\n",
      "42\n",
      "43\n",
      "44\n",
      "45\n",
      "46\n",
      "47\n",
      "48\n",
      "49\n",
      "50\n"
     ]
    }
   ],
   "source": [
    "topics_values = []\n",
    "min_ums_values = []\n",
    "min_nums_values = []\n",
    "max_ums_values = []\n",
    "max_nums_values = []\n",
    "avg_ums_values = []\n",
    "avg_nums_values = []\n",
    "for T in xrange(2, 51):\n",
    "    print T\n",
    "    min_ums_value = 0 \n",
    "    min_nums_value = 0 \n",
    "    max_ums_value = 0 \n",
    "    max_nums_value = 0 \n",
    "    avg_ums_value = 0 \n",
    "    avg_nums_value = 0 \n",
    "    \n",
    "    for seed in xrange(30):\n",
    "        phi, theta = perform_lda(T, - 0.1, 0., seed=seed)\n",
    "        dums, dnums = calc_phi_uniqueness_measures(phi)\n",
    "        \n",
    "        min_ums_value += np.min(dums) \n",
    "        min_nums_value += np.min(dnums) \n",
    "        max_ums_value += np.max(dums) \n",
    "        max_nums_value += np.max(dnums) \n",
    "        avg_ums_value += np.mean(dums) \n",
    "        avg_nums_value += np.mean(dnums) \n",
    "    \n",
    "    min_ums_value /= 30 \n",
    "    min_nums_value /= 30\n",
    "    max_ums_value /= 30\n",
    "    max_nums_value /= 30\n",
    "    avg_ums_value /= 30\n",
    "    avg_nums_value /= 30\n",
    "    \n",
    "    topics_values.append(T)\n",
    "    min_ums_values.append(min_ums_value)\n",
    "    min_nums_values.append(min_nums_value)\n",
    "    max_ums_values.append(max_ums_value)\n",
    "    max_nums_values.append(max_nums_value)\n",
    "    avg_ums_values.append(avg_ums_value)\n",
    "    avg_nums_values.append(avg_nums_value)\n"
   ]
  },
  {
   "cell_type": "code",
   "execution_count": 121,
   "metadata": {
    "collapsed": false
   },
   "outputs": [
    {
     "data": {
      "image/png": "[encoded data removed]",
      "text/plain": [
       "<matplotlib.figure.Figure at 0x13bff7d0>"
      ]
     },
     "metadata": {},
     "output_type": "display_data"
    }
   ],
   "source": [
    "plt.figure(figsize=(10, 5))\n",
    "plt.xlabel('Topics number')\n",
    "plt.ylabel('Uniqueness measure')\n",
    "plt.plot(topics_values, min_ums_values)\n",
    "plt.plot(topics_values, avg_ums_values)\n",
    "plt.plot(topics_values, max_ums_values)\n",
    "plt.legend(['min', 'avg', 'max'])\n",
    "plt.savefig('/home/tylorn/uniqueness/topics_um_dependency.eps', format='eps')\n",
    "plt.show()"
   ]
  },
  {
   "cell_type": "code",
   "execution_count": 122,
   "metadata": {
    "collapsed": false
   },
   "outputs": [
    {
     "data": {
      "image/png": "[encoded data removed]",
      "text/plain": [
       "<matplotlib.figure.Figure at 0x13be9bd0>"
      ]
     },
     "metadata": {},
     "output_type": "display_data"
    }
   ],
   "source": [
    "plt.figure(figsize=(10, 5))\n",
    "plt.xlabel('Topics number')\n",
    "plt.ylabel('Normalized uniqueness measure')\n",
    "plt.plot(topics_values, min_nums_values)\n",
    "plt.plot(topics_values, avg_nums_values)\n",
    "plt.plot(topics_values, max_nums_values)\n",
    "plt.legend(['min', 'avg', 'max'])\n",
    "plt.savefig('/home/tylorn/uniqueness/topics_num_dependency.eps', format='eps')\n",
    "plt.show()"
   ]
  },
  {
   "cell_type": "code",
   "execution_count": null,
   "metadata": {
    "collapsed": true
   },
   "outputs": [],
   "source": []
  },
  {
   "cell_type": "code",
   "execution_count": null,
   "metadata": {
    "collapsed": true
   },
   "outputs": [],
   "source": []
  },
  {
   "cell_type": "code",
   "execution_count": 23,
   "metadata": {
    "collapsed": true
   },
   "outputs": [],
   "source": [
    "def perform_extended_lda(\n",
    "    T, words_alpha, docs_alpha, seed=42, \n",
    "    freq_matrix=origin_freq_matrix, phi_zero_init=None, \n",
    "    theta_zero_init=None\n",
    "):\n",
    "    D, W = freq_matrix.shape\n",
    "\n",
    "    np.random.seed(seed)\n",
    "\n",
    "    phi_matrix = np.random.uniform(size=(T, W)).astype(np.float64)\n",
    "    if phi_zero_init is not None:\n",
    "        phi_matrix[phi_zero_init < 1e-20] = 0.\n",
    "    phi_matrix /= np.sum(phi_matrix, axis=1)[:, np.newaxis]\n",
    "\n",
    "    theta_matrix = np.random.uniform(size=(D, T)).astype(np.float64)\n",
    "    if theta_zero_init is not None:\n",
    "        theta_zero_init[theta_zero_init < 1e-20] = 0.\n",
    "    theta_matrix /= np.sum(theta_matrix, axis=1)[:, np.newaxis]\n",
    "\n",
    "    no_selection_params = {\n",
    "        'method': perform_e_step_update,\n",
    "        'block_size': 50,\n",
    "        'p_dwt_processor': trivial_p_dwt_processor\n",
    "    }\n",
    "\n",
    "    regularizations_list = np.zeros(50, dtype=object)\n",
    "    params_list = np.zeros(50, dtype=object)\n",
    "\n",
    "    regularizations_list[:10] = trivial_regularization\n",
    "    regularizations_list[10:] = create_reg_lda(words_alpha, docs_alpha)\n",
    "    params_list[:] = no_selection_params\n",
    "\n",
    "    phi, theta = launch_em(\n",
    "        freq_matrix=freq_matrix, \n",
    "        phi_matrix=phi_matrix,\n",
    "        theta_matrix=theta_matrix,\n",
    "        regularizations_list=regularizations_list,\n",
    "        params_list=params_list,\n",
    "        iters_count=50\n",
    "    )\n",
    "    \n",
    "    return phi, theta"
   ]
  },
  {
   "cell_type": "code",
   "execution_count": 24,
   "metadata": {
    "collapsed": true
   },
   "outputs": [],
   "source": [
    "def plot_tsne(phis, colors, perplexity, picture_path=None):\n",
    "    model = TSNE(n_components=2, random_state=42, perplexity=perplexity)\n",
    "    X = model.fit_transform(phis) \n",
    "    plt.figure(figsize=(10, 8))\n",
    "    plt.xlim(0.95 * min(X[:, 0]), 1.05 * max(X[:, 0]))\n",
    "    plt.ylim(0.95 * min(X[:, 1]), 1.05 * max(X[:, 1]))\n",
    "    sc = plt.scatter(X[:, 0], X[:, 1], c=colors)\n",
    "    plt.colorbar(sc)\n",
    "    if picture_path is not None:\n",
    "        plt.savefig(picture_path, format='eps')\n",
    "    plt.show()"
   ]
  },
  {
   "cell_type": "code",
   "execution_count": 25,
   "metadata": {
    "collapsed": true
   },
   "outputs": [],
   "source": [
    "def investigate_matrix_variance(matrices, title_prefix=''):\n",
    "    smapes = []\n",
    "    maes = []\n",
    "    for i in xrange(len(matrices)):\n",
    "        for j in xrange(len(matrices)):\n",
    "            if i < j:\n",
    "                indices = (matrices[i] > 1e-20) | (matrices[j] > 1e-20)\n",
    "                fst = matrices[i][indices]\n",
    "                snd = matrices[j][indices]\n",
    "                smapes.append(np.mean(2. * np.abs(fst - snd) / (np.abs(fst) + np.abs(snd))))\n",
    "                maes.append(np.mean(np.abs(fst - snd)))\n",
    "                \n",
    "    print 'Average pairwise MAE: {}'.format(np.mean(maes))\n",
    "    print 'Pairwise MAE std: {}'.format(np.std(maes))\n",
    "    plt.title(title_prefix + ' pairwise MAE distribution')\n",
    "    plt.hist(maes, bins=50)\n",
    "    plt.show()\n",
    "    \n",
    "    \n",
    "    print 'Average pairwise sMAPE: {}'.format(np.mean(smapes))\n",
    "    print 'Pairwise sMAPE std: {}'.format(np.std(smapes))\n",
    "    plt.title(title_prefix + ' pairwise  sMAPE distribution')\n",
    "    plt.hist(smapes, bins=50)\n",
    "    plt.show()"
   ]
  },
  {
   "cell_type": "code",
   "execution_count": 26,
   "metadata": {
    "collapsed": true
   },
   "outputs": [],
   "source": [
    "def investigate_scalar_variance(values, title_prefix=''):\n",
    "    plt.title(title_prefix + ' value distribution')\n",
    "    plt.hist(values, bins=50)\n",
    "    plt.show()\n",
    "    \n",
    "    smapes = []\n",
    "    maes = []\n",
    "    for i in xrange(len(values)):\n",
    "        for j in xrange(len(values)):\n",
    "            if i < j:\n",
    "                fst = values[i]\n",
    "                snd = values[j]\n",
    "                smapes.append(np.mean(2. * np.abs(fst - snd) / (np.abs(fst) + np.abs(snd))))\n",
    "                maes.append(np.mean(np.abs(fst - snd)))\n",
    "                \n",
    "    print 'Average pairwise MAE: {}'.format(np.mean(maes))\n",
    "    print 'Pairwise MAE std: {}'.format(np.std(maes))\n",
    "    plt.title(title_prefix + ' pairwise MAE distribution')\n",
    "    plt.hist(maes, bins=50)\n",
    "    plt.show()\n",
    "    \n",
    "    \n",
    "    print 'Average pairwise sMAPE: {}'.format(np.mean(smapes))\n",
    "    print 'Pairwise sMAPE std: {}'.format(np.std(smapes))\n",
    "    plt.title(title_prefix + ' pairwise sMAPE distribution')\n",
    "    plt.hist(smapes, bins=50)\n",
    "    plt.show()"
   ]
  },
  {
   "cell_type": "code",
   "execution_count": 27,
   "metadata": {
    "collapsed": true
   },
   "outputs": [],
   "source": [
    "def smape_dist(a, b):\n",
    "    indices = (a > 1e-20) | (b > 1e-20)\n",
    "    fst = a[indices]\n",
    "    snd = b[indices]\n",
    "    return np.mean(2. * np.abs(fst - snd) / (np.abs(fst) + np.abs(snd)))\n",
    "\n",
    "def mae_dist(a, b):\n",
    "    indices = (a > 1e-20) | (b > 1e-20)\n",
    "    fst = a[indices]\n",
    "    snd = b[indices]\n",
    "    return np.mean(np.abs(fst - snd))\n",
    "\n",
    "def kl_dist(a, b):\n",
    "    indices = (a > 1e-20)\n",
    "    return np.sum(np.log(a[indices] / b[indices]) * a[indices])\n",
    "\n",
    "def kl2_dist(a, b):\n",
    "    c = (a + b) / 2.\n",
    "    return kl_dist(a, c) + kl_dist(b, c)\n",
    "\n",
    "def greed_match(fst, snd, dst_fun):\n",
    "    T, W = fst.shape\n",
    "    dists = []\n",
    "    for t1 in xrange(T):\n",
    "        dists.append(min(\n",
    "            dst_fun(fst[t1, :], snd[t2, :])\n",
    "            for t2 in xrange(T)\n",
    "        ))\n",
    "    return np.array(dists)"
   ]
  },
  {
   "cell_type": "code",
   "execution_count": 28,
   "metadata": {
    "collapsed": true
   },
   "outputs": [],
   "source": [
    "def check_phis(init_phi, phis, title_prefix=''):\n",
    "    origin_phi = init_phi\n",
    "    init_phi = init_phi.flatten()\n",
    "    \n",
    "    smapes = []\n",
    "    maes = []\n",
    "    greed_smapes = []\n",
    "    greed_maes = []\n",
    "    \n",
    "    greed_kls = []\n",
    "    greed_kl2s = []\n",
    "    \n",
    "    for phi in phis:\n",
    "        indices = (phi > 1e-20) | (init_phi > 1e-20)\n",
    "        fst = phi[indices]\n",
    "        snd = init_phi[indices]\n",
    "        smapes.append(np.mean(2. * np.abs(fst - snd) / (np.abs(fst) + np.abs(snd))))\n",
    "        maes.append(np.mean(np.abs(fst - snd)))\n",
    "        \n",
    "        phi = phi.reshape(origin_phi.shape)\n",
    "        greed_smapes.append(greed_match(origin_phi, phi, smape_dist))\n",
    "        greed_maes.append(greed_match(origin_phi, phi, mae_dist))\n",
    "        \n",
    "        greed_kls.append(greed_match(origin_phi, phi, kl_dist))\n",
    "        greed_kl2s.append(greed_match(origin_phi, phi, kl2_dist))\n",
    "        \n",
    "    print 'Average MAE: {}'.format(np.mean(maes))\n",
    "    print 'MAE std: {}'.format(np.std(maes))\n",
    "    print 'Min MAE: {}'.format(np.min(maes))\n",
    "    print ''\n",
    "    print 'Average sMAPE: {}'.format(np.mean(smapes))\n",
    "    print 'sMAPE std: {}'.format(np.std(smapes))\n",
    "    print 'Min sMAPE: {}'.format(np.min(smapes))\n",
    "    print ''\n",
    "    print 'Average greed MAE: {}'.format(np.mean(greed_maes))\n",
    "    print 'greed MAE std: {}'.format(np.std(greed_maes))\n",
    "    print ''\n",
    "    print 'Average greed sMAPE: {}'.format(np.mean(greed_smapes))\n",
    "    print 'greed sMAPE std: {}'.format(np.std(greed_smapes))\n",
    "    print ''\n",
    "    print 'Average greed KL: {}'.format(np.mean(greed_kls))\n",
    "    print 'greed KL std: {}'.format(np.std(greed_kls))\n",
    "    print ''\n",
    "    print 'Average greed KL2: {}'.format(np.mean(greed_kl2s))\n",
    "    print 'greed KL2 std: {}'.format(np.std(greed_kl2s))"
   ]
  },
  {
   "cell_type": "markdown",
   "metadata": {
    "collapsed": true
   },
   "source": [
    "# PLSA"
   ]
  },
  {
   "cell_type": "code",
   "execution_count": 30,
   "metadata": {
    "collapsed": false
   },
   "outputs": [
    {
     "name": "stdout",
     "output_type": "stream",
     "text": [
      "0\n",
      "1\n",
      "2\n",
      "3\n",
      "4\n",
      "5\n",
      "6\n",
      "7\n",
      "8\n",
      "9\n"
     ]
    }
   ],
   "source": [
    "phis = []\n",
    "perplexities = []\n",
    "for seed in xrange(300):\n",
    "    print seed\n",
    "    phi, theta = perform_extended_lda(5, 0., 0., seed=seed)\n",
    "    phis.append(phi.flatten())\n",
    "    perplexities.append(external_calculate_perplexity(origin_freq_matrix, phi, theta))"
   ]
  },
  {
   "cell_type": "code",
   "execution_count": 31,
   "metadata": {
    "collapsed": true
   },
   "outputs": [],
   "source": [
    "import pickle\n",
    "\n",
    "with open('check_uniqueness/plsa.pkl', 'w') as f:\n",
    "    pickle.dump({\n",
    "        'init_phi': None,\n",
    "        'init_theta': None,\n",
    "        'perplexities': perplexities,\n",
    "        'phis': phis\n",
    "    }, f)"
   ]
  },
  {
   "cell_type": "code",
   "execution_count": null,
   "metadata": {
    "collapsed": true
   },
   "outputs": [],
   "source": []
  },
  {
   "cell_type": "code",
   "execution_count": null,
   "metadata": {
    "collapsed": true
   },
   "outputs": [],
   "source": []
  },
  {
   "cell_type": "markdown",
   "metadata": {},
   "source": [
    "# Full initialized PLSA"
   ]
  },
  {
   "cell_type": "code",
   "execution_count": null,
   "metadata": {
    "collapsed": true
   },
   "outputs": [],
   "source": [
    "init_phi, init_theta = perform_extended_lda(5, 0., 0., seed=42)"
   ]
  },
  {
   "cell_type": "code",
   "execution_count": null,
   "metadata": {
    "collapsed": false
   },
   "outputs": [],
   "source": [
    "new_init_phi, new_init_theta = perform_extended_lda(5, 0., 0., seed=42, phi_zero_init=init_phi, theta_zero_init=init_theta)"
   ]
  },
  {
   "cell_type": "code",
   "execution_count": 35,
   "metadata": {
    "collapsed": false
   },
   "outputs": [
    {
     "name": "stdout",
     "output_type": "stream",
     "text": [
      "0\n",
      "1\n",
      "2\n",
      "3\n",
      "4\n",
      "5\n",
      "6\n",
      "7\n",
      "8\n",
      "9\n"
     ]
    }
   ],
   "source": [
    "phis = []\n",
    "perplexities = []\n",
    "for seed in xrange(300):\n",
    "    print seed\n",
    "    phi, theta = perform_extended_lda(5, 0., 0., seed=seed, phi_zero_init=new_init_phi, theta_zero_init=new_init_theta)\n",
    "    phis.append(phi.flatten())\n",
    "    perplexities.append(external_calculate_perplexity(origin_freq_matrix, phi, theta))"
   ]
  },
  {
   "cell_type": "code",
   "execution_count": 37,
   "metadata": {
    "collapsed": true
   },
   "outputs": [],
   "source": [
    "import pickle\n",
    "\n",
    "with open('check_uniqueness/full_initialized_plsa.pkl', 'w') as f:\n",
    "    pickle.dump({\n",
    "        'init_phi': new_init_phi,\n",
    "        'init_theta': new_init_theta,\n",
    "        'perplexities': perplexities,\n",
    "        'phis': phis\n",
    "    }, f)"
   ]
  },
  {
   "cell_type": "code",
   "execution_count": null,
   "metadata": {
    "collapsed": true
   },
   "outputs": [],
   "source": []
  },
  {
   "cell_type": "code",
   "execution_count": null,
   "metadata": {
    "collapsed": true
   },
   "outputs": [],
   "source": []
  },
  {
   "cell_type": "markdown",
   "metadata": {},
   "source": [
    "# Syntetic PLSA"
   ]
  },
  {
   "cell_type": "code",
   "execution_count": null,
   "metadata": {
    "collapsed": false
   },
   "outputs": [],
   "source": [
    "m = np.dot(new_init_theta, new_init_phi)\n",
    "print np.sum(np.isnan(m))\n",
    "m[np.isnan(m)] = 0.\n",
    "new_freq_matrix = scipy.sparse.csr_matrix(m)"
   ]
  },
  {
   "cell_type": "code",
   "execution_count": 72,
   "metadata": {
    "collapsed": false
   },
   "outputs": [
    {
     "name": "stdout",
     "output_type": "stream",
     "text": [
      "0\n",
      "1\n",
      "2\n",
      "3\n",
      "4\n",
      "5\n",
      "6\n",
      "7\n",
      "8\n",
      "9\n",
      "10\n",
      "11\n",
      "12\n",
      "13\n",
      "14\n",
      "15\n",
      "16\n",
      "17\n",
      "18\n",
      "19\n",
      "20\n",
      "21\n",
      "22\n",
      "23\n",
      "24\n",
      "25\n",
      "26\n",
      "27\n",
      "28\n",
      "29\n"
     ]
    }
   ],
   "source": [
    "phis = []\n",
    "perplexities = []\n",
    "for seed in xrange(1):\n",
    "    print seed\n",
    "    phi, theta = perform_extended_lda(5, 0., 0., seed=seed, freq_matrix=new_freq_matrix)\n",
    "    phis.append(phi.flatten())\n",
    "    perplexities.append(external_calculate_perplexity(new_freq_matrix, phi, theta))"
   ]
  },
  {
   "cell_type": "code",
   "execution_count": null,
   "metadata": {
    "collapsed": true
   },
   "outputs": [],
   "source": [
    "import pickle\n",
    "\n",
    "with open('check_uniqueness/syntetic_plsa.pkl', 'w') as f:\n",
    "    pickle.dump({\n",
    "        'init_phi': None,\n",
    "        'init_theta': None,\n",
    "        'perplexities': perplexities,\n",
    "        'phis': phis\n",
    "    }, f)"
   ]
  },
  {
   "cell_type": "code",
   "execution_count": null,
   "metadata": {
    "collapsed": true
   },
   "outputs": [],
   "source": []
  },
  {
   "cell_type": "markdown",
   "metadata": {},
   "source": [
    "# Full initialized syntetic PLSA"
   ]
  },
  {
   "cell_type": "code",
   "execution_count": null,
   "metadata": {
    "collapsed": true
   },
   "outputs": [],
   "source": [
    "init_phi, init_theta = perform_extended_lda(5, 0., 0., seed=42, freq_matrix=new_freq_matrix)"
   ]
  },
  {
   "cell_type": "code",
   "execution_count": null,
   "metadata": {
    "collapsed": true
   },
   "outputs": [],
   "source": [
    "new_init_phi, new_init_theta = perform_extended_lda(5, 0., 0., seed=42, phi_zero_init=init_phi, theta_zero_init=init_theta)"
   ]
  },
  {
   "cell_type": "code",
   "execution_count": 77,
   "metadata": {
    "collapsed": false
   },
   "outputs": [
    {
     "name": "stdout",
     "output_type": "stream",
     "text": [
      "0\n",
      "1\n",
      "2\n",
      "3\n",
      "4\n",
      "5\n",
      "6\n",
      "7\n",
      "8\n",
      "9\n",
      "10\n",
      "11\n",
      "12\n",
      "13\n",
      "14\n",
      "15\n",
      "16\n",
      "17\n",
      "18\n",
      "19\n",
      "20\n",
      "21\n",
      "22\n",
      "23\n",
      "24\n",
      "25\n",
      "26\n",
      "27\n",
      "28\n",
      "29\n"
     ]
    }
   ],
   "source": [
    "phis = []\n",
    "perplexities = []\n",
    "for seed in xrange(50):\n",
    "    print seed\n",
    "    phi, theta = perform_extended_lda(5, 0., 0., seed=seed, phi_zero_init=new_init_phi, theta_zero_init=new_init_theta, freq_matrix=new_freq_matrix)\n",
    "    phis.append(phi.flatten())\n",
    "    perplexities.append(external_calculate_perplexity(new_freq_matrix, phi, theta))"
   ]
  },
  {
   "cell_type": "code",
   "execution_count": null,
   "metadata": {
    "collapsed": true
   },
   "outputs": [],
   "source": [
    "import pickle\n",
    "\n",
    "with open('check_uniqueness/full_initialized_syntetic_plsa.pkl', 'w') as f:\n",
    "    pickle.dump({\n",
    "        'init_phi': new_init_phi,\n",
    "        'init_theta': new_init_theta,\n",
    "        'perplexities': perplexities,\n",
    "        'phis': phis\n",
    "    }, f)"
   ]
  },
  {
   "cell_type": "code",
   "execution_count": null,
   "metadata": {
    "collapsed": true
   },
   "outputs": [],
   "source": []
  }
 ],
 "metadata": {
  "kernelspec": {
   "display_name": "Python 2",
   "language": "python",
   "name": "python2"
  },
  "language_info": {
   "codemirror_mode": {
    "name": "ipython",
    "version": 2
   },
   "file_extension": ".py",
   "mimetype": "text/x-python",
   "name": "python",
   "nbconvert_exporter": "python",
   "pygments_lexer": "ipython2",
   "version": "2.7.3"
  }
 },
 "nbformat": 4,
 "nbformat_minor": 0
}
